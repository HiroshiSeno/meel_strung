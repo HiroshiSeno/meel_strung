{
 "cells": [
  {
   "cell_type": "markdown",
   "metadata": {},
   "source": [
    "使用するライブラリのインポート"
   ]
  },
  {
   "cell_type": "code",
   "execution_count": 12,
   "metadata": {},
   "outputs": [],
   "source": [
    "import numpy as np\n",
    "import scipy.linalg as linalg\n",
    "from matplotlib import pyplot\n",
    "import scipy.sparse as sp\n",
    "import scipy.sparse.linalg as spla\n",
    "import math\n",
    "from numpy.random import rand"
   ]
  },
  {
   "cell_type": "markdown",
   "metadata": {},
   "source": [
    "### 1.1 1\n",
    "$T_3$および$T_4$の逆行列の逆行列は次のようになる。\n",
    " \n",
    "$$\n",
    " T_3^{-1} = \n",
    "\\begin{pmatrix} 3 & 2 & 1 \\\\ 2 & 2 & 1 \\\\ 1 & 1 & 1 \\end{pmatrix}\n",
    " ,  T_4^{-1} = \n",
    "\\begin{pmatrix} 4 &3 & 2 & 1\\\\ 3 &3 & 2 & 1 \\\\ 2 & 2 & 2 & 1 \\\\ 1 &1 & 1 & 1 \\end{pmatrix}\n",
    "$$\n",
    "その形から$T_5$を予測し、$T_5^{-1}$をかけてみよ。\n",
    "\n",
    "$T_n^{-1}$において、対角要素以下の要素を与える簡単な式を求めよ。次に、対角要素以上の要素を与える簡単な式を求めよ。"
   ]
  },
  {
   "cell_type": "markdown",
   "metadata": {},
   "source": [
    "#### 解答\n",
    "まず$T_5^{-1}$の形を予想する。"
   ]
  },
  {
   "cell_type": "code",
   "execution_count": 13,
   "metadata": {},
   "outputs": [
    {
     "name": "stdout",
     "output_type": "stream",
     "text": [
      "[[5 4 3 2 1]\n",
      " [4 4 3 2 1]\n",
      " [3 3 3 2 1]\n",
      " [2 2 2 2 1]\n",
      " [1 1 1 1 1]]\n"
     ]
    }
   ],
   "source": [
    "T_5_inv = np.asarray([[5, 4, 3, 2, 1],[4, 4, 3, 2, 1],[3, 3, 3, 2, 1],[2, 2 , 2, 2, 1], [1, 1, 1, 1, 1]])\n",
    "print(T_5_inv)"
   ]
  },
  {
   "cell_type": "markdown",
   "metadata": {},
   "source": [
    "さらに、$T_5$は"
   ]
  },
  {
   "cell_type": "code",
   "execution_count": 14,
   "metadata": {},
   "outputs": [
    {
     "name": "stdout",
     "output_type": "stream",
     "text": [
      "[[ 1 -1  0  0  0]\n",
      " [-1  2 -1  0  0]\n",
      " [ 0 -1  2 -1  0]\n",
      " [ 0  0 -1  2 -1]\n",
      " [ 0  0  0 -1  2]]\n"
     ]
    }
   ],
   "source": [
    "T_5 = linalg.toeplitz(np.asarray([2,-1,0,0,0]))\n",
    "T_5[0,0]=1\n",
    "print(T_5)"
   ]
  },
  {
   "cell_type": "markdown",
   "metadata": {},
   "source": [
    "これに$T_5$をかけてみると、"
   ]
  },
  {
   "cell_type": "code",
   "execution_count": 15,
   "metadata": {},
   "outputs": [
    {
     "name": "stdout",
     "output_type": "stream",
     "text": [
      "[[1 0 0 0 0]\n",
      " [0 1 0 0 0]\n",
      " [0 0 1 0 0]\n",
      " [0 0 0 1 0]\n",
      " [0 0 0 0 1]]\n"
     ]
    }
   ],
   "source": [
    "print(T_5.dot(T_5_inv))"
   ]
  },
  {
   "cell_type": "markdown",
   "metadata": {},
   "source": [
    "となり、単位行列が生成されたことから、これは$T_5$の逆行列であることがわかる。"
   ]
  },
  {
   "cell_type": "markdown",
   "metadata": {},
   "source": [
    "$T_n^{-1}$において、対角要素以下の要素を与える式は、行番号をi、列番号をjとすれば\n",
    "$t_{ij}=n-(i-1)$\n",
    "\n",
    "対角要素以上の要素を与える式は、\n",
    "$t_{ij}=n-(j-1)$\n",
    "である。"
   ]
  },
  {
   "cell_type": "markdown",
   "metadata": {},
   "source": [
    "### 1.1.2\n",
    "$$\n",
    "U^{-1} = \n",
    "\\begin{pmatrix} 1 & -1 & 0 \\\\ 0 & 1 & -1 \\\\ 0 & 0 & 1 \\end{pmatrix}^{-1}\n",
    "  = \n",
    "\\begin{pmatrix} 1 & 1 & 1\\\\ 0& 1 & 1 \\\\ 0 & 0 & 1\\end{pmatrix}\\tag{2}\n",
    "$$\n",
    "式(2)のUと$U^{-1}$をつかって、次の３ステップに従って$T_3^{-1}$を計算せよ。\n",
    "1. $T_3 = U^{T}U$を確認せよ。ここで、Uは主対角線上に1、その1本上の対角線上に-1が並んだ行列である。その天地$U^{-1}$は下三角行列である。\n",
    "2. $U^{-1}$を上三角部分（主対角線を含む）がすべて1の行列とする時、$UU^{-1}=I$を確認せよ。\n",
    "3. $U^{T}U$の逆行列を計算し、$T_3^{-1}= (U^{-1})(U^{-1})^{T}$を求めよ。\n",
    "\n",
    "#### 解答"
   ]
  },
  {
   "cell_type": "markdown",
   "metadata": {},
   "source": [
    "$T_3$は、"
   ]
  },
  {
   "cell_type": "code",
   "execution_count": 16,
   "metadata": {},
   "outputs": [
    {
     "name": "stdout",
     "output_type": "stream",
     "text": [
      "[[ 1 -1  0]\n",
      " [-1  2 -1]\n",
      " [ 0 -1  2]]\n"
     ]
    }
   ],
   "source": [
    "T_3 = (linalg.toeplitz(np.asarray([2,-1,0])))\n",
    "T_3[0,0]=1\n",
    "print(T_3)"
   ]
  },
  {
   "cell_type": "markdown",
   "metadata": {},
   "source": [
    "一方で、$U$と$U^{T}$は"
   ]
  },
  {
   "cell_type": "code",
   "execution_count": 17,
   "metadata": {},
   "outputs": [
    {
     "name": "stdout",
     "output_type": "stream",
     "text": [
      "[[ 1. -1.  0.]\n",
      " [-0.  1. -1.]\n",
      " [ 0. -0.  1.]]\n",
      "[[ 1. -0.  0.]\n",
      " [-1.  1. -0.]\n",
      " [ 0. -1.  1.]]\n"
     ]
    }
   ],
   "source": [
    "U_3 = linalg.toeplitz(np.asarray([1,-1,0]))*np.transpose(np.tri(3))\n",
    "U_3_t = np.transpose(U_3)\n",
    "print(U_3)\n",
    "print(U_3_t)"
   ]
  },
  {
   "cell_type": "markdown",
   "metadata": {},
   "source": [
    "であり、$UU^{T}$を確認すると、"
   ]
  },
  {
   "cell_type": "code",
   "execution_count": 18,
   "metadata": {},
   "outputs": [
    {
     "name": "stdout",
     "output_type": "stream",
     "text": [
      "[[ 1. -1.  0.]\n",
      " [-1.  2. -1.]\n",
      " [ 0. -1.  2.]]\n"
     ]
    }
   ],
   "source": [
    "print(U_3_t.dot(U_3))"
   ]
  },
  {
   "cell_type": "markdown",
   "metadata": {},
   "source": [
    "よって、$UU^{T}=T_3$が示された。"
   ]
  },
  {
   "cell_type": "markdown",
   "metadata": {},
   "source": [
    "次に、$UU^{-1}$を計算する。$U$と$U^{-1}$はそれぞれ、"
   ]
  },
  {
   "cell_type": "code",
   "execution_count": 19,
   "metadata": {},
   "outputs": [
    {
     "name": "stdout",
     "output_type": "stream",
     "text": [
      "[[ 1. -1.  0.]\n",
      " [-0.  1. -1.]\n",
      " [ 0. -0.  1.]]\n",
      "[[ 1.  1.  1.]\n",
      " [ 0.  1.  1.]\n",
      " [ 0.  0.  1.]]\n"
     ]
    }
   ],
   "source": [
    "U_3_inv = np.transpose(np.tri(3))\n",
    "print(U_3)\n",
    "print(U_3_inv)"
   ]
  },
  {
   "cell_type": "markdown",
   "metadata": {},
   "source": [
    "ところで、$U$は一階微分に相当する演算子と考えることができる。したがって、その逆演算に相当する$U^{-1}$は一階の積分に相当すると考えられる。\n",
    "よって、$UU^{-1}$は全体としてなんの作用も起こさない演算子、単位行列$I$として作用すると予想される。実際に計算してみると、"
   ]
  },
  {
   "cell_type": "code",
   "execution_count": 20,
   "metadata": {},
   "outputs": [
    {
     "name": "stdout",
     "output_type": "stream",
     "text": [
      "[[ 1.  0.  0.]\n",
      " [ 0.  1.  0.]\n",
      " [ 0.  0.  1.]]\n"
     ]
    }
   ],
   "source": [
    "print(U_3.dot(U_3_inv))"
   ]
  },
  {
   "cell_type": "markdown",
   "metadata": {},
   "source": [
    "となる。\n",
    "\n",
    "よって、$UU^{-1}=I$が示された。\n",
    "\n",
    "直感的には、微分演算は定数項の情報が保存されないため、$UU^{-1}$が全体として単位行列になるのはおかしいのではないか？と思うところである。\n",
    "しかし今回の行列を使った微分というのは離散的で、演算対象のデータの端の値については微分ができないことがあり、実際$U$を見てみると一番下の行は微分になっていない。この部分は微分の役割をしない代わりに、定数項の部分、微分方程式であれば初期条件に相当する情報を保持する役割を持つと考えられる。よって$UU^{-1}=I$は正しいことが分かる。"
   ]
  },
  {
   "cell_type": "markdown",
   "metadata": {},
   "source": [
    "### 1.1.3\n",
    "和文行列$S$を生成し、積$U*S$を計算し、$S=U^{-1}$を確認せよ。\n",
    "\n",
    "#### 解答\n",
    "和文行列$S$は、"
   ]
  },
  {
   "cell_type": "code",
   "execution_count": 21,
   "metadata": {},
   "outputs": [
    {
     "name": "stdout",
     "output_type": "stream",
     "text": [
      "[[ 1.  1.  1.  1.  1.]\n",
      " [ 0.  1.  1.  1.  1.]\n",
      " [ 0.  0.  1.  1.  1.]\n",
      " [ 0.  0.  0.  1.  1.]\n",
      " [ 0.  0.  0.  0.  1.]]\n"
     ]
    }
   ],
   "source": [
    "S_5=np.triu(np.ones(5))\n",
    "print(S_5)"
   ]
  },
  {
   "cell_type": "markdown",
   "metadata": {},
   "source": [
    "$U*S$を計算すると、"
   ]
  },
  {
   "cell_type": "code",
   "execution_count": 22,
   "metadata": {},
   "outputs": [
    {
     "name": "stdout",
     "output_type": "stream",
     "text": [
      "[[ 1.  0.  0.  0.  0.]\n",
      " [ 0.  1.  0.  0.  0.]\n",
      " [ 0.  0.  1.  0.  0.]\n",
      " [ 0.  0.  0.  1.  0.]\n",
      " [ 0.  0.  0.  0.  1.]]\n"
     ]
    }
   ],
   "source": [
    "U_5 = linalg.toeplitz(np.asarray([1,-1,0,0,0]))*np.transpose(np.tri(5))\n",
    "print(U_5.dot(S_5))"
   ]
  },
  {
   "cell_type": "markdown",
   "metadata": {},
   "source": [
    "となり、結果が単位行列であることから$S$が$U$の逆行列であることがわかる。実際、$U^{-1}$は"
   ]
  },
  {
   "cell_type": "code",
   "execution_count": 23,
   "metadata": {},
   "outputs": [
    {
     "name": "stdout",
     "output_type": "stream",
     "text": [
      "[[ 1.  1.  1.  1.  1.]\n",
      " [ 0.  1.  1.  1.  1.]\n",
      " [ 0.  0.  1.  1.  1.]\n",
      " [ 0.  0.  0.  1.  1.]\n",
      " [ 0.  0.  0.  0.  1.]]\n"
     ]
    }
   ],
   "source": [
    "print(linalg.inv(U_5))"
   ]
  },
  {
   "cell_type": "markdown",
   "metadata": {},
   "source": [
    "である。したがって、$S=U^{-1}$である。"
   ]
  },
  {
   "cell_type": "markdown",
   "metadata": {},
   "source": [
    "### 1.1.4\n",
    "任意のnについて、$S_n=U_n^{-1}$は上三角部分が全て1の行列であるが、n=4の時$S_nS_n^{T}=T_4^{-1}$となることを確かめよ。また、$S_nS_n^{T}$は明らかに対称行列であるが、これはなぜか。\n",
    "#### 解答\n",
    "$S_4$と$S_4^{T}$とその積$S_4S_4^{T}$はそれぞれ、"
   ]
  },
  {
   "cell_type": "code",
   "execution_count": 24,
   "metadata": {},
   "outputs": [
    {
     "name": "stdout",
     "output_type": "stream",
     "text": [
      "[[ 1.  1.  1.  1.]\n",
      " [ 0.  1.  1.  1.]\n",
      " [ 0.  0.  1.  1.]\n",
      " [ 0.  0.  0.  1.]]\n",
      "[[ 1.  0.  0.  0.]\n",
      " [ 1.  1.  0.  0.]\n",
      " [ 1.  1.  1.  0.]\n",
      " [ 1.  1.  1.  1.]]\n",
      "[[ 4.  3.  2.  1.]\n",
      " [ 3.  3.  2.  1.]\n",
      " [ 2.  2.  2.  1.]\n",
      " [ 1.  1.  1.  1.]]\n"
     ]
    }
   ],
   "source": [
    "S_4=np.triu(np.ones(4))\n",
    "S_4_tr= np.transpose(S_4)\n",
    "print(S_4)\n",
    "print(S_4_tr)\n",
    "print(S_4.dot(S_4_tr))"
   ]
  },
  {
   "cell_type": "markdown",
   "metadata": {},
   "source": [
    "であり、$S_4S_4^{T}=T_4^{-1}$であることが確認できる。対称行列となる理由であるが、まず$S_nS_n^{T}$の個々の成分に注目する。\n",
    "$S_n$のi行j列の成分を$(S_n)_{ij}$とおくと、$(S_nS_n^{T})_{ij}=\\sum_{k=1}^{n}(S_n)_{ik}(S_n^{T})_{kj}=\\sum_{j=1}^{n}(S_n)_{ik}(S_n)_{jk}$\n",
    "\n",
    "この式の右辺では、$i,j$は交換しても等しい式となっている。従って、左辺の$i,j$を入れ替えても要素の値が変わらないから、$S_nS_n^{T}$は対称行列である。"
   ]
  },
  {
   "cell_type": "markdown",
   "metadata": {},
   "source": [
    "### 1.1.5\n",
    "$$\n",
    " K_3^{-1} = \n",
    "\\frac{1}{4}\\begin{pmatrix} 3 & 2 & 1 \\\\ 2 & 4 & 2 \\\\ 1 & 2 & 3 \\end{pmatrix}\n",
    " ,  K_4^{-1} = \n",
    "\\frac{1}{5}\\begin{pmatrix} 4 &3 & 2 & 1\\\\ 3 & 6 & 4 & 2 \\\\ 2 & 4 & 6 & 3 \\\\ 1 &2 & 3 & 4 \\end{pmatrix}\n",
    "$$\n",
    "$K_3$および$K_4$の逆行列は$\\frac{1}{det}=\\frac{1}{4}, \\frac{1}{5}$という分数の因子を持つ。\n",
    "\n",
    "まず$K=K_5$の行列式を推測してみよ。次に、$det(K)とinv(K)$を求め。$det(K)*inv(K)$を計算せよ。\n",
    "#### 解答\n",
    "まず、$K_5$は、"
   ]
  },
  {
   "cell_type": "code",
   "execution_count": 25,
   "metadata": {},
   "outputs": [
    {
     "name": "stdout",
     "output_type": "stream",
     "text": [
      "[[ 2 -1  0  0  0]\n",
      " [-1  2 -1  0  0]\n",
      " [ 0 -1  2 -1  0]\n",
      " [ 0  0 -1  2 -1]\n",
      " [ 0  0  0 -1  2]]\n"
     ]
    }
   ],
   "source": [
    "K_5  = linalg.toeplitz([2, -1, 0, 0, 0])\n",
    "print(K_5)"
   ]
  },
  {
   "cell_type": "markdown",
   "metadata": {},
   "source": [
    "である。また、$det(K_5)$は、$\\frac{1}{6}$と予想され、実際に計算すると"
   ]
  },
  {
   "cell_type": "code",
   "execution_count": 26,
   "metadata": {},
   "outputs": [
    {
     "name": "stdout",
     "output_type": "stream",
     "text": [
      "6.0\n"
     ]
    }
   ],
   "source": [
    "print(linalg.det(K_5))"
   ]
  },
  {
   "cell_type": "markdown",
   "metadata": {},
   "source": [
    "となり予想通りである。\n",
    "$det(K)*inv(K)$を計算すると、"
   ]
  },
  {
   "cell_type": "code",
   "execution_count": 27,
   "metadata": {},
   "outputs": [
    {
     "name": "stdout",
     "output_type": "stream",
     "text": [
      "[[ 5.  4.  3.  2.  1.]\n",
      " [ 4.  8.  6.  4.  2.]\n",
      " [ 3.  6.  9.  6.  3.]\n",
      " [ 2.  4.  6.  8.  4.]\n",
      " [ 1.  2.  3.  4.  5.]]\n"
     ]
    }
   ],
   "source": [
    "print(linalg.det(K_5)*linalg.inv(K_5))"
   ]
  },
  {
   "cell_type": "markdown",
   "metadata": {},
   "source": [
    "となり、要素が整数になっている。"
   ]
  },
  {
   "cell_type": "markdown",
   "metadata": {},
   "source": [
    "### 1.1.6\n",
    "（挑戦問題）\n",
    "$K_4^{-1}$の下三角部分について、$i,j$要素を与える式を求めよ。\n",
    "#### 解答\n",
    "$(K_n)_{i,j}=(n-(i-1))j$\n"
   ]
  },
  {
   "cell_type": "markdown",
   "metadata": {},
   "source": [
    "### 1.1.7\n",
    "列ベクトル$u$と行ベクトル$v^{T}$との積は、階数1の行列 $uv^{T}$となる。この行列の全ての列は$u$の定数倍であり、全ての行は$v^{T}$の定数倍である。\n",
    "$T_4^{-1}-K_4^{-1}$は階数1の行列である。\n",
    "$$\n",
    " T_4^{-1} - K_4^{-1} = \n",
    "\\frac{1}{5}\\begin{pmatrix} 16 & 12 & 8 & 4 \\\\ 12 & 9 & 6 & 3 \\\\ 8 & 6 & 4 & 2 \\\\ 4 & 3 & 2 & 1 \\end{pmatrix}\n",
    "  = \n",
    "\\frac{1}{5}\\begin{pmatrix} 4 \\\\ 3 \\\\ 2 \\\\ 1 \\end{pmatrix}\\begin{pmatrix} 4 & 3 &  2 &  1 \\end{pmatrix}\n",
    "$$\n",
    "$K_3 - T_3$を$uv^{T}$という形に書け。また、$T_3^{-1}　- K_3^{-1}$についても同様の式を予測せよ。\n",
    "\n",
    "#### 解答\n",
    "まず、$K_3 - T_3$を計算し、そこから$uv^{T}$に分解することを考える。\n",
    "\n",
    "$K_3, T_3, K_3 - T_3$はそれぞれ"
   ]
  },
  {
   "cell_type": "code",
   "execution_count": null,
   "metadata": {},
   "outputs": [],
   "source": [
    "K_3  = linalg.toeplitz([2, -1, 0])\n",
    "T_3 = (linalg.toeplitz(np.asarray([2,-1,0])))\n",
    "T_3[0,0]=1\n",
    "print(K_3)\n",
    "print(T_3)\n",
    "print(K_3 - T_3)"
   ]
  },
  {
   "cell_type": "markdown",
   "metadata": {},
   "source": [
    "この結果から、$uv^{T}$に分解した場合、\n",
    "$$u=\\begin{pmatrix} 1\\\\ 0 \\\\ 0 \\end{pmatrix}\\\\\n",
    "v^{T}=\\begin{pmatrix} 1 & 0 &  0 \\end{pmatrix}$$\n",
    "が一つ考えられる。\n",
    "また、$T_3^{-1}　- K_3^{-1}$に関して同様の検討をする。\n",
    "$T_3^{-1}　,  K_3^{-1}, T_3^{-1}　- K_3^{-1}$はそれぞれ"
   ]
  },
  {
   "cell_type": "code",
   "execution_count": null,
   "metadata": {},
   "outputs": [],
   "source": [
    "print(linalg.inv(K_3))\n",
    "print(linalg.inv(T_3))\n",
    "print(linalg.inv(K_3) - linalg.inv(T_3))"
   ]
  },
  {
   "cell_type": "markdown",
   "metadata": {},
   "source": [
    "この結果から、$T_3^{-1}　- K_3^{-1}$を4倍すると、"
   ]
  },
  {
   "cell_type": "code",
   "execution_count": null,
   "metadata": {},
   "outputs": [],
   "source": [
    "print(4*(linalg.inv(K_3) - linalg.inv(T_3)))"
   ]
  },
  {
   "cell_type": "markdown",
   "metadata": {},
   "source": [
    "この結果から$uv^{T}$に分解した場合、\n",
    "$$u=\\frac{-1}{4}\\begin{pmatrix} 3\\\\ 2 \\\\ 1 \\end{pmatrix}\\\\\n",
    "v^{T}=\\begin{pmatrix} 3 & 2 &  1 \\end{pmatrix}$$\n",
    "が考えられる。\n",
    "\n",
    "### 1.1.8\n",
    "(a)　問題7に基づき、$T_5^{-1}　- K_5^{-1}$の下三角部分の$i,j$要素を予想せよ。\n",
    "(b) この結果を問題1の答え（$T_5^{-1}$の上三角要素を与える公式）から差し引け。これはK_5^{-1}に対する（あまり単純でない）公式を与える、\n",
    "\n",
    "#### 解答\n",
    "$T_5^{-1}　- K_5^{-1}$の下三角要素の式について考える。\n",
    "$T_5^{-1},  K_5^{-1}, T_5^{-1}　- K_5^{-1}$\n",
    "をそれぞれ確認すると、\n"
   ]
  },
  {
   "cell_type": "code",
   "execution_count": null,
   "metadata": {},
   "outputs": [],
   "source": [
    "T_5 = linalg.toeplitz(np.asarray([2,-1,0,0,0]))\n",
    "T_5[0,0]=1\n",
    "T_5_inv = linalg.inv(T_5)\n",
    "K_5  = linalg.toeplitz([2, -1, 0, 0, 0])\n",
    "K_5_inv = linalg.inv(K_5)\n",
    "print(T_5_inv)\n",
    "print(K_5_inv)\n",
    "print(T_5_inv - K_5_inv)\n",
    "print(6*(T_5_inv - K_5_inv))"
   ]
  },
  {
   "cell_type": "markdown",
   "metadata": {},
   "source": [
    "また$T_5^{-1}　- K_5^{-1}$について定数倍として6をかけると、"
   ]
  },
  {
   "cell_type": "markdown",
   "metadata": {},
   "source": [
    "よって、$(T_n^{-1}　- K_n^{-1})_{ij} = \\frac{1}{n+1}(n-(i-1))(n-(j-1)j)^2$\n",
    "が導かれた。また、これを問題1の$(T_5^{-1})_{ij}$から差し引くと、$(K_n^{-1})_{ij}$は\n",
    "$(K_n^{-1})_{ij}=n-(i-1)-\\frac{1}{n+1}(n-(i-1))(n-(j-1))^2$"
   ]
  },
  {
   "cell_type": "markdown",
   "metadata": {},
   "source": [
    "### 1.1.9\n",
    "例題1.1AにおいてBをCで置き換えて$e=\\begin{pmatrix} 1 \\\\ 1 \\\\ 1 \\\\ 1 \\end{pmatrix}$が$C_4$の全ての列ベクトルと直行することを示せ。\n",
    "また、擬逆行列を用いて$u=pinv(C)*f$とすることで特異な行列Cを係数とした連立一次方程式$Cu=f=$\\begin{pmatrix} 1 \\\\ -1 \\\\ 1 \\\\ -1 \\end{pmatrix}$を解け。第五の方程式0=0を付け加える前と後で、それぞれ$u=C/e$とC/fを実行してみよ。\n",
    "#### 解答\n",
    "まず、Cと$e=\\begin{pmatrix} 1 \\\\ 1 \\\\ 1 \\\\ 1 \\end{pmatrix}$が直行することを示す。"
   ]
  },
  {
   "cell_type": "code",
   "execution_count": null,
   "metadata": {},
   "outputs": [],
   "source": [
    "e_4=np.ones((4,1))\n",
    "C_4 = linalg.toeplitz([2, -1, 0, -1])\n",
    "print(e_4)\n",
    "print(C_4)\n",
    "print(np.transpose(e_4).dot(C_4))"
   ]
  },
  {
   "cell_type": "markdown",
   "metadata": {},
   "source": []
  },
  {
   "cell_type": "code",
   "execution_count": null,
   "metadata": {},
   "outputs": [],
   "source": [
    "f_4 = np.empty((0,4))\n",
    "f_4  = np.transpose(np.append(f_4, np.array([[1, -1, 1,-1]]), axis=0))\n",
    "\n",
    "f_5 =np.empty((0,5))\n",
    "f_5 = np.transpose(np.append(f_5, np.array([[1, -1, 1,-1, 0]]), axis=0))\n",
    "print(f_5)\n",
    "\n",
    "C_4_append0 = C_4\n",
    "C_4_append0 = (np.append(C_4_append0, [[0, 0, 0, 0]], axis=0))\n",
    "print(C_4_append0)\n",
    "\n",
    "print(f_4)\n",
    "print(linalg.det(C_4))\n",
    "print(linalg.inv(C_4).dot(f_4))\n",
    "print(linalg.solve(C_4, f_4))\n",
    "print(linalg.pinv(C_4_append0).dot(f_5))\n",
    "print(linalg.pinv(C_4).dot(f_4))\n",
    "\n"
   ]
  },
  {
   "cell_type": "markdown",
   "metadata": {},
   "source": [
    "### 1.1.10\n",
    "追加問題1.1Bのぶら下がり行列Hでは、$K_3$の最後の要素が1に変わっている。$H^{-1}=JT^{-1}J$を用いて逆行列を求めよ。また、$H=UU^{T}$と$H^{-1}=(U^{-1})^{T}U^{-1}$からも逆行列を求めてみよ。\n",
    "\n",
    "\n",
    "#### 解答\n"
   ]
  },
  {
   "cell_type": "code",
   "execution_count": null,
   "metadata": {},
   "outputs": [],
   "source": [
    "# 10 of 1.1\n",
    "J_3 = np.fliplr(np.eye(3))\n",
    "T_3 = (linalg.toeplitz(np.asarray([2,-1,0])))\n",
    "T_3[0,0]=1\n",
    "T_3_inv = np.linalg.inv(T_3)\n",
    "H_inv = (J_3.dot(T_3_inv)).dot(J_3)\n",
    "U_3 = linalg.toeplitz(np.asarray([1,-1,0]))*np.transpose(np.tri(3))\n",
    "U_3_t = np.transpose(U_3)\n",
    "U_3_inv = np.transpose(np.tri(3))\n",
    "print(U_3)\n",
    "print(U_3_t)\n",
    "print('\\n J*T_inv*J :\\n', H_inv)\n",
    "# Jを左からかけると上下反転、右からかけると左右反転になる\n",
    "\n",
    "print('\\n U_inv*U :\\n', np.transpose(U_3_inv).dot(U_3_inv))\n",
    "print(linalg.inv(U_3.dot(U_3_t)))\n",
    "print((np.transpose(U_3_inv)).dot(U_3_inv))"
   ]
  },
  {
   "cell_type": "markdown",
   "metadata": {},
   "source": [
    "### 1.1.11\n",
    "\n",
    "\n",
    "#### 解答\n"
   ]
  },
  {
   "cell_type": "code",
   "execution_count": null,
   "metadata": {},
   "outputs": [],
   "source": [
    "\n",
    "# 11 of 1.1\n",
    "U_3_arb = np.transpose(np.tri(3))\n",
    "print('\\nU\\n', U_3_arb)\n",
    "print('\\nJ*U\\n', J_3.dot(U_3_arb))\n",
    "print('\\nU*J\\n', U_3_arb.dot(J_3))\n",
    "print('\\nJ*U*J\\n', (J_3.dot(U_3_arb)).dot(J_3))"
   ]
  },
  {
   "cell_type": "markdown",
   "metadata": {},
   "source": [
    "よって$UJ$は北西　$JUJ$は南西"
   ]
  },
  {
   "cell_type": "markdown",
   "metadata": {},
   "source": [
    "### 1.1.12\n",
    "\n",
    "\n",
    "#### 解答\n"
   ]
  },
  {
   "cell_type": "code",
   "execution_count": null,
   "metadata": {},
   "outputs": [],
   "source": [
    "# 12 of 1.1\n",
    "C_4 = (linalg.toeplitz(np.asarray([2,-1,0,0])))*(np.ones(4) - np.fliplr(np.eye(4))) + np.fliplr((-1)*np.eye(4))\n",
    "print('\\nC\\n',C_4)\n",
    "LU = linalg.lu_factor(C_4)\n",
    "L = (np.tri(4,4,-1)*(LU[0])) + np.eye(4)\n",
    "U = np.transpose(np.tri(4))*(LU[0])\n",
    "print('\\nL\\n',L)\n",
    "print('\\nU\\n',U)\n",
    "\n",
    "# 有限の桁数で計算しているからでは？"
   ]
  },
  {
   "cell_type": "markdown",
   "metadata": {},
   "source": [
    "### 1.1.13\n",
    "手計算により$C_4$をLU分解できるか。\n",
    "\n",
    "#### 解答\n",
    "手計算参照"
   ]
  },
  {
   "cell_type": "markdown",
   "metadata": {},
   "source": [
    "### 1.1.14\n",
    "$K_3$の対角要素2,2,2を　$\\sqrt{2},\\sqrt{2},\\sqrt{2}$に変更せよ。この新しい行列Mの行列式を計算し、$Mu=0$を満たす非ゼロベクトルを求めよ。$Ku=(2-\\sqrt{2})u$であり、$u$は$K$の固有値$2-\\sqrt{2}$に属する固有ベクトルとなる。これはなぜかを説明せよ。\n",
    "\n",
    "#### 解答\n"
   ]
  },
  {
   "cell_type": "code",
   "execution_count": null,
   "metadata": {},
   "outputs": [],
   "source": [
    "# 14 of 1.1\n",
    "K_3_sq2  = linalg.toeplitz([math.sqrt(2), -1, 0])\n",
    "print(K_3_sq2)\n",
    "print(linalg.det(K_3_sq2))\n",
    "# 0になる"
   ]
  },
  {
   "cell_type": "markdown",
   "metadata": {},
   "source": [
    "行列式は0になる。すなわち、$K$において固有値が$2-\\sqrt{2}$であった場合の固有方程式の係数行列がMということである。"
   ]
  },
  {
   "cell_type": "markdown",
   "metadata": {},
   "source": [
    "### 1.1.15\n",
    "$Az, A^2, AB$を計算するには、それぞれ何回の実数の乗算が必要か。\n",
    "\n",
    "#### 解答\n",
    "$n^2, n^3, npm$"
   ]
  },
  {
   "cell_type": "markdown",
   "metadata": {},
   "source": [
    "### 1.1.16\n",
    "積$Ax$は行単位で計算することもできるし、列単位に計算することもできる。2つの方法で計算してみよ\n",
    "\n",
    "\n",
    "#### 解答\n",
    "$\\begin{pmatrix} 2 & 3  \\\\ 4 & 5 \\end{pmatrix}\\begin{pmatrix}  1  \\\\ 2 \\end{pmatrix}=\n",
    "\\begin{pmatrix} 2*1 + 3*2  \\\\ 4*1 + 5*2 \\end{pmatrix}$\n",
    "\n",
    "$\\begin{pmatrix} 2 & 3  \\\\ 4 & 5 \\end{pmatrix}\\begin{pmatrix}  1  \\\\ 2 \\end{pmatrix}=\n",
    "1\\begin{pmatrix} 2  \\\\ 4 \\end{pmatrix} + 2\\begin{pmatrix} 3 \\\\ 5 \\end{pmatrix} \\end{pmatrix}$"
   ]
  },
  {
   "cell_type": "markdown",
   "metadata": {},
   "source": [
    "### 1.1.17\n",
    "$Ax=b$において、$A$の列ベクトルが張る空間に$b$が含まれない例を与えよ。\n",
    "\n",
    "\n",
    "#### 解答\n",
    "$\\begin{pmatrix} 1 & 2  \\\\ 2 & 4 \\end{pmatrix}x=\\begin{pmatrix} 1  \\\\ 1 \\end{pmatrix}$\n"
   ]
  },
  {
   "cell_type": "markdown",
   "metadata": {},
   "source": [
    "### 1.1.18\n",
    "$\\begin{pmatrix} 2 & 3  \\\\ 4 & 5 \\end{pmatrix}\\begin{pmatrix} 1 & 2  \\\\ 2 & 4 \\end{pmatrix}=\n",
    "\\begin{pmatrix} 8 & *  \\\\ 14 & * \\end{pmatrix}$\n",
    "\n",
    "#### 解答\n",
    "$\\begin{pmatrix} 2 & 3  \\\\ 4 & 5 \\end{pmatrix}\\begin{pmatrix} 1 & 2  \\\\ 2 & 4 \\end{pmatrix}=\n",
    "\\begin{pmatrix} 2  \\\\ 4 \\end{pmatrix} \\begin{pmatrix}1  & 2 \\end{pmatrix}  + 2\\begin{pmatrix} 3 \\\\ 5 \\end{pmatrix}&2\\begin{pmatrix} 2  \\\\ 4 \\end{pmatrix} + 4\\begin{pmatrix} 3 \\\\ 5 \\end{pmatrix}=\n",
    "\\begin{pmatrix} 8 & 16  \\\\ 14 & 28 \\end{pmatrix}$"
   ]
  },
  {
   "cell_type": "markdown",
   "metadata": {},
   "source": [
    "### 1.1.19\n",
    "行でも計算できる\n",
    "$Bx=0$の解は$(AB)x=0$の解でもある、なぜか。\n",
    "\n",
    "#### 解答\n",
    "行列の積において可換則が成り立つから、$Bx=0$を満たす解は、$(AB)x=A(Bx)=A0=0$となる"
   ]
  },
  {
   "cell_type": "markdown",
   "metadata": {},
   "source": [
    "### 1.1.20\n",
    "\n",
    "\n",
    "#### 解答\n",
    "$\\begin{pmatrix} 2 & 3  \\\\ 4 & 5 \\end{pmatrix}\\begin{pmatrix} 1 & 2  \\\\ 2 & 4 \\end{pmatrix}=\n",
    "1\\begin{pmatrix}2  \\\\ 4 \\end{pmatrix} + 2\\begin{pmatrix} 3 \\\\ 5 \\end{pmatrix}+2\\begin{pmatrix} 2  \\\\ 4 \\end{pmatrix} + 4\\begin{pmatrix} 3 \\\\ 5 \\end{pmatrix}=\n",
    "\\begin{pmatrix} 8 & 16  \\\\ 14 & 28 \\end{pmatrix}$"
   ]
  },
  {
   "cell_type": "markdown",
   "metadata": {},
   "source": [
    "### 1.1.21\n",
    "任意のn*n行列A,Bについて成り立つ等式（ただひとつ）はどれか。\n",
    "$AB=BA, (AB)A=A(BA), (AB)B=B(BA), (AB)^2=A^2B^2$\n",
    "\n",
    "#### 解答\n",
    "$(AB)A=A(BA)$"
   ]
  },
  {
   "cell_type": "markdown",
   "metadata": {},
   "source": [
    "### 1.1.22\n",
    "疎行列形式で$K_1000$を入力した時、$Ku=e$となるような解を計算し、解をプロットせよ。\n",
    "\n",
    "#### 解答\n",
    "以下の通り。"
   ]
  },
  {
   "cell_type": "code",
   "execution_count": null,
   "metadata": {},
   "outputs": [],
   "source": [
    "# 22 of 1.1\n",
    "n=1000;\n",
    "e=np.ones([1,n])\n",
    "A = sp.spdiags(np.r_[-e, 2*e, -e], [-1,0,1],n,n).toarray()\n",
    "x = spla.spsolve(A, np.transpose(e))\n",
    "\n",
    "pyplot.plot(x)\n",
    "pyplot.show()\n"
   ]
  },
  {
   "cell_type": "markdown",
   "metadata": {},
   "source": [
    "二階微分を表す$K$によって演算した時、定数になるような解なので、解が二次曲線になっているのは妥当な感じがする。"
   ]
  },
  {
   "cell_type": "markdown",
   "metadata": {},
   "source": [
    "### 1.1.23\n",
    "長さ4のベクトル$u,v,w$を作り、$A=spdiags([u,v,w],-1,1,n,n)$と入力せよ。u,vの要素のうち、Aの-1,1番の対角線から省略されるものはどれか。\n",
    "\n",
    "#### 解答\n",
    "MATLABでないので少し違うが、\n",
    "\n"
   ]
  },
  {
   "cell_type": "code",
   "execution_count": null,
   "metadata": {},
   "outputs": [],
   "source": [
    "u_4 = np.transpose(np.array([1,2,3,4]))\n",
    "v_4 = np.array([5,6,7,8])\n",
    "w_4 = np.array([9,10,11,12])\n",
    "diag = np.array([0, -1, 1])\n",
    "print(sp.spdiags([u_4,v_4,w_4], diag, 4, 4))\n",
    "\n"
   ]
  },
  {
   "cell_type": "markdown",
   "metadata": {},
   "source": [
    "### 1.1.24\n",
    "\n",
    "#### 解答\n"
   ]
  },
  {
   "cell_type": "code",
   "execution_count": null,
   "metadata": {},
   "outputs": [],
   "source": [
    "A = sp.lil_matrix((1000, 1000))\n",
    "A[0, :100] = 1\n",
    "A[1, 100:200] = A[0, :100]\n",
    "A.setdiag(-1)\n",
    "print(A)"
   ]
  },
  {
   "cell_type": "markdown",
   "metadata": {},
   "source": [
    "### 1.1.25\n",
    "\n",
    "\n",
    "#### 解答\n",
    "N＊N行列であるとして、detB, detCは０になる。従ってその行列のランクはN-1以下である。よって、対角優位論法では最後の行で0となるため、解が複数存在し、u=0のみにはならない。"
   ]
  },
  {
   "cell_type": "markdown",
   "metadata": {},
   "source": [
    "### 1.1.26\n",
    "toeplitz(v)が巡回行列となるようなvは？\n",
    "\n",
    "\n",
    "#### 解答\n",
    "vの第一要素から3要素目までと、N番目の要素が非0であるようなベクトル\n",
    "\n"
   ]
  },
  {
   "cell_type": "code",
   "execution_count": null,
   "metadata": {},
   "outputs": [],
   "source": [
    "linalg.toeplitz([1,2,0,0,3])"
   ]
  },
  {
   "cell_type": "markdown",
   "metadata": {},
   "source": [
    "### 1.1.27\n",
    "\n",
    "\n",
    "#### 解答\n"
   ]
  },
  {
   "cell_type": "code",
   "execution_count": null,
   "metadata": {},
   "outputs": [],
   "source": [
    "a = (np.array([[-1,-1,-1,-1]]))\n",
    "b=(np.array([[1,1,1,1]]))\n",
    "A = sp.spdiags(np.r_[a, b], [0,1],3,4).toarray()\n",
    "\n",
    "#B\n",
    "print(A)\n",
    "print(np.transpose(A).dot(A))\n",
    "\n",
    "#T\n",
    "A_1 = A[0:4, 0:3]\n",
    "print(A_1)\n",
    "print(np.transpose(A_1).dot(A_1))\n",
    "\n",
    "#K\n",
    "A_2 =  A_1[0:3, 1:3]\n",
    "print(A_2)\n",
    "print(np.transpose(A_2).dot(A_2))"
   ]
  },
  {
   "cell_type": "code",
   "execution_count": null,
   "metadata": {},
   "outputs": [],
   "source": [
    "\n",
    "\n",
    "\n",
    "\n",
    "\n",
    "\n"
   ]
  },
  {
   "cell_type": "code",
   "execution_count": null,
   "metadata": {},
   "outputs": [],
   "source": []
  },
  {
   "cell_type": "code",
   "execution_count": null,
   "metadata": {},
   "outputs": [],
   "source": []
  }
 ],
 "metadata": {
  "kernelspec": {
   "display_name": "Python 3",
   "language": "python",
   "name": "python3"
  },
  "language_info": {
   "codemirror_mode": {
    "name": "ipython",
    "version": 3
   },
   "file_extension": ".py",
   "mimetype": "text/x-python",
   "name": "python",
   "nbconvert_exporter": "python",
   "pygments_lexer": "ipython3",
   "version": "3.6.2"
  }
 },
 "nbformat": 4,
 "nbformat_minor": 2
}
