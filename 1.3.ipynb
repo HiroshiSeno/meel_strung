{
 "cells": [
  {
   "cell_type": "code",
   "execution_count": null,
   "metadata": {},
   "outputs": [],
   "source": []
  },
  {
   "cell_type": "markdown",
   "metadata": {},
   "source": [
    "### 1.3.1\n",
    "\n",
    "\n",
    "#### 解答\n",
    "\n"
   ]
  },
  {
   "cell_type": "code",
   "execution_count": 31,
   "metadata": {},
   "outputs": [
    {
     "name": "stdout",
     "output_type": "stream",
     "text": [
      "L: \n",
      " [[ 1.          0.          0.        ]\n",
      " [-0.5         1.          0.        ]\n",
      " [ 0.         -0.66666667  1.        ]]\n",
      "D: \n",
      " [[ 2.          0.          0.        ]\n",
      " [ 0.          1.5         0.        ]\n",
      " [ 0.          0.          1.33333333]]\n",
      "L^T: \n",
      " [[ 1.         -0.5         0.        ]\n",
      " [ 0.          1.         -0.66666667]\n",
      " [ 0.          0.          1.        ]]\n",
      "detA: \n",
      " 4.0\n"
     ]
    }
   ],
   "source": [
    "\n",
    "A = np.array([[2., -1., 0.],\n",
    "              [-1., 2., -1.],\n",
    "              [0., -1., 2.]])\n",
    "detA = np.linalg.det(A)\n",
    "\n",
    "P, L, U = lu(A)\n",
    "L_t = L.T\n",
    "D = np.diag([U[0][0], U[1][1], U[2][2]])\n",
    "print(\"L: \\n\", L)\n",
    "print(\"D: \\n\", D)\n",
    "print(\"L^T: \\n\", L_t)\n",
    "print(\"detA: \\n\", detA)"
   ]
  },
  {
   "cell_type": "markdown",
   "metadata": {},
   "source": [
    "### 1.3.2\n",
    "\n",
    "\n",
    "#### 解答\n",
    "\n"
   ]
  },
  {
   "cell_type": "code",
   "execution_count": 32,
   "metadata": {},
   "outputs": [
    {
     "name": "stdout",
     "output_type": "stream",
     "text": [
      "inv_L: \n",
      " [[ 1.          0.          0.        ]\n",
      " [ 0.5         1.          0.        ]\n",
      " [ 0.33333333  0.66666667  1.        ]]\n",
      "inv_D: \n",
      " [[ 0.5         0.          0.        ]\n",
      " [ 0.          0.66666667  0.        ]\n",
      " [ 0.          0.          0.75      ]]\n",
      "inv_L^T: \n",
      " [[ 1.          0.5         0.33333333]\n",
      " [ 0.          1.          0.66666667]\n",
      " [ 0.          0.          1.        ]]\n"
     ]
    }
   ],
   "source": [
    "inv_L = np.linalg.inv(L)\n",
    "inv_D = np.linalg.inv(D)\n",
    "inv_L_t = np.linalg.inv(L_t)\n",
    "print(\"inv_L: \\n\", inv_L)\n",
    "print(\"inv_D: \\n\", inv_D)\n",
    "print(\"inv_L^T: \\n\", inv_L_t)"
   ]
  },
  {
   "cell_type": "code",
   "execution_count": 33,
   "metadata": {},
   "outputs": [
    {
     "name": "stdout",
     "output_type": "stream",
     "text": [
      "LL^-1: \n",
      " [[ 1.  0.  0.]\n",
      " [ 0.  1.  0.]\n",
      " [ 0.  0.  1.]]\n"
     ]
    }
   ],
   "source": [
    "LL_inv = np.dot(L,inv_L)\n",
    "print('LL^-1: \\n', LL_inv)"
   ]
  },
  {
   "cell_type": "markdown",
   "metadata": {},
   "source": [
    "### 1.3.3\n",
    "\n",
    "\n",
    "#### 解答\n",
    "\n"
   ]
  },
  {
   "cell_type": "code",
   "execution_count": 34,
   "metadata": {},
   "outputs": [
    {
     "name": "stdout",
     "output_type": "stream",
     "text": [
      "K5: \n",
      " [[ 2 -1  0  0  0]\n",
      " [-1  2 -1  0  0]\n",
      " [ 0 -1  2 -1  0]\n",
      " [ 0  0 -1  2 -1]\n",
      " [ 0  0  0 -1  2]]\n"
     ]
    }
   ],
   "source": [
    "K5 = toeplitz([2,-1,0,0,0])\n",
    "print('K5: \\n', K5)"
   ]
  },
  {
   "cell_type": "code",
   "execution_count": 35,
   "metadata": {},
   "outputs": [
    {
     "name": "stdout",
     "output_type": "stream",
     "text": [
      "det(K5): \n",
      " 6.0\n",
      "inv_K5: \n",
      " [[ 0.83333333  0.66666667  0.5         0.33333333  0.16666667]\n",
      " [ 0.66666667  1.33333333  1.          0.66666667  0.33333333]\n",
      " [ 0.5         1.          1.5         1.          0.5       ]\n",
      " [ 0.33333333  0.66666667  1.          1.33333333  0.66666667]\n",
      " [ 0.16666667  0.33333333  0.5         0.66666667  0.83333333]]\n",
      "det(K5)*inv_K5: \n",
      " [[ 5.  4.  3.  2.  1.]\n",
      " [ 4.  8.  6.  4.  2.]\n",
      " [ 3.  6.  9.  6.  3.]\n",
      " [ 2.  4.  6.  8.  4.]\n",
      " [ 1.  2.  3.  4.  5.]]\n"
     ]
    }
   ],
   "source": [
    "detK5 = np.linalg.det(K5)\n",
    "inv_K5 = np.linalg.inv(K5)\n",
    "print('det(K5): \\n', detK5)\n",
    "print('inv_K5: \\n', inv_K5)\n",
    "print('det(K5)*inv_K5: \\n', np.dot(detK5,inv_K5))"
   ]
  },
  {
   "cell_type": "code",
   "execution_count": 36,
   "metadata": {},
   "outputs": [
    {
     "name": "stdout",
     "output_type": "stream",
     "text": [
      "L_5: \n",
      " [[ 1.          0.          0.          0.          0.        ]\n",
      " [-0.5         1.          0.          0.          0.        ]\n",
      " [ 0.         -0.66666667  1.          0.          0.        ]\n",
      " [ 0.          0.         -0.75        1.          0.        ]\n",
      " [ 0.          0.          0.         -0.8         1.        ]]\n",
      "D_5: \n",
      " [[ 2.          0.          0.          0.          0.        ]\n",
      " [ 0.          1.5         0.          0.          0.        ]\n",
      " [ 0.          0.          1.33333333  0.          0.        ]\n",
      " [ 0.          0.          0.          1.25        0.        ]\n",
      " [ 0.          0.          0.          0.          1.2       ]]\n",
      "U_5: \n",
      " [[ 2.         -1.          0.          0.          0.        ]\n",
      " [ 0.          1.5        -1.          0.          0.        ]\n",
      " [ 0.          0.          1.33333333 -1.          0.        ]\n",
      " [ 0.          0.          0.          1.25       -1.        ]\n",
      " [ 0.          0.          0.          0.          1.2       ]]\n"
     ]
    }
   ],
   "source": [
    "P, L_5, U_5 = lu(K5)\n",
    "D_5 = np.diag([U_5[0][0], U_5[1][1], U_5[2][2], U_5[3][3], U_5[4][4]])\n",
    "print(\"L_5: \\n\", L_5)\n",
    "print(\"D_5: \\n\", D_5)\n",
    "print(\"U_5: \\n\", U_5)"
   ]
  },
  {
   "cell_type": "markdown",
   "metadata": {},
   "source": [
    "### 1.3.6\n",
    "\n",
    "\n",
    "#### 解答\n",
    "$5 + (5*5 - 5)/2 = 15$\n"
   ]
  },
  {
   "cell_type": "code",
   "execution_count": null,
   "metadata": {},
   "outputs": [],
   "source": []
  },
  {
   "cell_type": "markdown",
   "metadata": {},
   "source": []
  },
  {
   "cell_type": "code",
   "execution_count": null,
   "metadata": {},
   "outputs": [],
   "source": []
  }
 ],
 "metadata": {
  "kernelspec": {
   "display_name": "Python 3",
   "language": "python",
   "name": "python3"
  },
  "language_info": {
   "codemirror_mode": {
    "name": "ipython",
    "version": 3
   },
   "file_extension": ".py",
   "mimetype": "text/x-python",
   "name": "python",
   "nbconvert_exporter": "python",
   "pygments_lexer": "ipython3",
   "version": "3.6.2"
  }
 },
 "nbformat": 4,
 "nbformat_minor": 2
}
