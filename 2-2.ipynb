{
 "cells": [
  {
   "cell_type": "code",
   "execution_count": 2,
   "metadata": {},
   "outputs": [
    {
     "ename": "ModuleNotFoundError",
     "evalue": "No module named 'sympy'",
     "output_type": "error",
     "traceback": [
      "\u001b[0;31m---------------------------------------------------------------------------\u001b[0m",
      "\u001b[0;31mModuleNotFoundError\u001b[0m                       Traceback (most recent call last)",
      "\u001b[0;32m<ipython-input-2-e7e4c643f261>\u001b[0m in \u001b[0;36m<module>\u001b[0;34m()\u001b[0m\n\u001b[1;32m      3\u001b[0m \u001b[0;32mimport\u001b[0m \u001b[0mscipy\u001b[0m\u001b[0;34m.\u001b[0m\u001b[0msparse\u001b[0m \u001b[0;32mas\u001b[0m \u001b[0msp\u001b[0m\u001b[0;34m\u001b[0m\u001b[0m\n\u001b[1;32m      4\u001b[0m \u001b[0;32mfrom\u001b[0m \u001b[0mscipy\u001b[0m\u001b[0;34m.\u001b[0m\u001b[0mlinalg\u001b[0m \u001b[0;32mimport\u001b[0m \u001b[0mtoeplitz\u001b[0m\u001b[0;34m\u001b[0m\u001b[0m\n\u001b[0;32m----> 5\u001b[0;31m \u001b[0;32mfrom\u001b[0m \u001b[0msympy\u001b[0m \u001b[0;32mimport\u001b[0m \u001b[0;34m*\u001b[0m\u001b[0;34m\u001b[0m\u001b[0m\n\u001b[0m\u001b[1;32m      6\u001b[0m \u001b[0;32mfrom\u001b[0m \u001b[0mscipy\u001b[0m \u001b[0;32mimport\u001b[0m \u001b[0mintegrate\u001b[0m\u001b[0;34m\u001b[0m\u001b[0m\n\u001b[1;32m      7\u001b[0m \u001b[0;32mimport\u001b[0m \u001b[0mmath\u001b[0m\u001b[0;34m\u001b[0m\u001b[0m\n",
      "\u001b[0;31mModuleNotFoundError\u001b[0m: No module named 'sympy'"
     ]
    }
   ],
   "source": [
    "import numpy as np\n",
    "import scipy \n",
    "import scipy.sparse as sp\n",
    "from scipy.linalg import toeplitz\n",
    "from sympy import *\n",
    "from scipy import integrate\n",
    "import math\n",
    "from matplotlib import pyplot as plt\n",
    "from scipy import signal, interpolate\n",
    "import scipy.linalg as linalg\n",
    "import scipy.sparse as sp\n",
    "import scipy.sparse.linalg as spla\n",
    "%pylab inline --no-import-all"
   ]
  },
  {
   "cell_type": "code",
   "execution_count": 3,
   "metadata": {
    "collapsed": true
   },
   "outputs": [],
   "source": [
    "import numpy as np\n",
    "import scipy \n",
    "import scipy.sparse as sp\n",
    "from scipy.linalg import toeplitz\n",
    "from scipy import integrate\n",
    "import math\n",
    "from scipy import signal, interpolate\n",
    "import scipy.linalg as linalg\n",
    "import scipy.sparse as sp\n",
    "import scipy.sparse.linalg as spla\n"
   ]
  },
  {
   "cell_type": "markdown",
   "metadata": {},
   "source": [
    "## 問題2-2-1\n",
    "\n",
    "$u''+u=0$に対する蛙跳び法の行列$G_L=\\begin{bmatrix}1 & h \\\\-h & 1-h^2 \\end{bmatrix}$の固有値を$λ_1,λ_2$とする  \n",
    "(a)トレース$λ_1+λ_2=e^{iθ}+e^{-iθ}$より$h<2$に対して$cosθ=1-\\frac{1}{2}h^2$であることを見出せ  \n",
    "(b)h=2において、$G_L$の固有値と全ての固有ベクトルを求めよ  \n",
    "(c)h=3において、固有値を求め$λ_1λ_2=1$であるが$|λ_{max}|>1$であることを示せ"
   ]
  },
  {
   "cell_type": "markdown",
   "metadata": {},
   "source": [
    "### 解答\n",
    "(a)$λ_1+λ_2=e^{iθ}+e^{-iθ}$より  \n",
    "$e^{iθ}+e^{-iθ}=2-h^2$  \n",
    "$e^{iθ}=cosθ＋isinθ$より$e^{iθ}+e^{-iθ}=2cosθ=2-h^2$  \n",
    "以上より$cosθ=1-\\frac{1}{2}h^2$  \n",
    " "
   ]
  },
  {
   "cell_type": "code",
   "execution_count": 17,
   "metadata": {},
   "outputs": [
    {
     "name": "stdout",
     "output_type": "stream",
     "text": [
      "(b)\n",
      "[[ 1  2]\n",
      " [-2 -3]]\n",
      "[-1. -1.]\n",
      "[[ 0.70710678 -0.70710678]\n",
      " [-0.70710678  0.70710678]]\n"
     ]
    }
   ],
   "source": [
    "h = 2\n",
    "Gb = np.array([[1,h],[-h,1-h*h]])\n",
    "l1, S1 = np.linalg.eig(Gb)\n",
    "print(\"(b)\")\n",
    "print(Gb)\n",
    "print(l1)\n",
    "print(S1)\n",
    "\n"
   ]
  },
  {
   "cell_type": "code",
   "execution_count": 18,
   "metadata": {},
   "outputs": [
    {
     "name": "stdout",
     "output_type": "stream",
     "text": [
      "(c)\n",
      "[[ 1  3]\n",
      " [-3 -8]]\n",
      "[-0.14589803 -6.85410197]\n",
      "[[ 0.93417236 -0.35682209]\n",
      " [-0.35682209  0.93417236]]\n"
     ]
    }
   ],
   "source": [
    "h = 3\n",
    "Gc = np.array([[1,h],[-h,1-h*h]])\n",
    "l1, S1 = np.linalg.eig(Gc)\n",
    "print(\"(c)\")\n",
    "print(Gc)\n",
    "print(l1)\n",
    "print(S1)\n"
   ]
  },
  {
   "cell_type": "markdown",
   "metadata": {},
   "source": [
    "## 問題 2-2-2\n",
    "\n",
    "問題１で、半角公式より$cosθ=1-\\frac{1}{2}h^2$から$h=2sin(θ/2)$が成り立つ。すると$θ=2π/N$と$h=2sin(θ/N)$より$cosNθ=cos2π=1$が導かれる。この特別な場合には、$(U_N,V_N)$は$(U_0,V_0)$に戻り$G^N=1$である。  \n",
    "N=3と４に対してN個の点$(U_N,V_N)=G^N(1,0)$をプロットせよ。  \n",
    "$(0,0)$から$(U_N,V_N),(U_{N+1},V_{N+1})$をつないだ３ないし４個の三角形の等積性をチェックせよ。\n"
   ]
  },
  {
   "cell_type": "code",
   "execution_count": 9,
   "metadata": {},
   "outputs": [
    {
     "name": "stdout",
     "output_type": "stream",
     "text": [
      "[ 1.         -1.73205081]\n",
      "[-2.          1.73205081]\n",
      "[  1.00000000e+00   1.33226763e-15]\n",
      "[ 1.         -1.41421356]\n",
      "[ -1.00000000e+00  -6.66133815e-16]\n",
      "[-1.          1.41421356]\n",
      "[  1.00000000e+00   1.33226763e-15]\n"
     ]
    }
   ],
   "source": [
    "N = 3\n",
    "a = np.array([1,0])\n",
    "h = 2*np.sin(np.pi/N)\n",
    "Gc3 = np.array([[1,h],[-h,1-h*h]])\n",
    "l3, S3 = np.linalg.eig(Gc3)\n",
    "G31=Gc3\n",
    "G32=np.dot(Gc3,Gc3)\n",
    "G33=np.dot(np.dot(Gc3,Gc3),Gc3)\n",
    "\n",
    "print(np.dot(G31,a))\n",
    "print(np.dot(G32,a))\n",
    "print(np.dot(G33,a))\n",
    "\n",
    "N = 4\n",
    "h = 2*np.sin(np.pi/N)\n",
    "Gc4 = np.array([[1,h],[-h,1-h*h]])\n",
    "l4, S4 = np.linalg.eig(Gc4)\n",
    "G41=Gc4\n",
    "G42=np.dot(Gc4,Gc4)\n",
    "G43=np.dot(np.dot(Gc4,Gc4),Gc4)\n",
    "G44=np.dot(np.dot(Gc4,Gc4),np.dot(Gc4,Gc4))\n",
    "# print(G44)\n",
    "\n",
    "print(np.dot(G41,a))\n",
    "print(np.dot(G42,a))\n",
    "print(np.dot(G43,a))\n",
    "print(np.dot(G44,a))"
   ]
  },
  {
   "cell_type": "markdown",
   "metadata": {},
   "source": [
    "## 問題2-2-3\n",
    "\n",
    "(大難問)図2.7の内側の\n",
    "楕円の各軸は何だろうか？"
   ]
  },
  {
   "cell_type": "markdown",
   "metadata": {},
   "source": [
    "## 問題2-2-4\n",
    "\n",
    "図2.6の蛙跳び法のなす楕円は、$G^T_LG_L$の固有値の平方根である$σ_1とσ_2$を半軸とする。この行列の行列式は１であり（したがって$σ_1σ_2=1$),\n",
    "トレースは$2+h^4$(固有値の和である$σ_1^2+σ_2^2$)であることを示せ。  \n",
    "  \n",
    "円に近い楕円　$(σ_1^2-σ_2^2)=σ_1^2+σ_2^2-2=h^4$  \n",
    "$σ_{max}-σ_{min}=h^2$\n",
    "\n",
    "\n",
    "### 解答\n",
    "$G_L=\\begin{bmatrix}1 & h \\\\-h & 1-h^2 \\end{bmatrix}$\n",
    "$G^T_L=\\begin{bmatrix}1 & -h \\\\h & 1-h^2 \\end{bmatrix}$  \n",
    "$G^T_LG_L=\\begin{bmatrix}1+h^2 & -h^3 \\\\-h^3 & h^4-h^2+1 \\end{bmatrix}$\n",
    "\n",
    "以上より$det(G^T_LG_L)=1,trace(G^T_LG_L)=2+h^4$"
   ]
  },
  {
   "cell_type": "markdown",
   "metadata": {},
   "source": [
    "## 問題2-2-5\n",
    "\n",
    "この問題の行列では次のよう歪対称$(A^T=-A)$である。  \n",
    "$\\frac{du}{dt}=\\begin{bmatrix}0 & c & -b \\\\-c & 0 & a\\\\b & -a & 0 \\end{bmatrix}$あるいは  \n",
    "$u'_1=cu_2-bu_3$  \n",
    "$u'_2=au_3-cu_1$  \n",
    "$u'_3=bu_1-au_2$  \n",
    "(a)$||u(t)||^2=u_1^2+u_2^2+u_3^2$の導関数は、$2u_1u'_1+2u_2u'_2+2u_3u'_3$である。ここに$u'_1u'_2u'_3$を代入して導関数=ゼロを確認せよ。したがって$||u(t)||^2=||u(0)||^2$である  \n",
    "  \n",
    "(b)行列用語でいうと$Q=e^{At}$は直交である。級数$Q=e^{At}=I+At+(At)^2/2t+,,,,,$より、$Q^T=e^{-At}$を示せ。すると確かに$Q^TQ=I$である。"
   ]
  },
  {
   "cell_type": "markdown",
   "metadata": {},
   "source": [
    "###  解答\n",
    "(a)\n",
    "$u'_1=cu_2-bu_3$  \n",
    "$u'_2=au_3-cu_1$  \n",
    "$u'_3=bu_1-au_2$  \n",
    "より$2u_1(cu_2-bu_3)+2u_2(au_3-cu_1)+2u_3(bu_1-au_2)=0$\n",
    "\n",
    "(b)\n",
    "$Q=e^{At}=I+At+(At)^2/2t+,,,,,$\n",
    "$Q^T=I^T+A^Tt+(A^Tt)^2/2t+,,,,,=e^{-A^T}=I+-A^T+(-A^T)^2/2t+,,,,,=e^{-At}$\n"
   ]
  },
  {
   "cell_type": "markdown",
   "metadata": {},
   "source": [
    "## 問題2-2-6\n",
    "\n",
    "台形則は,$u'=Au$で$A^T=-A$の時、エネルギー$||u||^2$を保存する。(24)に$U_{n+1}+U_n$を乗じ、$||U_{n+1}||^2=||U_n||^2$を示せ。増大度行列$G_T=(I-AΔt/2)^{-1}(I+AΔt/2)$は$A^T=-A$ならば$e^{At}$と同様に直交である。  \n",
    "u'=Auは$||u||^2$を保存  \n",
    "$\\frac{d}{dt}(u,u')=(u',u)+(u,u')=((A+A^TΔt/2)u,u)=0$"
   ]
  },
  {
   "cell_type": "code",
   "execution_count": null,
   "metadata": {
    "collapsed": true
   },
   "outputs": [],
   "source": []
  },
  {
   "cell_type": "markdown",
   "metadata": {},
   "source": [
    "###  解答\n",
    "$(I-\\frac{Δt}{２}A)U_{n+1}=(I+\\frac{Δt}{２}A)U_{n}$ (24)  \n",
    "この両辺に$U_{n+1}+U_n$を乗じると\n",
    "$(I-\\frac{Δt}{２}A)U_{n+1}（U_{n+1}^T+U_n^T）=(I+\\frac{Δt}{２}A)U_{n}(U_{n+1}^T+U_n^T)$ \n",
    "行列Aの性質から$(I-\\frac{Δt}{２}A)=(I+\\frac{Δt}{２}A)$なので$||U_{n+1}||^2=||U_n||^2$"
   ]
  },
  {
   "cell_type": "markdown",
   "metadata": {},
   "source": [
    "## 問題2-2-7\n",
    "\n",
    "台形則にはエネルギー誤差はないが小さな位相誤差がある。$h=2π/32$で３２ステップ進んでも完璧な１に至らない、$λ=(1+i\\frac{h}{2})/(1-i\\frac{h}{2})$の時、$λ^{32}$とその偏角$θ$を計算せよ。\n",
    "$λ$を$e^{ih}$と比べてhのどのべきん乗で違いが生じているか？"
   ]
  },
  {
   "cell_type": "code",
   "execution_count": 9,
   "metadata": {},
   "outputs": [
    {
     "name": "stdout",
     "output_type": "stream",
     "text": [
      "(0.99979859551-0.0200690910568j)\n",
      "-0.0200704385004\n",
      "(1+0j)\n",
      "0.0\n",
      "0.007569891767651322\n"
     ]
    }
   ],
   "source": [
    "h = (2*np.pi)/32\n",
    "l = (1+h*0.5j)/(1-h*0.5j)\n",
    "l32 = np.power(l,32)\n",
    "l32\n",
    "\n",
    "tan = np.imag(l32)/np.real(l32)\n",
    "theta = np.arctan(tan)\n",
    "print(l32)\n",
    "print(theta )\n",
    "\n",
    "l2 = np.exp(h*1j)\n",
    "l32_2 = np.power(l2,32)\n",
    "\n",
    "tan2 = np.imag(l32_2)/np.real(l32_2)\n",
    "theta2 = np.arctan(tan2)\n",
    "print(l32_2)\n",
    "print(theta2)\n",
    "\n",
    "print(h*h*h)"
   ]
  },
  {
   "cell_type": "markdown",
   "metadata": {},
   "source": [
    "## 問題2-2-8\n",
    "\n",
    "前進オイラー方では次のように毎ステップごとでエネルギー$1+h^2$が\n",
    "乗ざれる。  \n",
    "エネルギー　$U^2_{n+1}+V^2_{n+1}=(U_n+hV^2_n)^2+U_n-hV^2_n)^2=(1+h^2)(U^2_n+V^2_n)$  \n",
    "$h=2π/32$に対して$(1+h^2)^{32}$を計算せよ。h→０の時$(1+h^{32})^{\\frac{2π}{h}}$は１に近くだろうか？そうでないだろうか？  \n",
    "もしそうならオイラー法はゆっくり収束する。交代オイラー法の各ステップではエネルギー$U^2_n+V^2_n$を$1+h^2$で叙すことを示せ"
   ]
  },
  {
   "cell_type": "code",
   "execution_count": 10,
   "metadata": {},
   "outputs": [
    {
     "name": "stdout",
     "output_type": "stream",
     "text": [
      "3.35520584402\n"
     ]
    }
   ],
   "source": [
    "h = (2*np.pi)/32\n",
    "a = np.power((1+h*h),32)\n",
    "print(a)"
   ]
  },
  {
   "cell_type": "markdown",
   "metadata": {},
   "source": [
    "後退オイラー方法\n",
    "$U_{n+1}=U_n+hV_{n+1}$  \n",
    "$V_{n+1}=V_n+hU_{n+1}$  \n",
    "以上から$U^2_{n+1}+V^2_{n+1}=h^2U^2_{n+1}+h^2V^2_{n+1}+U^2_n+V^2_n+2h(U_nV_{n+1}-V_nU_{n+1})$  \n",
    "よって$(1-h^2)(U^2_{n+1}+V^2_{n+1})=U^2_n+V^2_n$"
   ]
  },
  {
   "cell_type": "markdown",
   "metadata": {},
   "source": [
    "## 問題2-2-9\n",
    "\n",
    "ニュートン法の収束における$\"ma\"$は実は３段階$\\frac{d}{dt}(m(u,t),\\frac{du}{dt})$を意味する。質量が一定の時これは$\"mu\"$である。しかしアインシュタインは、質賞は速度とともに増加することを見出した。低速度の例として屋根のない列車に雨が$r=dm/dt$の比率で落ちてくると考えよう。列車を一定速度vに保つには、どのような力Fが必要だろうか？（ここではma=0だがF=0ではない）"
   ]
  },
  {
   "cell_type": "markdown",
   "metadata": {},
   "source": [
    "列車の質量をMとすると\n",
    "$m=M＋rt$\n",
    "$\\frac{d(mv)}{dt}=F$  \n",
    "$\\frac{d((M+rt)v)}{dt}=F$となりvが一定となるような力Fは$F=rv$である"
   ]
  },
  {
   "cell_type": "markdown",
   "metadata": {},
   "source": [
    "## 問題2-2-10\n",
    "\n",
    "式(16)において、共振は近接共振公式の$ω_0$が$λ$に近づいた極限であることを示せ。結局のところ $f/g$ が $0/0$ に近づくときの極限として $f'/g'$ になるというロピタルの規則が必要になろう"
   ]
  },
  {
   "cell_type": "markdown",
   "metadata": {},
   "source": [
    "近接共振$u(t)=\\frac{cosλtーcosω_0t}{m(ω_0^2-λ^2)}$（１）  \n",
    "共振$u(t)=\\frac{tsinω_0t}{2mω_0}$（２）  \n",
    "\n",
    "$a=λ-ω_0$として（１）に代入すると$u(t)=\\frac{cos(a+ω_0)tーcosω_0t}{m(ω_0^2-(a+ω_0)^2)}$\n",
    "ここで$λ→ω_0$より$a→0$\n",
    "ロピタルの定理よりu(t)の分子分母をaで微分すると  \n",
    "$U(a)=\\frac{-tsin(a+ω_0)t}{-2m(a+ω_0))}$  \n",
    "$lim_{a→０}U(a)=\\frac{tsinω_0t}{2mω_0}$となる\n"
   ]
  },
  {
   "cell_type": "markdown",
   "metadata": {},
   "source": [
    "## 問題2-2-11\n",
    "\n",
    "振動する線形ばね・質点系では、\"ハミルトニアン\"は全エネルギー$H=\\frac{1}{2}p^TM^{-1}p+\\frac{1}{2}u^TKu$である。位置uと運動量pはハミルトンの好みの未知量である。  \n",
    "ハミルトン方程式$p'=-\\frac{\\partial H}{\\partial u}$及び$u'=\\frac{\\partial H}{\\partial p}$からニュートンの法則$Mu''+Ku=0$を導け"
   ]
  },
  {
   "cell_type": "markdown",
   "metadata": {},
   "source": [
    "$H=\\frac{1}{2M}p^2+\\frac{1}{2}Ku^2$  \n",
    "$p'=-\\frac{\\partial H}{\\partial u}=-Ku$  \n",
    "$u'=\\frac{\\partial H}{\\partial p}=\\frac{p}{M}$\n",
    "以上より$Mu''+Ku=0$"
   ]
  },
  {
   "cell_type": "markdown",
   "metadata": {},
   "source": [
    "## 問題 2-2-12\n",
    "\n",
    "次の公式を使って、H（p,u）=一定はハミルトン方程式の第一積分であることを示せ。  \n",
    "チェイン側  $\\frac{dH}{dt}=\\frac{\\partial H}{\\partial p}\\frac{dp}{dt}+\\frac{\\partial H}{\\partial u}\\frac{du}{dt}=()+()=0$  \n",
    "これまでたくさんの研究者が完全解を作るため第二積分を望んできた。互いに引き合う３体系でこれは不可能なことがわかった。冥王星の軌道はカオス的なのである。"
   ]
  },
  {
   "cell_type": "markdown",
   "metadata": {},
   "source": [
    "### 解答\n",
    "ハミルトン方程式$p'=-\\frac{\\partial H}{\\partial p}$及び$u'=\\frac{\\partial H}{\\partial p}$から  \n",
    "$\\frac{dH}{dt}=\\frac{\\partial H}{\\partial p}\\frac{dp}{dt}+\\frac{\\partial H}{\\partial u}\\frac{du}{dt}=(\\frac{du}{dt}\\frac{dp}{dt})+(-\\frac{dp}{dt}\\frac{du}{dt})=0$  \n"
   ]
  },
  {
   "cell_type": "markdown",
   "metadata": {},
   "source": [
    "## 問題2-2-13\n",
    "\n",
    "太陽と１惑星の系では、重力の法則により$H=\\frac{1}{2}p^2_1+\\frac{1}{2}p^2_2-(u^2_1+u^2_2)^{-\\frac{1}{2}}$である。$p'_i=\\frac{\\partial H}{\\partial u_i}$と$u'_i=\\frac{\\partial H}{\\partial p_i}$よりu-p平面において面積$A(t)=u_1p_2-u_2p_1$は$\\frac{dA}{dt}=0$を満たすことを示せ。  \n",
    "これはケプラーの第二法則である。すなわち太陽から惑星までの線分は一定速度で面積を掃過する。ニュートンはこの法則を幾何学的に証明することで1687年にヴェレル法を発見した。"
   ]
  },
  {
   "cell_type": "markdown",
   "metadata": {},
   "source": [
    "### 解答\n",
    "\n",
    "$A(t)=u_1p_2-u_2p_1=\\frac{\\partial H}{\\partial p_1}\\frac{\\partial H}{\\partial u_2}-\\frac{\\partial H}{\\partial p_2}\\frac{\\partial H}{\\partial u_1}$\n",
    "\n",
    "$\\frac{dA}{dt}=\\frac{\\partial A}{\\partial p_1}\\frac{dp_1}{dt}+\\frac{\\partial A}{\\partial u_1}\\frac{du_1}{dt}+\\frac{\\partial A}{\\partial p_2}\\frac{dp_2}{dt}+\\frac{\\partial A}{\\partial u_2}\\frac{du_2}{dt}$  \n",
    "\n",
    "$\\frac{du_1}{dt}=\\frac{\\partial H}{\\partial p_1}=p_1$  \n",
    "$\\frac{du_2}{dt}=\\frac{\\partial H}{\\partial p_2}=p_2$  \n",
    "$\\frac{dP_1}{dt}=\\frac{\\partial H}{\\partial u_1}=-\\frac{u_1}{(u^2_1+u^2_2)^{\\frac{3}{2}}}$  \n",
    "$\\frac{dP_2}{dt}=\\frac{\\partial H}{\\partial u_2}=-\\frac{u_2}{(u^2_1+u^2_2)^{\\frac{3}{2}}}$  \n",
    "$\\frac{\\partial A}{\\partial p_1}=-u_2$  \n",
    "$\\frac{\\partial A}{\\partial p_2}=u_1$  \n",
    "$\\frac{\\partial A}{\\partial u_1}=p_2$  \n",
    "$\\frac{\\partial A}{\\partial u_2}=-p_1$  "
   ]
  },
  {
   "cell_type": "markdown",
   "metadata": {
    "collapsed": true
   },
   "source": [
    "## 問題 2-2-14\n",
    "\n",
    "ロトカ-ヴォルテラ法では$alogu+blogv-u-v$は一定である。$p=logu$及び$q=logv$とおけばこの定数は$H=ap+bq-e^p-e^q$である。このハミルトニアンの$p'=-\\frac{\\partial H}{\\partial q}$及び$q'=\\frac{\\partial H}{\\partial p}$はまさにロトカ-ヴォルテラ方程式であることを示せ。被食者、捕食者では対数尺度で面積保存が成り立っている。"
   ]
  },
  {
   "cell_type": "markdown",
   "metadata": {},
   "source": [
    "$H=ap+bq-e^p-e^q$  \n",
    "$p'=-\\frac{\\partial H}{\\partial q}$及び$q'=\\frac{\\partial H}{\\partial p}$より  \n",
    "$p'=b-e^q,q'=a-e^a$\n",
    "$p=logu$及び$q=logv$より  \n",
    "$p'=u'/u=b-v,q'=v'/v=a-u$  \n",
    "以上より$u'=u(b-v),v'=v(a-u)$"
   ]
  },
  {
   "cell_type": "markdown",
   "metadata": {
    "collapsed": true
   },
   "source": [
    "## 問題 2-2-15\n",
    "\n",
    "線形のステップ$U_{n+1}=aU_n+bV_n=cU_n+dV_n$は＿＿＿＝１の時（40）によってシンプレクティックである。行列式１である行列Gは何か？その時次式によって三角形の面積は等しく保たれる。$det\\begin{bmatrix}U_{n+1} & U_{n+2} \\\\V_{n+1} & V_{n+2} \\end{bmatrix}=(detG)det\\begin{bmatrix}U_{n} & U_{n+1} \\\\V_{n} & V_{n+1} \\end{bmatrix}$\n"
   ]
  },
  {
   "cell_type": "markdown",
   "metadata": {
    "collapsed": true
   },
   "source": [
    "## 問題2-2-16\n",
    "\n",
    "次に与えられる非線形の蛙跳び法も$\\frac{\\partial G}{\\partial U}\\frac{\\partial H}{\\partial V}-\\frac{\\partial G}{\\partial V}\\frac{\\partial H}{\\partial U}=1$を満たすことを示せ。  \n",
    "$U_{n+1}=G(U_n,V_n)=U_n+hV_n$  \n",
    "$V_{n+1}=H(U_n,V_n)=V_n+hF(U_{n+1})=V_n+hF(U_n+hV_n)$"
   ]
  },
  {
   "cell_type": "markdown",
   "metadata": {
    "collapsed": true
   },
   "source": [
    "## 問題 2-2-17\n",
    "\n",
    "単独方程式$mu''+cu=0$に対して蛙跳び法の$U_{n+1}$と$V_{n+1}$を書き下せ。増大行列Gとその固有値の和（トレース$G_{11}+G_{22}$）を見出せ。トレース>-2に対して$(Δt)^2<4m/c$が安定性の条件であることを示せ。\n"
   ]
  },
  {
   "cell_type": "markdown",
   "metadata": {},
   "source": [
    "$\\frac{U_{n+1}-U_n}{Δt}　= V_n$  \n",
    "$\\frac{V_{n+1}-Vn}{Δt}　= -\\frac{c}{m}U_{n+1}$  \n",
    "以上より  \n",
    "$G=\\begin{bmatrix}1 & Δt\\\\-\\frac{c}{m}Δt & 1-\\frac{c}{m}Δt^2 \\end{bmatrix}$  \n",
    "$trace(G)=2-\\frac{c}{m}Δt^2 $  \n",
    "$2-\\frac{c}{m}Δt^2>-2$,$Δt^2<4\\frac{m}{c}$\n"
   ]
  },
  {
   "cell_type": "markdown",
   "metadata": {
    "collapsed": true
   },
   "source": [
    "## 問題 2-2-18\n",
    "\n",
    "差$cos9t-cos11$のグラフを書け。ゆっくり変動する$2sint$の鞘の内側に、遠い振動を観測するに違いない。この差は2sint10tsintに等しいからである。"
   ]
  },
  {
   "cell_type": "code",
   "execution_count": null,
   "metadata": {
    "collapsed": true
   },
   "outputs": [],
   "source": [
    "import matplotlib.pylab as plt\n",
    " \n",
    "\n",
    "x = np.linspace(-np.pi,np.pi, 100)\n",
    "a=np.cos(9*x)-np.cos(11*x)\n",
    "\n",
    "plt.plot(x, 2*np.sin(x))\n",
    "plt.plot(x,a)"
   ]
  },
  {
   "cell_type": "code",
   "execution_count": null,
   "metadata": {
    "collapsed": true
   },
   "outputs": [],
   "source": []
  }
 ],
 "metadata": {
  "kernelspec": {
   "display_name": "Python 3",
   "language": "python",
   "name": "python3"
  },
  "language_info": {
   "codemirror_mode": {
    "name": "ipython",
    "version": 3
   },
   "file_extension": ".py",
   "mimetype": "text/x-python",
   "name": "python",
   "nbconvert_exporter": "python",
   "pygments_lexer": "ipython3",
   "version": "3.6.2"
  }
 },
 "nbformat": 4,
 "nbformat_minor": 2
}
