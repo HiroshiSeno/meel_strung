{
 "cells": [
  {
   "cell_type": "code",
   "execution_count": 1,
   "metadata": {
    "collapsed": true
   },
   "outputs": [],
   "source": [
    "import numpy as np\n",
    "import matplotlib.pyplot as plt\n",
    "import scipy.linalg as linalg\n",
    "import scipy.sparse as sp\n",
    "import scipy.sparse.linalg as spla\n",
    "import math\n",
    "from numpy.random import rand"
   ]
  },
  {
   "cell_type": "markdown",
   "metadata": {},
   "source": [
    "## 2.6.1\n",
    "本節のニュートン法コードで，$\\sin u = 0$を$u^{k+1} = u^k - \\sin u^k / \\cos u^k$ として解く．  \n",
    "どの区間の出発地$u^0$から，どの解$u^* = n\\pi$が得られるか？  \n",
    "N個の等間隔に分布した点$u^0 = (1:N)\\pi/N$から反復を出発させてみよ．\n",
    "\n",
    "### 解答"
   ]
  },
  {
   "cell_type": "markdown",
   "metadata": {},
   "source": [
    "## 2.6.2\n",
    "$u^2 - a = 0$に対するニュートン法は，$u^k$と$a/u^k$の平均として$u^{k+1}$を求めることを示せ．  \n",
    "次のようにして，新しい誤差$u^{k+1} - \\sqrt{a}$を，前の誤差$u^k - \\sqrt{a}$の平方と結びつけよ．\n",
    "\n",
    "$$\n",
    "u^{k+1} - \\sqrt{a} = \\frac{1}{2}(u^k + \\frac{a}{u^k}) - \\sqrt{a} = (u^k-\\sqrt{a})^2/2u^k\n",
    "$$\n",
    "\n",
    "### 解答"
   ]
  },
  {
   "cell_type": "markdown",
   "metadata": {},
   "source": [
    "## 2.6.3\n",
    "根$u^* = 1, \\ldots, N$を持つ高次多項式$g(u) = (u-1)\\ldots(u-N)$で，fzeroとrootsと我々のニュートン法を試せ．  \n",
    "rootsの与える解は，どのNから複素数となる(完全な誤り)か？\n",
    "\n",
    "### 解答"
   ]
  },
  {
   "cell_type": "markdown",
   "metadata": {},
   "source": [
    "## 2.6.4\n",
    "$g(u) = 0$に対する最も簡単な不動点反復は，$u^{k+1} = H(u^k) = u^k - g(u^k)$である．  \n",
    "$g(u) = au - b$ のとき，$u^0 = 1$から始めて，$u^1，u^2$と各$u^k$を求める．  \n",
    "どのような$a$の値ならば，$u^k$が正解$u^* = b/a$に収束するか？\n",
    "\n",
    "### 解答"
   ]
  },
  {
   "cell_type": "markdown",
   "metadata": {},
   "source": [
    "## 2.6.5\n",
    "ベクトル版の$g(u) = Au - b$の場合，ニュートン法は1ステップで収束すること，つまり$u^1 = A^{-1}b$であることを示せ．  \n",
    "不動点反復$u^{k+1} = H(u^k) = u^k - (Au^k - b)$では$H' = I - A$である．その収束因子は，最大固有値$|1 - \\lambda(A)|$である．\n",
    "\n",
    "### 解答"
   ]
  },
  {
   "cell_type": "markdown",
   "metadata": {},
   "source": [
    "## 2.6.6\n",
    "$g(u) = ue^{-u}$のグラフをプロットせよ．ニュートン法の2ステップをこの上に描け．  \n",
    "すなわち，$u^0$での接線を描き，それが軸と交わった点が$u^1$である(u^1とu^2も同様の関係)．$u^0 = \\frac{1}{2}$と$u^0 = 1$から始める場合をやってみよ．\n",
    "\n",
    "### 解答"
   ]
  },
  {
   "cell_type": "markdown",
   "metadata": {},
   "source": [
    "## 2.6.7\n",
    "$g_1 = u_1^3 - u_2 = 0$と$g_2 = u_2^3 - u_1 = 0$に対する$2 \\times 2$のニュートン法のコードを書け．  \n",
    "この方程式は3個の実解 $(1,1), (0,0), (-1, -1)$を持つ．  \n",
    "吸引領域(フラクタルになる)を色分けすることができるか？3個の解と無限大とに導く出発点$(u_1^0, u_2^0)$の4集合を色分けするのである．\n",
    "\n",
    "### 解答"
   ]
  },
  {
   "cell_type": "markdown",
   "metadata": {},
   "source": [
    "## 2.6.8\n",
    "$P_N(z) = 1+z+\\ldots+z^N/N!$は，$e^z$に対する級数展開を打ち切って得られる多項式である．  \n",
    "$P_N(z) = 0$をrootsを使って$N = 20, 40,\\ldots$に対して解き，解$z = u+iv$をプロットせよ．  \n",
    "2個の連立実方程式$ReP_N(u,v) = ImP_N(u,v) = 0$をニュートン法で解くことも試せ．\n",
    "\n",
    "### 解答"
   ]
  },
  {
   "cell_type": "markdown",
   "metadata": {},
   "source": [
    "## 2.6.9\n",
    "$g_1 = u_1 + \\sin u_2 = 0，g_2 = u_1\\cos u_2 + u_2 = 0$に対するヤコビ行列$\\partial g_1/\\partial u_j$を求めよ．  \n",
    "$J$が対称ならば，勾配を$g(u)$とする関数$P(u)$を求めよ．\n",
    "\n",
    "### 解答"
   ]
  },
  {
   "cell_type": "markdown",
   "metadata": {},
   "source": [
    "## 2.6.10\n",
    "最急降下法で$u^{k+1}$が$P(u^k - \\alpha g(u^k))$を最小化するとする．  \n",
    "$u^0 = (2,1)$として，問題9にこれを適用せよ．$(u_1^*,u_2^*)$における$\\lambda_{max}(J)$に基づく収束率は何か？\n",
    "\n",
    "### 解答"
   ]
  },
  {
   "cell_type": "markdown",
   "metadata": {},
   "source": [
    "## 2.6.11\n",
    "$u = 2u - 2u^2 = H(u)$の解たちは何か？  \n",
    "$u^0 = 1/4$から不動点反復$u^{k+1} = H(u^k)$を出発させると，極限$u^*$は何で，収束率$c = H'(u^*)$は何か？\n",
    "\n",
    "### 解答"
   ]
  },
  {
   "cell_type": "markdown",
   "metadata": {},
   "source": [
    "## 2.6.12\n",
    "$H(u) = au - au^2$に対して，$a > 3$のとき，次のようにして$u^{k+1} = H(u^k)$の振舞いを試せ．  \n",
    "a = 3.2に対して，偶数番の$u^{2k}$と奇数番の$u^{2k+1}$は異なる極限を持つ(周期2)  \n",
    "a = 3.46に対して，$u^{4k}，u^{4k+1}，u^{4k+2}，u^{4k+3}$から生ずる4個の極限がある  \n",
    "a = ...に対しては，8個の異なる極限がある  \n",
    "a = ... < 4に対しては，$u^k$はカオス的になる\n",
    "\n",
    "### 解答"
   ]
  },
  {
   "cell_type": "markdown",
   "metadata": {},
   "source": [
    "## 2.6.13\n",
    "マンデルブロ集合$M$とは，不動点反復$u^{k+1} = (u^k)^2 + c$ (u^0 = 0から始まる)が有界に留まる複素数全体である．  \n",
    "$M$のフラクタル境界は美しい．この境界に近く，$M$の内部にある100個の$c$をプロットせよ．\n",
    "\n",
    "### 解答"
   ]
  },
  {
   "cell_type": "markdown",
   "metadata": {},
   "source": [
    "## 2.6.14\n",
    "$f' = \\partial f / \\partial u$ならば，分割ステップ(15)におけるヤコビ行列は\n",
    "\n",
    "$$\n",
    "J_{TR} = I - c \\Delta tf'/2，J_{BDF} = I - (1-c)\\Delta tf'/A\n",
    "$$\n",
    "\n",
    "である．$c = 2 - \\sqrt{2}$($c$の最適値)のとき$J_{TR} = J_{BDF}$であることを示せ．\n",
    "\n",
    "### 解答"
   ]
  },
  {
   "cell_type": "markdown",
   "metadata": {},
   "source": [
    "## 2.6.15\n",
    "$u' = au$に対して，$a\\Delta t = z$とおいて，分割ステップ法(15)における$U_{n+c}$と$U_{n+1}$を求めよ．  \n",
    "$U_{n+1} = GU_n$における増大度因子は (zの1次項) / (zの2次項)である．  \n",
    "難問：局所誤差$e^z - G(z)$における$z^3$の係数は何か？$c = 2 - \\sqrt{2}$がこの係数を最小にすることを証明できるか？\n",
    "\n",
    "### 解答"
   ]
  },
  {
   "cell_type": "code",
   "execution_count": null,
   "metadata": {
    "collapsed": true
   },
   "outputs": [],
   "source": []
  }
 ],
 "metadata": {
  "kernelspec": {
   "display_name": "Python 3",
   "language": "python",
   "name": "python3"
  },
  "language_info": {
   "codemirror_mode": {
    "name": "ipython",
    "version": 3
   },
   "file_extension": ".py",
   "mimetype": "text/x-python",
   "name": "python",
   "nbconvert_exporter": "python",
   "pygments_lexer": "ipython3",
   "version": "3.6.2"
  }
 },
 "nbformat": 4,
 "nbformat_minor": 2
}
