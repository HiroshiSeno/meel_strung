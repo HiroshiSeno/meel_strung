{
 "cells": [
  {
   "cell_type": "code",
   "execution_count": 1,
   "metadata": {},
   "outputs": [
    {
     "ename": "ModuleNotFoundError",
     "evalue": "No module named 'sympy'",
     "output_type": "error",
     "traceback": [
      "\u001b[0;31m---------------------------------------------------------------------------\u001b[0m",
      "\u001b[0;31mModuleNotFoundError\u001b[0m                       Traceback (most recent call last)",
      "\u001b[0;32m<ipython-input-1-e7e4c643f261>\u001b[0m in \u001b[0;36m<module>\u001b[0;34m()\u001b[0m\n\u001b[1;32m      3\u001b[0m \u001b[0;32mimport\u001b[0m \u001b[0mscipy\u001b[0m\u001b[0;34m.\u001b[0m\u001b[0msparse\u001b[0m \u001b[0;32mas\u001b[0m \u001b[0msp\u001b[0m\u001b[0;34m\u001b[0m\u001b[0m\n\u001b[1;32m      4\u001b[0m \u001b[0;32mfrom\u001b[0m \u001b[0mscipy\u001b[0m\u001b[0;34m.\u001b[0m\u001b[0mlinalg\u001b[0m \u001b[0;32mimport\u001b[0m \u001b[0mtoeplitz\u001b[0m\u001b[0;34m\u001b[0m\u001b[0m\n\u001b[0;32m----> 5\u001b[0;31m \u001b[0;32mfrom\u001b[0m \u001b[0msympy\u001b[0m \u001b[0;32mimport\u001b[0m \u001b[0;34m*\u001b[0m\u001b[0;34m\u001b[0m\u001b[0m\n\u001b[0m\u001b[1;32m      6\u001b[0m \u001b[0;32mfrom\u001b[0m \u001b[0mscipy\u001b[0m \u001b[0;32mimport\u001b[0m \u001b[0mintegrate\u001b[0m\u001b[0;34m\u001b[0m\u001b[0m\n\u001b[1;32m      7\u001b[0m \u001b[0;32mimport\u001b[0m \u001b[0mmath\u001b[0m\u001b[0;34m\u001b[0m\u001b[0m\n",
      "\u001b[0;31mModuleNotFoundError\u001b[0m: No module named 'sympy'"
     ]
    }
   ],
   "source": [
    "import numpy as np\n",
    "import scipy \n",
    "import scipy.sparse as sp\n",
    "from scipy.linalg import toeplitz\n",
    "from sympy import *\n",
    "from scipy import integrate\n",
    "import math\n",
    "from matplotlib import pyplot as plt\n",
    "from scipy import signal, interpolate\n",
    "import scipy.linalg as linalg\n",
    "import scipy.sparse as sp\n",
    "import scipy.sparse.linalg as spla\n",
    "%pylab inline --no-import-all"
   ]
  },
  {
   "cell_type": "code",
   "execution_count": 4,
   "metadata": {
    "collapsed": true
   },
   "outputs": [],
   "source": [
    "import numpy as np\n",
    "import scipy \n",
    "import scipy.sparse as sp\n",
    "from scipy.linalg import toeplitz\n",
    "from scipy import integrate\n",
    "import math\n",
    "from scipy import signal, interpolate\n",
    "import scipy.linalg as linalg\n",
    "import scipy.sparse as sp\n",
    "import scipy.sparse.linalg as spla"
   ]
  },
  {
   "cell_type": "code",
   "execution_count": 5,
   "metadata": {
    "collapsed": true
   },
   "outputs": [],
   "source": [
    "n=4\n",
    "K_n  =toeplitz([2, -1]+[0]*(n-2))\n",
    "T_n = toeplitz([2, -1]+[0]*(n-2))\n",
    "T_n[0,0]=1\n",
    "B_n = toeplitz([2, -1]+[0]*(n-2))\n",
    "B_n[0,0]=1\n",
    "B_n[n-1,n-1,]=1\n",
    "C_n = toeplitz([2, -1]+[0]*(n-2))\n",
    "C_n[0,n-1]=1\n",
    "C_n[n-1,0,]=1"
   ]
  },
  {
   "cell_type": "markdown",
   "metadata": {},
   "source": [
    "## 問題1-5-1\n",
    "例１の２×２行列$K_2$は、$Λ$中の数値１と３を固有値としてもつ。この行列の単位ベクトル$q_1$と$q_2$はQの列ベクトルである。$QΛQ^T$を計算して$K_2$を復元せよ"
   ]
  },
  {
   "cell_type": "code",
   "execution_count": null,
   "metadata": {
    "collapsed": true
   },
   "outputs": [],
   "source": [
    "#1.5-1\n",
    "\n",
    "n=2\n",
    "K_n  =toeplitz([2, -1]+[0]*(n-2))\n",
    "l,Q = np.linalg.eig(K_n)\n",
    "L = np.eye(2)*l\n",
    "Qt = np.transpose(Q)\n",
    "K2 = (np.dot(np.dot(Q,L),Qt))\n",
    "\n",
    "print('K='+ str(K_n) )\n",
    "print ('L='+ str(L))\n",
    "print('Q='+ str(Q))\n",
    "print('Qt='+ str(Qt))\n",
    "print('K2='+ str(K2))"
   ]
  },
  {
   "cell_type": "markdown",
   "metadata": {},
   "source": [
    "## 問題1-5-2\n",
    "\n",
    "固有ベクトル$y = (sinπh,sin2πh,,,,)$にKをかけると、その第１行は$sinπh$の定数倍となる。$sin2πh$に対して２倍角の公式を適用することにより、  \n",
    "その定数$λ$を求めよ\n",
    "\n",
    "### 解答\n",
    "$2sinπh - 1sin2πh = λsinπh$  \n",
    "$2sinπh - 2sinπhcosπh = λsinπh$  \n",
    "$2(1 - cosπh)sinπh = λsinπh$  \n",
    "$λ = 2 - 2cosπh$  "
   ]
  },
  {
   "cell_type": "markdown",
   "metadata": {},
   "source": [
    "## 問題1-5-3\n",
    "MATLABで$K=K_5$を生成し、その固有値を求めよ。  \n",
    "結果は$(2-\\sqrt{3},2-1,2-0,2+1,2+\\sqrt{3})$となるはずである。  \n",
    "$eが2*ones(5,1)-2cos([1:5]*pi/6)'$と一致することを示せ。\n",
    "\n"
   ]
  },
  {
   "cell_type": "code",
   "execution_count": 5,
   "metadata": {},
   "outputs": [
    {
     "name": "stdout",
     "output_type": "stream",
     "text": [
      "[ 3.73205081  3.          2.          0.26794919  1.        ]\n",
      "[[ 0.26794919  1.          2.          3.          3.73205081]]\n"
     ]
    }
   ],
   "source": [
    "#1.5-3\n",
    "#行列Kに関する固有値の問題\n",
    "\n",
    "K5= toeplitz([2,-1,0,0,0], [0,-1,0,0,0])\n",
    "l,Q = np.linalg.eig(K5)\n",
    "a  = (np.ones((1,5)))\n",
    "b = np.array([1,2,3,4,5])\n",
    "c  = np.cos((np.pi/6)*b)\n",
    "e = 2*a - 2*c\n",
    "print(l)\n",
    "print(e)"
   ]
  },
  {
   "cell_type": "markdown",
   "metadata": {},
   "source": [
    "## 問題1-5-4\n",
    "\n",
    "3の続きで[Q,E] = eig(K)により固有ベクトル行列Qを求めよ。離散正弦変換をDST = Q*diaf([-1 -1 1 -1 1])と定義するとその各列は性の要素から始まる。  \n",
    "一方、行列JK = [1:5]'＊[1:5]はjかけるkを要素にもつ.DSTがsin(JK＊pi/6)/sqrt(3)と一致することを確認せよ\n",
    "\n",
    "$K$での固有関数は$y(x)=sinkπx$  \n",
    "$Q_{i,j} = sin\\frac{k}{n+1}π$"
   ]
  },
  {
   "cell_type": "code",
   "execution_count": 6,
   "metadata": {},
   "outputs": [
    {
     "name": "stdout",
     "output_type": "stream",
     "text": [
      "[[  2.88675135e-01   5.00000000e-01   5.77350269e-01   2.88675135e-01\n",
      "    5.00000000e-01]\n",
      " [ -5.00000000e-01  -5.00000000e-01  -1.22011980e-16   5.00000000e-01\n",
      "    5.00000000e-01]\n",
      " [  5.77350269e-01   6.39000977e-16  -5.77350269e-01   5.77350269e-01\n",
      "    3.68521763e-16]\n",
      " [ -5.00000000e-01   5.00000000e-01   2.09033864e-16   5.00000000e-01\n",
      "   -5.00000000e-01]\n",
      " [  2.88675135e-01  -5.00000000e-01   5.77350269e-01   2.88675135e-01\n",
      "   -5.00000000e-01]]\n",
      "[[  2.88675135e-01   5.00000000e-01   5.77350269e-01   5.00000000e-01\n",
      "    2.88675135e-01]\n",
      " [  5.00000000e-01   5.00000000e-01   7.07050159e-17  -5.00000000e-01\n",
      "   -5.00000000e-01]\n",
      " [  5.77350269e-01   7.07050159e-17  -5.77350269e-01  -1.41410032e-16\n",
      "    5.77350269e-01]\n",
      " [  5.00000000e-01  -5.00000000e-01  -1.41410032e-16   5.00000000e-01\n",
      "   -5.00000000e-01]\n",
      " [  2.88675135e-01  -5.00000000e-01   5.77350269e-01  -5.00000000e-01\n",
      "    2.88675135e-01]]\n",
      "[[  1.00000000e+00   2.77555756e-16   2.95283184e-16   1.94289029e-16\n",
      "    3.33066907e-16]\n",
      " [  2.77555756e-16   1.00000000e+00   1.28749730e-16  -3.05311332e-16\n",
      "    1.11022302e-16]\n",
      " [  2.95283184e-16   1.28749730e-16   1.00000000e+00  -5.17327789e-16\n",
      "    3.43095055e-16]\n",
      " [  1.94289029e-16  -3.05311332e-16  -5.17327789e-16   1.00000000e+00\n",
      "   -8.32667268e-17]\n",
      " [  3.33066907e-16   1.11022302e-16   3.43095055e-16  -8.32667268e-17\n",
      "    1.00000000e+00]]\n",
      "[[  1.00000000e+00  -8.32667268e-17   2.77555756e-17   2.77555756e-16\n",
      "    9.71445147e-17]\n",
      " [ -8.32667268e-17   1.00000000e+00   0.00000000e+00  -1.66533454e-16\n",
      "   -1.11022302e-16]\n",
      " [  2.77555756e-17   0.00000000e+00   1.00000000e+00   2.77555756e-16\n",
      "   -2.22044605e-16]\n",
      " [  2.77555756e-16  -1.66533454e-16   2.77555756e-16   1.00000000e+00\n",
      "    6.10622664e-16]\n",
      " [  9.71445147e-17  -1.11022302e-16  -2.22044605e-16   6.10622664e-16\n",
      "    1.00000000e+00]]\n"
     ]
    }
   ],
   "source": [
    "#1/5-4\n",
    "l,Q = np.linalg.eig(K5)\n",
    "d = np.diag([1,1,1,1,-1])\n",
    "DST = np.dot(Q,d)\n",
    "DSTt = np.transpose(DST)\n",
    "print(DST)\n",
    "a = np.dot(np.diag([1,2,3,4,5]),np.ones((5,1)))\n",
    "b = np.array([1,2,3,4,5])\n",
    "JK=a*b\n",
    "DST2 = np.sin(JK*(np.pi/6))/np.sqrt(3)\n",
    "print(DST2)\n",
    "print(np.dot(DST,DST.T))\n",
    "print(np.dot(DST2,DST2.T))\n"
   ]
  },
  {
   "cell_type": "markdown",
   "metadata": {},
   "source": [
    "## 問題1-5-5\n",
    "$B = B_6$として[Q,E]=eig(B)を求めよ。ただし、B(1,1)=1,B(6,6)=1である。固有値を並べたベクトルeを２*ones(1,6)-2*cos([0:5]*pi/6)により定義し  \n",
    "E = diag(e)であることを確かめよ。  \n",
    "DCT = cos([.5:5.5]'*[0:5]*pi/6)/sqrt(3)を要素とする（極めて重要な）離散余弦変換を生成するにはQをどのようにすれば良いか？\n",
    "\n",
    "$K$での固有関数は$y(x)=coskπx$  \n",
    "$Q_{i,j} = cos(n+\\frac{1}{2})\\frac{k}{n}π$"
   ]
  },
  {
   "cell_type": "code",
   "execution_count": null,
   "metadata": {
    "collapsed": true
   },
   "outputs": [],
   "source": [
    "n=6\n",
    "B_n = toeplitz([2, -1]+[0]*(n-2))\n",
    "B_n[0,0]=1\n",
    "B_n[n-1,n-1,]=1\n",
    "l3,Q3 = np.linalg.eig(B_n)\n",
    "L = np.eye(6)*l3\n",
    "\n",
    "a  = (np.ones((1,6)))\n",
    "b = np.array([0,1,2,3,4,5])\n",
    "c  = np.cos((np.pi/6)*b)\n",
    "e = 2*a - 2*c\n",
    "\n",
    "a2 = np.dot(np.diag([0.5,1.5,2.5,3.5,4.5,5.5]),np.ones((6,1)))\n",
    "b2 = np.array(([0,1,2,3,4,5]))\n",
    "c2=a2*b2\n",
    "DST2 = np.cos(c2*(np.pi/6))/np.sqrt(3)\n",
    "\n",
    "print(l3)\n",
    "print(e)\n"
   ]
  },
  {
   "cell_type": "markdown",
   "metadata": {},
   "source": [
    "## 問題1-5-6\n",
    "\n",
    "自由端-固定端の行列$T = T_6$は左上隅の要素が$T(1,1)=1$である。その固有値は$2-2cos[(k-\\frac{1}{2}π)/π/6.5]$であることを確かめよ.  \n",
    "行列cos([.5:5.:]'*[.5:5.5]*pi/6.5)/sqrt(3.25)はTの単位固有ベクトルを列ベクトルとしてもつはずである。  \n",
    "Q'*QおよびQ'TQを計算してみよ\n",
    "\n",
    "\n",
    "$T$での固有関数は$y(x)=cos(k+\\frac{1}{2})πx$  \n",
    "$Q_{i,j} = cos(n+\\frac{1}{2})\\frac{k}{(n+\\frac{1}{2})}π$"
   ]
  },
  {
   "cell_type": "code",
   "execution_count": null,
   "metadata": {
    "collapsed": true
   },
   "outputs": [],
   "source": [
    "#1-5-6\n",
    "n=6\n",
    "T_n = toeplitz([2, -1]+[0]*(n-2))\n",
    "T_n[0,0]=1\n",
    "l,Q = np.linalg.eig(T_n)\n",
    "print(l)\n",
    "a  = (np.ones((1,6)))\n",
    "b = np.array([0.5,1.5,2.5,3.5,4.5,5.5])\n",
    "c  = np.cos((np.pi/6.5)*b)\n",
    "e = 2*a - 2*c\n",
    "print(e)\n",
    "\n",
    "a2 = np.dot(np.diag([0.5,1.5,2.5,3.5,4.5,5.5]),np.ones((6,1)))\n",
    "b2 = np.array(([0.5,1.5,2.5,3.5,4.5,5.5]))\n",
    "c2=a2*b2\n",
    "QT = np.cos(c2*(np.pi/6.5))/np.sqrt(3.25)\n",
    "print(np.dot(QT,QT.T))\n",
    "print(np.dot(np.dot(QT,T_n),QT))"
   ]
  },
  {
   "cell_type": "markdown",
   "metadata": {},
   "source": [
    "## 問題 1-5-7\n",
    "\n",
    "フーリエ行列$F_4$の列ベクトルは巡回行列$C=C_4$の固有ベクトルである。しかし、[Q,E]=eig(C)としても$Q=F_4$は得られない。Qの列のどのような線形結合を作れば、$F_4$の列が得られるか？  \n",
    "Eの中に重複固有値があることに注意すること\n",
    "\n",
    "この行列は実数の直行する固有ベクトル（離散正弦及び離散余弦）\n",
    "なので\n",
    "固有ベクトルとして複素指数関数を用いる。"
   ]
  },
  {
   "cell_type": "code",
   "execution_count": 10,
   "metadata": {},
   "outputs": [
    {
     "name": "stdout",
     "output_type": "stream",
     "text": [
      "[[ 2 -1  0 -1]\n",
      " [-1  2 -1  0]\n",
      " [ 0 -1  2 -1]\n",
      " [-1  0 -1  2]]\n",
      "[ -2.22044605e-16   2.00000000e+00   4.00000000e+00   2.00000000e+00]\n",
      "[[  5.00000000e-01   7.07106781e-01  -5.00000000e-01   2.77555756e-17]\n",
      " [  5.00000000e-01  -2.02962647e-16   5.00000000e-01  -7.07106781e-01]\n",
      " [  5.00000000e-01  -7.07106781e-01  -5.00000000e-01   2.86262916e-16]\n",
      " [  5.00000000e-01   1.02348685e-16   5.00000000e-01   7.07106781e-01]]\n"
     ]
    }
   ],
   "source": [
    "n=4\n",
    "C_n = toeplitz([2, -1]+[0]*(n-2))\n",
    "C_n[0,n-1]=-1\n",
    "C_n[n-1,0,]=-1\n",
    "l,Q = np.linalg.eig(C_n)\n",
    "print(C_n)\n",
    "print(l)\n",
    "print(Q)"
   ]
  },
  {
   "cell_type": "markdown",
   "metadata": {},
   "source": [
    "## 問題1-5-8\n",
    "\n",
    "$K_n$n個の固有値$2-2cos\\frac{kπ}{n+1}$を加えるとトレース2+2.....+2になることを示せ\n",
    "### 解答\n",
    "$K_n$のn個の固有値は$2-2cos\\frac{kπ}{n+1}(k = 1,2,...,n+1)$となる。  \n",
    "よって固有値の和は$\\sum_{k=1}^{n}2-2cos(\\frac{kπ}{n+1})$となる。  \n",
    "$cos(\\frac{jπ}{n+1})=-cos(\\frac{jπ}{n+1}-\\frac{π}{2})$  \n",
    "$cos(\\frac{jπ}{n+1})=-cos(\\frac{(j+\\frac{n+1}{2})π}{n+1})$  \n",
    "よって$\\sum_{k=1}^{n}-2cos(\\frac{kπ}{n+1})=0$となることより  \n",
    "$\\sum_{k=1}^{n}2-2cos(\\frac{kπ}{n+1})=\\sum_{k=1}^{n}2=2n$となる\n"
   ]
  },
  {
   "cell_type": "markdown",
   "metadata": {},
   "source": [
    "## 問題1-5-9\n",
    "\n",
    "$K_3$と$B_4$は両方とも4×3の交代差分行列$Δ$から生成されるので、同じ非ゼロ固有値をもつ  \n",
    "$K_3＝Δ^TΔ$及び$B_4=ΔΔ^T$を示せ。  \n",
    "$K_3$の固有値は$Δ$の特異値の２乗である"
   ]
  },
  {
   "cell_type": "code",
   "execution_count": null,
   "metadata": {
    "collapsed": true
   },
   "outputs": [],
   "source": [
    "#交代差分行列\n",
    "n=15\n",
    "a=np.ones([1,n])\n",
    "Db= sp.spdiags(np.r_[-a, a], [-1,0],4,3).toarray()\n",
    "Db\n",
    "\n",
    "K3 = np.dot(Db.T,Db)\n",
    "B4 = np.dot(Db,Db.T)\n",
    "print(Db)\n",
    "print(K3)\n",
    "print(B4)\n"
   ]
  },
  {
   "cell_type": "markdown",
   "metadata": {},
   "source": [
    "## 問題1-5-10\n",
    "\n",
    "次の２つの行列を$A = SΛS^{-1}$と分解せよ。また$A ^2= SΛ^2S^{-1}$が成り立つことを示せ。\n",
    "\n",
    "$A = \\begin{bmatrix}\n",
    "1 & 2 \\\\\n",
    "0 & 3 \n",
    "\\end{bmatrix}$\n",
    "$A = \\begin{bmatrix}\n",
    "1 & 1 \\\\\n",
    "2 & 2 \n",
    "\\end{bmatrix}$"
   ]
  },
  {
   "cell_type": "code",
   "execution_count": null,
   "metadata": {
    "collapsed": true
   },
   "outputs": [],
   "source": [
    "#1-5-10\n",
    "A1 = np.array([[1,2],[0,3]])\n",
    "A2 = np.array([[1,1],[2,2]])\n",
    "l1, S1 = np.linalg.eig(A1)\n",
    "inv_S1 = np.linalg.inv(S1)\n",
    "L1 =np.eye(2)*l1\n",
    "print(np.dot(np.dot(S1,L1),inv_S1))\n",
    "AA1 = np.dot(A1,A1)\n",
    "print(AA1)\n",
    "print(np.dot(np.dot(S1,L1),np.dot(L1,inv_S1)))\n",
    "\n",
    "\n",
    "l2, S2 = np.linalg.eig(A2)\n",
    "inv_S2 = np.linalg.inv(S2)\n",
    "L2 =np.eye(2)*l2\n",
    "print(np.dot(np.dot(S2,L2),inv_S2))\n",
    "AA2 = np.dot(A2,A2)\n",
    "print(AA2)\n",
    "print(np.dot(np.dot(S2,L2),np.dot(L2,inv_S2)))\n"
   ]
  },
  {
   "cell_type": "markdown",
   "metadata": {},
   "source": [
    "## 問題1-5-11\n",
    "\n",
    "もし$A = SΛS^{-1}$ならば$A^{-1}=()$でる。$A^3$の固有ベクトルは次のうちどちらか？  \n",
    "同じSの列ベクトル or 異なるベクトル\n",
    "\n",
    "### 解答\n",
    "$A = SLS^{-1}$とすると$A^{-1} = SL^{-1}S^{-1}$  \n",
    "$A^3 = SL^3S^{-1}$となるので$A^3$の固有ベクトルは$S$の列ベクトルである"
   ]
  },
  {
   "cell_type": "markdown",
   "metadata": {},
   "source": [
    "## 問題1-5-12\n",
    "\n",
    "Aが固有値$λ_1=2$と対応する固有ベクトル$x_1 = \\begin{bmatrix}1\\\\0 \\end{bmatrix}$,及び$λ_2=5$と対応する　固有ベクトル$x_1 = \\begin{bmatrix}1\\\\1 \\end{bmatrix}$を持つとする。  \n",
    "$SΛS^{-1}$を用いてAを求めよ。この同じ$λ$とxの組を持つ行列は他に存在しない。"
   ]
  },
  {
   "cell_type": "code",
   "execution_count": null,
   "metadata": {
    "collapsed": true
   },
   "outputs": [],
   "source": [
    "#1-5-12\n",
    "x1 = np.array([1,0])\n",
    "x2 = np.array([1,1])\n",
    "L = np.array([[2,0],[0,5]])\n",
    "S = np.array([x1,x2])\n",
    "inv_S = np.linalg.inv(S)\n",
    "A = (np.dot(np.dot(S,L),inv_S))\n",
    "print(L)\n",
    "print(S)\n",
    "print(inv_S)\n",
    "print(A)"
   ]
  },
  {
   "cell_type": "markdown",
   "metadata": {},
   "source": [
    "## 問題1-5-13\n",
    "\n",
    "$A=SΛS^{-1}$とする。$A+2I$の固有値行列は何か？また固有ベクトル行列は何か？  \n",
    "$A+2I=(　)(　)(　)^{-1}$であることを確かめよ。\n",
    "\n",
    "### 解答\n",
    "固有値の計算は$det(A-λI)=0$を満たす$λ$である.  \n",
    "よって$det(A+2I-λI_1)=0,(A-(λ_1-2)I)=0$を満たす$λ_1$は$λ+2$となる  \n",
    "なので固有ベクトルは同じになる。  \n",
    "そして$A+2I=S(Λ+2)S^{-1}$となる"
   ]
  },
  {
   "cell_type": "code",
   "execution_count": null,
   "metadata": {
    "collapsed": true
   },
   "outputs": [],
   "source": [
    "#1-5-13\n",
    "A = np.array([[1,1],[2,2]])\n",
    "A2 = A + 2*np.eye(2)\n",
    "l2, S2 = np.linalg.eig(A2)\n",
    "l2 = l2*np.eye(2)\n",
    "inv_S2 = np.linalg.inv(S2)\n",
    "print(A)\n",
    "print(l2)\n",
    "print(S2)\n",
    "print(inv_S2)\n",
    "A3 = (np.dot(np.dot(S2,l2),inv_S2))\n",
    "A3"
   ]
  },
  {
   "cell_type": "markdown",
   "metadata": {},
   "source": [
    "## 問題1-5-14\n",
    "\n",
    "もしSの列ベクトル（すなわちAのn本の固有ベクトル）が線形独立ならば  \n",
    "(a)Aは可逆 (b)Aは対角化可能　（c）Sは可逆\n",
    "\n",
    "### 解答\n",
    "Sの列ベクトルが線形独立であるならばAはn個のの異なる固有値をもつ"
   ]
  },
  {
   "cell_type": "markdown",
   "metadata": {},
   "source": [
    "## 問題1-5-15\n",
    "\n",
    "行列$A=\\begin{bmatrix}3 & 1 \\\\0 & 3 \\end{bmatrix}$は対角化可能でない。A-3Iの階数が＿だからである。  \n",
    "Aは１本の固有ベクトルしか持たない。Aが２本の固有ベクトルをもち対角化可能であるようにするためにはAのどの要素を変えればよいのか？\n",
    "\n",
    "### 解答\n",
    "＿＝１\n",
    "対角化できる条件としてはn個の異なる固有値を持つことがあるのでAの対角要素を変えれば固有値を二つもとことが可能になる"
   ]
  },
  {
   "cell_type": "code",
   "execution_count": null,
   "metadata": {
    "collapsed": true
   },
   "outputs": [],
   "source": [
    "#1-4-15\n",
    "#対角化できる条件としてはn個の異なる固有値を持つこと\n",
    "\n",
    "A14 = np.array([[3,1],[0,3]])\n",
    "l14, S14 = np.linalg.eig(A14)\n",
    "print(l14)\n",
    "A14_2 = np.array([[3,1],[0,4]])\n",
    "l14_2, S14_2 = np.linalg.eig(A14_2)\n",
    "print(l14_2)"
   ]
  },
  {
   "cell_type": "markdown",
   "metadata": {},
   "source": [
    "## 問題1-5-16\n",
    "$k→∞$の時、$A^k=SΛS^{-1}$がゼロ行列に近づくのは、全ての$λ$の絶対値が＿よろ小さい場合であり、そも場合に限る。次の行列のうち$A^k→０$となるのはどれか？  \n",
    "$A_1=\\begin{bmatrix}0.6 & 0.4 \\\\0.4 & 0.6 \\end{bmatrix}$  \n",
    "$A_2=\\begin{bmatrix}0.6 & 0.9 \\\\0.1 & 0.6 \\end{bmatrix}$  \n",
    "$A_3=K_3$\n",
    "\n",
    "### 解答\n",
    "ある任意の行列Aに置いて対角化が可能な場合その全ての固有値の絶対値が１より小さいならばAのn乗は０に近く\n"
   ]
  },
  {
   "cell_type": "code",
   "execution_count": null,
   "metadata": {
    "collapsed": true
   },
   "outputs": [],
   "source": [
    "#1-5-16\n",
    "A161 = np.array([[0.6,0.4],[0.4,0.6]])\n",
    "A162 = np.array([[0.6,0.9],[0.1,0.6]])\n",
    "n=3\n",
    "K_n  =toeplitz([2, -1]+[0]*(n-2))\n",
    "A163=K_n\n",
    "l161, S161 = np.linalg.eig(A161)\n",
    "l162, S162 = np.linalg.eig(A162)\n",
    "l163, S163 = np.linalg.eig(A163)\n",
    "print(l161)\n",
    "print(l162)\n",
    "print(l163)\n",
    "\n"
   ]
  },
  {
   "cell_type": "markdown",
   "metadata": {},
   "source": [
    "## 問題1-5-17\n",
    "\n",
    "問題１６の$A_1$を対角化する$Λ$と$S$を求めよ。以下の$u_0$に対し $A^{10}u_0$はどうなるか？  \n",
    "$u_0=\\begin{bmatrix}1 \\\\ 1 \\end{bmatrix}$\n",
    "$u_0=\\begin{bmatrix}1 \\\\ -1 \\end{bmatrix}$\n",
    "$u_0=\\begin{bmatrix}2 \\\\ 0 \\end{bmatrix}$\n"
   ]
  },
  {
   "cell_type": "code",
   "execution_count": null,
   "metadata": {
    "collapsed": true
   },
   "outputs": [],
   "source": [
    "#1-5-17\n",
    "A161 = np.array([[0.6,0.4],[0.4,0.6]])\n",
    "l161, S161 = np.linalg.eig(A161)\n",
    "l161 = l161*np.eye(2)\n",
    "inv_S161 = np.linalg.inv(S161)\n",
    "print(l161)\n",
    "print(S161)\n",
    "A17 = np.dot(np.dot(S161,np.power(l161,10)),inv_S161)\n",
    "print(A17)\n",
    "\n",
    "u1 = np.array([1,1])\n",
    "u2 = np.array([1,-1])\n",
    "u3 = np.array([2,0])\n",
    "\n",
    "print(np.dot(A17,u1))\n",
    "print(np.dot(A17,u2))\n",
    "print(np.dot(A17,u3))"
   ]
  },
  {
   "cell_type": "markdown",
   "metadata": {},
   "source": [
    "## 問題1-5-18\n",
    "\n",
    "Aを対角化して$A^k=SΛS^{-1}$を計算することにより$A^k$に対応する次の公式を示せ。  \n",
    "$A=\\begin{bmatrix}2 & 1 \\\\1 & 2 \\end{bmatrix}$\n",
    "$A^k=\\frac{1}{2}\\begin{bmatrix}3^k+1 &3^k-1  \\\\3^k-1 & 3^k+1 \\end{bmatrix}$"
   ]
  },
  {
   "cell_type": "code",
   "execution_count": null,
   "metadata": {
    "collapsed": true
   },
   "outputs": [],
   "source": [
    "#1-5-18\n",
    "\n",
    "A18 = np.array([[2,1],[1,2]])\n",
    "l18, S18 = np.linalg.eig(A18)\n",
    "l18 = l18*np.eye(2)\n",
    "inv_S18 = np.linalg.inv(S18)\n",
    "\n",
    "print(l18)\n",
    "print(S18)\n",
    "\n",
    "\n",
    "print(np.dot(np.dot(S18,np.power(l18,2)),inv_S18))\n",
    "print(np.dot(np.dot(S18,np.power(l18,3)),inv_S18))\n",
    "print(np.dot(np.dot(S18,np.power(l18,4)),inv_S18))\n",
    "print(np.dot(np.dot(S18,np.power(l18,5)),inv_S18))\n"
   ]
  },
  {
   "cell_type": "markdown",
   "metadata": {},
   "source": [
    "## 問題 1-5-19\n",
    "\n",
    "Aを対角化して$A^k=SΛS^{-1}$を計算することにより$B^k$が$3^k$と$2^k$を用いてる技のようにかけることを示せ\n",
    "\n",
    "$B=\\begin{bmatrix}3& 1 \\\\0 & 2 \\end{bmatrix}$\n",
    "$B^k=\\frac{1}{2}\\begin{bmatrix}3^k &3^k-2^k  \\\\0 & 2^k\\end{bmatrix}$"
   ]
  },
  {
   "cell_type": "code",
   "execution_count": null,
   "metadata": {
    "collapsed": true
   },
   "outputs": [],
   "source": [
    "#1-5-19\n",
    "\n",
    "A19 = np.array([[3,1],[0,2]])\n",
    "l19, S19 = np.linalg.eig(A19)\n",
    "l19 = l19*np.eye(2)\n",
    "inv_S19 = np.linalg.inv(S19)\n",
    "print(np.dot(np.dot(S19,np.power(l19,2)),inv_S19))\n",
    "print(np.dot(np.dot(S19,np.power(l19,3)),inv_S19))\n",
    "print(np.dot(np.dot(S19,np.power(l19,4)),inv_S19))\n",
    "print(np.dot(np.dot(S19,np.power(l19,5)),inv_S19))"
   ]
  },
  {
   "cell_type": "markdown",
   "metadata": {},
   "source": [
    "## 問題　1-5-20\n",
    "$A=SΛS^{-1}$とする$A=SΛS^{-1}$.両方の行列式を取ることによりdetA = $λ_1λ_2,,,λ_n$となることを示せ。この簡単な証明はAが＿の場合のみ適用できる。\n",
    "\n",
    "### 解答\n",
    "行列Aが対角行列の時、Aの行列式は固有値の積となる"
   ]
  },
  {
   "cell_type": "markdown",
   "metadata": {},
   "source": [
    "## 問題 1-5-21\n",
    "\n",
    "GHとHGの対角要素をそれぞれ足し合わせることにより、traceGH = traceHGを示せ。  \n",
    "$G=\\begin{bmatrix}a& b \\\\c & d \\end{bmatrix}$\n",
    "$H=\\begin{bmatrix}e& f \\\\g & h \\end{bmatrix}$  \n",
    "G=S,H=$ΛS_{-1}$を選ぶと$SΛS^{-1}=A$は$ΛS^{-1}S=A$と同じトレースを持つことになる。  \n",
    "したがってトレースは固有との和である。\n",
    "\n",
    "### 解答\n",
    "$GH=\\begin{bmatrix}ae+bg&af+bh \\\\ce+dg & cf+dh \\end{bmatrix}$\n",
    "$HG=\\begin{bmatrix}ae+cf&be+df \\\\ag+ch & bg+dh \\end{bmatrix}$  \n",
    "$traceGH = traceHG = ae+bg+cf+dh$  \n"
   ]
  },
  {
   "cell_type": "markdown",
   "metadata": {},
   "source": [
    "## 問題 1-5-22\n",
    "\n",
    "$A = SΛS^{-1}$を積$(A-λ_1I)(A-λ_2I),,,,(A-λ_nI)$に代入し$(Λ-λ_1)(Λ-λ_2),,,,(Λ-λ_n)$がゼロ行列となることを示せ。  \n",
    "これは多項式$p(λ)=det(A-λI)$のλにAを代入したと見ることができる。\n",
    "このケーリーハミルトンの定理は$p（A）$がゼロ行列となることを言っている。\n",
    "\n",
    "### 解答\n",
    "Aがある固有値λをもつ時A-Iの固有値はλ-1となる。\n",
    "$(A-λ_1I)(A-λ_2I),,,,(A-λ_nI)=S(Λ-λ_1)S^{-1}S(Λ-λ_2)S^{-1}......S(Λ-λ_n)S^{-1}$となる。  \n",
    "$(A-λ_iI)$ではi列目の要素がゼロになる。  \n",
    "このことから$(Λ-λ_1)(Λ-λ_2),,,,(Λ-λ_n)$がゼロ行列となる\n"
   ]
  },
  {
   "cell_type": "markdown",
   "metadata": {},
   "source": [
    "## 問題1-5-23\n",
    "$u = e^{λt}x$が次の方程式の解となるような$λ$と$x$を定めよ  \n",
    "$\\frac{du}{dt}=\\begin{bmatrix}4& 3 \\\\0 & 1 \\end{bmatrix}u$  \n",
    "線形結合$u=e_1^{λ_1t}x_1+e_2^{λ_2t}x_2$をどのように作ればu(0)=(5,-2)から出発する解が作れるか？\n",
    "\n",
    "### 解答\n",
    "固有値が１と４なので連立方程式の解は $u(t) = C_1e^t + C_2e^{4t}$  \n",
    "$u(0)=(5,-2)$の初期条件を用いてCとDを求めると$C=-2,D=5$  \n",
    "よって$u(t) = -2e^t + 5e^{4t}$"
   ]
  },
  {
   "cell_type": "code",
   "execution_count": null,
   "metadata": {
    "collapsed": true
   },
   "outputs": [],
   "source": [
    "#1-5-23\n",
    "A23 = np.array([[4,3],[0,1]])\n",
    "l23, S23 = np.linalg.eig(A23)\n",
    "print(l23)\n",
    "B23 = np.array([[0,1],[1,0]])\n",
    "inv_B = np.linalg.inv(B23)\n",
    "C = np.dot(inv_B,np.array([5,-2]))\n",
    "print(C)\n"
   ]
  },
  {
   "cell_type": "markdown",
   "metadata": {},
   "source": [
    "## 問題 1-5-24\n",
    "\n",
    "スカラーの方程式$y''=5y'+4y$をベクトルの方程式$u = (y,y')$に書き直した時の$A$を求めよ。  \n",
    "Aの固有値は何か？$y=e^{λt}$を$y''=5y'+4y$に代入して$λ_１$と$λ_２$を決める方法も試してみよ。\n",
    "$\\frac{du}{dt}=\\begin{bmatrix}y'\\\\y'' \\end{bmatrix}=[]\\begin{bmatrix}y \\\\y' \\end{bmatrix}=Au$\n",
    "\n",
    "\n",
    "### 解答\n",
    "$\\begin{bmatrix}y'\\\\y'' \\end{bmatrix}=\\begin{bmatrix}5&4\\\\1&0 \\end{bmatrix}\\begin{bmatrix}y \\\\y' \\end{bmatrix}=Au$  \n"
   ]
  },
  {
   "cell_type": "code",
   "execution_count": null,
   "metadata": {
    "collapsed": true
   },
   "outputs": [],
   "source": [
    "#1-5-24\n",
    "\n",
    "print('y’’= 5y’+ 4y')\n",
    "A24 = np.array([[5,4],[1,0]])\n",
    "l24, S24 = np.linalg.eig(A24)\n",
    "print(A24)\n",
    "print(l24)\n",
    "x = symbols('x')\n",
    "eq1 = np.power(x,2)-5*(np.power(x,1))-4\n",
    "solve([eq1],[x])"
   ]
  },
  {
   "cell_type": "markdown",
   "metadata": {},
   "source": [
    "## 問題 1-5-25\n",
    "\n",
    "うさぎとオオカミの個体数を記述する次の方程式はうさぎが早く増えること（6r）の項よりとオオカミによってその数が減ること（-2wの項より）を表している。行列Aを求め、その固有値と固有ベクトルを求めよ。  \n",
    "$\\frac{dr}{dt}=6r-2w,\\frac{dw}{dt}=2r+w$  \n",
    "r(0)=w(0)=30の時、時刻tにおけるそれぞれの個体数はどうなるか？長い時間の後,ウサギとオオカミの比は１対２となるか？それとも２対１か？\n",
    "\n",
    "### 解答\n",
    "$\\begin{bmatrix}r'\\\\w' \\end{bmatrix}=\\begin{bmatrix}6&-2\\\\2&1 \\end{bmatrix}\\begin{bmatrix}r\\\\w \\end{bmatrix}=Au$  \n",
    "A25の固有値が2と5なので連立方程式の解は  \n",
    "$u(t) = Ce^{2t}x_1 + De{5t}x_2$  \n",
    "$\\begin{bmatrix}r(t)\\\\w(t) \\end{bmatrix}=\\begin{bmatrix}2&1\\\\1&2 \\end{bmatrix}\\begin{bmatrix}Ce^{2t}\\\\ De^{5t}\\end{bmatrix}$  \n",
    "u(0) = (30,30)という条件からCとDを求めるとC＝D＝１0；\n",
    "よって  \n",
    "$r(t) = 20e^{2t} + 10e^{5t}$  \n",
    "$w(t) = 10e^{2t} + 20e^{5t}$\n",
    "\n",
    "よってうさぎと狼の比は１：２になる"
   ]
  },
  {
   "cell_type": "code",
   "execution_count": null,
   "metadata": {
    "collapsed": true
   },
   "outputs": [],
   "source": [
    "#1-5-25\n",
    "\n",
    "A25 = np.array([[6,-2],[2,1]])\n",
    "l25, S25 = np.linalg.eig(A25)\n",
    "print(l25)\n",
    "print(S25)\n",
    "B25 = np.array([[1,1],[1,-1]])\n",
    "inv_B = np.linalg.inv(S25)\n",
    "C = np.dot(inv_B,np.array([30,30]))\n",
    "print(inv_B)\n",
    "print(C)\n"
   ]
  },
  {
   "cell_type": "markdown",
   "metadata": {},
   "source": [
    "## 問題 1-5-26\n",
    "\n",
    "$y=e^{λt}$を$y''=6y'-9y$に代入し、λ=3が重解であることを示せ。ここで困難が生じる。\n",
    "$e^{3t}$の他にもう一つの解が必要だからである。行列で書いた方程式は次のようになる。\n",
    "$\\frac{d}{dt}\\begin{bmatrix}y\\\\y' \\end{bmatrix}=\\begin{bmatrix}0&1 \\\\-9&6 \\end{bmatrix}\\begin{bmatrix}y\\\\y' \\end{bmatrix}$  \n",
    "この行列は固有値λ=3,3を持ち固有ベクトルは１本しか持たないことを示せ。ここでもまた困難が生じる。もう一つの解が$y=te^{3t}$で与えられることを示せ。\n"
   ]
  },
  {
   "cell_type": "code",
   "execution_count": 3,
   "metadata": {},
   "outputs": [
    {
     "ename": "NameError",
     "evalue": "name 'symbols' is not defined",
     "output_type": "error",
     "traceback": [
      "\u001b[0;31m---------------------------------------------------------------------------\u001b[0m",
      "\u001b[0;31mNameError\u001b[0m                                 Traceback (most recent call last)",
      "\u001b[0;32m<ipython-input-3-f4e0c8426e19>\u001b[0m in \u001b[0;36m<module>\u001b[0;34m()\u001b[0m\n\u001b[1;32m      1\u001b[0m \u001b[0;31m#1-5-26\u001b[0m\u001b[0;34m\u001b[0m\u001b[0;34m\u001b[0m\u001b[0m\n\u001b[0;32m----> 2\u001b[0;31m \u001b[0mx\u001b[0m \u001b[0;34m=\u001b[0m \u001b[0msymbols\u001b[0m\u001b[0;34m(\u001b[0m\u001b[0;34m'x'\u001b[0m\u001b[0;34m)\u001b[0m\u001b[0;34m\u001b[0m\u001b[0m\n\u001b[0m\u001b[1;32m      3\u001b[0m \u001b[0meq1\u001b[0m \u001b[0;34m=\u001b[0m \u001b[0mnp\u001b[0m\u001b[0;34m.\u001b[0m\u001b[0mpower\u001b[0m\u001b[0;34m(\u001b[0m\u001b[0mx\u001b[0m\u001b[0;34m,\u001b[0m\u001b[0;36m2\u001b[0m\u001b[0;34m)\u001b[0m\u001b[0;34m-\u001b[0m\u001b[0;36m6\u001b[0m\u001b[0;34m*\u001b[0m\u001b[0;34m(\u001b[0m\u001b[0mnp\u001b[0m\u001b[0;34m.\u001b[0m\u001b[0mpower\u001b[0m\u001b[0;34m(\u001b[0m\u001b[0mx\u001b[0m\u001b[0;34m,\u001b[0m\u001b[0;36m1\u001b[0m\u001b[0;34m)\u001b[0m\u001b[0;34m)\u001b[0m\u001b[0;34m+\u001b[0m\u001b[0;36m9\u001b[0m\u001b[0;34m\u001b[0m\u001b[0m\n\u001b[1;32m      4\u001b[0m \u001b[0msolve\u001b[0m\u001b[0;34m(\u001b[0m\u001b[0;34m[\u001b[0m\u001b[0meq1\u001b[0m\u001b[0;34m]\u001b[0m\u001b[0;34m,\u001b[0m\u001b[0;34m[\u001b[0m\u001b[0mx\u001b[0m\u001b[0;34m]\u001b[0m\u001b[0;34m)\u001b[0m\u001b[0;34m\u001b[0m\u001b[0m\n\u001b[1;32m      5\u001b[0m \u001b[0mA26\u001b[0m\u001b[0;34m=\u001b[0m\u001b[0mnp\u001b[0m\u001b[0;34m.\u001b[0m\u001b[0marray\u001b[0m\u001b[0;34m(\u001b[0m\u001b[0;34m[\u001b[0m\u001b[0;34m[\u001b[0m\u001b[0;36m0\u001b[0m\u001b[0;34m,\u001b[0m\u001b[0;36m1\u001b[0m\u001b[0;34m]\u001b[0m\u001b[0;34m,\u001b[0m\u001b[0;34m[\u001b[0m\u001b[0;34m-\u001b[0m\u001b[0;36m9\u001b[0m\u001b[0;34m,\u001b[0m\u001b[0;36m6\u001b[0m\u001b[0;34m]\u001b[0m\u001b[0;34m]\u001b[0m\u001b[0;34m)\u001b[0m\u001b[0;34m\u001b[0m\u001b[0m\n",
      "\u001b[0;31mNameError\u001b[0m: name 'symbols' is not defined"
     ]
    }
   ],
   "source": [
    "#1-5-26\n",
    "x = symbols('x')\n",
    "eq1 = np.power(x,2)-6*(np.power(x,1))+9\n",
    "solve([eq1],[x])\n",
    "A26=np.array([[0,1],[-9,6]])\n",
    "l26,S26 = np.linalg.eig(A26)\n",
    "S26"
   ]
  },
  {
   "cell_type": "markdown",
   "metadata": {},
   "source": [
    "## 問題1-5-27\n",
    "\n",
    "$A$と$A^T$が同じ固有値を持つのはなぜか説明せよ。Aがマルコフ行列である時、λ=1は常にその固有値であることを示せ。これは$A^T$の各行の和が１でそれゆえ＿というベクトル$A^T$の固有値ベクトルとなるからである。\n",
    "\n",
    "### 解答\n",
    "ある行列の固有値を求める時は$｜A - λI｜= 0　$となる$λ$を固有値とする。固有値の計算の際に関わってくるのはAの対角要素だけである。$A$も$A^T$も対角要素が同じなので固有値の値は同じになる\n",
    "\n"
   ]
  },
  {
   "cell_type": "markdown",
   "metadata": {},
   "source": [
    "M = np.array([[0.8,0.4],[0.2,0.6]])\n",
    "lM,SM=np.linalg.eig(M)\n",
    "Mt = M.T\n",
    "lMt,SMt=np.linalg.eig(Mt)\n",
    "print(Mt)\n",
    "print(SM)\n",
    "print(SMt)"
   ]
  },
  {
   "cell_type": "code",
   "execution_count": null,
   "metadata": {
    "collapsed": true
   },
   "outputs": [],
   "source": [
    "## 問題1-5-28\n",
    "\n",
    "次の行列AとTの固有値と単位ベクトルを求めよ。\n",
    "またトレースを使って検算を行え\n",
    "$A=\\begin{bmatrix}1& 1&1 \\\\ 1&0&0 \\\\ 1&0&0 \\end{bmatrix}$\n",
    "$T=\\begin{bmatrix}1& -1 \\\\-1 & 2 \\end{bmatrix}$"
   ]
  },
  {
   "cell_type": "code",
   "execution_count": null,
   "metadata": {
    "collapsed": true
   },
   "outputs": [],
   "source": [
    "#1-5-28\n",
    "A28 = np.array([[1,1,1],[1,0,0],[1,0,0]])\n",
    "T28 = np.array([[1,-1],[-1,2]])\n",
    "l28,S28 = np.linalg.eig(A28)\n",
    "lt28,St28 = np.linalg.eig(T28)\n",
    "print(l28)\n",
    "print(S28)\n",
    "print(lt28)\n",
    "print(St28)\n"
   ]
  },
  {
   "cell_type": "markdown",
   "metadata": {},
   "source": [
    "## 問題1-5-29\n",
    "\n",
    "ここに実行列の固有値は実であることの簡単な証明がある。  \n",
    "$Ax=λx$より$x^TAx=λx^Tx$であるから$λ=\\frac{x^TAx}{x^Tx}$は実数となる  \n",
    "この推論における欠陥ー正当化できない隠れた仮定ーを見つけよ"
   ]
  },
  {
   "cell_type": "code",
   "execution_count": null,
   "metadata": {
    "collapsed": true
   },
   "outputs": [],
   "source": [
    "#1-5-29\n",
    "print(np.array([[0,1],[1,0]]))\n",
    "print(np.array([[1,0],[0,1]]))\n",
    "print(np.array([[x,a],[a,-x]]))"
   ]
  },
  {
   "cell_type": "markdown",
   "metadata": {},
   "source": [
    "## 問題1-5-30\n",
    "\n",
    "直行かつ対称であるような2×2行列全てを求めよ。これらの行列の固有値となりうる２つの数は何か？\n",
    "\n",
    "### 正解\n",
    "\n",
    "$A=\\begin{bmatrix}a& b \\\\c & d \\end{bmatrix}$とすると  \n",
    "直行の条件は$ab+cd=0$　　\n",
    "対称の条件は$b=c$となる  \n",
    "この両方の条件を満たす２×２の行列は\n",
    "$\\begin{bmatrix}a& b \\\\b & -a \\end{bmatrix}$となる。  \n",
    "よってその固有値は$λ=a,-a$となる"
   ]
  },
  {
   "cell_type": "markdown",
   "metadata": {},
   "source": [
    "## 問題1-5-31\n",
    "\n",
    "微分方程式$u''=λu$の固有関数$y(x)=sinkπx$を求めるためには、$y=e^{ax}$を方程式に代入するという方法もあった。こうすると、$-a^2e^{ax }=λe^{ax}$より$a=i\\sqrt{λ}$ or $-i\\sqrt{λ}$がえられる。完全解は$y(x)=Ce^{i\\sqrt{λ}x}+De^{-i\\sqrt{λ}x}$であり$y(0)=0$より$C+D=0$となる。これより、$y(x)$は正弦関数に簡単かされる。  \n",
    "$y(x)=C(e^{ i\\sqrt{λ}x}-e^{i\\sqrt{λ}x})=2iCsin\\sqrt{λ}x$\n",
    "$y(1)=0$より$sin\\sqrt{λ}＝０$となる。したがって$\\sqrt{λ}$はπの整数倍kπ出なくてはならず、前と同様に$λ=k^2π^2$となる。この解き方を、$y'(0)=y'(1)=0$の場合、及び$y'(0)=y(1)=0$の場合にもやってみよ。\n"
   ]
  },
  {
   "cell_type": "markdown",
   "metadata": {
    "collapsed": true
   },
   "source": [
    "### 解答\n",
    "\n",
    "$y(x)=Ce^{i\\sqrt{λ}x}+De^{-i\\sqrt{λ}x}$より  \n",
    "$y'(x)=i\\sqrt{λ}Ce^{i\\sqrt{λ}x}-i\\sqrt{λ}De^{-i\\sqrt{λ}x}$である.   \n",
    "  \n",
    "$y'(0)=y'(1)=0$の場合  \n",
    "$y'(0)=i\\sqrt{λ}C-i\\sqrt{λ}D=0,C=D$  \n",
    "$y(x)=C(e^{i\\sqrt{λ}x}-e^{-i\\sqrt{λ}x})$  \n",
    "$y(x)=C(e^{ i\\sqrt{λ}x+i\\sqrt{λ}x})=2iCcos\\sqrt{λ}x$  \n",
    "$y'(1)=2i\\sqrt{λ}Csin\\sqrt{λ}=0$より$\\sqrt{λ}=0$であるため$λ=k^2π^2$となる。\n",
    "Bの場合の固有関数\n",
    "  \n",
    "  \n",
    "$y'(0)=y(1)=0$の場合\n",
    "$y'(0)=i\\sqrt{λ}C-i\\sqrt{λ}D=0,C=D$  \n",
    "$y(x)=C(e^{i\\sqrt{λ}x}-e^{-i\\sqrt{λ}x})$  \n",
    "$y(x)=C(e^{ i\\sqrt{λ}x+i\\sqrt{λ}x})=2iCcos\\sqrt{λ}x$  \n",
    "$y(1)=2iCcos\\sqrt{λ}=0$より $λ=(k+\\frac{1}{2})^2π^2$となる。\n",
    "Tの場合の固有関数"
   ]
  },
  {
   "cell_type": "markdown",
   "metadata": {},
   "source": [
    "## 問題 1-5-32\n",
    "\n",
    "以下の６つの行列についてeigshowでxとAxを追跡してみよ。実固有ベクトルは何本あるか？\n",
    "$A = \\begin{bmatrix}2& 0 \\\\0 & 1 \\end{bmatrix}$\n",
    " $\\begin{bmatrix}2& 0 \\\\0 & -1 \\end{bmatrix}$\n",
    " $ \\begin{bmatrix}0& 1 \\\\1 & 0 \\end{bmatrix}$\n",
    " $\\begin{bmatrix}0& 1 \\\\-1 & 0 \\end{bmatrix}$\n",
    " $\\begin{bmatrix}1& 1 \\\\1 & 1 \\end{bmatrix}$\n",
    " $\\begin{bmatrix}1& 1 \\\\0 & 1 \\end{bmatrix}$"
   ]
  },
  {
   "cell_type": "code",
   "execution_count": null,
   "metadata": {
    "collapsed": true
   },
   "outputs": [],
   "source": []
  },
  {
   "cell_type": "markdown",
   "metadata": {},
   "source": [
    "## 問題　1-5-33\n",
    "\n",
    "Scarymatlabは丸誤差が対称性を壊した場合に何が起こるかを示す。\n"
   ]
  },
  {
   "cell_type": "code",
   "execution_count": null,
   "metadata": {
    "collapsed": true
   },
   "outputs": [],
   "source": []
  },
  {
   "cell_type": "code",
   "execution_count": null,
   "metadata": {
    "collapsed": true
   },
   "outputs": [],
   "source": []
  }
 ],
 "metadata": {
  "kernelspec": {
   "display_name": "Python 3",
   "language": "python",
   "name": "python3"
  },
  "language_info": {
   "codemirror_mode": {
    "name": "ipython",
    "version": 3
   },
   "file_extension": ".py",
   "mimetype": "text/x-python",
   "name": "python",
   "nbconvert_exporter": "python",
   "pygments_lexer": "ipython3",
   "version": "3.6.2"
  }
 },
 "nbformat": 4,
 "nbformat_minor": 2
}
