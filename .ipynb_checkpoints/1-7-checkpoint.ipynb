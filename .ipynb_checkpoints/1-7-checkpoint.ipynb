{
 "cells": [
  {
   "cell_type": "markdown",
   "metadata": {},
   "source": [
    "# 問題1"
   ]
  },
  {
   "cell_type": "markdown",
   "metadata": {},
   "source": [
    "(a) 線形独立  \n",
    "\n",
    "(b) $\\left(\\begin{array}{ccc}0.4 \\\\ -0.3 \\end{array}\\right)$のノルムが1でないため，正規直交ではなく単に直交するだけ  \n",
    "\n",
    "(c) ノルムも1であるため，正規直交"
   ]
  },
  {
   "cell_type": "markdown",
   "metadata": {},
   "source": [
    "# 問題2"
   ]
  },
  {
   "cell_type": "markdown",
   "metadata": {},
   "source": [
    "(a) $Q = \\left(\n",
    "    \\begin{array}{ccc}\n",
    "        1 & 0 \\\\\n",
    "        0 & 0 \\\\\n",
    "        0 & 1\n",
    "    \\end{array}\n",
    "  \\right)$  \n",
    "\n",
    "(b) 任意のベクトルとゼロベクトルのペア  \n",
    "\n",
    "(c) $A = \\left(\n",
    "    \\begin{array}{ccc}\n",
    "        1/2 & 1/2 & 1/2 & 1/2 \\\\\n",
    "        1/2 & 1/2 & -1/2 & -1/2 \\\\\n",
    "        1/2 & -1/2 & 1/2 & -1/2 \\\\\n",
    "        1/2 & -1/2 & -1/2 & 1/2\n",
    "    \\end{array}\n",
    "  \\right)$  "
   ]
  },
  {
   "cell_type": "markdown",
   "metadata": {},
   "source": [
    "# 問題3"
   ]
  },
  {
   "cell_type": "markdown",
   "metadata": {},
   "source": [
    "転置行列であるため，$Q_1 Q_1^t = E$, $Q_2 Q_2^t = E$ である．\n",
    "\n",
    "そこで$(Q_1Q_2)(Q_1Q_2)^t$を考えると，  "
   ]
  },
  {
   "cell_type": "markdown",
   "metadata": {},
   "source": [
    "\\begin{eqnarray*}\n",
    "(Q_1Q_2)(Q_1Q_2)^t&=&(Q_1Q_2)(Q_2^tQ_1^t)\\\\\n",
    " &=&Q_1(Q_2Q_2^t)Q_1^t\\\\\n",
    " &=&Q_1Q_1^t\\\\\n",
    " &=& E\n",
    "\\end{eqnarray*}"
   ]
  },
  {
   "cell_type": "markdown",
   "metadata": {},
   "source": [
    "ゆえに$Q_1Q_2$も直交行列である．"
   ]
  },
  {
   "cell_type": "markdown",
   "metadata": {},
   "source": [
    "# 問題4\n",
    "正規直交するベクトル群 $q_1, q_2, q_3$の話"
   ]
  },
  {
   "cell_type": "markdown",
   "metadata": {},
   "source": [
    "(a)ベクトルによる証明  \n",
    "\n",
    "$c_1q_1+c_2q_2+c_3q_3=0$である．  \n",
    "ここで，ベクトル $c_1q_1+c_2q_2+c_3q_3$とベクトル $q_1$の内積を考える．  \n",
    "\n",
    "$q_i \\cdot q_i = 1$，$q_i \\cdot q_j = 0 (i \\neq j)$という正規直交ベクトルの性質より，  \n",
    "\n",
    "$c_1 = 0$.\n",
    "\n",
    "同様に$c_2 = 0, c_3 = 0$\n"
   ]
  },
  {
   "cell_type": "markdown",
   "metadata": {},
   "source": [
    "(b)行列による証明\n",
    "\n",
    "$c_1q_1+c_2q_2+c_3q_3=0$を行列を用いて書き直すと，  \n",
    "$Q = \\left(\n",
    "    \\begin{array}{ccc}\n",
    "        q_1& q_2 & q_3 \\\\\n",
    "    \\end{array}\n",
    "  \\right)$，\n",
    "$x = \\left(\n",
    "    \\begin{array}{ccc}\n",
    "        c_1 \\\\\n",
    "        c_2 \\\\\n",
    "        c_3\n",
    "    \\end{array}\n",
    "  \\right)$において$Qx = 0$と表す事ができる．  \n",
    "  \n",
    "$Q$は正規直交行列であるため，$Q^tQ = E$という性質を持つ．  \n",
    "\n",
    "そこで$Qx=0$に$Q^t$をかけて"
   ]
  },
  {
   "cell_type": "markdown",
   "metadata": {},
   "source": [
    "\\begin{eqnarray*}\n",
    "Q^t Qx&=&Q^t 0\\\\\n",
    "     x&=& 0\n",
    "\\end{eqnarray*}"
   ]
  },
  {
   "cell_type": "markdown",
   "metadata": {},
   "source": [
    "# 問題5"
   ]
  },
  {
   "cell_type": "markdown",
   "metadata": {},
   "source": []
  },
  {
   "cell_type": "markdown",
   "metadata": {},
   "source": [
    "# 問題6\n",
    "恐らく問題文の誤植で  \n",
    "図1.7 → 図1.19だと思われます．\n",
    "\n",
    "$A^tA = \\left(\n",
    "    \\begin{array}{ccc}\n",
    "        1 & 1 \\\\\n",
    "        1 & 2\n",
    "    \\end{array}\n",
    "  \\right)$  "
   ]
  },
  {
   "cell_type": "code",
   "execution_count": 8,
   "metadata": {},
   "outputs": [
    {
     "name": "stdout",
     "output_type": "stream",
     "text": [
      "[ 0.38196601  2.61803399]\n"
     ]
    }
   ],
   "source": [
    "import numpy as np\n",
    "A = np.array([[1, 1], [1, 2]])\n",
    "la, v = np.linalg.eig(A)\n",
    "print(la)"
   ]
  },
  {
   "cell_type": "markdown",
   "metadata": {},
   "source": [
    "すなわち，固有値は0.38196601と2.61803399であり，  \n",
    "\n",
    "$\\lambda_{max} = 2.61803399$である．  \n",
    "\n",
    "ここで$\\frac{1}{2}(3+\\sqrt{5})$を調べると，"
   ]
  },
  {
   "cell_type": "code",
   "execution_count": 10,
   "metadata": {},
   "outputs": [
    {
     "data": {
      "text/plain": [
       "2.6180339887498949"
      ]
     },
     "execution_count": 10,
     "metadata": {},
     "output_type": "execute_result"
    }
   ],
   "source": [
    "(3+np.sqrt(5))/2"
   ]
  },
  {
   "cell_type": "markdown",
   "metadata": {},
   "source": [
    "よって$\\lambda_{max} = \\frac{1}{2}(3+\\sqrt{5})$であることがわかる．  \n",
    "また"
   ]
  },
  {
   "cell_type": "markdown",
   "metadata": {},
   "source": [
    "\\begin{eqnarray*}\n",
    "\\frac{1}{2}(3+\\sqrt{5}) &=& \\frac{1}{4}(6+2\\sqrt{5}) \\\\\n",
    "                        &=& (\\frac{1}{2}(1+\\sqrt{5}))^2\n",
    "\\end{eqnarray*}"
   ]
  },
  {
   "cell_type": "markdown",
   "metadata": {},
   "source": [
    "よって，$\\|A\\| = \\frac{1}{2}(1+\\sqrt{5})$"
   ]
  },
  {
   "cell_type": "markdown",
   "metadata": {},
   "source": [
    "# 問題7"
   ]
  },
  {
   "cell_type": "markdown",
   "metadata": {},
   "source": [
    "$A = \\left(\n",
    "    \\begin{array}{ccc}\n",
    "        3 & 0 \\\\\n",
    "        0 & 2\n",
    "    \\end{array}\n",
    "  \\right)$  "
   ]
  },
  {
   "cell_type": "code",
   "execution_count": 12,
   "metadata": {},
   "outputs": [
    {
     "name": "stdout",
     "output_type": "stream",
     "text": [
      "[ 3.  2.]\n"
     ]
    }
   ],
   "source": [
    "A = np.array([[3, 0], [0, 2]])\n",
    "la, v = np.linalg.eig(A)\n",
    "print(la)"
   ]
  },
  {
   "cell_type": "markdown",
   "metadata": {},
   "source": [
    "よって  \n",
    "$\\lambda_{max} = 3$  \n",
    "\n",
    "$\\lambda_{max}/\\lambda_{min} = 3/2 = 1.5$"
   ]
  },
  {
   "cell_type": "markdown",
   "metadata": {},
   "source": [
    "$A = \\left(\n",
    "    \\begin{array}{ccc}\n",
    "        2 & 1 \\\\\n",
    "        1 & 2\n",
    "    \\end{array}\n",
    "  \\right)$  "
   ]
  },
  {
   "cell_type": "code",
   "execution_count": 18,
   "metadata": {},
   "outputs": [
    {
     "name": "stdout",
     "output_type": "stream",
     "text": [
      "[ 3.  1.]\n"
     ]
    }
   ],
   "source": [
    "A = np.array([[2, 1], [1, 2]])\n",
    "la, v = np.linalg.eig(A)\n",
    "print(la)"
   ]
  },
  {
   "cell_type": "markdown",
   "metadata": {},
   "source": [
    "よって  \n",
    "$\\lambda_{max} = 3$  \n",
    "\n",
    "$\\lambda_{max}/\\lambda_{min} = 3/1 = 3$"
   ]
  },
  {
   "cell_type": "markdown",
   "metadata": {},
   "source": [
    "$A = \\left(\n",
    "    \\begin{array}{ccc}\n",
    "        3 & 1 \\\\\n",
    "        1 & 1\n",
    "    \\end{array}\n",
    "  \\right)$  "
   ]
  },
  {
   "cell_type": "code",
   "execution_count": 17,
   "metadata": {},
   "outputs": [
    {
     "name": "stdout",
     "output_type": "stream",
     "text": [
      "[ 3.41421356  0.58578644]\n"
     ]
    }
   ],
   "source": [
    "A = np.array([[3, 1], [1, 1]])\n",
    "la, v = np.linalg.eig(A)\n",
    "print(la)"
   ]
  },
  {
   "cell_type": "markdown",
   "metadata": {},
   "source": [
    "よって  \n",
    "$\\lambda_{max} = 3.41421356$  \n",
    "\n",
    "$\\lambda_{max}/\\lambda_{min} = 3.41421356/0.58578644 = 5.828427097$"
   ]
  },
  {
   "cell_type": "markdown",
   "metadata": {},
   "source": [
    "# 問題8\n",
    "たぶん与えられた行列が$A$であり，まず$A^tA$の計算から行うんだと思います．"
   ]
  },
  {
   "cell_type": "markdown",
   "metadata": {},
   "source": [
    "(a)\n",
    "\n",
    "$A = \\left(\n",
    "    \\begin{array}{ccc}\n",
    "        1 & 7 \\\\\n",
    "        1 & 1\n",
    "    \\end{array}\n",
    "  \\right)$  "
   ]
  },
  {
   "cell_type": "code",
   "execution_count": 25,
   "metadata": {},
   "outputs": [],
   "source": [
    "A = np.array([[1, 7], [1, 1]])\n",
    "A_t = np.array([[1, 1], [7, 1]])"
   ]
  },
  {
   "cell_type": "code",
   "execution_count": 26,
   "metadata": {},
   "outputs": [
    {
     "name": "stdout",
     "output_type": "stream",
     "text": [
      "[  0.70177872  51.29822128]\n"
     ]
    }
   ],
   "source": [
    "A_t_A = np.dot(A_t, A)\n",
    "la, v = np.linalg.eig(A_t_A)\n",
    "print(la)"
   ]
  },
  {
   "cell_type": "markdown",
   "metadata": {},
   "source": [
    "つまり，\n",
    "\n",
    "$\\|A\\|^2 = 51.29822128$  \n",
    "\n",
    "$\\|A^{-1}\\|^2 = 0.70177872$  "
   ]
  },
  {
   "cell_type": "markdown",
   "metadata": {},
   "source": [
    "よって，\n",
    "\n",
    "$\\|A\\| = 7.1622776600743423$\n",
    "\n",
    "$\\|A^{-1}\\| = 0.83772234063560702$\n"
   ]
  },
  {
   "cell_type": "markdown",
   "metadata": {},
   "source": [
    "ゆえに条件数 $c(A)$ は，\n",
    "\n",
    "$c(A) = \\frac{\\|A\\|}{\\|A^{-1}\\|}$ = 8.549703539"
   ]
  },
  {
   "cell_type": "markdown",
   "metadata": {},
   "source": [
    "(b)\n",
    "\n",
    "$A = \\left(\n",
    "    \\begin{array}{ccc}\n",
    "        1 & 1 \\\\\n",
    "        0 & 0\n",
    "    \\end{array}\n",
    "  \\right)$  "
   ]
  },
  {
   "cell_type": "code",
   "execution_count": 29,
   "metadata": {
    "collapsed": true
   },
   "outputs": [],
   "source": [
    "A = np.array([[1, 1], [0, 0]])\n",
    "A_t = np.array([[1, 0], [1, 0]])"
   ]
  },
  {
   "cell_type": "code",
   "execution_count": 30,
   "metadata": {},
   "outputs": [
    {
     "name": "stdout",
     "output_type": "stream",
     "text": [
      "[ 2.  0.]\n"
     ]
    }
   ],
   "source": [
    "A_t_A = np.dot(A_t, A)\n",
    "la, v = np.linalg.eig(A_t_A)\n",
    "print(la)"
   ]
  },
  {
   "cell_type": "markdown",
   "metadata": {},
   "source": [
    "よって，\n",
    "\n",
    "$\\|A\\| = \\sqrt{2}$\n",
    "\n",
    "$\\|A^{-1}\\| = 0$\n",
    "\n",
    "この場合，条件数がどうなるのかわかりません．"
   ]
  },
  {
   "cell_type": "markdown",
   "metadata": {},
   "source": [
    "(c)\n",
    "\n",
    "$A = \\left(\n",
    "    \\begin{array}{ccc}\n",
    "        1 & 1 \\\\\n",
    "        -1 & 1\n",
    "    \\end{array}\n",
    "  \\right)$  "
   ]
  },
  {
   "cell_type": "code",
   "execution_count": 31,
   "metadata": {
    "collapsed": true
   },
   "outputs": [],
   "source": [
    "A = np.array([[1, 1], [-1, 1]])\n",
    "A_t = np.array([[1, -1], [1, 1]])"
   ]
  },
  {
   "cell_type": "code",
   "execution_count": 32,
   "metadata": {},
   "outputs": [
    {
     "name": "stdout",
     "output_type": "stream",
     "text": [
      "[ 2.  2.]\n"
     ]
    }
   ],
   "source": [
    "A_t_A = np.dot(A_t, A)\n",
    "la, v = np.linalg.eig(A_t_A)\n",
    "print(la)"
   ]
  },
  {
   "cell_type": "markdown",
   "metadata": {},
   "source": [
    "よって，\n",
    "\n",
    "$\\|A\\| = \\sqrt{2}$\n",
    "\n",
    "$\\|A^{-1}\\| = \\sqrt{2}$\n",
    "\n",
    "ゆえに条件数  \n",
    "\n",
    "$c(A) = 1$"
   ]
  },
  {
   "cell_type": "code",
   "execution_count": null,
   "metadata": {
    "collapsed": true
   },
   "outputs": [],
   "source": []
  }
 ],
 "metadata": {
  "kernelspec": {
   "display_name": "Python 3",
   "language": "python",
   "name": "python3"
  },
  "language_info": {
   "codemirror_mode": {
    "name": "ipython",
    "version": 3
   },
   "file_extension": ".py",
   "mimetype": "text/x-python",
   "name": "python",
   "nbconvert_exporter": "python",
   "pygments_lexer": "ipython3",
   "version": "3.6.2"
  }
 },
 "nbformat": 4,
 "nbformat_minor": 2
}
