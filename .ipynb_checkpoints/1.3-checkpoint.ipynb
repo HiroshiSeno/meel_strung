{
 "cells": [
  {
   "cell_type": "code",
   "execution_count": 2,
   "metadata": {},
   "outputs": [],
   "source": [
    "\n",
    "import numpy as np\n",
    "import scipy.linalg as linalg\n",
    "from matplotlib import pyplot\n",
    "import scipy.sparse as sp\n",
    "import scipy.sparse.linalg as spla\n",
    "import math"
   ]
  },
  {
   "cell_type": "markdown",
   "metadata": {},
   "source": [
    "### 1.3.1\n",
    "$K_4=LDL^T$とした時$detK_4$はどうなるか？\n",
    "\n",
    "#### 解答\n",
    "$K_4$は対称行列であるから$LDL^T$と分解できて、正定値行列であるからDのピボット要素はすべて正である。$L,L^T$ともに三角行列で対角要素が全て1なので、detはDの対角要素の積となる。\n"
   ]
  },
  {
   "cell_type": "code",
   "execution_count": 31,
   "metadata": {},
   "outputs": [
    {
     "name": "stdout",
     "output_type": "stream",
     "text": [
      "L: \n",
      " [[ 1.          0.          0.        ]\n",
      " [-0.5         1.          0.        ]\n",
      " [ 0.         -0.66666667  1.        ]]\n",
      "D: \n",
      " [[ 2.          0.          0.        ]\n",
      " [ 0.          1.5         0.        ]\n",
      " [ 0.          0.          1.33333333]]\n",
      "L^T: \n",
      " [[ 1.         -0.5         0.        ]\n",
      " [ 0.          1.         -0.66666667]\n",
      " [ 0.          0.          1.        ]]\n",
      "detA: \n",
      " 4.0\n"
     ]
    }
   ],
   "source": [
    "\n",
    "A = np.array([[2., -1., 0.],\n",
    "              [-1., 2., -1.],\n",
    "              [0., -1., 2.]])\n",
    "detA = np.linalg.det(A)\n",
    "\n",
    "P, L, U = lu(A)\n",
    "L_t = L.T\n",
    "D = np.diag([U[0][0], U[1][1], U[2][2]])\n",
    "print(\"L: \\n\", L)\n",
    "print(\"D: \\n\", D)\n",
    "print(\"L^T: \\n\", L_t)\n",
    "print(\"detA: \\n\", detA)"
   ]
  },
  {
   "cell_type": "markdown",
   "metadata": {},
   "source": [
    "### 1.3.2\n",
    "1. $K_4$の$L,D,L^T$の逆行列を求めよ。\n",
    "2. $K$のi番目のピボットを求める公式をかけ。\n",
    "3. $L_4{L_4}^{-1}$を計算して$L^{-1}$対角線以下の要素が$j/i$であることを確認せよ。\n",
    "#### 解答\n",
    "\n",
    "2. -j/i （i, jはそれぞれ該当する行番号、列番号）\n",
    "\n"
   ]
  },
  {
   "cell_type": "code",
   "execution_count": 32,
   "metadata": {},
   "outputs": [
    {
     "name": "stdout",
     "output_type": "stream",
     "text": [
      "inv_L: \n",
      " [[ 1.          0.          0.        ]\n",
      " [ 0.5         1.          0.        ]\n",
      " [ 0.33333333  0.66666667  1.        ]]\n",
      "inv_D: \n",
      " [[ 0.5         0.          0.        ]\n",
      " [ 0.          0.66666667  0.        ]\n",
      " [ 0.          0.          0.75      ]]\n",
      "inv_L^T: \n",
      " [[ 1.          0.5         0.33333333]\n",
      " [ 0.          1.          0.66666667]\n",
      " [ 0.          0.          1.        ]]\n"
     ]
    }
   ],
   "source": [
    "inv_L = np.linalg.inv(L)\n",
    "inv_D = np.linalg.inv(D)\n",
    "inv_L_t = np.linalg.inv(L_t)\n",
    "print(\"inv_L: \\n\", inv_L)\n",
    "print(\"inv_D: \\n\", inv_D)\n",
    "print(\"inv_L^T: \\n\", inv_L_t)"
   ]
  },
  {
   "cell_type": "code",
   "execution_count": 33,
   "metadata": {},
   "outputs": [
    {
     "name": "stdout",
     "output_type": "stream",
     "text": [
      "LL^-1: \n",
      " [[ 1.  0.  0.]\n",
      " [ 0.  1.  0.]\n",
      " [ 0.  0.  1.]]\n"
     ]
    }
   ],
   "source": [
    "LL_inv = np.dot(L,inv_L)\n",
    "print('LL^-1: \\n', LL_inv)"
   ]
  },
  {
   "cell_type": "markdown",
   "metadata": {},
   "source": [
    "### 1.3.3\n",
    "$K_5$において$L^{-1}のi, j要素がj/iであることを確認せよ。$\n",
    "\n",
    "#### 解答\n",
    "\n"
   ]
  },
  {
   "cell_type": "code",
   "execution_count": 34,
   "metadata": {},
   "outputs": [
    {
     "name": "stdout",
     "output_type": "stream",
     "text": [
      "K5: \n",
      " [[ 2 -1  0  0  0]\n",
      " [-1  2 -1  0  0]\n",
      " [ 0 -1  2 -1  0]\n",
      " [ 0  0 -1  2 -1]\n",
      " [ 0  0  0 -1  2]]\n"
     ]
    }
   ],
   "source": [
    "K5 = toeplitz([2,-1,0,0,0])\n",
    "print('K5: \\n', K5)"
   ]
  },
  {
   "cell_type": "code",
   "execution_count": 35,
   "metadata": {},
   "outputs": [
    {
     "name": "stdout",
     "output_type": "stream",
     "text": [
      "det(K5): \n",
      " 6.0\n",
      "inv_K5: \n",
      " [[ 0.83333333  0.66666667  0.5         0.33333333  0.16666667]\n",
      " [ 0.66666667  1.33333333  1.          0.66666667  0.33333333]\n",
      " [ 0.5         1.          1.5         1.          0.5       ]\n",
      " [ 0.33333333  0.66666667  1.          1.33333333  0.66666667]\n",
      " [ 0.16666667  0.33333333  0.5         0.66666667  0.83333333]]\n",
      "det(K5)*inv_K5: \n",
      " [[ 5.  4.  3.  2.  1.]\n",
      " [ 4.  8.  6.  4.  2.]\n",
      " [ 3.  6.  9.  6.  3.]\n",
      " [ 2.  4.  6.  8.  4.]\n",
      " [ 1.  2.  3.  4.  5.]]\n"
     ]
    }
   ],
   "source": [
    "detK5 = np.linalg.det(K5)\n",
    "inv_K5 = np.linalg.inv(K5)\n",
    "print('det(K5): \\n', detK5)\n",
    "print('inv_K5: \\n', inv_K5)\n",
    "print('det(K5)*inv_K5: \\n', np.dot(detK5,inv_K5))"
   ]
  },
  {
   "cell_type": "code",
   "execution_count": 36,
   "metadata": {},
   "outputs": [
    {
     "name": "stdout",
     "output_type": "stream",
     "text": [
      "L_5: \n",
      " [[ 1.          0.          0.          0.          0.        ]\n",
      " [-0.5         1.          0.          0.          0.        ]\n",
      " [ 0.         -0.66666667  1.          0.          0.        ]\n",
      " [ 0.          0.         -0.75        1.          0.        ]\n",
      " [ 0.          0.          0.         -0.8         1.        ]]\n",
      "D_5: \n",
      " [[ 2.          0.          0.          0.          0.        ]\n",
      " [ 0.          1.5         0.          0.          0.        ]\n",
      " [ 0.          0.          1.33333333  0.          0.        ]\n",
      " [ 0.          0.          0.          1.25        0.        ]\n",
      " [ 0.          0.          0.          0.          1.2       ]]\n",
      "U_5: \n",
      " [[ 2.         -1.          0.          0.          0.        ]\n",
      " [ 0.          1.5        -1.          0.          0.        ]\n",
      " [ 0.          0.          1.33333333 -1.          0.        ]\n",
      " [ 0.          0.          0.          1.25       -1.        ]\n",
      " [ 0.          0.          0.          0.          1.2       ]]\n"
     ]
    }
   ],
   "source": [
    "P, L_5, U_5 = lu(K5)\n",
    "D_5 = np.diag([U_5[0][0], U_5[1][1], U_5[2][2], U_5[3][3], U_5[4][4]])\n",
    "print(\"L_5: \\n\", L_5)\n",
    "print(\"D_5: \\n\", D_5)\n",
    "print(\"U_5: \\n\", U_5)"
   ]
  },
  {
   "cell_type": "markdown",
   "metadata": {},
   "source": [
    "### 1.3.4\n",
    "$L=eye(4)-diag(l,-1)$と書いた時の$l$を求め、$L*diag(d)*L^{T}$を作ることによって$K_4$を復元せよ。\n",
    "\n",
    "#### 解答\n"
   ]
  },
  {
   "cell_type": "code",
   "execution_count": 3,
   "metadata": {},
   "outputs": [
    {
     "name": "stdout",
     "output_type": "stream",
     "text": [
      "[[ 2. -1.  0.  0.]\n",
      " [-1.  2. -1.  0.]\n",
      " [ 0. -1.  2. -1.]\n",
      " [ 0.  0. -1.  2.]]\n"
     ]
    }
   ],
   "source": [
    "E = np.eye(4)\n",
    "# print(E)\n",
    "l = np.arange(1,4,1)\n",
    "L = E-np.diag(l/(l+1),-1)\n",
    "d = (np.arange(1,5,1)+1)/(np.arange(1,5,1))\n",
    "print(L.dot(np.diag(d,0)).dot(np.transpose(L)))"
   ]
  },
  {
   "cell_type": "markdown",
   "metadata": {},
   "source": [
    "### 1.3.5\n",
    "行列Aのピボットが行交換なしで2,7,6のとき、Aの2*2の首座小行列Bのピボットはいくつか。それはなぜか。\n",
    "\n",
    "#### 解答\n",
    "2,7で、その理由はi行目までの前進消去にi+1行目以降が関係ないから"
   ]
  },
  {
   "cell_type": "code",
   "execution_count": null,
   "metadata": {},
   "outputs": [],
   "source": []
  },
  {
   "cell_type": "markdown",
   "metadata": {},
   "source": [
    "### 1.3.6\n",
    "5*5の対称行列、対角行列、対角要素が全て１の下三角行列では何個の要素が任意に値を決められるか。\n",
    "\n",
    "#### 解答\n",
    "$(5+4+3+2+1)=5+5*(5-1)/2=15, 5, 10$"
   ]
  },
  {
   "cell_type": "markdown",
   "metadata": {},
   "source": [
    "### 1.3.7\n",
    " $A$をm*n長方行列、$C$を対称行列とする時、$ACA^T$が対称行列であることを示せ。\n",
    "\n",
    " $A^{T}A$の対角要素は負にならない。なぜか。\n",
    "\n",
    "#### 解答\n",
    "$(A^TA)_{ii}=\\sum_{k=1}^{n}(A^T)_{ik}(A)_{ki}=\\sum_{j=1}^{n}(A)_{ki}(A)_{ki}$\n",
    "従って $A^{T}A$の対角要素は負にならない。"
   ]
  },
  {
   "cell_type": "markdown",
   "metadata": {},
   "source": [
    "### 1.3.8\n",
    "次の行列を$LDL^T$に展開せよ。\n",
    "\n",
    "#### 解答\n",
    "$(A^TA)_{ii}=\\sum_{k=1}^{n}(A^T)_{ik}(A)_{ki}=\\sum_{j=1}^{n}(A)_{ki}(A)_{ki}$\n",
    "従って $A^{T}A$の対角要素は負にならない。"
   ]
  },
  {
   "cell_type": "code",
   "execution_count": 5,
   "metadata": {},
   "outputs": [
    {
     "name": "stdout",
     "output_type": "stream",
     "text": [
      "L: \n",
      " [[ 1.          0.          0.        ]\n",
      " [ 0.5         1.          0.        ]\n",
      " [ 0.          0.66666667  1.        ]]\n",
      "D: \n",
      " [[ 2.          0.          0.        ]\n",
      " [ 0.          1.5         0.        ]\n",
      " [ 0.          0.          1.33333333]]\n",
      "L^T: \n",
      " [[ 1.          0.5         0.        ]\n",
      " [ 0.          1.          0.66666667]\n",
      " [ 0.          0.          1.        ]]\n",
      "detA: \n",
      " 4.0\n"
     ]
    }
   ],
   "source": [
    "A = np.array([[1,3],[3,2]])\n",
    "A = linalg.toeplitz([2,1,0])\n",
    "# 2個目は手計算\n",
    "detA = np.linalg.det(A)\n",
    "\n",
    "P, L, U = linalg.lu(A)\n",
    "L_t = L.T\n",
    "D = np.diag([U[0][0], U[1][1], U[2][2]])\n",
    "print(\"L: \\n\", L)\n",
    "print(\"D: \\n\", D)\n",
    "print(\"L^T: \\n\", L_t)\n",
    "print(\"detA: \\n\", detA)"
   ]
  },
  {
   "cell_type": "markdown",
   "metadata": {},
   "source": [
    "### 1.3.9\n",
    "\n",
    "\n",
    "#### 解答\n",
    "\n"
   ]
  },
  {
   "cell_type": "code",
   "execution_count": 16,
   "metadata": {},
   "outputs": [
    {
     "name": "stdout",
     "output_type": "stream",
     "text": [
      "B3: \n",
      " [[ 1 -1  0]\n",
      " [-1  2 -1]\n",
      " [ 0 -1  1]]\n",
      "cholesky(K3): \n",
      " [[ 1.00049988  0.          0.        ]\n",
      " [-0.99950037  1.000999    0.        ]\n",
      " [ 0.         -0.999002    0.05472671]]\n"
     ]
    }
   ],
   "source": [
    "K_3 = linalg.toeplitz([2,-1,0])\n",
    "T_3 = K_3\n",
    "T_3[0,0]= 1\n",
    "B_3 = T_3\n",
    "B_3[2,2] = 1\n",
    "\n",
    "\n",
    "# print('K3: \\n', K_3)\n",
    "# print('cholesky(K3): \\n', np.linalg.cholesky(K_3)) \n",
    "# print('T3: \\n', T_3)\n",
    "# print('cholesky(T3): \\n', np.linalg.cholesky(T_3)) \n",
    "# print('B3: \\n', B_3)\n",
    "# print('cholesky(B3): \\n', np.linalg.cholesky(B_3)) \n",
    "print('B3: \\n', B_3)\n",
    "print('cholesky(K3): \\n', np.linalg.cholesky(B_3+np.eye(3)*0.001)) \n",
    "\n"
   ]
  },
  {
   "cell_type": "markdown",
   "metadata": {},
   "source": [
    "### 1.3.10\n",
    "\n",
    "\n",
    "#### 解答\n",
    "\n"
   ]
  },
  {
   "cell_type": "code",
   "execution_count": null,
   "metadata": {},
   "outputs": [],
   "source": []
  },
  {
   "cell_type": "markdown",
   "metadata": {},
   "source": [
    "### 1.3.11\n",
    "\n",
    "\n",
    "#### 解答\n",
    "\n"
   ]
  },
  {
   "cell_type": "code",
   "execution_count": null,
   "metadata": {},
   "outputs": [],
   "source": []
  },
  {
   "cell_type": "markdown",
   "metadata": {},
   "source": [
    "### 1.3.12\n",
    "\n",
    "\n",
    "#### 解答\n",
    "\n"
   ]
  },
  {
   "cell_type": "code",
   "execution_count": null,
   "metadata": {},
   "outputs": [],
   "source": []
  },
  {
   "cell_type": "markdown",
   "metadata": {},
   "source": [
    "### 1.3.13\n",
    "\n",
    "\n",
    "#### 解答\n",
    "\n"
   ]
  },
  {
   "cell_type": "code",
   "execution_count": null,
   "metadata": {},
   "outputs": [],
   "source": []
  },
  {
   "cell_type": "markdown",
   "metadata": {},
   "source": [
    "### 1.3.14\n",
    "\n",
    "\n",
    "#### 解答\n",
    "\n"
   ]
  },
  {
   "cell_type": "code",
   "execution_count": null,
   "metadata": {},
   "outputs": [],
   "source": []
  },
  {
   "cell_type": "markdown",
   "metadata": {},
   "source": [
    "### 1.3.15\n",
    "\n",
    "\n",
    "#### 解答\n",
    "\n"
   ]
  },
  {
   "cell_type": "code",
   "execution_count": null,
   "metadata": {},
   "outputs": [],
   "source": []
  },
  {
   "cell_type": "markdown",
   "metadata": {},
   "source": [
    "### 1.3.16\n",
    "\n",
    "\n",
    "#### 解答\n",
    "\n"
   ]
  },
  {
   "cell_type": "code",
   "execution_count": null,
   "metadata": {},
   "outputs": [],
   "source": []
  },
  {
   "cell_type": "markdown",
   "metadata": {},
   "source": [
    "### 1.3.17\n",
    "\n",
    "\n",
    "#### 解答\n",
    "\n"
   ]
  },
  {
   "cell_type": "code",
   "execution_count": null,
   "metadata": {},
   "outputs": [],
   "source": []
  },
  {
   "cell_type": "markdown",
   "metadata": {},
   "source": [
    "### 1.3.18\n",
    "\n",
    "\n",
    "#### 解答\n",
    "\n"
   ]
  },
  {
   "cell_type": "code",
   "execution_count": null,
   "metadata": {},
   "outputs": [],
   "source": []
  },
  {
   "cell_type": "markdown",
   "metadata": {},
   "source": [
    "### 1.3.19\n",
    "\n",
    "\n",
    "#### 解答\n",
    "\n"
   ]
  },
  {
   "cell_type": "code",
   "execution_count": null,
   "metadata": {},
   "outputs": [],
   "source": []
  },
  {
   "cell_type": "markdown",
   "metadata": {},
   "source": [
    "### 1.3.20\n",
    "\n",
    "\n",
    "#### 解答\n",
    "\n"
   ]
  },
  {
   "cell_type": "code",
   "execution_count": null,
   "metadata": {},
   "outputs": [],
   "source": []
  }
 ],
 "metadata": {
  "kernelspec": {
   "display_name": "Python 3",
   "language": "python",
   "name": "python3"
  },
  "language_info": {
   "codemirror_mode": {
    "name": "ipython",
    "version": 3
   },
   "file_extension": ".py",
   "mimetype": "text/x-python",
   "name": "python",
   "nbconvert_exporter": "python",
   "pygments_lexer": "ipython3",
   "version": "3.6.2"
  }
 },
 "nbformat": 4,
 "nbformat_minor": 2
}
