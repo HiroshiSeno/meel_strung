{
 "cells": [
  {
   "cell_type": "code",
   "execution_count": 1,
   "metadata": {},
   "outputs": [],
   "source": [
    "\n",
    "import numpy as np\n",
    "import scipy.linalg as linalg\n",
    "from matplotlib import pyplot\n",
    "import scipy.sparse as sp\n",
    "import scipy.sparse.linalg as spla\n",
    "import math"
   ]
  },
  {
   "cell_type": "code",
   "execution_count": 2,
   "metadata": {},
   "outputs": [
    {
     "name": "stdout",
     "output_type": "stream",
     "text": [
      "[ 0.6  1.2  0.8  0.4]\n",
      "[[ 1.  0.  0.  0.  0.  0.  0.  0.  0.  0.]\n",
      " [-1.  1.  0.  0.  0.  0.  0.  0.  0.  0.]\n",
      " [ 0. -1.  1.  0.  0.  0.  0.  0.  0.  0.]\n",
      " [ 0.  0. -1.  1.  0.  0.  0.  0.  0.  0.]\n",
      " [ 0.  0.  0. -1.  1.  0.  0.  0.  0.  0.]\n",
      " [ 0.  0.  0.  0. -1.  1.  0.  0.  0.  0.]\n",
      " [ 0.  0.  0.  0.  0. -1.  1.  0.  0.  0.]\n",
      " [ 0.  0.  0.  0.  0.  0. -1.  1.  0.  0.]\n",
      " [ 0.  0.  0.  0.  0.  0.  0. -1.  1.  0.]\n",
      " [ 0.  0.  0.  0.  0.  0.  0.  0. -1.  1.]]\n",
      "[[ 1.  0.  0.  0.  0.  0.  0.  0.  0.  0.]\n",
      " [ 1.  1.  0.  0.  0.  0.  0.  0.  0.  0.]\n",
      " [ 1.  1.  1.  0.  0.  0.  0.  0.  0.  0.]\n",
      " [ 1.  1.  1.  1.  0.  0.  0.  0.  0.  0.]\n",
      " [ 1.  1.  1.  1.  1.  0.  0.  0.  0.  0.]\n",
      " [ 1.  1.  1.  1.  1.  1.  0.  0.  0.  0.]\n",
      " [ 1.  1.  1.  1.  1.  1.  1.  0.  0.  0.]\n",
      " [ 1.  1.  1.  1.  1.  1.  1.  1.  0.  0.]\n",
      " [ 1.  1.  1.  1.  1.  1.  1.  1.  1.  0.]\n",
      " [ 1.  1.  1.  1.  1.  1.  1.  1.  1.  1.]]\n"
     ]
    },
    {
     "data": {
      "image/png": "[encoded data removed]",
      "text/plain": [
       "<matplotlib.figure.Figure at 0x7ff8ea89beb8>"
      ]
     },
     "metadata": {},
     "output_type": "display_data"
    },
    {
     "name": "stderr",
     "output_type": "stream",
     "text": [
      "/opt/conda/lib/python3.6/site-packages/ipykernel_launcher.py:28: MatplotlibDeprecationWarning: pyplot.hold is deprecated.\n",
      "    Future behavior will be consistent with the long-time default:\n",
      "    plot commands add elements without first clearing the\n",
      "    Axes and/or Figure.\n",
      "/opt/conda/lib/python3.6/site-packages/matplotlib/__init__.py:917: UserWarning: axes.hold is deprecated. Please remove it from your matplotlibrc and/or style files.\n",
      "  warnings.warn(self.msg_depr_set % key)\n",
      "/opt/conda/lib/python3.6/site-packages/matplotlib/rcsetup.py:152: UserWarning: axes.hold is deprecated, will be removed in 3.0\n",
      "  warnings.warn(\"axes.hold is deprecated, will be removed in 3.0\")\n"
     ]
    },
    {
     "data": {
      "image/png": "[encoded data removed]",
      "text/plain": [
       "<matplotlib.figure.Figure at 0x7ff8ebab3630>"
      ]
     },
     "metadata": {},
     "output_type": "display_data"
    }
   ],
   "source": [
    "\n",
    "\n",
    "\n",
    "\n",
    "\n",
    "\n",
    "# 2 of 1.2\n",
    "K_4  = linalg.toeplitz([2, -1, 0, 0])\n",
    "x = np.linalg.solve(K_4, np.transpose(np.asarray([0,1,0,0])))\n",
    "print(x)\n",
    "\n",
    "\n",
    "# 4 of 1.2\n",
    "D_10_bdif = np.tri(10,10)-2*np.tri(10,10,-1)+np.tri(10,10, -2)\n",
    "print(D_10_bdif)\n",
    "print(np.linalg.inv(D_10_bdif))\n",
    "# 和分行列（積分）になった\n",
    "\n",
    "\n",
    "# 13 of 1.2\n",
    "h=1/10\n",
    "T_7  = linalg.toeplitz([2, -1, 0, 0,0,0,0])\n",
    "T_7[0,0] =1\n",
    "x = np.linalg.solve(T_7, np.transpose(np.asarray([1,1,1,1,1,1,1])))\n",
    "# print(x)\n",
    "pyplot.plot(x/h/h)\n",
    "pyplot.show()\n",
    "pyplot.hold(True);\n",
    "trueD = (1-(1/h/h)*(np.asarray([0,1,2,3,4,5,6]))*(np.asarray([0,1,2,3,4,5,6])))/2\n",
    "pyplot.plot(trueD)\n",
    "pyplot.show()\n",
    "\n"
   ]
  },
  {
   "cell_type": "markdown",
   "metadata": {},
   "source": [
    "### 1.2.1\n",
    "次の関数の2階微分と2階差分はなにか。\n",
    "\n",
    "#### 解答\n",
    "$(A-B)\\delta(x)$\n",
    "\n",
    "$U_n = [0,A-B, 0]$\n"
   ]
  },
  {
   "cell_type": "markdown",
   "metadata": {},
   "source": [
    "### 1.2.2\n",
    "$u(-2)=0, u(3)=0$の条件の下$-u''(x)=\\delta(x)$を解け。\n",
    "\n",
    "#### 解答\n",
    "$-u'(x)=step(x)+A$\n",
    "\n",
    "$-u(x)=x*step(x)+Ax+B$\n",
    "\n",
    "ここで初期条件を使って、\n",
    "\n",
    "$A=-\\frac{3}{5}, B=-\\frac{6}{5}$\n",
    "\n"
   ]
  },
  {
   "cell_type": "code",
   "execution_count": 3,
   "metadata": {},
   "outputs": [
    {
     "name": "stdout",
     "output_type": "stream",
     "text": [
      "[[ 2 -1  0  0]\n",
      " [-1  2 -1  0]\n",
      " [ 0 -1  2 -1]\n",
      " [ 0  0 -1  2]]\n",
      "[ 0.6  1.2  0.8  0.4]\n",
      "[0.6, 1.2, 0.8, 0.4]\n"
     ]
    }
   ],
   "source": [
    "K_4  = linalg.toeplitz([2, -1, 0, 0])\n",
    "print(K_4)\n",
    "x = np.linalg.solve(K_4, np.transpose(np.asarray([0,1,0,0])))\n",
    "print(x)\n",
    "\n",
    "print([0.6, 1.2, 0.8,  0.4])"
   ]
  },
  {
   "cell_type": "markdown",
   "metadata": {},
   "source": [
    "### 1.2.3\n",
    "中心差分$(u(x+h)-u(x-h))/2h$の誤差における$h^2$の項は$\\frac{1}{6}h^{2}u'''(x)$である。$u(x)=x^3, u(x)=x^4$についてこれを確認せよ\n",
    "\n",
    "#### 解答\n",
    "$u(x)=x^3のとき、u'''(x)=6$だから、誤差における$h^2$の項は$h^2$である。\n",
    "実際に計算してみると、"
   ]
  },
  {
   "cell_type": "code",
   "execution_count": 4,
   "metadata": {},
   "outputs": [
    {
     "name": "stdout",
     "output_type": "stream",
     "text": [
      "[[-27]\n",
      " [ -8]\n",
      " [ -1]\n",
      " [  0]\n",
      " [  1]\n",
      " [  8]\n",
      " [ 27]\n",
      " [ 64]\n",
      " [125]\n",
      " [216]\n",
      " [343]]\n",
      "[[ -31.]\n",
      " [   1.]\n",
      " [   1.]\n",
      " [   1.]\n",
      " [   1.]\n",
      " [   1.]\n",
      " [   1.]\n",
      " [   1.]\n",
      " [   1.]\n",
      " [   1.]\n",
      " [-255.]]\n",
      "[[  116.]\n",
      " [   -8.]\n",
      " [   -4.]\n",
      " [    0.]\n",
      " [    4.]\n",
      " [    8.]\n",
      " [   12.]\n",
      " [   16.]\n",
      " [   20.]\n",
      " [   24.]\n",
      " [-2020.]]\n"
     ]
    }
   ],
   "source": [
    "n=11\n",
    "x=np.transpose(np.array([[-3,-2,-1,0,1,2,3,4,5,6,7]]))\n",
    "a=-np.ones([1,n])\n",
    "b=np.zeros([1,n])\n",
    "x3 = x*x*x\n",
    "x4=x*x*x*x\n",
    "x3d = 3*x*x\n",
    "x4d = 4*x*x*x\n",
    "print(x3)\n",
    "A = 1/2*sp.spdiags(np.r_[a, b, -a], [-1,0,1],n,n).toarray()\n",
    "print(A.dot(x3)-x3d)\n",
    "print(A.dot(x4)-x4d)"
   ]
  },
  {
   "cell_type": "code",
   "execution_count": null,
   "metadata": {},
   "outputs": [],
   "source": []
  },
  {
   "cell_type": "markdown",
   "metadata": {},
   "source": [
    "### 1.2.4\n",
    "式(28)の後退差分行列の逆行列が式(29)の和分行列であることを確認せよ。\n",
    "しかし、中心差分の行列は可逆でないことがある。n=3, n=5について$\\Delta_0u=0$を解け。\n",
    "#### 解答\n",
    "和分行列であることが確認できた。\n",
    "一方で、中心差分行列は3次の場合は逆行列が存在したが、5次の場合detが0となり逆行列が存在しなかった。\n",
    "\n",
    "微分方程式としてはどういう意味？"
   ]
  },
  {
   "cell_type": "code",
   "execution_count": 5,
   "metadata": {},
   "outputs": [
    {
     "name": "stdout",
     "output_type": "stream",
     "text": [
      "[[ 1.  0.  0.  0.]\n",
      " [-1.  1.  0.  0.]\n",
      " [ 0. -1.  1.  0.]\n",
      " [ 0.  0. -1.  1.]]\n",
      "[[ 1. -0. -0. -0.]\n",
      " [ 1.  1. -0. -0.]\n",
      " [ 1.  1.  1. -0.]\n",
      " [ 1.  1.  1.  1.]]\n",
      "[[ 1. -1.  0.  0.]\n",
      " [ 0.  1. -1.  0.]\n",
      " [ 0.  0.  1. -1.]\n",
      " [ 0.  0.  0.  1.]]\n",
      "[[ 1.  -0.5  0. ]\n",
      " [-0.5  1.  -0.5]\n",
      " [ 0.  -0.5  1. ]]\n",
      "[[ 0.]\n",
      " [ 0.]\n",
      " [ 0.]]\n"
     ]
    },
    {
     "ename": "LinAlgError",
     "evalue": "Matrix is singular.",
     "output_type": "error",
     "traceback": [
      "\u001b[0;31m---------------------------------------------------------------------------\u001b[0m",
      "\u001b[0;31mLinAlgError\u001b[0m                               Traceback (most recent call last)",
      "\u001b[0;32m<ipython-input-5-0a233f588e0a>\u001b[0m in \u001b[0;36m<module>\u001b[0;34m()\u001b[0m\n\u001b[1;32m     13\u001b[0m \u001b[0mprint\u001b[0m\u001b[0;34m(\u001b[0m\u001b[0mD_3_cent\u001b[0m\u001b[0;34m)\u001b[0m\u001b[0;34m\u001b[0m\u001b[0m\n\u001b[1;32m     14\u001b[0m \u001b[0mprint\u001b[0m\u001b[0;34m(\u001b[0m\u001b[0mlinalg\u001b[0m\u001b[0;34m.\u001b[0m\u001b[0msolve\u001b[0m\u001b[0;34m(\u001b[0m\u001b[0mD_3_cent\u001b[0m\u001b[0;34m,\u001b[0m \u001b[0mnp\u001b[0m\u001b[0;34m.\u001b[0m\u001b[0mzeros\u001b[0m\u001b[0;34m(\u001b[0m\u001b[0;34m[\u001b[0m\u001b[0;36m3\u001b[0m\u001b[0;34m,\u001b[0m\u001b[0;36m1\u001b[0m\u001b[0;34m]\u001b[0m\u001b[0;34m)\u001b[0m\u001b[0;34m)\u001b[0m\u001b[0;34m)\u001b[0m\u001b[0;34m\u001b[0m\u001b[0m\n\u001b[0;32m---> 15\u001b[0;31m \u001b[0mprint\u001b[0m\u001b[0;34m(\u001b[0m\u001b[0mlinalg\u001b[0m\u001b[0;34m.\u001b[0m\u001b[0msolve\u001b[0m\u001b[0;34m(\u001b[0m\u001b[0mD_5_cent\u001b[0m\u001b[0;34m,\u001b[0m \u001b[0mnp\u001b[0m\u001b[0;34m.\u001b[0m\u001b[0mzeros\u001b[0m\u001b[0;34m(\u001b[0m\u001b[0;34m[\u001b[0m\u001b[0;36m5\u001b[0m\u001b[0;34m,\u001b[0m\u001b[0;36m1\u001b[0m\u001b[0;34m]\u001b[0m\u001b[0;34m)\u001b[0m\u001b[0;34m)\u001b[0m\u001b[0;34m)\u001b[0m\u001b[0;34m\u001b[0m\u001b[0m\n\u001b[0m",
      "\u001b[0;32m/opt/conda/lib/python3.6/site-packages/scipy/linalg/basic.py\u001b[0m in \u001b[0;36msolve\u001b[0;34m(a, b, sym_pos, lower, overwrite_a, overwrite_b, debug, check_finite, assume_a, transposed)\u001b[0m\n\u001b[1;32m    217\u001b[0m         \u001b[0;32mreturn\u001b[0m \u001b[0mx\u001b[0m\u001b[0;34m\u001b[0m\u001b[0m\n\u001b[1;32m    218\u001b[0m     \u001b[0;32melif\u001b[0m \u001b[0;36m0\u001b[0m \u001b[0;34m<\u001b[0m \u001b[0minfo\u001b[0m \u001b[0;34m<=\u001b[0m \u001b[0mn\u001b[0m\u001b[0;34m:\u001b[0m\u001b[0;34m\u001b[0m\u001b[0m\n\u001b[0;32m--> 219\u001b[0;31m         \u001b[0;32mraise\u001b[0m \u001b[0mLinAlgError\u001b[0m\u001b[0;34m(\u001b[0m\u001b[0;34m'Matrix is singular.'\u001b[0m\u001b[0;34m)\u001b[0m\u001b[0;34m\u001b[0m\u001b[0m\n\u001b[0m\u001b[1;32m    220\u001b[0m     \u001b[0;32melif\u001b[0m \u001b[0minfo\u001b[0m \u001b[0;34m>\u001b[0m \u001b[0mn\u001b[0m\u001b[0;34m:\u001b[0m\u001b[0;34m\u001b[0m\u001b[0m\n\u001b[1;32m    221\u001b[0m         warnings.warn('scipy.linalg.solve\\nIll-conditioned matrix detected.'\n",
      "\u001b[0;31mLinAlgError\u001b[0m: Matrix is singular."
     ]
    }
   ],
   "source": [
    "a=np.ones([1,4])\n",
    "T_3_b= sp.spdiags(np.r_[-a, a], [-1,0],3,3).toarray()\n",
    "T_3_f= sp.spdiags(np.r_[-a, a], [1,0],3,3).toarray()\n",
    "T_4_b= sp.spdiags(np.r_[-a, a], [-1,0],4,4).toarray()\n",
    "T_4_f= sp.spdiags(np.r_[-a, a], [1,0],4,4).toarray()\n",
    "T_5_b= sp.spdiags(np.r_[-a, a], [-1,0],5,5).toarray()\n",
    "T_5_f= sp.spdiags(np.r_[-a, a], [1,0],5,5).toarray()\n",
    "D_3_cent = (T_3_f + T_3_b)/2\n",
    "D_5_cent = (T_5_f + T_5_b)/2\n",
    "print(T_4_b)\n",
    "print(linalg.inv(T_4_b))\n",
    "print(T_4_f)\n",
    "print(D_3_cent)\n",
    "print(linalg.solve(D_3_cent, np.zeros([3,1])))\n",
    "print(linalg.solve(D_5_cent, np.zeros([5,1])))\n"
   ]
  },
  {
   "cell_type": "markdown",
   "metadata": {},
   "source": [
    "### 1.2.5\n",
    "前進差分のテイラー展開において、$u(x)=x^4, x=0$とすることにより、4次の項の係数を求めよ。\n",
    "\n",
    "#### 解答\n",
    "$u(x+h) = u(x)+hu'(x)+\\frac{1}{2}h^2u''(x)+\\frac{1}{6}h^3u'''(x)+...$\n",
    "4次の項は$\\frac{1}{24}h^4u''''(x)$\n",
    "いま、$u(x)=x^4$だから$u''''(x)=24$で、よって求める係数は$a=1/24$, $au''''(0)=1$\n"
   ]
  },
  {
   "cell_type": "markdown",
   "metadata": {},
   "source": [
    "### 1.2.6\n",
    "$u(x)=x^4$について、２階微分と2階差分を求めよ。比較を行い、誤差の主要項の係数を求めよ。\n",
    "\n",
    "#### 解答\n",
    "微分については$12x^2$。テイラー展開の結果、二階差分で$x^4$を演算する場合誤差の項は$h$の2次, 4次, ...の項がある。\n",
    "$u(x+h) = u(x)+hu'(x)+\\frac{1}{2}h^2u''(x)+\\frac{1}{6}h^3u'''(x)+\\frac{1}{24}h^4u''''(x)...$\n",
    "\n",
    "$u(x+h)-2u(x)+u(x-h) = h^2u''(x)+2*\\frac{1}{24}h^4u''''(x)$\n",
    "2階微分に対応させるために$\\frac{u(x+h)-2u(x)+u(x-h)}{h^2}$とすると、誤差項は$\\frac{1}{12}h^2u''''(x)=2h^2$"
   ]
  },
  {
   "cell_type": "markdown",
   "metadata": {},
   "source": [
    "### 1.2.7\n",
    "$u$において4点の標本値を使えば、$\\frac{du}{dx}$に対する4次精度の中心差分が計算できる。\n",
    "\n",
    "$\\frac{-u_2+8u_1-8u_{-1}+u_{-2}}{12h}$\n",
    "1. この式が$u=1, u=x^2, u=x^4$について正しいことを確認せよ。\n",
    "\n",
    "\n",
    "#### 解答\n",
    "1. u=1については各項の係数から明らかである。他の係数のものも、5項分使わないと理論的に正しくないので端部ではエラーが大きいが中心付近では計算機の計算精度依存のみになっているように見られた。\n",
    "\n"
   ]
  },
  {
   "cell_type": "code",
   "execution_count": null,
   "metadata": {},
   "outputs": [],
   "source": [
    "n=15\n",
    "a=np.ones([1,n])\n",
    "D_10_4pre= 1/12*sp.spdiags(np.r_[a, -8*a, 8*a, -a], [-2,-1,1,2],n,n).toarray()\n",
    "print(D_10_4pre*12)\n",
    "x=np.array(range(n))\n",
    "x_2 = x*x\n",
    "x_4 =x*x*x*x\n",
    "x_2_d = 2*x\n",
    "x_4_d = 4*x*x*x\n",
    "print(D_10_4pre.dot(x_4)-x_4_d)\n",
    "print(D_10_4pre.dot(x_2)-x_2_d)\n",
    "\n",
    "\n",
    "pyplot.plot(D_10_4pre.dot(x_4)-x_4_d)\n",
    "pyplot.show()\n"
   ]
  },
  {
   "cell_type": "markdown",
   "metadata": {},
   "source": [
    "### 1.2.8\n",
    "$u_{-2},u_{-1},u_{0},u_{1},u_{2}$を組み合わせて4次精度の中心差分？\n",
    "\n",
    "#### 解答\n",
    "$\\frac{-u_2+16u_1+30u_0+16u_{-1}-u_{-2}}{12h}$\n"
   ]
  },
  {
   "cell_type": "markdown",
   "metadata": {},
   "source": [
    "### 1.2.9\n",
    "次の式が4次精度の4回差分であることを$x,x^2,x^3,x^4$を用いて確認せよ。\n",
    "\n",
    "$\\frac{-u_2-4u_1+6u_0-4u_{-1}+u_{-2}}{h^4}$\n",
    "\n",
    "#### 解答\n",
    "\n",
    "以下の結果より4次の係数は-22"
   ]
  },
  {
   "cell_type": "code",
   "execution_count": null,
   "metadata": {},
   "outputs": [],
   "source": [
    "n=15\n",
    "a=np.ones([1,n])\n",
    "D_n_4d_4pre= sp.spdiags(np.r_[a, -4*a, 6*a,  -4*a, a], [-2,-1, 0,1,2],n,n).toarray()\n",
    "print(D_n_4d_4pre)\n",
    "x=np.transpose(np.array([range(n)]))\n",
    "print(x)\n",
    "x_2 = x*x\n",
    "x_3=x*x*x\n",
    "x_4 =x*x*x*x\n",
    "x_4_d4 = 24\n",
    "# print(D_n_4d_4pre.dot(x))\n",
    "# print(D_n_4d_4pre.dot(x_2))\n",
    "# print(D_n_4d_4pre.dot(x_3))\n",
    "print(D_n_4d_4pre.dot(x_4))\n",
    "print(D_n_4d_4pre.dot(x_4)-x_4_d4)"
   ]
  },
  {
   "cell_type": "markdown",
   "metadata": {},
   "source": [
    "### 1.2.10\n",
    "前進差分と後退差分の行列をかける順番を変えた時、境界条件はどうなるか？\n",
    "\n",
    "\n",
    "#### 解答\n",
    "末尾の行が境界条件となる。u'=0は最初の行。「近似」という表現なのは、離散的な数においてもu=0は厳密に設定できるのに対しu'=0は離散的なデータの差分を使うため誤差が生じるからである。"
   ]
  },
  {
   "cell_type": "code",
   "execution_count": null,
   "metadata": {},
   "outputs": [],
   "source": [
    "T_5_b= sp.spdiags(np.r_[-a, a], [-1,0],5,5).toarray()\n",
    "T_5_f= sp.spdiags(np.r_[-a, a], [1,0],5,5).toarray()\n",
    "D_5_cent = (T_5_f.dot(T_5_b))/2\n",
    "print( (T_5_f.dot(T_5_b))/2)\n",
    "print( (T_5_b.dot(T_5_f))/2)"
   ]
  },
  {
   "cell_type": "markdown",
   "metadata": {},
   "source": [
    "### 1.2.11\n",
    "$\\frac{du}{dx}$に対する2次精度の片側差分近似が欲しいとして、\n",
    "$\\frac{ru(x)+su(x-{\\Delta}x)+tu(x-2{\\Delta}x)}{{\\Delta}x}=\\frac{du}{dx}$\n",
    "ただし、$u=1,x,x^2$\n",
    "$u=1,x,x^2$を代入してr,s,tに関する3本の方程式を解け。対応する差分行列は下三角になる。この公式は因果的である。\n",
    "\n",
    "#### 解答\n",
    "答えが既知（＝右辺が既知）の方程式で、かつ係数行列がの各行が独立（$1,x,x^2$）で未知数の数と同じだけ存在する条件を揃えて、行列で未知数を求めるアプローチ。1,x,x^2を使うことで右辺が1階微分の係数にできる。今回はx=0を仮定して式を作成した。\n",
    "\n",
    "1.5, -2, 0.5\n"
   ]
  },
  {
   "cell_type": "code",
   "execution_count": null,
   "metadata": {},
   "outputs": [],
   "source": [
    "A=np.array([[1,1,1],[0,-1,-2],[0,1,4]])\n",
    "print(A)\n",
    "f=np.transpose(np.array([[0,1,0]]))\n",
    "print(f)\n",
    "print(linalg.solve(A,f))"
   ]
  },
  {
   "cell_type": "markdown",
   "metadata": {},
   "source": [
    "### 1.2.12\n",
    "$\\frac{1}{h}[(\\frac{u_{i+1}-u_i}{h})-(\\frac{u_{i}-u_{i-1}}{h})]  is  \\frac{u_{i+1}-2u_i+u_{i-1}}{h^2}$\n",
    "上の式は\"１階差分の１階差分\"である。この左辺と\n",
    "\n",
    "$\\frac{1}{h}[u_{i+\\frac{1}{2}}-u_{i-\\frac{1}{2}}]$\n",
    "との差は$O(h^2)$である。なぜか。また、$u_i''$との差も$O(h^2)$である。なぜか。\n",
    "#### 解答\n",
    "テイラー展開するとそうなる。\n",
    "もっと言うと、1次の誤差項は$u_{i+1}とu_{i-1}$との間で打ち消されるため、結果として2次の誤差項が主要項となる。この打ち消しは$i$からのずれが正負で対称なものの差をとる時起こるので、ズレ幅が$\\frac{1}{2}$であっても同じことが起こる。ただし、この時2次の項の係数が$\\frac{1}{h}[(\\frac{u_{i+1}-u_i}{h})-(\\frac{u_{i}-u_{i-1}}{h})]$とは異なるため、二つの2階差分の式の差は$O(h^2)$となる。同様にして、$u_i''$との差が$O(h^2)$なのは1次の誤差の主要項が2次であることに依る。\n",
    "\n",
    "\n"
   ]
  },
  {
   "cell_type": "markdown",
   "metadata": {},
   "source": [
    "### 1.2.13\n",
    "\n",
    "\n",
    "#### 解答\n",
    "\n"
   ]
  },
  {
   "cell_type": "code",
   "execution_count": null,
   "metadata": {},
   "outputs": [],
   "source": [
    "n=3\n",
    "h=0.25\n",
    "# A = np.array([1,1,1,1,1,1,1])\n",
    "# print(A)\n",
    "# for x in range(n):\n",
    "#     A[x] =np.sum(range(n))-np.sum(range(x))\n",
    "# a = h*h*(np.array([range(n)]))\n",
    "# print(A)\n",
    "# pyplot.plot(A)\n",
    "# pyplot.show()\n",
    "\n",
    "\n",
    "T_7  = linalg.toeplitz([2, -1]+[0]*(n-2))\n",
    "T_7[0,0]=1\n",
    "f_7=np.ones([n,1])\n",
    "print(T_7)\n",
    "print(f_7)\n",
    "u=linalg.solve(1/h/h*T_7,f_7)\n",
    "\n",
    "print(u)\n",
    "pyplot.plot(u)\n",
    "pyplot.show()\n",
    "\n",
    "\n"
   ]
  },
  {
   "cell_type": "markdown",
   "metadata": {},
   "source": [
    "### 1.2.14\n",
    "\n",
    "\n",
    "#### 解答\n",
    "完全解は$x^4-1$\n"
   ]
  },
  {
   "cell_type": "code",
   "execution_count": 6,
   "metadata": {},
   "outputs": [
    {
     "name": "stdout",
     "output_type": "stream",
     "text": [
      "[[-0.9999    ]\n",
      " [-0.9999    ]\n",
      " [-0.99989988]\n",
      " [-0.99989928]\n",
      " [-0.9998976 ]\n",
      " [-0.999894  ]\n",
      " [-0.9998874 ]\n",
      " [-0.99987648]\n",
      " [-0.99985968]\n",
      " [-0.9998352 ]\n",
      " [-0.999801  ]\n",
      " [-0.9997548 ]\n",
      " [-0.99969408]\n",
      " [-0.99961608]\n",
      " [-0.9995178 ]\n",
      " [-0.999396  ]\n",
      " [-0.9992472 ]\n",
      " [-0.99906768]\n",
      " [-0.99885348]\n",
      " [-0.9986004 ]\n",
      " [-0.998304  ]\n",
      " [-0.9979596 ]\n",
      " [-0.99756228]\n",
      " [-0.99710688]\n",
      " [-0.996588  ]\n",
      " [-0.996     ]\n",
      " [-0.995337  ]\n",
      " [-0.99459288]\n",
      " [-0.99376128]\n",
      " [-0.9928356 ]\n",
      " [-0.991809  ]\n",
      " [-0.9906744 ]\n",
      " [-0.98942448]\n",
      " [-0.98805168]\n",
      " [-0.9865482 ]\n",
      " [-0.984906  ]\n",
      " [-0.9831168 ]\n",
      " [-0.98117208]\n",
      " [-0.97906308]\n",
      " [-0.9767808 ]\n",
      " [-0.974316  ]\n",
      " [-0.9716592 ]\n",
      " [-0.96880068]\n",
      " [-0.96573048]\n",
      " [-0.9624384 ]\n",
      " [-0.958914  ]\n",
      " [-0.9551466 ]\n",
      " [-0.95112528]\n",
      " [-0.94683888]\n",
      " [-0.942276  ]\n",
      " [-0.937425  ]\n",
      " [-0.932274  ]\n",
      " [-0.92681088]\n",
      " [-0.92102328]\n",
      " [-0.9148986 ]\n",
      " [-0.908424  ]\n",
      " [-0.9015864 ]\n",
      " [-0.89437248]\n",
      " [-0.88676868]\n",
      " [-0.8787612 ]\n",
      " [-0.870336  ]\n",
      " [-0.8614788 ]\n",
      " [-0.85217508]\n",
      " [-0.84241008]\n",
      " [-0.8321688 ]\n",
      " [-0.821436  ]\n",
      " [-0.8101962 ]\n",
      " [-0.79843368]\n",
      " [-0.78613248]\n",
      " [-0.7732764 ]\n",
      " [-0.759849  ]\n",
      " [-0.7458336 ]\n",
      " [-0.73121328]\n",
      " [-0.71597088]\n",
      " [-0.700089  ]\n",
      " [-0.68355   ]\n",
      " [-0.666336  ]\n",
      " [-0.64842888]\n",
      " [-0.62981028]\n",
      " [-0.6104616 ]\n",
      " [-0.590364  ]\n",
      " [-0.5694984 ]\n",
      " [-0.54784548]\n",
      " [-0.52538568]\n",
      " [-0.5020992 ]\n",
      " [-0.477966  ]\n",
      " [-0.4529658 ]\n",
      " [-0.42707808]\n",
      " [-0.40028208]\n",
      " [-0.3725568 ]\n",
      " [-0.343881  ]\n",
      " [-0.3142332 ]\n",
      " [-0.28359168]\n",
      " [-0.25193448]\n",
      " [-0.2192394 ]\n",
      " [-0.185484  ]\n",
      " [-0.1506456 ]\n",
      " [-0.11470128]\n",
      " [-0.07762788]\n",
      " [-0.039402  ]]\n"
     ]
    },
    {
     "data": {
      "image/png": "[encoded data removed]",
      "text/plain": [
       "<matplotlib.figure.Figure at 0x7ff8ea89b4e0>"
      ]
     },
     "metadata": {},
     "output_type": "display_data"
    }
   ],
   "source": [
    "\n",
    "n=100\n",
    "h=0.01\n",
    "\n",
    "T_100  = linalg.toeplitz([2, -1]+[0]*(n-2))\n",
    "T_100[0,0]=1\n",
    "x = np.transpose(np.array([range(n)]))*h\n",
    "# print(x)\n",
    "f_100=-x*x*12\n",
    "# print(T_1)\n",
    "# print(f_7)\n",
    "u=linalg.solve(1/h/h*T_100,f_100)\n",
    "\n",
    "print(u)\n",
    "pyplot.plot(u)\n",
    "pyplot.show()\n",
    "\n",
    "\n",
    "\n",
    "# print(np.hstack((np.array([1,-1]),np.zeros(8))))\n",
    "# U_n = linalg.toeplitz(np.hstack((np.array([1,-1]),np.zeros(8))))*np.transpose(np.tri(10))\n",
    "# print(U_n)\n",
    "\n"
   ]
  },
  {
   "cell_type": "code",
   "execution_count": 8,
   "metadata": {},
   "outputs": [
    {
     "name": "stdout",
     "output_type": "stream",
     "text": [
      "[[ 0.    ]\n",
      " [ 0.1875]\n",
      " [ 0.75  ]]\n",
      "[[ 0.        ]\n",
      " [ 0.00097656]\n",
      " [ 0.015625  ]]\n",
      "[[ 0.01757812]\n",
      " [ 0.03515625]\n",
      " [ 0.04101562]]\n"
     ]
    },
    {
     "data": {
      "image/png": "[encoded data removed]",
      "text/plain": [
       "<matplotlib.figure.Figure at 0x7ff8ba1e8630>"
      ]
     },
     "metadata": {},
     "output_type": "display_data"
    }
   ],
   "source": [
    "\n",
    "n=3\n",
    "h=1/(n+1)\n",
    "\n",
    "K_100  = linalg.toeplitz([2, -1]+[0]*(n-2))\n",
    "x = np.transpose(np.array([range(n)])+1)\n",
    "# print(x)\n",
    "f_100=x*x*h*h*3\n",
    "ans = (x*h)*(x*h)*(x*h)*(x*h)/4\n",
    "# print(T_1)\n",
    "print(f_100)\n",
    "u=linalg.solve(1/h/h*K_100,f_100)\n",
    "\n",
    "# print(ans-u[round(n/2)])\n",
    "\n",
    "\n",
    "print(ans)\n",
    "print(u)\n",
    "\n",
    "# print(ans[round(n/2)])\n",
    "# print(u[round(n/2)])\n",
    "\n",
    "\n",
    "# print(u)\n",
    "pyplot.plot(u)\n",
    "pyplot.show()\n",
    "\n",
    "\n"
   ]
  },
  {
   "cell_type": "markdown",
   "metadata": {},
   "source": [
    "### 1.2.15\n",
    "\n",
    "\n",
    "#### 解答\n",
    "\n"
   ]
  },
  {
   "cell_type": "code",
   "execution_count": null,
   "metadata": {},
   "outputs": [],
   "source": [
    "for n in [3,5,10,100]:\n",
    "    h=np.array(np.array(range(n)))/(n+1)\n",
    "    u=np.cos(4*math.pi*h)\n",
    "    pyplot.plot(u)\n",
    "    pyplot.show()\n"
   ]
  },
  {
   "cell_type": "markdown",
   "metadata": {},
   "source": [
    "### 1.2.16\n",
    "\n",
    "\n",
    "#### 解答\n",
    "\n"
   ]
  },
  {
   "cell_type": "code",
   "execution_count": null,
   "metadata": {},
   "outputs": [],
   "source": [
    "m=1\n",
    "nn=30\n",
    "n=nn*m    \n",
    "h=np.array(np.array(range(n)))/(nn+1)\n",
    "K_n  = linalg.toeplitz(np.hstack((np.array([2,-1]),np.zeros(n-2))))\n",
    "K_n[0,0] = 1\n",
    "K_n[1,0:3] = np.array([0,1,-1])\n",
    "# print(K_n)\n",
    "f=np.cos(4*math.pi*h)\n",
    "print(h)\n",
    "\n",
    "pyplot.plot(linalg.solve(K_n, f))\n",
    "pyplot.show()\n",
    "\n",
    "\n"
   ]
  },
  {
   "cell_type": "markdown",
   "metadata": {},
   "source": [
    "### 1.2.17\n",
    "\n",
    "\n",
    "#### 解答\n",
    "手計算\n"
   ]
  },
  {
   "cell_type": "markdown",
   "metadata": {},
   "source": [
    "### 1.2.18\n",
    "\n",
    "\n",
    "#### 解答\n",
    "\n"
   ]
  },
  {
   "cell_type": "markdown",
   "metadata": {},
   "source": [
    "### 1.2.19\n",
    "\n",
    "\n",
    "#### 解答\n",
    "\n"
   ]
  },
  {
   "cell_type": "markdown",
   "metadata": {},
   "source": [
    "### 1.2.20\n",
    "\n",
    "\n",
    "#### 解答\n",
    "\n"
   ]
  },
  {
   "cell_type": "markdown",
   "metadata": {},
   "source": [
    "### 1.2.21\n",
    "\n",
    "\n",
    "#### 解答\n",
    "\n"
   ]
  },
  {
   "cell_type": "markdown",
   "metadata": {},
   "source": [
    "### 1.2.22\n",
    "\n",
    "\n",
    "#### 解答\n",
    "\n"
   ]
  }
 ],
 "metadata": {
  "kernelspec": {
   "display_name": "Python 3",
   "language": "python",
   "name": "python3"
  },
  "language_info": {
   "codemirror_mode": {
    "name": "ipython",
    "version": 3
   },
   "file_extension": ".py",
   "mimetype": "text/x-python",
   "name": "python",
   "nbconvert_exporter": "python",
   "pygments_lexer": "ipython3",
   "version": "3.6.2"
  }
 },
 "nbformat": 4,
 "nbformat_minor": 2
}
