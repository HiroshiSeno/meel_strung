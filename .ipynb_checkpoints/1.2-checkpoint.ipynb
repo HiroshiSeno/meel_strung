{
 "cells": [
  {
   "cell_type": "code",
   "execution_count": 2,
   "metadata": {},
   "outputs": [],
   "source": [
    "\n",
    "import numpy as np\n",
    "import scipy.linalg as linalg\n",
    "from matplotlib import pyplot\n",
    "import scipy.sparse as sp\n",
    "import scipy.sparse.linalg as spla\n",
    "import math"
   ]
  },
  {
   "cell_type": "code",
   "execution_count": null,
   "metadata": {},
   "outputs": [],
   "source": [
    "\n",
    "\n",
    "\n",
    "\n",
    "\n",
    "\n",
    "# 2 of 1.2\n",
    "K_4  = linalg.toeplitz([2, -1, 0, 0])\n",
    "x = np.linalg.solve(K_4, np.transpose(np.asarray([0,1,0,0])))\n",
    "print(x)\n",
    "\n",
    "\n",
    "# 4 of 1.2\n",
    "D_10_bdif = np.tri(10,10)-2*np.tri(10,10,-1)+np.tri(10,10, -2)\n",
    "print(D_10_bdif)\n",
    "print(np.linalg.inv(D_10_bdif))\n",
    "# 和分行列（積分）になった\n",
    "\n",
    "\n",
    "# 13 of 1.2\n",
    "h=1/10\n",
    "T_7  = linalg.toeplitz([2, -1, 0, 0,0,0,0])\n",
    "T_7[0,0] =1\n",
    "x = np.linalg.solve(T_7, np.transpose(np.asarray([1,1,1,1,1,1,1])))\n",
    "# print(x)\n",
    "pyplot.plot(x/h/h)\n",
    "pyplot.show()\n",
    "pyplot.hold(True);\n",
    "trueD = (1-(1/h/h)*(np.asarray([0,1,2,3,4,5,6]))*(np.asarray([0,1,2,3,4,5,6])))/2\n",
    "pyplot.plot(trueD)\n",
    "pyplot.show()\n",
    "\n"
   ]
  },
  {
   "cell_type": "markdown",
   "metadata": {},
   "source": [
    "### 1.2.1\n",
    "次の関数の2階微分と2階差分はなにか。\n",
    "\n",
    "#### 解答\n",
    "$(A-B)\\delta(x)$\n",
    "\n",
    "$U_n = [0,A-B, 0]$\n"
   ]
  },
  {
   "cell_type": "markdown",
   "metadata": {},
   "source": [
    "### 1.2.2\n",
    "$u(-2)=0, u(3)=0$の条件の下$-u''(x)=\\delta(x)$を解け。\n",
    "\n",
    "#### 解答\n",
    "$-u'(x)=step(x)+A$\n",
    "\n",
    "$-u(x)=x*step(x)+Ax+B$\n",
    "\n",
    "ここで初期条件を使って、\n",
    "\n",
    "$A=-\\frac{3}{5}, B=-\\frac{6}{5}$\n",
    "\n"
   ]
  },
  {
   "cell_type": "code",
   "execution_count": 7,
   "metadata": {},
   "outputs": [
    {
     "name": "stdout",
     "output_type": "stream",
     "text": [
      "[[ 2 -1  0  0]\n",
      " [-1  2 -1  0]\n",
      " [ 0 -1  2 -1]\n",
      " [ 0  0 -1  2]]\n",
      "[ 0.6  1.2  0.8  0.4]\n",
      "[0.6, 1.2, 0.8, 0.4]\n"
     ]
    }
   ],
   "source": [
    "K_4  = linalg.toeplitz([2, -1, 0, 0])\n",
    "print(K_4)\n",
    "x = np.linalg.solve(K_4, np.transpose(np.asarray([0,1,0,0])))\n",
    "print(x)\n",
    "\n",
    "print([0.6, 1.2, 0.8,  0.4])"
   ]
  },
  {
   "cell_type": "markdown",
   "metadata": {},
   "source": [
    "### 1.2.3\n",
    "中心差分$(u(x+h)-u(x-h))/2h$の誤差における$h^2$の項は$\\frac{1}{6]h^2u'''(x)$である。$u(x)=x^3, u(x)=x^4$についてこれを確認せよ\n",
    "\n",
    "#### 解答\n",
    "$u(x)=x^3のとき、u'''(x)=6$だから、誤差における$h^2$の項は$h^2$である。\n",
    "実際に計算してみると、"
   ]
  },
  {
   "cell_type": "code",
   "execution_count": 33,
   "metadata": {},
   "outputs": [
    {
     "name": "stdout",
     "output_type": "stream",
     "text": [
      "[[-27]\n",
      " [ -8]\n",
      " [ -1]\n",
      " [  0]\n",
      " [  1]\n",
      " [  8]\n",
      " [ 27]\n",
      " [ 64]\n",
      " [125]\n",
      " [216]\n",
      " [343]]\n",
      "[[ -31.]\n",
      " [   1.]\n",
      " [   1.]\n",
      " [   1.]\n",
      " [   1.]\n",
      " [   1.]\n",
      " [   1.]\n",
      " [   1.]\n",
      " [   1.]\n",
      " [   1.]\n",
      " [-255.]]\n",
      "[[  116.]\n",
      " [   -8.]\n",
      " [   -4.]\n",
      " [    0.]\n",
      " [    4.]\n",
      " [    8.]\n",
      " [   12.]\n",
      " [   16.]\n",
      " [   20.]\n",
      " [   24.]\n",
      " [-2020.]]\n",
      "[[-108]\n",
      " [ -32]\n",
      " [  -4]\n",
      " [   0]\n",
      " [   4]\n",
      " [  32]\n",
      " [ 108]\n",
      " [ 256]\n",
      " [ 500]\n",
      " [ 864]\n",
      " [1372]]\n"
     ]
    }
   ],
   "source": [
    "n=11\n",
    "x=np.transpose(np.array([[-3,-2,-1,0,1,2,3,4,5,6,7]]))\n",
    "a=-np.ones([1,n])\n",
    "b=np.zeros([1,n])\n",
    "x3 = x*x*x\n",
    "x4=x*x*x*x\n",
    "x3d = 3*x*x\n",
    "x4d = 4*x*x*x\n",
    "print(x3)\n",
    "A = 1/2*sp.spdiags(np.r_[a, b, -a], [-1,0,1],n,n).toarray()\n",
    "print(A.dot(x3)-x3d)\n",
    "print(A.dot(x4)-x4d)"
   ]
  },
  {
   "cell_type": "code",
   "execution_count": null,
   "metadata": {},
   "outputs": [],
   "source": []
  },
  {
   "cell_type": "markdown",
   "metadata": {},
   "source": [
    "### 1.2.1\n",
    "\n",
    "\n",
    "#### 解答\n",
    "\n"
   ]
  },
  {
   "cell_type": "markdown",
   "metadata": {},
   "source": [
    "### 1.2.1\n",
    "\n",
    "\n",
    "#### 解答\n",
    "\n"
   ]
  },
  {
   "cell_type": "markdown",
   "metadata": {},
   "source": [
    "### 1.2.1\n",
    "\n",
    "\n",
    "#### 解答\n",
    "\n"
   ]
  },
  {
   "cell_type": "markdown",
   "metadata": {},
   "source": [
    "### 1.2.1\n",
    "\n",
    "\n",
    "#### 解答\n",
    "\n"
   ]
  },
  {
   "cell_type": "markdown",
   "metadata": {},
   "source": [
    "### 1.2.1\n",
    "\n",
    "\n",
    "#### 解答\n",
    "\n"
   ]
  },
  {
   "cell_type": "markdown",
   "metadata": {},
   "source": [
    "### 1.2.1\n",
    "\n",
    "\n",
    "#### 解答\n",
    "\n"
   ]
  },
  {
   "cell_type": "markdown",
   "metadata": {},
   "source": [
    "### 1.2.1\n",
    "\n",
    "\n",
    "#### 解答\n",
    "\n"
   ]
  },
  {
   "cell_type": "markdown",
   "metadata": {},
   "source": [
    "### 1.2.1\n",
    "\n",
    "\n",
    "#### 解答\n",
    "\n"
   ]
  },
  {
   "cell_type": "markdown",
   "metadata": {},
   "source": [
    "### 1.2.1\n",
    "\n",
    "\n",
    "#### 解答\n",
    "\n"
   ]
  },
  {
   "cell_type": "markdown",
   "metadata": {},
   "source": [
    "### 1.2.1\n",
    "\n",
    "\n",
    "#### 解答\n",
    "\n"
   ]
  },
  {
   "cell_type": "markdown",
   "metadata": {},
   "source": [
    "### 1.2.1\n",
    "\n",
    "\n",
    "#### 解答\n",
    "\n"
   ]
  },
  {
   "cell_type": "markdown",
   "metadata": {},
   "source": [
    "### 1.2.1\n",
    "\n",
    "\n",
    "#### 解答\n",
    "\n"
   ]
  },
  {
   "cell_type": "markdown",
   "metadata": {},
   "source": [
    "### 1.2.1\n",
    "\n",
    "\n",
    "#### 解答\n",
    "\n"
   ]
  },
  {
   "cell_type": "markdown",
   "metadata": {},
   "source": [
    "### 1.2.1\n",
    "\n",
    "\n",
    "#### 解答\n",
    "\n"
   ]
  },
  {
   "cell_type": "markdown",
   "metadata": {},
   "source": [
    "### 1.2.1\n",
    "\n",
    "\n",
    "#### 解答\n",
    "\n"
   ]
  },
  {
   "cell_type": "markdown",
   "metadata": {},
   "source": [
    "### 1.2.1\n",
    "\n",
    "\n",
    "#### 解答\n",
    "\n"
   ]
  },
  {
   "cell_type": "markdown",
   "metadata": {},
   "source": [
    "### 1.2.1\n",
    "\n",
    "\n",
    "#### 解答\n",
    "\n"
   ]
  },
  {
   "cell_type": "markdown",
   "metadata": {},
   "source": [
    "### 1.2.1\n",
    "\n",
    "\n",
    "#### 解答\n",
    "\n"
   ]
  },
  {
   "cell_type": "markdown",
   "metadata": {},
   "source": [
    "### 1.2.1\n",
    "\n",
    "\n",
    "#### 解答\n",
    "\n"
   ]
  },
  {
   "cell_type": "markdown",
   "metadata": {},
   "source": [
    "### 1.2.1\n",
    "\n",
    "\n",
    "#### 解答\n",
    "\n"
   ]
  },
  {
   "cell_type": "markdown",
   "metadata": {},
   "source": [
    "### 1.2.1\n",
    "\n",
    "\n",
    "#### 解答\n",
    "\n"
   ]
  },
  {
   "cell_type": "markdown",
   "metadata": {},
   "source": [
    "### 1.2.1\n",
    "\n",
    "\n",
    "#### 解答\n",
    "\n"
   ]
  },
  {
   "cell_type": "markdown",
   "metadata": {},
   "source": [
    "### 1.2.1\n",
    "\n",
    "\n",
    "#### 解答\n",
    "\n"
   ]
  },
  {
   "cell_type": "markdown",
   "metadata": {},
   "source": [
    "### 1.2.1\n",
    "\n",
    "\n",
    "#### 解答\n",
    "\n"
   ]
  },
  {
   "cell_type": "markdown",
   "metadata": {},
   "source": [
    "### 1.2.1\n",
    "\n",
    "\n",
    "#### 解答\n",
    "\n"
   ]
  },
  {
   "cell_type": "markdown",
   "metadata": {},
   "source": [
    "### 1.2.1\n",
    "\n",
    "\n",
    "#### 解答\n",
    "\n"
   ]
  }
 ],
 "metadata": {
  "kernelspec": {
   "display_name": "Python 3",
   "language": "python",
   "name": "python3"
  },
  "language_info": {
   "codemirror_mode": {
    "name": "ipython",
    "version": 3
   },
   "file_extension": ".py",
   "mimetype": "text/x-python",
   "name": "python",
   "nbconvert_exporter": "python",
   "pygments_lexer": "ipython3",
   "version": "3.6.2"
  }
 },
 "nbformat": 4,
 "nbformat_minor": 2
}
