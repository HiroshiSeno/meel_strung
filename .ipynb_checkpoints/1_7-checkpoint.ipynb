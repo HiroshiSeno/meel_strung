{
 "cells": [
  {
   "cell_type": "markdown",
   "metadata": {},
   "source": [
    "使用するライブラリのインポート"
   ]
  },
  {
   "cell_type": "code",
   "execution_count": 210,
   "metadata": {},
   "outputs": [],
   "source": [
    "import numpy as np\n",
    "import matplotlib.pyplot as plt\n",
    "import scipy.linalg as linalg\n",
    "import scipy.sparse as sp\n",
    "import scipy.sparse.linalg as spla\n",
    "import math\n",
    "from numpy.random import rand"
   ]
  },
  {
   "cell_type": "markdown",
   "metadata": {},
   "source": [
    "## 1.7.1\n",
    "次のベクトルのペアは,正規直行であるか,単に直行するだけか,それとも単に線型独立であるだけか？\n",
    "\n",
    "$(a) \\begin{pmatrix}1 \\\\ 0 \\end{pmatrix}, \\begin{pmatrix} -1 \\\\ 1\\end{pmatrix}$ \n",
    "$(b) \\begin{pmatrix}0.6 \\\\0.8 \\end{pmatrix}, \\begin{pmatrix} 0.4 \\\\ -0.3\\end{pmatrix}$ $(c) \\begin{pmatrix} \\sin \\theta\\\\ \\cos\\theta \\end{pmatrix}, \\begin{pmatrix} -\\sin\\theta \\\\ \\cos\\theta\\end{pmatrix}$ \n",
    "\n",
    "## 解答"
   ]
  },
  {
   "cell_type": "markdown",
   "metadata": {},
   "source": [
    "(a) 線型独立、(b)直行 、(c)線型独立 \n",
    "\n",
    "また正規直行にするためには、それぞれのベクトルの大きさが1、かつ二つのベクトルの内積が0となれば良いから              \n",
    "$(a) \\begin{pmatrix} 0 \\\\ 1\\end{pmatrix}$  ,\n",
    "$(b) \\begin{pmatrix} 0.4 \\\\ -0.3\\end{pmatrix}$ ,\n",
    "$(c) \\begin{pmatrix} -\\sin\\theta \\\\ -\\cos\\theta\\end{pmatrix}$ "
   ]
  },
  {
   "cell_type": "markdown",
   "metadata": {},
   "source": [
    "## 1.7.2\n",
    "\n",
    "次の条件を満たす例をあげよ \n",
    "\n",
    "(a)列が正規直行であるが$QQ^T\\neq I$である行列$Q$ \n",
    "\n",
    "(b)互いに直行するが線型独立ではない２本のベクトル\n",
    "\n",
    "(c)全ての要素が$1/2$または$-1/2$であるような$R^4$における正規直交基底\n",
    "## 解答"
   ]
  },
  {
   "cell_type": "markdown",
   "metadata": {},
   "source": [
    "(a) $Q = \\begin{pmatrix}1/\\sqrt{2} & -1/\\sqrt{2} \\\\ 1/\\sqrt{2} & 1/\\sqrt{2}\\end{pmatrix}$\n",
    "\n",
    "(b) $\\begin{pmatrix}1\\\\ i \\end{pmatrix}$,$\\begin{pmatrix}2\\\\ 2i \\end{pmatrix}$\n",
    "\n",
    "(c) (1/2,1/2,1/2,1/2) と(1/2,1/2,-1/2,-1/2)と(1/2,-1/2,1/2,-1/2)と(-1/2,1/2,1/2,-1/2)"
   ]
  },
  {
   "cell_type": "markdown",
   "metadata": {},
   "source": [
    "## 1.7.3\n",
    "\n",
    "$Q_1$と$Q_2$が直行行列の時,その積$Q_1$$Q_2$も直行行列になることを示せ"
   ]
  },
  {
   "cell_type": "markdown",
   "metadata": {},
   "source": [
    "## 解答\n",
    "\n",
    "$Q_1$と$Q_2$が直行行列であるから\n",
    "\n",
    "$Q_1^T$=$Q_1^{-1}$　と　$Q_2^T$=$Q_2^{-1}$　が成り立つ\n",
    "\n",
    "また$(Q_1Q_2)^{T}$　= $Q_2^TQ_1^T$　 = $Q_2^{-1}Q_1^{-1}$\n",
    "\n",
    "よって$(Q_1Q_2)(Q_1Q_2)^{T}$　=$ (Q_1Q_2)Q_2^{-1}Q_1^{-1}$ = $I$\n",
    "\n",
    "\n",
    "$Q_1$と$Q_2$が直行行列の時,その積$Q_1$$Q_2$も直行行列になることが示せた"
   ]
  },
  {
   "cell_type": "markdown",
   "metadata": {},
   "source": [
    "## 1.7.4\n",
    "\n",
    "正規直行するベクトル群は自動的に線型独立になることを以下の２つの方法により証明せよ\n",
    "(a)ベクトルによる証明：$c_1q_1+c_2q_2+c_3q_3 = 0$とする　これとどんなベクトルとの内積を取れば$c_1$が導けるか？　同様にして$c_2 = 0, c_3 = 0$も成り立つ.したがって$q$は線型独立である\n",
    "\n",
    "(b)行列による証明:$Qx = 0$から$x=0$が得られることを示す.$Q$は長方形かもしれないから,$Q^T$が使っても良いが,$Q^-1$を使ってはいけない."
   ]
  },
  {
   "cell_type": "markdown",
   "metadata": {},
   "source": [
    "## 解答\n",
    "(a) $c_1q_1+c_2q_2+c_3q_3 = 0$の各項に$q_1$をかけると(内積を取る）$c_1 = 0$となる\n",
    "同様に$q_2,q_3$をかけることで$c_2 =c_3 = 0$が導ける\n",
    "\n",
    "よって$q$は線型独立である\n",
    "\n",
    "(b) $Q$は直行行列であるから$Q^TQ = I$が成り立つ\n",
    "よって$Qx = 0$に$Q^T$をかけると x = 0となる\n",
    "\n",
    "これより$q$は線型独立である"
   ]
  },
  {
   "cell_type": "markdown",
   "metadata": {},
   "source": [
    "## 1.7.5\n",
    "$a_1,a_2,a_3$を$R^3$の規定とすると,任意のベクトル$b$は次のようにかける\n",
    "\n",
    "$b=x_1a_1+x_2a_2+x_3a_3$ または  \n",
    "$\\begin{pmatrix}a_1 & a_2 & a_3\\end{pmatrix}\n",
    "  \\begin{pmatrix}x_1  \\\\ x_2 \\\\x_3\\end{pmatrix} = b$\n",
    "    \n",
    "(a){$a_i$}が正規直行だと仮定し,$x_1=a_1^Tb$を示せ\n",
    "\n",
    "(b){$a_i$}が正規直行だと仮定し,$x_1=a_1^Tb/a_1^Ta_1$を示せ\n",
    "\n",
    "(c)もし{$a_i$}が線型独立ならば,$x_1$は_______*bの第一成分である"
   ]
  },
  {
   "cell_type": "markdown",
   "metadata": {},
   "source": [
    "## 解答\n",
    "(a) $b=x_1a_1+x_2a_2+x_3a_3$ に$a_1^T$をかけると,正規直行より\n",
    "$a_1^Ta_1 = 1\\,\\,\\, a_1^Ta_2 = a_1^Ta_3 = 0$であるから\n",
    "$x_1=a_1^Tb$となる\n",
    "\n",
    "(b)$a_1^Ta_1 = 1$ と(a)から\n",
    "$x_1=a_1^Tb = a_1^Tb/1 = x_1=a_1^Tb/a_1^Ta_1$\n",
    "\n",
    "(c) 線型独立であるなら$x_1a_1+x_2a_2+x_3a_3 = b$を満たす$x$はただ１組しか存在しない\n",
    "また,$b = [b_1,b_2,b_3]^T$ とすると\n",
    "$b_1  = (a_{11}+a_{21}+a_{31})x_{1}$\n",
    "\n",
    "よって$x_{1} = \\frac{b_1} {(a_{11}+a_{21}+a_{31})}$ (こんなんでいいのか？)\n",
    "\n"
   ]
  },
  {
   "cell_type": "markdown",
   "metadata": {},
   "source": [
    "## 1.7.6\n",
    "図1.18は任意の行列$A$を回転,拡大,回転の積として表している.\n",
    "\n",
    "$A=U\\sum V^T = \n",
    "\\begin{pmatrix}\\cos \\alpha & -\\sin\\alpha \\\\ \\sin\\alpha & \\cos \\alpha\\end{pmatrix}\n",
    "\\begin{pmatrix}\\sigma _1 & \\\\  & \\sigma_2 \\end{pmatrix}\n",
    "\\begin{pmatrix}\\cos \\theta & \\sin\\theta \\\\ -\\sin\\theta & \\cos \\theta\\end{pmatrix}\n",
    "$\n",
    "\n",
    "4つのパラメータ$\\alpha,\\sigma_1,\\sigma_2,\\theta$ の個数は4つの行列要素$a_{11},a_{12},a_{21},a_{22}$の個数と一致する.$A$が対象な場合,$a_{12}=a_{21}$なので行列要素は1個へるが,$Q$は1つしか必要なくなるので,$\\alpha = \\theta$となってパラオメータの数も1個減る.式(21)より,$A$の行列式は$\\sigma_1\\sigma_2$である.もしdet$A$$<$0の場合は,鏡映を加える必要がある.図1.7において、\n",
    "\n",
    "$\\lambda_{max}$$(A^TA)=\\cfrac{1}{2}(3+\\sqrt{5})$\n",
    "\n",
    "を示し,\n",
    "その平方根より$||A|| = \\frac{1}{2}(1+\\sqrt{5})$となることを示せ"
   ]
  },
  {
   "cell_type": "markdown",
   "metadata": {},
   "source": [
    "問題がよくわかりません"
   ]
  },
  {
   "cell_type": "markdown",
   "metadata": {},
   "source": [
    "## 1.7.7\n",
    "\n",
    "手計算により、以下の正定値行列のノルム$\\lambda_{max}$と条件数$\\lambda_{max}/\\lambda_{min}$を求めよ\n",
    "\n",
    "(a)$\\begin{pmatrix}3 & 0 \\\\ 0 & 2\\end{pmatrix} $,\n",
    "(b)$\\begin{pmatrix}2 & 1 \\\\ 1 & 2\\end{pmatrix} $,\n",
    "(c)$\\begin{pmatrix}3 & 1 \\\\ 1 & 1\\end{pmatrix} $\n"
   ]
  },
  {
   "cell_type": "markdown",
   "metadata": {},
   "source": [
    "## 解答\n",
    "正定値行列において最大固有値がノルムになること、また条件数は最大固有値/最小固有値になることを利用する\n",
    "３つの行列の固有値はそれぞれ$(a)3,2 (b)3,1 (c)2+\\sqrt{2},2-\\sqrt{2}$\n",
    "よってそれぞれのノルム,及び条件数は\n",
    "\n",
    "(a) $\\lambda_{max}$ = 3$\\,\\,\\,\\,$ $\\lambda_{max}/\\lambda_{min} = 3/2$\n",
    "\n",
    "(b) $\\lambda_{max}$ = 3$\\,\\,\\,\\,$$\\lambda_{max}/\\lambda_{min} = 3$\n",
    "\n",
    "(c) $\\lambda_{max} = 2+ \\sqrt{2}$$\\,\\,\\,\\,$$\\lambda_{max}/\\lambda_{min} = 3+2\\sqrt{2}$\n"
   ]
  },
  {
   "cell_type": "markdown",
   "metadata": {},
   "source": [
    "## 1.7.8\n",
    "以下の行列について,$\\lambda(A^TA)$の平方根からノルムと条件数を計算せよ\n",
    "\n",
    "$\\begin{pmatrix}1 & 7 \\\\ 1 & 1\\end{pmatrix} $,\n",
    "$\\begin{pmatrix}1 & 1 \\\\ 0 & 0\\end{pmatrix} $,\n",
    "$\\begin{pmatrix}1 & 1 \\\\ -1 & 1\\end{pmatrix} $\n",
    "\n",
    "## 解答"
   ]
  },
  {
   "cell_type": "code",
   "execution_count": 211,
   "metadata": {},
   "outputs": [
    {
     "name": "stdout",
     "output_type": "stream",
     "text": [
      "A: \n",
      " [[1 7]\n",
      " [1 1]]\n",
      "A*A^T: \n",
      " [[50  8]\n",
      " [ 8  2]]\n",
      "σ: \n",
      " [ 51.29822128+0.j   0.70177872+0.j]\n"
     ]
    }
   ],
   "source": [
    "A = np.array([[1,7], [1,1]])\n",
    "B = np.array([[1,1], [0,0]])\n",
    "C = np.array([[1,1], [-1,1]])\n",
    "print(\"A: \\n\", A)\n",
    "print(\"A*A^T: \\n\",np.dot(A,A.transpose()))\n",
    "print(\"σ: \\n\",linalg.eigvals(np.dot(A,A.transpose())))\n"
   ]
  },
  {
   "cell_type": "markdown",
   "metadata": {},
   "source": [
    "$\\sigma^2 =26 \\pm 8\\sqrt{10} $\n",
    "よってノルムと条件数は\n",
    "\n",
    "$(ノルム)^2 = 26 +8\\sqrt{10} $\n",
    "\n",
    "$条件数 =\\sqrt{ \\frac{26 + 8\\sqrt{10} }{26 - 8\\sqrt{10}}} $ \n",
    "\n",
    "同様にしてB,Cについても求めると"
   ]
  },
  {
   "cell_type": "code",
   "execution_count": 212,
   "metadata": {},
   "outputs": [],
   "source": [
    "#print(\"B: \\n\", B)\n",
    "#print(\"B^T: \\n\",np.dot(B,B.transpose()))\n",
    "      \n",
    "#print(\"C: \\n\", C)\n",
    "#print(\"C^T: \\n\",np.dot(C,C.transpose()))"
   ]
  },
  {
   "cell_type": "markdown",
   "metadata": {},
   "source": [
    "\n",
    "B:$\\sigma^2 =2,0 $\n",
    "\n",
    "$(ノルム)^2 = 2 $\n",
    "\n",
    "$条件数 =\\infty$ \n",
    "\n",
    "C:$\\sigma^2 =2(重解) $\n",
    "\n",
    "$(ノルム)^2 = 2 $\n",
    "\n",
    "$条件数 =1$ (これでいいのか？)"
   ]
  },
  {
   "cell_type": "markdown",
   "metadata": {},
   "source": [
    "## 1.7.9\n",
    "\n",
    "$||A||$,$||B||$の定義から以下の２つの不等式を導け\n",
    "\n",
    "$\n",
    "||ABx|| < ||A||\\,||Bx|| \\leq ||A||\\,||B||\\,||x||\n",
    "$\n",
    "\n",
    "上式と$||AB||$の定義より,$||AB|| \\leq ||A||\\,||B||$ を示せ\n",
    "この不等式は行列ノルムを使う際の鍵である"
   ]
  },
  {
   "cell_type": "markdown",
   "metadata": {},
   "source": [
    "## 解答\n",
    "ノルムの定義は$\\frac{||Ax||}{||x||}$ の最大値であるから\n",
    "$||Ax|| \\leq ||A||\\,||x||$が常に成り立つ\n",
    "よって\n",
    "$\n",
    "(1)  ||ABx|| < ||A||\\,||Bx|| \\leq ||A||\\,||B||\\,||x||\n",
    "$\n",
    "\n",
    "また$||AB||$の定義より\n",
    "(2)  $||ABx|| \\leq ||AB||\\,||x||$\n",
    "\n",
    "(1),(2)より\n",
    "$||AB|| \\leq ||A||\\,||B||$ が成り立つ"
   ]
  },
  {
   "cell_type": "markdown",
   "metadata": {},
   "source": [
    "## 1.7.10\n",
    "$||AB|| \\leq ||A||\\,||B||$ を用いて任意の行列$A$の条件数は少なくとも1であることを示せ.\n",
    "直行行列$Q$は条件数$c(Q)=1$を持つことを示せ.　（問題文がよくわからない）"
   ]
  },
  {
   "cell_type": "markdown",
   "metadata": {},
   "source": [
    "## 解答\n",
    "最初の問題はよくわからん（１以上or１以下の誤植？）\n",
    "\n",
    "直行行列$Q$は条件数$c(Q)=1$を持つことを示せ\n",
    "$Q^TQ = I$であり,このときQ^TQの固有値$\\sigma$ = 1 (重解)である\n",
    "\n",
    "よって$c(Q)=\\frac{\\sigma_{max}}{\\sigma_{min}}= 1/1 = 1$"
   ]
  },
  {
   "cell_type": "markdown",
   "metadata": {},
   "source": [
    "## 1.7.11\n",
    "$\\lambda$を$A$の任意の固有値とするとき,$|\\lambda| \\leq ||A||$であることを示せ.\n",
    "$Ax = \\lambda x$から始めよ"
   ]
  },
  {
   "cell_type": "markdown",
   "metadata": {},
   "source": [
    "## 解答\n",
    "$Ax = \\lambda x$ →$(A-\\lambda)x = 0$\n",
    "ノルムの定義式より\n",
    "\n",
    "$||Ax|| \\leq ||A||\\,||x||$, $||\\lambda x|| \\leq |\\lambda|\\,||I||\\,||x||$ = $||\\lambda x|| \\leq |\\lambda|\\,||x||$ （わからくなった"
   ]
  },
  {
   "cell_type": "markdown",
   "metadata": {},
   "source": [
    "## 1.7.12\n",
    "\"スペクトル半径\"$\\rho(A) = |\\lambda_{max}|$固有値の絶対値の最大値である.2×2の例を用いて,$\\rho(A+B) \\leq \\rho(A)+\\rho(B)$,$\\,\\,\\,\\,\\,$$\\rho(AB)\\leq\\rho(A)\\rho(B)$はどちらも成り立たない場合があることを示せ.スペクトル半径はノルムとしては使えない."
   ]
  },
  {
   "cell_type": "markdown",
   "metadata": {},
   "source": [
    "## 解答\n",
    "例が思いつきませんでした"
   ]
  },
  {
   "cell_type": "markdown",
   "metadata": {},
   "source": [
    "## 1.7.13\n",
    "悪条件の行列$A = \\begin{pmatrix}1 & 1 \\\\ 1 & 1.0001\\end{pmatrix}$の条件数を推定せよ"
   ]
  },
  {
   "cell_type": "markdown",
   "metadata": {},
   "source": [
    "## 解答\n",
    "任意のベクトル$u=[u_1,u_2]^T$を用いて$u^TAu$を計算すると\n",
    "$u^TAu$  $(u_1+u_2)^2 + 0.001u_2^2 \\geq 0 $\n",
    "これより$A$は正定値行列である\n",
    "よって$A$の条件値は\n",
    "\n",
    "$c(A) = \\frac{\\lambda_{max}(A)}{\\lambda_{min}(A)}$\n",
    "　となる\n",
    " $A$の固有値を求めると"
   ]
  },
  {
   "cell_type": "code",
   "execution_count": 213,
   "metadata": {},
   "outputs": [
    {
     "name": "stdout",
     "output_type": "stream",
     "text": [
      "λ: \n",
      " [  4.99987500e-05+0.j   2.00005000e+00+0.j]\n"
     ]
    }
   ],
   "source": [
    "A = np.array([[1,1], [1,1.0001]])\n",
    "\n",
    "print(\"λ: \\n\",linalg.eigvals(A))"
   ]
  },
  {
   "cell_type": "markdown",
   "metadata": {},
   "source": [
    "これより$c(A) = \\frac{\\lambda_{max}(A)}{\\lambda_{min}(A)}$ $ \\fallingdotseq $ =40000となる"
   ]
  },
  {
   "cell_type": "markdown",
   "metadata": {},
   "source": [
    "## 1.7.14\n",
    "$x = (x_1, . . ., x_n)$の\"$l^1ノルム$\"と\"$l^2ノルム$\"は次のように定義される\n",
    "\n",
    "$||x||_1= |x_1|+ . . . +|x_n|$$\\,\\,\\,\\,\\,\\,$ および$\\,\\,\\,\\,\\,\\,$ $||x||_{\\infty} = max_{1\\leq i\\leq n} |x_i|$\n",
    "\n",
    "$R^5$に属する次の２つのベクトルについて,$||x||\\,\\,\\,\\,\\,||x||_1\\,\\,\\,\\,\\,||x||_{\\infty}$を計算せよ\n",
    "\n",
    "$x=(1,1,1,1,1)\\,\\,\\,\\,\\,x=(0.1,0.7,0.3,0.4,0.5)$"
   ]
  },
  {
   "cell_type": "markdown",
   "metadata": {},
   "source": [
    "## 解答\n",
    "$x=(1,1,1,1,1)$について$||x||\\,\\,\\,\\,\\,||x||_1\\,\\,\\,\\,\\,||x||_{\\infty}$はそれぞれ\n",
    "$||x|| = \\sqrt{5}\\,\\,\\,\\,\\,||x||_1 = 5\\,\\,\\,\\,\\,||x||_{\\infty} = 1$\n",
    "\n",
    "$x=(0.1,0.7,0.3,0.4,0.5)$について$||x||\\,\\,\\,\\,\\,||x||_1\\,\\,\\,\\,\\,||x||_{\\infty}$はそれぞれ\n",
    "$||x|| = 1\\,\\,\\,\\,\\,||x||_1 = 2\\,\\,\\,\\,\\,||x||_{\\infty} = 0.7$"
   ]
  },
  {
   "cell_type": "markdown",
   "metadata": {},
   "source": [
    "## 1.7.15\n",
    "$A = U \\sum V^T$とし、ベクトル$x$が$V$の列ベクトルを用いて$c_1v_1 + . . . +c_nv_n$とあらわせるとせよ.このとき,$Ax$は$U$の列ベクトル$u_1, . . .u_n$のどのような線形結合として表されるか？"
   ]
  },
  {
   "cell_type": "markdown",
   "metadata": {},
   "source": [
    "## 解答\n",
    "条件より$x$は$C = [c_1,...c_n]^T$を用いて$x = CV$\n",
    "このとき$Ax = U\\sum V^Tx$"
   ]
  },
  {
   "cell_type": "markdown",
   "metadata": {},
   "source": [
    "## 1.7.16\n",
    "次の行列について,$A^TA,AA^T$およびその固有値$\\sigma_1^2,0$を求めよ.それを用いて,次のSVDを完成させよ\n",
    "\n",
    "$A = \n",
    "\\begin{pmatrix}1 & 4 \\\\ 2 & 8 \\end{pmatrix} =\n",
    "\\begin{pmatrix}u_1 & u_2 \\end{pmatrix}\n",
    "\\begin{pmatrix}\\sigma _1 & \\\\  & 0 \\end{pmatrix}\n",
    "\\begin{pmatrix}v_1 & v_2 \\end{pmatrix}^T\n",
    "$"
   ]
  },
  {
   "cell_type": "markdown",
   "metadata": {},
   "source": [
    "## 解答\n",
    "$U,V$は$A^TA$と$AA^T$の固有ベクトルであるから、これらを求める\n",
    "また$\\sum$は$A^TA$の固有値から推定できる"
   ]
  },
  {
   "cell_type": "code",
   "execution_count": 214,
   "metadata": {},
   "outputs": [
    {
     "name": "stdout",
     "output_type": "stream",
     "text": [
      "(A^T)(A):\n",
      " [[ 5 20]\n",
      " [20 80]]\n",
      "(A^T)(A):\n",
      " [[17 34]\n",
      " [34 68]]\n",
      "λ: \n",
      " [  0.+0.j  85.+0.j]\n",
      "x{(A^T)(A)}: \n",
      " (array([  0.+0.j,  85.+0.j]), array([[-0.9701425 , -0.24253563],\n",
      "       [ 0.24253563, -0.9701425 ]]))\n",
      "x{(A)(A^T)}: \n",
      " (array([  0.+0.j,  85.+0.j]), array([[-0.89442719, -0.4472136 ],\n",
      "       [ 0.4472136 , -0.89442719]]))\n"
     ]
    }
   ],
   "source": [
    "A = np.array([[1,4], [2,8]])\n",
    "\n",
    "print(\"(A^T)(A):\\n\",np.dot(A.transpose(),A))\n",
    "print(\"(A^T)(A):\\n\",np.dot(A,A.transpose()))\n",
    "print(\"λ: \\n\",linalg.eigvals(np.dot(A.transpose(),A)))\n",
    "print(\"x{(A^T)(A)}: \\n\",linalg.eig(np.dot(A.transpose(),A)))\n",
    "print(\"x{(A)(A^T)}: \\n\",linalg.eig(np.dot(A,A.transpose())))"
   ]
  },
  {
   "cell_type": "markdown",
   "metadata": {},
   "source": [
    "これより$A$ =$ U\\sum V^T $ =\n",
    "$\n",
    "\\begin{pmatrix}-0.4472136 & -0.89442719 \\\\ -0.89442719 & 0.4472136\\end{pmatrix}\n",
    "\\begin{pmatrix}\\sqrt{85} & 0\\\\0  & 0 \\end{pmatrix}\n",
    "\\begin{pmatrix}-0.24253563 & -0.9701425 \\\\ -0.9701425 & 0.24253563\\end{pmatrix}\n",
    "$\n",
    "\n",
    "検算してみると"
   ]
  },
  {
   "cell_type": "code",
   "execution_count": 215,
   "metadata": {},
   "outputs": [
    {
     "name": "stdout",
     "output_type": "stream",
     "text": [
      "A = \n",
      " [[ 1.00000003  4.00000004]\n",
      " [ 2.00000004  7.99999999]]\n"
     ]
    }
   ],
   "source": [
    "#検算\n",
    "\n",
    "U = np.array([[-0.4472136, -0.89442719],\n",
    "       [ -0.89442719 , 0.4472136]])\n",
    "V = np.array([[ -0.24253563 , -0.9701425],\n",
    "       [ -0.9701425, 0.24253563 ]])\n",
    "Σ = np.array([[9.21954445729,0],\n",
    "       [0,0]])\n",
    "\n",
    "B =np.dot(U,Σ)\n",
    "\n",
    "print(\"A = \\n\",np.dot(B,V.transpose()))"
   ]
  },
  {
   "cell_type": "markdown",
   "metadata": {},
   "source": [
    "## 1.7.17\n",
    "次のフィボナッチ行列について$A^TA, AA^T$の固有値と単位固有ベクトルを求め,SVDを構成せよ.\n",
    "\n",
    "$A= \\begin{pmatrix}1 & 1 \\\\ 1 & 0\\end{pmatrix} $\n",
    "\n",
    "## 解答\n",
    "先程と同様の手順で求める"
   ]
  },
  {
   "cell_type": "code",
   "execution_count": 216,
   "metadata": {},
   "outputs": [
    {
     "name": "stdout",
     "output_type": "stream",
     "text": [
      "(A^T)(A):\n",
      " [[2 1]\n",
      " [1 1]]\n",
      "(A^T)(A):\n",
      " [[2 1]\n",
      " [1 1]]\n",
      "λ: \n",
      " [ 2.61803399+0.j  0.38196601+0.j]\n",
      "x{(A^T)(A)}: \n",
      " (array([ 2.61803399+0.j,  0.38196601+0.j]), array([[ 0.85065081, -0.52573111],\n",
      "       [ 0.52573111,  0.85065081]]))\n",
      "x{(A)(A^T)}: \n",
      " (array([ 2.61803399+0.j,  0.38196601+0.j]), array([[ 0.85065081, -0.52573111],\n",
      "       [ 0.52573111,  0.85065081]]))\n"
     ]
    }
   ],
   "source": [
    "A = np.array([[1,1], [1,0]])\n",
    "\n",
    "print(\"(A^T)(A):\\n\",np.dot(A.transpose(),A))\n",
    "print(\"(A^T)(A):\\n\",np.dot(A,A.transpose()))\n",
    "print(\"λ: \\n\",linalg.eigvals(np.dot(A.transpose(),A)))\n",
    "print(\"x{(A^T)(A)}: \\n\",linalg.eig(np.dot(A.transpose(),A)))\n",
    "print(\"x{(A)(A^T)}: \\n\",linalg.eig(np.dot(A,A.transpose())))"
   ]
  },
  {
   "cell_type": "markdown",
   "metadata": {},
   "source": [
    "UとVが同じになった"
   ]
  },
  {
   "cell_type": "code",
   "execution_count": 217,
   "metadata": {},
   "outputs": [
    {
     "name": "stdout",
     "output_type": "stream",
     "text": [
      "A = \n",
      " [[  1.00000001e+00  -9.99999998e-01]\n",
      " [  9.99999998e-01   4.49945718e-09]]\n"
     ]
    }
   ],
   "source": [
    "U = np.array([[ 0.85065081, -0.52573111],\n",
    "       [ 0.52573111,  0.85065081]])\n",
    "V = np.array([[  0.85065081, 0.52573111],\n",
    "       [ -0.52573111,  0.85065081]])\n",
    "Σ = np.array([[math.sqrt(2.61803399),0],\n",
    "       [0,math.sqrt(0.38196601)]])\n",
    "\n",
    "B =np.dot(U,Σ)\n",
    "\n",
    "print(\"A = \\n\",np.dot(B,V.transpose()))"
   ]
  },
  {
   "cell_type": "markdown",
   "metadata": {},
   "source": [
    "かけてみたがちゃんと復元されていない"
   ]
  },
  {
   "cell_type": "markdown",
   "metadata": {},
   "source": [
    "## 1.7.18\n",
    "次の行列について$A^TA,AA^T$を計算し,その固有値と単位固有ベクトルを求めてSVDを構成せよ\n",
    "\n",
    "$A= \\begin{pmatrix}1 & 1 & 0\\\\0 &1 & 1\\end{pmatrix} $\n",
    "\n",
    "３つの行列の積$U\\sum V^T$を作り,$A$が復元されることを確かめよ.\n",
    "## 解答\n",
    "これも先程と同様に計算を行う"
   ]
  },
  {
   "cell_type": "code",
   "execution_count": 218,
   "metadata": {},
   "outputs": [
    {
     "name": "stdout",
     "output_type": "stream",
     "text": [
      "(A^T)(A):\n",
      " [[1 1 0]\n",
      " [1 2 1]\n",
      " [0 1 1]]\n",
      "(A)(A^T):\n",
      " [[2 1]\n",
      " [1 2]]\n",
      "λ: \n",
      " [  3.00000000e+00+0.j   1.00000000e+00+0.j  -3.36770206e-17+0.j]\n",
      "x{(A^T)(A)}: \n",
      " (array([  3.00000000e+00+0.j,   1.00000000e+00+0.j,  -3.36770206e-17+0.j]), array([[ -4.08248290e-01,   7.07106781e-01,   5.77350269e-01],\n",
      "       [ -8.16496581e-01,   2.61214948e-16,  -5.77350269e-01],\n",
      "       [ -4.08248290e-01,  -7.07106781e-01,   5.77350269e-01]]))\n",
      "x{(A)(A^T)}: \n",
      " (array([ 3.+0.j,  1.+0.j]), array([[ 0.70710678, -0.70710678],\n",
      "       [ 0.70710678,  0.70710678]]))\n"
     ]
    }
   ],
   "source": [
    "A = np.array([[1,1,0], [0,1,1]])\n",
    "\n",
    "print(\"(A^T)(A):\\n\",np.dot(A.transpose(),A))\n",
    "print(\"(A)(A^T):\\n\",np.dot(A,A.transpose()))\n",
    "print(\"λ: \\n\",linalg.eigvals(np.dot(A.transpose(),A)))\n",
    "print(\"x{(A^T)(A)}: \\n\",linalg.eig(np.dot(A.transpose(),A)))\n",
    "print(\"x{(A)(A^T)}: \\n\",linalg.eig(np.dot(A,A.transpose())))"
   ]
  },
  {
   "cell_type": "code",
   "execution_count": null,
   "metadata": {},
   "outputs": [],
   "source": []
  },
  {
   "cell_type": "code",
   "execution_count": 219,
   "metadata": {},
   "outputs": [
    {
     "name": "stdout",
     "output_type": "stream",
     "text": [
      "A = \n",
      " [[ -9.99999998e-01   4.36204915e-10]\n",
      " [ -9.99999998e-01  -9.99999998e-01]\n",
      " [  4.36204915e-10  -9.99999998e-01]]\n",
      "A = \n",
      " [[ -9.99999998e-01  -9.99999998e-01   4.36204860e-10]\n",
      " [  4.36204860e-10  -9.99999998e-01  -9.99999998e-01]]\n"
     ]
    }
   ],
   "source": [
    "U = np.array([[ -4.08248290e-01,   7.07106781e-01,   5.77350269e-01],\n",
    "       [ -8.16496581e-01,   2.61214948e-16,  -5.77350269e-01],\n",
    "       [ -4.08248290e-01,  -7.07106781e-01,   5.77350269e-01]])\n",
    "V = np.array([[ 0.70710678, -0.70710678,0],\n",
    "       [ 0.70710678,  0.70710678,0]])\n",
    "Σ = np.array([[math.sqrt(3),0,0],\n",
    "       [0,math.sqrt(1),0],\n",
    "       [0,0,0]])\n",
    "\n",
    "C =np.dot(U,Σ)\n",
    "\n",
    "print(\"A = \\n\",np.dot(C,V.transpose()))\n",
    "\n",
    "B =np.dot(V,Σ)\n",
    "\n",
    "print(\"A = \\n\",np.dot(B,U.transpose()))"
   ]
  },
  {
   "cell_type": "markdown",
   "metadata": {},
   "source": [
    "色々おかしい(負になるし,$U\\sum V^T$の順にかけると転置したものが出てくる)"
   ]
  },
  {
   "cell_type": "markdown",
   "metadata": {},
   "source": [
    "## 1.7.19\n",
    "SVDがどのように行列$A$を$r$個の階数1行列の和として表現するかを説明せよ\n",
    "\n",
    "$U\\sum V^T $ = 列×行.$\\,\\,\\,\\,$$A$が階数$r$のとき　$A = \\sigma_1u_1v_1^T$+ . . . +$\\sigma_ru_rv_r^T$"
   ]
  },
  {
   "cell_type": "markdown",
   "metadata": {},
   "source": [
    "## 解答\n",
    "問題の意味がよくわかりません"
   ]
  },
  {
   "cell_type": "markdown",
   "metadata": {},
   "source": [
    "## 1.7.20\n",
    "$u_1,. . . u_n$と$v_1,. . . v_n$が$R^n$の正規直交基底であるとせよ.各$v_j$を各$u_j$に移す行列,すなわち,$Av_1 = u_1, . . . ,Av_n = u_n$ を満たす行列は何か？特異値$\\sigma$は何か？\n",
    "\n",
    "## 解答\n",
    "$Av_1 = u_1, . . . ,Av_n = u_n$より\n",
    "$A= u_1v_1^T, . . . , A = u_nv_n^T$\n",
    "\n",
    "全ての和を取ると$nA = u_1v_1^T$+ . . . +$u_nv_n^T$\n",
    "\n",
    "これより$A =\\frac{1}{n}( u_1v_1^T$+ . . . +$u_nv_n^T)$ とあらわせる\n",
    "\n",
    "またその特異値は$\\frac{1}{n}$である"
   ]
  },
  {
   "cell_type": "markdown",
   "metadata": {},
   "source": [
    "## 1.7.21\n",
    "$A$が可逆$(\\sigma_1 >\\sigma_2  > 0)$であるとする.$A$にできるだけ小さい行列を加えて,特異な行列$A_0$ を作れ\n",
    "\n",
    "$\n",
    "A = \\begin{pmatrix}u_1 & u_2 \\end{pmatrix}\n",
    "\\begin{pmatrix}\\sigma _1 & \\\\  & \\sigma _2 \\end{pmatrix}\n",
    "\\begin{pmatrix}v_1 & v_2 \\end{pmatrix}^T\n",
    "$\n",
    "\n",
    "## 解答\n",
    "$\\sigma_2$ を 0に置き換えることでAに最も近い特異な行列を作ることができる(教科書p86参照)\n",
    "\n",
    "よって加えるべき行列は\n",
    "$B = \\begin{pmatrix}u_1 & u_2 \\end{pmatrix}\n",
    "\\begin{pmatrix}0 & \\\\  & -\\sigma _2 \\end{pmatrix}\n",
    "\\begin{pmatrix}v_1 & v_2 \\end{pmatrix}^T$"
   ]
  },
  {
   "cell_type": "markdown",
   "metadata": {},
   "source": [
    "## 1.7.22\n",
    "(a) $A$が$4A$に変化すると,SVDはどのように変化するか？\n",
    "\n",
    "(b)$A^T$と$A^{-1}$のSVDはそれぞれどうなるか？\n",
    "\n",
    "(c)$A+I$のSVDは,単に$\\sum$を$\\sum + I$に変えるだけでは得られないのはなぜか？\n",
    "\n",
    "\n",
    "## 解答　\n",
    "(a)具体例で検討してみる"
   ]
  },
  {
   "cell_type": "code",
   "execution_count": 220,
   "metadata": {},
   "outputs": [
    {
     "name": "stdout",
     "output_type": "stream",
     "text": [
      "(A^T)(A):\n",
      " [[  80  320]\n",
      " [ 320 1280]]\n",
      "(A^T)(A):\n",
      " [[ 272  544]\n",
      " [ 544 1088]]\n",
      "λ: \n",
      " [    0.+0.j  1360.+0.j]\n",
      "x{(A^T)(A)}: \n",
      " (array([    0.+0.j,  1360.+0.j]), array([[-0.9701425 , -0.24253563],\n",
      "       [ 0.24253563, -0.9701425 ]]))\n",
      "x{(A)(A^T)}: \n",
      " (array([    0.+0.j,  1360.+0.j]), array([[-0.89442719, -0.4472136 ],\n",
      "       [ 0.4472136 , -0.89442719]]))\n"
     ]
    }
   ],
   "source": [
    "A = np.array([[4,16], [8,32]])\n",
    "\n",
    "print(\"(A^T)(A):\\n\",np.dot(A.transpose(),A))\n",
    "print(\"(A^T)(A):\\n\",np.dot(A,A.transpose()))\n",
    "print(\"λ: \\n\",linalg.eigvals(np.dot(A.transpose(),A)))\n",
    "print(\"x{(A^T)(A)}: \\n\",linalg.eig(np.dot(A.transpose(),A)))\n",
    "print(\"x{(A)(A^T)}: \\n\",linalg.eig(np.dot(A,A.transpose())))"
   ]
  },
  {
   "cell_type": "markdown",
   "metadata": {},
   "source": [
    "これより$4A$ =$ U\\sum V^T $ =\n",
    "$\n",
    "\\begin{pmatrix}-0.4472136 & -0.89442719 \\\\ -0.89442719 & 0.4472136\\end{pmatrix}\n",
    "\\begin{pmatrix}\\sqrt{1360} & 0\\\\0  & 0 \\end{pmatrix}\n",
    "\\begin{pmatrix}-0.24253563 & -0.9701425 \\\\ -0.9701425 & 0.24253563\\end{pmatrix}\n",
    "$\n",
    "\n",
    "ここで\n",
    "\n",
    "$A$ =$ U\\sum V^T $ =\n",
    "$\n",
    "\\begin{pmatrix}-0.4472136 & -0.89442719 \\\\ -0.89442719 & 0.4472136\\end{pmatrix}\n",
    "\\begin{pmatrix}\\sqrt{85} & 0\\\\0  & 0 \\end{pmatrix}\n",
    "\\begin{pmatrix}-0.24253563 & -0.9701425 \\\\ -0.9701425 & 0.24253563\\end{pmatrix}\n",
    "$\n",
    "\n",
    "であるから、二つを比較することで特異値が4倍になっていることがわかる\n",
    "\n",
    "(b) $A$ =$ U\\sum V^T $であるから\n",
    "\n",
    "$A^T$ =$ (U\\sum V^T )^T$ = $V \\sum U^T$ (UとVが入れ替わっている)\n",
    "これはuとvの規定の役割が逆転していることを表す(uは行空間の規定,vは列空間の規定となる)\n",
    "\n",
    "また,$A$ =$ U\\sum V^T $ より $I =A^{-1} U\\sum V^T $ \n",
    "よって$A^{-1} = (U\\sum V^T)^{-1}$ = $V\\sum ^{-1}U^T$ (直行行列の性質より)\n",
    "\n",
    "$\\sum$は特異であり逆行列が存在しないので詰んだ\n",
    "\n",
    "(c)知りません\n"
   ]
  },
  {
   "cell_type": "code",
   "execution_count": 221,
   "metadata": {},
   "outputs": [],
   "source": [
    "#A = np.array([[4,16], [8,32]])\n",
    "\n",
    "\n",
    "#print(\"U=\\n\",np.array([[-0.9701425 , -0.24253563],\n",
    "#      [ 0.24253563, -0.9701425 ]]))\n",
    "#print(\"\\n\") \n",
    "#print(\"U^(-1)=\\n\",np.linalg.inv(np.array([[-0.9701425 , -0.24253563],\n",
    " #      [ 0.24253563, -0.9701425 ]]))) \n",
    "#print(\"\\n\") \n",
    "#print(\"(V^T)=\\n\",np.array([[-0.89442719, 0.4472136 ],\n",
    "#       [ -0.4472136 , -0.89442719]]))\n",
    "#print(\"\\n\") \n",
    "#print(\"(V^T)^(-1)=\\n\",np.linalg.inv(np.array([[-0.89442719, 0.4472136 ],\n",
    " #      [ -0.4472136 , -0.89442719]]))) \n",
    "#print(\"\\n\") \n",
    "#print(\"Σ=\\n\",np.array([[math.sqrt(1360), 0 ],\n",
    "#       [ 0, 0]])) \n",
    "#print(\"\\n\") \n",
    "#print(\"Σ^(-1)=\\n\",np.linalg.inv(np.array([[math.sqrt(1360), 0 ],\n",
    "#       [ 0, 0]]))) "
   ]
  },
  {
   "cell_type": "markdown",
   "metadata": {},
   "source": [
    "## 1.7.23\n",
    "行列$K =\\begin{pmatrix}1 & 2 \\\\ 2 & 5 \\end{pmatrix}について$,$lu(K)$が$K=LU$を満たす$L,U$因子を与えないのはなぜか？1と1の代わりに,どんなピボットが選ばれるか？行交換なしの因子$A=L\\sqrt{D}$を求めるために , $A = chol(K)$を試してみよ\n",
    "\n",
    "## 解答\n",
    "実際に$lu(K)$を計算してみる"
   ]
  },
  {
   "cell_type": "code",
   "execution_count": 222,
   "metadata": {},
   "outputs": [
    {
     "name": "stdout",
     "output_type": "stream",
     "text": [
      "\n",
      " (array([[ 0.,  1.],\n",
      "       [ 1.,  0.]]), array([[ 1. ,  0. ],\n",
      "       [ 0.5,  1. ]]), array([[ 2. ,  5. ],\n",
      "       [ 0. , -0.5]]))\n"
     ]
    }
   ],
   "source": [
    "K = np.array([[1,2],\n",
    "              [2,5]])\n",
    "print(\"\\n\",linalg.lu(K))"
   ]
  },
  {
   "cell_type": "markdown",
   "metadata": {},
   "source": [
    "これより\n",
    "$K = \n",
    "\\begin{pmatrix} 0 & 1 \\\\ 1 & 0  \\end{pmatrix}\n",
    "\\begin{pmatrix}1 & 0\\\\ 0.5 & 1 \\end{pmatrix}\n",
    "\\begin{pmatrix}2& 5 \\\\ 0 & -0.5 \\end{pmatrix}\n",
    "$\n",
    "と分解された（LU分解になっていない, なぜ？）\n",
    "\n",
    "ちなみに手計算でLU分解を行うと\n",
    "$K = \n",
    "\\begin{pmatrix} 1 & 0 \\\\ 2 & 1  \\end{pmatrix}\n",
    "\\begin{pmatrix}1 & 2\\\\ 0 & 1 \\end{pmatrix}\n",
    "$\n",
    "とLU分解できる"
   ]
  },
  {
   "cell_type": "code",
   "execution_count": 223,
   "metadata": {},
   "outputs": [
    {
     "name": "stdout",
     "output_type": "stream",
     "text": [
      "\n",
      " [[ 1.  0.]\n",
      " [ 2.  1.]]\n",
      "\n",
      " (array([[ 0.,  1.],\n",
      "       [ 1.,  0.]]), array([[ 1. ,  0. ],\n",
      "       [ 0.5,  1. ]]), array([[ 2. ,  1. ],\n",
      "       [ 0. , -0.5]]))\n"
     ]
    }
   ],
   "source": [
    "#コレスキー分解してみる\n",
    "K = np.array([[1,2],\n",
    "              [2,5]])\n",
    "B = np.linalg.cholesky(K)\n",
    "print(\"\\n\",np.linalg.cholesky(K))\n",
    "print(\"\\n\",linalg.lu(B))"
   ]
  },
  {
   "cell_type": "markdown",
   "metadata": {},
   "source": [
    "## 1.7.24\n",
    "$b = \\begin{pmatrix}4 \\\\ 0 \\end{pmatrix} $ から $a = \\begin{pmatrix}1 \\\\ 1 \\end{pmatrix}$の何倍をひけば,結果のベクトル$B$は$a$に直交するか？$a$,$b$,$B$を図に描いてみよ"
   ]
  },
  {
   "cell_type": "code",
   "execution_count": 224,
   "metadata": {},
   "outputs": [
    {
     "data": {
      "image/png": "[encoded data removed]",
      "text/plain": [
       "<matplotlib.figure.Figure at 0x7ffb4d6dd908>"
      ]
     },
     "metadata": {},
     "output_type": "display_data"
    }
   ],
   "source": [
    "import matplotlib.pyplot as plt\n",
    "plt.figure()\n",
    "\n",
    "\n",
    "LX, LY=5,5   # メッシュのためのパラメータ\n",
    "gridwidth=0.33 \n",
    "X, Y= np.meshgrid(np.arange(-LX, LX, gridwidth), np.arange(-LY, LY,gridwidth))  # メッシュ生成\n",
    "\n",
    "a = 2\n",
    "\n",
    "X,Y=0,0   \n",
    "U = 4 - a\n",
    "V = 0 - a\n",
    "U1 = 4 \n",
    "V1 = 0 \n",
    "U2 = 1\n",
    "V2 = 1\n",
    "\n",
    "plt.quiver(X,Y,U,V,color='red',angles='xy',scale_units='xy', scale=1.0) # ベクトル場をプロット\n",
    "plt.quiver(X,Y,U1,V1,color='blue',angles='xy',scale_units='xy', scale=1.0)\n",
    "plt.quiver(X,Y,U2,V2,color='green',angles='xy',scale_units='xy', scale=1.0)\n",
    "\n",
    "plt.xlim([-LX,LX]) # 描くXの範囲\n",
    "plt.ylim([-LY,LY]) # 描くyの範囲\n",
    "\n",
    "# グラフ描画\n",
    "plt.grid()\n",
    "plt.draw()\n",
    "plt.show()"
   ]
  },
  {
   "cell_type": "markdown",
   "metadata": {},
   "source": [
    "## 1.7.25\n",
    "問題24において,$q_1 = a/||a||\\,\\,\\,\\,q_2 = B/||B||$を計算し,QRへの分解を行うことによって,グラム・シュミット法を完成させよ\n",
    "\n",
    "$\n",
    "\\begin{pmatrix}1 & 4 \\\\ 1 & 0 \\end{pmatrix} =\n",
    "\\begin{pmatrix}q_1 & q_2 \\end{pmatrix}\n",
    "\\begin{pmatrix}||a|| & ?\\\\ 0 & ||B|| \\end{pmatrix}\n",
    "$\n",
    "\n"
   ]
  },
  {
   "cell_type": "markdown",
   "metadata": {},
   "source": [
    "## 1.7.26\n",
    "(MATLAB) $A = eye(4)-diag([1,1,1],-1)$に対して分解$[Q,R] = qr(A)$を実行せよ.$Q$の直行する列ベクトルをスケーリングして,成分を綺麗な整数にできるか？\n"
   ]
  },
  {
   "cell_type": "code",
   "execution_count": 225,
   "metadata": {},
   "outputs": [
    {
     "name": "stdout",
     "output_type": "stream",
     "text": [
      "qr(A)\n",
      " (array([[-0.70710678, -0.40824829, -0.28867513,  0.5       ],\n",
      "       [ 0.70710678, -0.40824829, -0.28867513,  0.5       ],\n",
      "       [-0.        ,  0.81649658, -0.28867513,  0.5       ],\n",
      "       [-0.        , -0.        ,  0.8660254 ,  0.5       ]]), array([[-1.41421356,  0.70710678,  0.        ,  0.        ],\n",
      "       [ 0.        , -1.22474487,  0.81649658,  0.        ],\n",
      "       [ 0.        ,  0.        , -1.15470054,  0.8660254 ],\n",
      "       [ 0.        ,  0.        ,  0.        ,  0.5       ]]))\n"
     ]
    }
   ],
   "source": [
    "A =  np.identity(4)- np.diag([1,1,1],-1)\n",
    "print(\"qr(A)\\n\",linalg.qr(A))"
   ]
  },
  {
   "cell_type": "markdown",
   "metadata": {},
   "source": [
    "みにくいので頑張って平方根に直すと\n",
    "$\n",
    "qr(A) = QR = \n",
    "\\begin{pmatrix}-\\frac{1}{\\sqrt{2}}& -\\frac{1}{\\sqrt{6}} & -\\frac{1}{2\\sqrt{3}} & \\frac{1}{2} \\\\ \n",
    "\\frac{1}{\\sqrt{2}}& -\\frac{1}{\\sqrt{6}} & -\\frac{1}{2\\sqrt{3}} & \\frac{1}{2} \\\\ \n",
    "0 & \\frac{2}{\\sqrt{6}} & -\\frac{1}{2\\sqrt{3}} & \\frac{1}{2}\\\\\n",
    "0 & 0 & \\frac{3}{2 \\sqrt{3}}& \\frac{1}{2}\\end{pmatrix}\n",
    "\\begin{pmatrix}-\\sqrt{2}& \\frac{1}{\\sqrt{2}} & 0 & 0\\\\ \n",
    "0 & -\\frac{3}{\\sqrt{6}}& -\\frac{1}{2\\sqrt{3}} & 0\\\\\n",
    "0 & 0 & \\frac{2}{\\sqrt{3}}& \\frac{3}{2 \\sqrt{3}}\\\\\n",
    "0 & 0 & 0& \\frac{1}{2}\\end{pmatrix}\n",
    "$\n",
    "\n",
    "整数は難しそう"
   ]
  },
  {
   "cell_type": "markdown",
   "metadata": {},
   "source": [
    "## 1.7.27\n",
    "$n=3\\,\\,\\, n=4$の場合に,$qr(T),qr(K),qr(B)$を用いて特別な三重対角行列$T,K,B$の$QR$因子を求めよ. 何かパターンが見つかるか？\n",
    "\n",
    "## 解答"
   ]
  },
  {
   "cell_type": "code",
   "execution_count": 226,
   "metadata": {},
   "outputs": [
    {
     "name": "stdout",
     "output_type": "stream",
     "text": [
      "\n",
      " (array([[-0.89442719, -0.35856858, -0.19518001,  0.18257419],\n",
      "       [ 0.4472136 , -0.71713717, -0.39036003,  0.36514837],\n",
      "       [-0.        ,  0.5976143 , -0.58554004,  0.54772256],\n",
      "       [-0.        , -0.        ,  0.68313005,  0.73029674]]), array([[-2.23606798,  1.78885438, -0.4472136 ,  0.        ],\n",
      "       [ 0.        , -1.67332005,  1.91236577, -0.5976143 ],\n",
      "       [ 0.        ,  0.        , -1.46385011,  1.95180015],\n",
      "       [ 0.        ,  0.        ,  0.        ,  0.91287093]]))\n",
      "\n",
      " (array([[-0.70710678, -0.40824829, -0.28867513,  0.5       ],\n",
      "       [ 0.70710678, -0.40824829, -0.28867513,  0.5       ],\n",
      "       [-0.        ,  0.81649658, -0.28867513,  0.5       ],\n",
      "       [-0.        , -0.        ,  0.8660254 ,  0.5       ]]), array([[-1.41421356,  2.12132034, -0.70710678,  0.        ],\n",
      "       [ 0.        , -1.22474487,  2.04124145, -0.81649658],\n",
      "       [ 0.        ,  0.        , -1.15470054,  2.02072594],\n",
      "       [ 0.        ,  0.        ,  0.        ,  0.5       ]]))\n",
      "\n",
      " (array([[-0.70710678, -0.40824829, -0.28867513,  0.5       ],\n",
      "       [ 0.70710678, -0.40824829, -0.28867513,  0.5       ],\n",
      "       [-0.        ,  0.81649658, -0.28867513,  0.5       ],\n",
      "       [-0.        , -0.        ,  0.8660254 ,  0.5       ]]), array([[-1.41421356,  2.12132034, -0.70710678,  0.        ],\n",
      "       [ 0.        , -1.22474487,  2.04124145, -0.81649658],\n",
      "       [ 0.        ,  0.        , -1.15470054,  1.15470054],\n",
      "       [ 0.        ,  0.        ,  0.        ,  0.        ]]))\n",
      "\n",
      " (array([[-0.89442719, -0.35856858,  0.26726124],\n",
      "       [ 0.4472136 , -0.71713717,  0.53452248],\n",
      "       [-0.        ,  0.5976143 ,  0.80178373]]), array([[-2.23606798,  1.78885438, -0.4472136 ],\n",
      "       [ 0.        , -1.67332005,  1.91236577],\n",
      "       [ 0.        ,  0.        ,  1.06904497]]))\n",
      "\n",
      " (array([[-0.70710678, -0.40824829,  0.57735027],\n",
      "       [ 0.70710678, -0.40824829,  0.57735027],\n",
      "       [-0.        ,  0.81649658,  0.57735027]]), array([[-1.41421356,  2.12132034, -0.70710678],\n",
      "       [ 0.        , -1.22474487,  2.04124145],\n",
      "       [ 0.        ,  0.        ,  0.57735027]]))\n",
      "\n",
      " (array([[-0.70710678, -0.40824829,  0.57735027],\n",
      "       [ 0.70710678, -0.40824829,  0.57735027],\n",
      "       [-0.        ,  0.81649658,  0.57735027]]), array([[-1.41421356,  2.12132034, -0.70710678],\n",
      "       [ 0.        , -1.22474487,  1.22474487],\n",
      "       [ 0.        ,  0.        ,  0.        ]]))\n"
     ]
    }
   ],
   "source": [
    "#n = 4の場合\n",
    "K = np.identity(4)+np.identity(4) - np.diag([1,1,1],-1)-np.diag([1,1,1],1) \n",
    "T = np.identity(4)+np.identity(4) - np.diag([1,1,1],-1)-np.diag([1,1,1],1) - np.diag([1,0,0,0],0)\n",
    "B = np.identity(4)+np.identity(4) - np.diag([1,1,1],-1)-np.diag([1,1,1],1) - np.diag([1,0,0,1],0)\n",
    "\n",
    "print(\"\\n\",linalg.qr(K))\n",
    "print(\"\\n\",linalg.qr(T))\n",
    "print(\"\\n\",linalg.qr(B))\n",
    "\n",
    "#n = 3の場合\n",
    "K = np.identity(3)+np.identity(3) - np.diag([1,1],-1)-np.diag([1,1],1) \n",
    "T = np.identity(3)+np.identity(3) - np.diag([1,1],-1)-np.diag([1,1],1) - np.diag([1,0,0],0)\n",
    "B = np.identity(3)+np.identity(3) - np.diag([1,1],-1)-np.diag([1,1],1) - np.diag([1,0,1],0)\n",
    "\n",
    "print(\"\\n\",linalg.qr(K))\n",
    "print(\"\\n\",linalg.qr(T))\n",
    "print(\"\\n\",linalg.qr(B))"
   ]
  },
  {
   "cell_type": "markdown",
   "metadata": {},
   "source": [
    "パターンあります？（平方根に直せば見えてきそうだけど、大変そうなのでまた今度やります）"
   ]
  },
  {
   "cell_type": "markdown",
   "metadata": {},
   "source": [
    "## 1.7.28\n",
    "eigコマンドを用いて$\\lambda_{max}/\\lambda_{min}$求めることにより,$K_9$と$T_9$の条件数を計算できるか？式(19)の推定値と比べてみよ.\n",
    "\n",
    "## 解答\n",
    "固有値を求めてみる"
   ]
  },
  {
   "cell_type": "code",
   "execution_count": 227,
   "metadata": {},
   "outputs": [
    {
     "name": "stdout",
     "output_type": "stream",
     "text": [
      "λ: \n",
      " [ 3.90211303+0.j  3.61803399+0.j  3.17557050+0.j  2.61803399+0.j\n",
      "  2.00000000+0.j  0.09788697+0.j  0.38196601+0.j  1.38196601+0.j\n",
      "  0.82442950+0.j]\n",
      "λ: \n",
      " [ 3.89163448+0.j  3.57828102+0.j  3.09389632+0.j  2.49097097+0.j\n",
      "  1.83484131+0.j  0.02727739+0.j  0.24105250+0.j  0.64543686+0.j\n",
      "  1.19660915+0.j]\n"
     ]
    }
   ],
   "source": [
    "K = np.identity(9)+np.identity(9) - np.diag(np.ones(8),-1)-np.diag([1,1,1,1,1,1,1,1],1) \n",
    "T = np.identity(9)+np.identity(9) - np.diag(np.ones(8),-1)-np.diag([1,1,1,1,1,1,1,1],1) - np.diag([1,0,0,0,0,0,0,0,0],0)\n",
    "print(\"λ: \\n\",linalg.eigvals(K))\n",
    "print(\"λ: \\n\",linalg.eigvals(T))"
   ]
  },
  {
   "cell_type": "markdown",
   "metadata": {},
   "source": [
    "これより$K_9$の$\\lambda_{max}/\\lambda_{min} = 39.8634571$\n",
    "これより$T_9$の$\\lambda_{max}/\\lambda_{min} = 142.668873$\n",
    "\n",
    "また式（19）より\n",
    "$c(K) \\approx \\frac{4}{\\pi}^2(n+1)^2$ n = 9 よりこれを計算すると\n",
    "$c(K) \\approx 40.5695971$\n",
    "\n",
    "ある程度近い値が得られていることがわかる"
   ]
  },
  {
   "cell_type": "markdown",
   "metadata": {},
   "source": [
    "## 1.7.29\n",
    "例題4の行列$A$について,$50<\\lambda_{max}(A^TA)< 51$であることはどうやってわかるか？\n",
    "\n",
    "$A =\\begin{pmatrix}1 & 7 \\\\ 0 & 1 \\end{pmatrix} \\,\\,\\,\\,\\,\\,\\, A^TA = \\begin{pmatrix}1 & 7 \\\\ 7 & 50 \\end{pmatrix}$\n",
    "\n",
    "## 解答"
   ]
  },
  {
   "cell_type": "markdown",
   "metadata": {},
   "source": [
    "計算すればわかるのでは？"
   ]
  },
  {
   "cell_type": "markdown",
   "metadata": {},
   "source": [
    "## 1.7.30\n",
    "3×2の後退差分の行列$DIFF=[1 0;-1 1;0 -1]に[U,sigma,V] = svd(DIFF)$を適用せよ. $u_1,u_2,v_1,v_2$の符号を変更することにより,それらを例5の余弦,正弦ベクトルで$h = \\pi/3$とみなせ.\n",
    "\n",
    "(DIFF)^Tの零空間に入っている列ベクトルはどれか？\n",
    "\n",
    "## 解答"
   ]
  },
  {
   "cell_type": "code",
   "execution_count": 228,
   "metadata": {},
   "outputs": [
    {
     "name": "stdout",
     "output_type": "stream",
     "text": [
      "svd(DIFF) = \n",
      " (array([[ -4.08248290e-01,  -7.07106781e-01,   5.77350269e-01],\n",
      "       [  8.16496581e-01,  -1.22629285e-16,   5.77350269e-01],\n",
      "       [ -4.08248290e-01,   7.07106781e-01,   5.77350269e-01]]), array([ 1.73205081,  1.        ]), array([[-0.70710678,  0.70710678],\n",
      "       [-0.70710678, -0.70710678]]))\n"
     ]
    }
   ],
   "source": [
    "DIFF = np.array([[1,0],\n",
    "                 [ -1 ,1],\n",
    "                  [0, -1]])\n",
    "print(\"svd(DIFF) = \\n\",linalg.svd(DIFF))"
   ]
  },
  {
   "cell_type": "markdown",
   "metadata": {},
   "source": [
    "これを平方根を用いて書き直すと\n",
    "\n",
    "$svd(DIFF) = \n",
    "\\begin{pmatrix}-\\frac{1}{\\sqrt{6}}& -\\frac{1}{\\sqrt{2}} & -\\frac{1}{\\sqrt{3}} \\\\ -\\frac{2}{\\sqrt{6}} & 0 &\\frac{1}{\\sqrt{3}}\\\\\n",
    "-\\frac{1}{\\sqrt{6}}&\\frac{1}{\\sqrt{2}}&\\frac{1}{\\sqrt{3}}\\end{pmatrix}\n",
    "\\begin{pmatrix}\\sqrt{3} & 0 \\\\ 0 & 1 \\\\ 0 & 0\\end{pmatrix}\n",
    "\\begin{pmatrix} -\\frac{1}{\\sqrt{2}}  &  \\frac{1}{\\sqrt{2}}  \\\\  -\\frac{1}{\\sqrt{2}}  &  -\\frac{1}{\\sqrt{2}} \\end{pmatrix}\n",
    "$\n",
    "\n",
    "(検算したら復元されなかった...)\n",
    "$\\begin{pmatrix}1 & 0 \\\\ 1 & -1 \\\\ 0 & -1\\end{pmatrix}$\n",
    "\n",
    "ここで例5から\n",
    "\n",
    "$u_k =(\\sin{\\frac{1}{2}kh}, . . . ,\\sin{(n+\\frac{1}{2})kh})$\n",
    "\n",
    "$v_k =(\\sin{kh}, . . . ,\\sin{nkh})$\n",
    "\n",
    "$\\lambda = 2-2\\cos{kh}$\n",
    "\n",
    "$h = \\pi/3$とすると\n",
    "\n",
    "u_1 =  (わからなくなった)"
   ]
  },
  {
   "cell_type": "markdown",
   "metadata": {},
   "source": [
    "## 1.7.31\n",
    "フロベニウスノルム$||A||^2_F = \\sum \\sum |a_{ij}|^2$はAを長いベクトルとみた時のノルムである.\n",
    "以下の式を確認せよ\n",
    "\n",
    "$||I||_F = \\sqrt{n}\\,\\,\\,\\,\\,\\,\\,\\,\\,$$||A+B||_F \\leq ||A||_F + ||B||_F$\n",
    "\n",
    "$||AB||_F \\leq ||A||_F  ||B||_F\\,\\,\\,\\,\\,\\,\\,\\,\\,$$||A||_F^2 = trace(A^TA)$"
   ]
  },
  {
   "cell_type": "markdown",
   "metadata": {},
   "source": [
    "## 解答\n",
    "(1) $||I||_F^2 = \\sum \\sum (1)^2 = n $\n",
    "\n",
    "よって$||I||_F = \\sqrt{n}$\n",
    "\n",
    "(2) $||A+B||^2_F = \\sum \\sum |a_{ij}+b_{ij}|^2\\,\\,\\,\\,\\,\\,\\,\\,\\,$\n",
    "$||A||^2_F = \\sum \\sum |a_{ij}|^2\\,\\,\\,\\,\\,\\,\\,\\,\\,$\n",
    "$||B||^2_F = \\sum \\sum |b_{ij}|^2$\n",
    "\n",
    "$|a_{ij}+b_{ij}|^2 \\leq |a_{ij}|^2+|b_{ij}|^2$ であるから\n",
    "\n",
    "$|A+B||^2_F = \\sum \\sum |a_{ij}+b_{ij}|^2 \\leq \\sum \\sum (|a_{ij}|^2+|b_{ij}|^2) = ||A||_F^2 + ||B||_F^2$ ??\n",
    "\n",
    "(3) $||AB||^2_F = \\sum \\sum |a_{ij}b_{ij}|^2\\,\\,\\,\\,\\,\\,\\,\\,\\,$\n",
    "$||A||_F^2\\,||B||^2_F = \\sum \\sum |a_{ij}|^2|b_{ij}|^2\\,\\,\\,\\,\\,\\,\\,\\,\\,$\n",
    "\n",
    "ここで$||AB|| \\leq ||A||\\,||B||$ より\n",
    "\n",
    "$||AB||^2_F = \\sum \\sum |a_{ij}b_{ij}|^2\\leq \\sum \\sum |a_{ij}|^2|b_{ij}|^2 \n",
    "=||A||_F^2\\,||B||^2_F$\n",
    "\n",
    "よって$||AB||_F \\leq ||A||_F  ||B||_F$　（間違ってる）\n",
    "\n",
    "(4) $||A||_F^2 = \\sum \\sum |a_{ij}|^2$\n",
    "\n",
    "ここで$A^TA$のii成分は$\\sum^{m}_{j=1}a^2_{ij}$であり、またトレースの定義から\n",
    "\n",
    "$trace(A^TA) = \\sum^{m}_{i=1} \\sum^{n}_{j=1} a_{ij}^2$\n",
    "\n",
    "よって\n",
    "$||A||_F^2 = trace(A^TA)$"
   ]
  },
  {
   "cell_type": "markdown",
   "metadata": {},
   "source": [
    "## 1.7.32\n",
    "(推奨問題) $pinv(A)$を用いて4×5の前進差分行列$A$の擬似逆行列$A^+$を求めよ.行列の積を計算し$AA^+ = I , A^+A \\neq I$ を確かめよ. $A$が$n × (n+1)$のときの$A^+$を推定せよ"
   ]
  },
  {
   "cell_type": "code",
   "execution_count": 229,
   "metadata": {},
   "outputs": [
    {
     "name": "stdout",
     "output_type": "stream",
     "text": [
      "pinv(A)\n",
      " [[-0.8 -0.6 -0.4 -0.2]\n",
      " [ 0.2 -0.6 -0.4 -0.2]\n",
      " [ 0.2  0.4 -0.4 -0.2]\n",
      " [ 0.2  0.4  0.6 -0.2]\n",
      " [ 0.2  0.4  0.6  0.8]]\n",
      "A*pinv(A)\n",
      " [[  1.00000000e+00  -6.66133815e-16   2.77555756e-16   3.60822483e-16]\n",
      " [ -5.55111512e-17   1.00000000e+00  -2.22044605e-16  -8.32667268e-17]\n",
      " [  6.66133815e-16   2.77555756e-16   1.00000000e+00  -3.05311332e-16]\n",
      " [ -6.38378239e-16  -7.21644966e-16  -1.11022302e-16   1.00000000e+00]]\n",
      "pinv(A)*A\n",
      " [[ 0.8 -0.2 -0.2 -0.2 -0.2]\n",
      " [-0.2  0.8 -0.2 -0.2 -0.2]\n",
      " [-0.2 -0.2  0.8 -0.2 -0.2]\n",
      " [-0.2 -0.2 -0.2  0.8 -0.2]\n",
      " [-0.2 -0.2 -0.2 -0.2  0.8]]\n"
     ]
    }
   ],
   "source": [
    "A = np.array([[-1,1,0,0,0],\n",
    "                         [0,-1,1,0,0],\n",
    "                         [0,0,-1,1,0],\n",
    "                         [0,0,0,-1,1]])\n",
    "\n",
    "print(\"pinv(A)\\n\",linalg.pinv(A) )\n",
    "print(\"A*pinv(A)\\n\",np.dot(A,linalg.pinv(A)))\n",
    "print(\"pinv(A)*A\\n\",np.dot(linalg.pinv(A),A))"
   ]
  },
  {
   "cell_type": "markdown",
   "metadata": {},
   "source": [
    "$A$が$n×(n+1)$の時の$A^+$を推定するためにn = 2,  3, 5の場合の$A^+$をみてみる"
   ]
  },
  {
   "cell_type": "code",
   "execution_count": 230,
   "metadata": {},
   "outputs": [
    {
     "name": "stdout",
     "output_type": "stream",
     "text": [
      "pinv(A)\n",
      " [[-0.66666667 -0.33333333]\n",
      " [ 0.33333333 -0.33333333]\n",
      " [ 0.33333333  0.66666667]]\n",
      "pinv(A)\n",
      " [[-0.75 -0.5  -0.25]\n",
      " [ 0.25 -0.5  -0.25]\n",
      " [ 0.25  0.5  -0.25]\n",
      " [ 0.25  0.5   0.75]]\n",
      "pinv(A)\n",
      " [[-0.83333333 -0.66666667 -0.5        -0.33333333 -0.16666667]\n",
      " [ 0.16666667 -0.66666667 -0.5        -0.33333333 -0.16666667]\n",
      " [ 0.16666667  0.33333333 -0.5        -0.33333333 -0.16666667]\n",
      " [ 0.16666667  0.33333333  0.5        -0.33333333 -0.16666667]\n",
      " [ 0.16666667  0.33333333  0.5         0.66666667 -0.16666667]\n",
      " [ 0.16666667  0.33333333  0.5         0.66666667  0.83333333]]\n"
     ]
    }
   ],
   "source": [
    "# n = 2\n",
    "A = np.array([[-1,1,0],\n",
    "                         [0,-1,1,]])\n",
    "\n",
    "print(\"pinv(A)\\n\",linalg.pinv(A) )\n",
    "\n",
    "# n = 3\n",
    "A = np.array([[-1,1,0,0],\n",
    "                         [0,-1,1,0],\n",
    "                         [0,0,-1,1]])\n",
    "\n",
    "print(\"pinv(A)\\n\",linalg.pinv(A) )\n",
    "\n",
    "# n = 5\n",
    "A = np.array([[-1,1,0,0,0,0],\n",
    "                         [0,-1,1,0,0,0],\n",
    "                         [0,0,-1,1,0,0],\n",
    "                         [0,0,0,-1,1,0],\n",
    "                         [0,0,0,0,-1,1]])\n",
    "\n",
    "print(\"pinv(A)\\n\",linalg.pinv(A) )"
   ]
  },
  {
   "cell_type": "markdown",
   "metadata": {},
   "source": [
    "これより$A^+$は\n",
    "$\n",
    "A^+ = \\begin{pmatrix}-\\frac{n}{n+1}& -\\frac{n-1}{n+1} & . . . & -\\frac{1}{n+1}  \\\\ \\frac{1}{n+1} & -\\frac{n-1}{n+1} &. . .& -\\frac{1}{n+1}\\\\\n",
    ": & : & & : \\\\\\frac{1}{n+1} & \\frac{2}{n+1} & . . . & \\frac{n}{n+1} \\end{pmatrix}\n",
    "$\n",
    "\n",
    "と推定できる"
   ]
  },
  {
   "cell_type": "code",
   "execution_count": null,
   "metadata": {},
   "outputs": [],
   "source": [
    "："
   ]
  },
  {
   "cell_type": "code",
   "execution_count": null,
   "metadata": {},
   "outputs": [],
   "source": []
  },
  {
   "cell_type": "code",
   "execution_count": null,
   "metadata": {},
   "outputs": [],
   "source": []
  },
  {
   "cell_type": "code",
   "execution_count": null,
   "metadata": {},
   "outputs": [],
   "source": []
  },
  {
   "cell_type": "code",
   "execution_count": null,
   "metadata": {},
   "outputs": [],
   "source": []
  },
  {
   "cell_type": "code",
   "execution_count": null,
   "metadata": {},
   "outputs": [],
   "source": []
  }
 ],
 "metadata": {
  "kernelspec": {
   "display_name": "Python 3",
   "language": "python",
   "name": "python3"
  },
  "language_info": {
   "codemirror_mode": {
    "name": "ipython",
    "version": 3
   },
   "file_extension": ".py",
   "mimetype": "text/x-python",
   "name": "python",
   "nbconvert_exporter": "python",
   "pygments_lexer": "ipython3",
   "version": "3.6.2"
  }
 },
 "nbformat": 4,
 "nbformat_minor": 2
}
