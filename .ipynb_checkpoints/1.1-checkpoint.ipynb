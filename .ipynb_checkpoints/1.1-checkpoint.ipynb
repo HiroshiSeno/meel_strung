{
 "cells": [
  {
   "cell_type": "markdown",
   "metadata": {},
   "source": [
    "使用するライブラリのインポート"
   ]
  },
  {
   "cell_type": "code",
   "execution_count": 18,
   "metadata": {},
   "outputs": [],
   "source": [
    "import numpy as np\n",
    "import scipy.linalg as linalg\n",
    "from matplotlib import pyplot\n",
    "import scipy.sparse as sp\n",
    "import scipy.sparse.linalg as spla\n",
    "import math\n",
    "from numpy.random import rand"
   ]
  },
  {
   "cell_type": "markdown",
   "metadata": {},
   "source": [
    "### 1.1 1\n",
    "$T_3$および$T_4$の逆行列の逆行列は次のようになる。\n",
    " \n",
    "$$\n",
    " T_3^{-1} = \n",
    "\\begin{pmatrix} 3 & 2 & 1 \\\\ 2 & 2 & 1 \\\\ 1 & 1 & 1 \\end{pmatrix}\n",
    " ,  T_4^{-1} = \n",
    "\\begin{pmatrix} 4 &3 & 2 & 1\\\\ 3 &3 & 2 & 1 \\\\ 2 & 2 & 2 & 1 \\\\ 1 &1 & 1 & 1 \\end{pmatrix}\n",
    "$$\n",
    "その形から$T_5$を予測し、$T_5^{-1}$をかけてみよ。\n",
    "\n",
    "$T_n^{-1}$において、対角要素以下の要素を与える簡単な式を求めよ。次に、対角要素以上の要素を与える簡単な式を求めよ。"
   ]
  },
  {
   "cell_type": "markdown",
   "metadata": {},
   "source": [
    "#### 解答\n",
    "まず$T_5^{-1}$の形を予想する。"
   ]
  },
  {
   "cell_type": "code",
   "execution_count": 19,
   "metadata": {},
   "outputs": [
    {
     "name": "stdout",
     "output_type": "stream",
     "text": [
      "[[5 4 3 2 1]\n",
      " [4 4 3 2 1]\n",
      " [3 3 3 2 1]\n",
      " [2 2 2 2 1]\n",
      " [1 1 1 1 1]]\n"
     ]
    }
   ],
   "source": [
    "T_5_inv = np.asarray([[5, 4, 3, 2, 1],[4, 4, 3, 2, 1],[3, 3, 3, 2, 1],[2, 2 , 2, 2, 1], [1, 1, 1, 1, 1]])\n",
    "print(T_5_inv)"
   ]
  },
  {
   "cell_type": "markdown",
   "metadata": {},
   "source": [
    "さらに、$T_5$は"
   ]
  },
  {
   "cell_type": "code",
   "execution_count": 20,
   "metadata": {},
   "outputs": [
    {
     "name": "stdout",
     "output_type": "stream",
     "text": [
      "[[ 1 -1  0  0  0]\n",
      " [-1  2 -1  0  0]\n",
      " [ 0 -1  2 -1  0]\n",
      " [ 0  0 -1  2 -1]\n",
      " [ 0  0  0 -1  2]]\n"
     ]
    }
   ],
   "source": [
    "T_5 = linalg.toeplitz(np.asarray([2,-1,0,0,0]))\n",
    "T_5[0,0]=1\n",
    "print(T_5)"
   ]
  },
  {
   "cell_type": "markdown",
   "metadata": {},
   "source": [
    "これに$T_5$をかけてみると、"
   ]
  },
  {
   "cell_type": "code",
   "execution_count": 21,
   "metadata": {},
   "outputs": [
    {
     "name": "stdout",
     "output_type": "stream",
     "text": [
      "[[1 0 0 0 0]\n",
      " [0 1 0 0 0]\n",
      " [0 0 1 0 0]\n",
      " [0 0 0 1 0]\n",
      " [0 0 0 0 1]]\n"
     ]
    }
   ],
   "source": [
    "print(T_5.dot(T_5_inv))"
   ]
  },
  {
   "cell_type": "markdown",
   "metadata": {},
   "source": [
    "となり、単位行列が生成されたことから、これは$T_5$の逆行列であることがわかる。"
   ]
  },
  {
   "cell_type": "markdown",
   "metadata": {},
   "source": [
    "$T_n^{-1}$において、対角要素以下の要素を与える式は、行番号をi、列番号をjとすれば\n",
    "$t_{ij}=n-(i-1)$\n",
    "\n",
    "対角要素以上の要素を与える式は、\n",
    "$t_{ij}=n-(j-1)$\n",
    "である。"
   ]
  },
  {
   "cell_type": "markdown",
   "metadata": {},
   "source": [
    "### 1.1.2\n",
    "$$\n",
    "U^{-1} = \n",
    "\\begin{pmatrix} 1 & -1 & 0 \\\\ 0 & 1 & -1 \\\\ 0 & 0 & 1 \\end{pmatrix}^{-1}\n",
    "  = \n",
    "\\begin{pmatrix} 1 & 1 & 1\\\\ 0& 1 & 1 \\\\ 0 & 0 & 1\\end{pmatrix}\\tag{2}\n",
    "$$\n",
    "式(2)のUと$U^{-1}$をつかって、次の３ステップに従って$T_3^{-1}$を計算せよ。\n",
    "1. $T_3 = U^{T}U$を確認せよ。ここで、Uは主対角線上に1、その1本上の対角線上に-1が並んだ行列である。その天地$U^{-1}$は下三角行列である。\n",
    "2. $U^{-1}$を上三角部分（主対角線を含む）がすべて1の行列とする時、$UU^{-1}=I$を確認せよ。\n",
    "3. $U^{T}U$の逆行列を計算し、$T_3^{-1}= (U^{-1})(U^{-1})^{T}$を求めよ。\n",
    "\n",
    "#### 解答"
   ]
  },
  {
   "cell_type": "markdown",
   "metadata": {},
   "source": [
    "$T_3$は、"
   ]
  },
  {
   "cell_type": "code",
   "execution_count": 22,
   "metadata": {},
   "outputs": [
    {
     "name": "stdout",
     "output_type": "stream",
     "text": [
      "[[ 1 -1  0]\n",
      " [-1  2 -1]\n",
      " [ 0 -1  2]]\n"
     ]
    }
   ],
   "source": [
    "T_3 = (linalg.toeplitz(np.asarray([2,-1,0])))\n",
    "T_3[0,0]=1\n",
    "print(T_3)"
   ]
  },
  {
   "cell_type": "markdown",
   "metadata": {},
   "source": [
    "一方で、$U$と$U^{T}$は"
   ]
  },
  {
   "cell_type": "code",
   "execution_count": 23,
   "metadata": {},
   "outputs": [
    {
     "name": "stdout",
     "output_type": "stream",
     "text": [
      "[[ 1. -1.  0.]\n",
      " [-0.  1. -1.]\n",
      " [ 0. -0.  1.]]\n",
      "[[ 1. -0.  0.]\n",
      " [-1.  1. -0.]\n",
      " [ 0. -1.  1.]]\n"
     ]
    }
   ],
   "source": [
    "U_3 = linalg.toeplitz(np.asarray([1,-1,0]))*np.transpose(np.tri(3))\n",
    "U_3_t = np.transpose(U_3)\n",
    "print(U_3)\n",
    "print(U_3_t)"
   ]
  },
  {
   "cell_type": "markdown",
   "metadata": {},
   "source": [
    "であり、$UU^{T}$を確認すると、"
   ]
  },
  {
   "cell_type": "code",
   "execution_count": 51,
   "metadata": {},
   "outputs": [
    {
     "name": "stdout",
     "output_type": "stream",
     "text": [
      "[[ 1. -1.  0.]\n",
      " [-1.  2. -1.]\n",
      " [ 0. -1.  2.]]\n"
     ]
    }
   ],
   "source": [
    "print(U_3_t.dot(U_3))"
   ]
  },
  {
   "cell_type": "markdown",
   "metadata": {},
   "source": [
    "よって、$UU^{T}=T_3$が示された。"
   ]
  },
  {
   "cell_type": "markdown",
   "metadata": {},
   "source": [
    "次に、$UU^{-1}$を計算する。$U$と$U^{-1}$はそれぞれ、"
   ]
  },
  {
   "cell_type": "code",
   "execution_count": 25,
   "metadata": {},
   "outputs": [
    {
     "name": "stdout",
     "output_type": "stream",
     "text": [
      "[[ 1. -1.  0.]\n",
      " [-0.  1. -1.]\n",
      " [ 0. -0.  1.]]\n",
      "[[ 1.  1.  1.]\n",
      " [ 0.  1.  1.]\n",
      " [ 0.  0.  1.]]\n"
     ]
    }
   ],
   "source": [
    "U_3_inv = np.transpose(np.tri(3))\n",
    "print(U_3)\n",
    "print(U_3_inv)"
   ]
  },
  {
   "cell_type": "markdown",
   "metadata": {},
   "source": [
    "ところで、$U$は一階微分に相当する演算子と考えることができる。したがって、その逆演算に相当する$U^{-1}$は一階の積分に相当すると考えられる。\n",
    "よって、$UU^{-1}$は全体としてなんの作用も起こさない演算子、単位行列$I$として作用すると予想される。実際に計算してみると、"
   ]
  },
  {
   "cell_type": "code",
   "execution_count": null,
   "metadata": {},
   "outputs": [],
   "source": [
    "print(U_3.dot(U_3_inv))"
   ]
  },
  {
   "cell_type": "markdown",
   "metadata": {},
   "source": [
    "となる。\n",
    "\n",
    "よって、$UU^{-1}=I$が示された。\n",
    "\n",
    "直感的には、微分演算は定数項の情報が保存されないため、$UU^{-1}$が全体として単位行列になるのはおかしいのではないか？と思うところである。\n",
    "しかし今回の行列を使った微分というのは離散的で、演算対象のデータの端の値については微分ができないことがあり、実際$U$を見てみると一番下の行は微分になっていない。この部分は微分の役割をしない代わりに、定数項の部分、微分方程式であれば初期条件に相当する情報を保持する役割を持つと考えられる。よって$UU^{-1}=I$は正しいことが分かる。"
   ]
  },
  {
   "cell_type": "markdown",
   "metadata": {},
   "source": [
    "### 1.1.3\n",
    "和文行列$S$を生成し、積$U*S$を計算し、$S=U^{-1}$を確認せよ。\n",
    "\n",
    "#### 解答\n",
    "和文行列$S$は、"
   ]
  },
  {
   "cell_type": "code",
   "execution_count": 46,
   "metadata": {},
   "outputs": [
    {
     "name": "stdout",
     "output_type": "stream",
     "text": [
      "[[ 1.  1.  1.  1.  1.]\n",
      " [ 0.  1.  1.  1.  1.]\n",
      " [ 0.  0.  1.  1.  1.]\n",
      " [ 0.  0.  0.  1.  1.]\n",
      " [ 0.  0.  0.  0.  1.]]\n"
     ]
    }
   ],
   "source": [
    "S_5=np.triu(np.ones(5))\n",
    "print(S_5)"
   ]
  },
  {
   "cell_type": "markdown",
   "metadata": {},
   "source": [
    "$U*S$を計算すると、"
   ]
  },
  {
   "cell_type": "code",
   "execution_count": 44,
   "metadata": {},
   "outputs": [
    {
     "name": "stdout",
     "output_type": "stream",
     "text": [
      "[[ 1.  0.  0.  0.  0.]\n",
      " [ 0.  1.  0.  0.  0.]\n",
      " [ 0.  0.  1.  0.  0.]\n",
      " [ 0.  0.  0.  1.  0.]\n",
      " [ 0.  0.  0.  0.  1.]]\n"
     ]
    }
   ],
   "source": [
    "U_5 = linalg.toeplitz(np.asarray([1,-1,0,0,0]))*np.transpose(np.tri(5))\n",
    "print(U_5.dot(S_5))"
   ]
  },
  {
   "cell_type": "markdown",
   "metadata": {},
   "source": [
    "となり、結果が単位行列であることから$S$が$U$の逆行列であることがわかる。実際、$U^{-1}$は"
   ]
  },
  {
   "cell_type": "code",
   "execution_count": 37,
   "metadata": {},
   "outputs": [
    {
     "name": "stdout",
     "output_type": "stream",
     "text": [
      "[[ 1.  1.  1.  1.  1.]\n",
      " [ 0.  1.  1.  1.  1.]\n",
      " [ 0.  0.  1.  1.  1.]\n",
      " [ 0.  0.  0.  1.  1.]\n",
      " [ 0.  0.  0.  0.  1.]]\n"
     ]
    }
   ],
   "source": [
    "print(linalg.inv(U_5))"
   ]
  },
  {
   "cell_type": "markdown",
   "metadata": {},
   "source": [
    "である。したがって、$S=U^{-1}$である。"
   ]
  },
  {
   "cell_type": "markdown",
   "metadata": {},
   "source": [
    "### 1.1.4\n",
    "任意のnについて、$S_n=U_n^{-1}$は上三角部分が全て1の行列であるが、n=4の時$S_nS_n^{T}=T_4^{-1}$となることを確かめよ。また、$S_nS_n^{T}$は明らかに対称行列であるが、これはなぜか。\n",
    "#### 解答\n",
    "$S_4$と$S_4^{T}$とその積$S_4S_4^{T}$はそれぞれ、"
   ]
  },
  {
   "cell_type": "code",
   "execution_count": 50,
   "metadata": {},
   "outputs": [
    {
     "name": "stdout",
     "output_type": "stream",
     "text": [
      "[[ 1.  1.  1.  1.]\n",
      " [ 0.  1.  1.  1.]\n",
      " [ 0.  0.  1.  1.]\n",
      " [ 0.  0.  0.  1.]]\n",
      "[[ 1.  0.  0.  0.]\n",
      " [ 1.  1.  0.  0.]\n",
      " [ 1.  1.  1.  0.]\n",
      " [ 1.  1.  1.  1.]]\n",
      "[[ 4.  3.  2.  1.]\n",
      " [ 3.  3.  2.  1.]\n",
      " [ 2.  2.  2.  1.]\n",
      " [ 1.  1.  1.  1.]]\n"
     ]
    }
   ],
   "source": [
    "S_4=np.triu(np.ones(4))\n",
    "S_4_tr= np.transpose(S_4)\n",
    "print(S_4)\n",
    "print(S_4_tr)\n",
    "print(S_4.dot(S_4_tr))"
   ]
  },
  {
   "cell_type": "markdown",
   "metadata": {},
   "source": [
    "であり、$S_4S_4^{T}=T_4^{-1}$であることが確認できる。対称行列となる理由であるが、まず$S_nS_n^{T}$の個々の成分に注目する。\n",
    "$S_n$のi行j列の成分を$(S_n)_{ij}$とおくと、$(S_nS_n^{T})_{ij}=\\sum_{k=1}^{n}(S_n)_{ik}(S_n^{T})_{kj}=\\sum_{j=1}^{n}(S_n)_{ik}(S_n)_{jk}$\n",
    "\n",
    "この式の右辺では、$i,j$は交換しても等しい式となっている。従って、左辺の$i,j$を入れ替えても要素の値が変わらないから、$S_nS_n^{T}$は対称行列である。"
   ]
  },
  {
   "cell_type": "markdown",
   "metadata": {},
   "source": [
    "### 1.1.5\n",
    "$$\n",
    " K_3^{-1} = \n",
    "\\frac{1}{4}\\begin{pmatrix} 3 & 2 & 1 \\\\ 2 & 4 & 2 \\\\ 1 & 2 & 3 \\end{pmatrix}\n",
    " ,  K_4^{-1} = \n",
    "\\frac{1}{5}\\begin{pmatrix} 4 &3 & 2 & 1\\\\ 3 & 6 & 4 & 2 \\\\ 2 & 4 & 6 & 3 \\\\ 1 &2 & 3 & 4 \\end{pmatrix}\n",
    "$$\n",
    "$K_3$および$K_4$の逆行列は$\\frac{1}{det}=\\frac{1}{4}, \\frac{1}{5}$という分数の因子を持つ。\n",
    "\n",
    "まず$K=K_5$の行列式を推測してみよ。次に、$det(K)とinv(K)$を求め。$det(K)*inv(K)$を計算せよ。\n",
    "#### 解答\n",
    "まず、$K_5$は、"
   ]
  },
  {
   "cell_type": "code",
   "execution_count": 54,
   "metadata": {},
   "outputs": [
    {
     "name": "stdout",
     "output_type": "stream",
     "text": [
      "[[ 2 -1  0  0  0]\n",
      " [-1  2 -1  0  0]\n",
      " [ 0 -1  2 -1  0]\n",
      " [ 0  0 -1  2 -1]\n",
      " [ 0  0  0 -1  2]]\n"
     ]
    }
   ],
   "source": [
    "K_5  = linalg.toeplitz([2, -1, 0, 0, 0])\n",
    "print(K_5)"
   ]
  },
  {
   "cell_type": "markdown",
   "metadata": {},
   "source": [
    "である。また、$det(K_5)$は、$\\frac{1}{6}$と予想され、実際に計算すると"
   ]
  },
  {
   "cell_type": "code",
   "execution_count": null,
   "metadata": {},
   "outputs": [],
   "source": [
    "print(linalg.det(K_5))"
   ]
  },
  {
   "cell_type": "markdown",
   "metadata": {},
   "source": [
    "となり予想通りである。\n",
    "$det(K)*inv(K)$を計算すると、"
   ]
  },
  {
   "cell_type": "code",
   "execution_count": 55,
   "metadata": {},
   "outputs": [
    {
     "name": "stdout",
     "output_type": "stream",
     "text": [
      "[[ 5.  4.  3.  2.  1.]\n",
      " [ 4.  8.  6.  4.  2.]\n",
      " [ 3.  6.  9.  6.  3.]\n",
      " [ 2.  4.  6.  8.  4.]\n",
      " [ 1.  2.  3.  4.  5.]]\n"
     ]
    }
   ],
   "source": [
    "print(linalg.det(K_5)*linalg.inv(K_5))"
   ]
  },
  {
   "cell_type": "code",
   "execution_count": null,
   "metadata": {},
   "outputs": [],
   "source": [
    "となり、要素が整数になっている。"
   ]
  },
  {
   "cell_type": "markdown",
   "metadata": {},
   "source": [
    "### 1.1.6\n",
    "（挑戦問題）\n",
    "$K_4^{-1}$の下三角部分について、$i,j$要素を与える式を求めよ。\n",
    "#### 解答\n",
    "$(K_n)_{i,j}=(n-(i-1))j$\n"
   ]
  },
  {
   "cell_type": "markdown",
   "metadata": {},
   "source": [
    "### 1.1.7\n",
    "列ベクトル$u$と行ベクトル$v^{T}$との積は、階数1の行列 $uv^{T}$となる。この行列の全ての列は$u$の定数倍であり、全ての行は$v^{T}$の定数倍である。\n",
    "$T_4^{-1}-K_4^{-1}$は階数1の行列である。\n",
    "$$\n",
    " T_4^{-1} - K_4^{-1} = \n",
    "\\frac{1}{5}\\begin{pmatrix} 16 & 12 & 8 & 4 \\\\ 12 & 9 & 6 & 3 \\\\ 8 & 6 & 4 & 2 \\\\ 4 & 3 & 2 & 1 \\end{pmatrix}\n",
    "  = \n",
    "\\frac{1}{5}\\begin{pmatrix} 4 \\\\ 3 \\\\ 2 \\\\ 1 \\end{pmatrix}\\begin{pmatrix} 4 & 3 &  2 &  1 \\end{pmatrix}\n",
    "$$\n",
    "$K_3 - T_3$を$uv^{T}$という形に書け。また、$T_3^{-1}　- K_3^{-1}$についても同様の式を予測せよ。\n",
    "\n",
    "#### 解答\n",
    "まず、$K_3 - T_3$を計算し、そこから$uv^{T}$に分解することを考える。\n",
    "\n",
    "$K_3, T_3, K_3 - T_3$はそれぞれ"
   ]
  },
  {
   "cell_type": "code",
   "execution_count": 58,
   "metadata": {},
   "outputs": [
    {
     "name": "stdout",
     "output_type": "stream",
     "text": [
      "[[ 2 -1  0]\n",
      " [-1  2 -1]\n",
      " [ 0 -1  2]]\n",
      "[[ 1 -1  0]\n",
      " [-1  2 -1]\n",
      " [ 0 -1  2]]\n",
      "[[1 0 0]\n",
      " [0 0 0]\n",
      " [0 0 0]]\n"
     ]
    }
   ],
   "source": [
    "K_3  = linalg.toeplitz([2, -1, 0])\n",
    "T_3 = (linalg.toeplitz(np.asarray([2,-1,0])))\n",
    "T_3[0,0]=1\n",
    "print(K_3)\n",
    "print(T_3)\n",
    "print(K_3 - T_3)"
   ]
  },
  {
   "cell_type": "markdown",
   "metadata": {},
   "source": [
    "この結果から、$uv^{T}$に分解した場合、\n",
    "$$u=\\begin{pmatrix} 1\\\\ 0 \\\\ 0 \\end{pmatrix}\\\\\n",
    "v^{T}=\\begin{pmatrix} 1 & 0 &  0 \\end{pmatrix}$$\n",
    "が一つ考えられる。\n",
    "また、$T_3^{-1}　- K_3^{-1}$に関して同様の検討をする。\n",
    "$T_3^{-1}　,  K_3^{-1}, T_3^{-1}　- K_3^{-1}$はそれぞれ"
   ]
  },
  {
   "cell_type": "code",
   "execution_count": 61,
   "metadata": {},
   "outputs": [
    {
     "name": "stdout",
     "output_type": "stream",
     "text": [
      "[[ 0.75  0.5   0.25]\n",
      " [ 0.5   1.    0.5 ]\n",
      " [ 0.25  0.5   0.75]]\n",
      "[[ 3.  2.  1.]\n",
      " [ 2.  2.  1.]\n",
      " [ 1.  1.  1.]]\n",
      "[[-2.25 -1.5  -0.75]\n",
      " [-1.5  -1.   -0.5 ]\n",
      " [-0.75 -0.5  -0.25]]\n"
     ]
    }
   ],
   "source": [
    "print(linalg.inv(K_3))\n",
    "print(linalg.inv(T_3))\n",
    "print(linalg.inv(K_3) - linalg.inv(T_3))"
   ]
  },
  {
   "cell_type": "markdown",
   "metadata": {},
   "source": [
    "この結果から、$T_3^{-1}　- K_3^{-1}$を4倍すると、"
   ]
  },
  {
   "cell_type": "code",
   "execution_count": 64,
   "metadata": {},
   "outputs": [
    {
     "name": "stdout",
     "output_type": "stream",
     "text": [
      "[[-9. -6. -3.]\n",
      " [-6. -4. -2.]\n",
      " [-3. -2. -1.]]\n"
     ]
    }
   ],
   "source": [
    "print(4*(linalg.inv(K_3) - linalg.inv(T_3)))"
   ]
  },
  {
   "cell_type": "markdown",
   "metadata": {},
   "source": [
    "この結果から$uv^{T}$に分解した場合、\n",
    "$$u=\\frac{-1}{4}\\begin{pmatrix} 3\\\\ 2 \\\\ 1 \\end{pmatrix}\\\\\n",
    "v^{T}=\\begin{pmatrix} 3 & 2 &  1 \\end{pmatrix}$$\n",
    "が考えられる。\n",
    "\n",
    "### 1.1.8\n",
    "(a)　問題7に基づき、$T_5^{-1}　- K_5^{-1}$の下三角部分の$i,j$要素を予想せよ。\n",
    "(b) この結果を問題1の答え（$T_5^{-1}$の上三角要素を与える公式）から差し引け。これはK_5^{-1}に対する（あまり単純でない）公式を与える、\n",
    "\n",
    "#### 解答\n",
    "$T_5^{-1}　- K_5^{-1}$の下三角要素の式について考える。\n",
    "$T_5^{-1},  K_5^{-1}, T_5^{-1}　- K_5^{-1}$\n",
    "をそれぞれ確認すると、\n"
   ]
  },
  {
   "cell_type": "code",
   "execution_count": 68,
   "metadata": {},
   "outputs": [
    {
     "name": "stdout",
     "output_type": "stream",
     "text": [
      "[[ 5.  4.  3.  2.  1.]\n",
      " [ 4.  4.  3.  2.  1.]\n",
      " [ 3.  3.  3.  2.  1.]\n",
      " [ 2.  2.  2.  2.  1.]\n",
      " [ 1.  1.  1.  1.  1.]]\n",
      "[[ 0.83333333  0.66666667  0.5         0.33333333  0.16666667]\n",
      " [ 0.66666667  1.33333333  1.          0.66666667  0.33333333]\n",
      " [ 0.5         1.          1.5         1.          0.5       ]\n",
      " [ 0.33333333  0.66666667  1.          1.33333333  0.66666667]\n",
      " [ 0.16666667  0.33333333  0.5         0.66666667  0.83333333]]\n",
      "[[ 4.16666667  3.33333333  2.5         1.66666667  0.83333333]\n",
      " [ 3.33333333  2.66666667  2.          1.33333333  0.66666667]\n",
      " [ 2.5         2.          1.5         1.          0.5       ]\n",
      " [ 1.66666667  1.33333333  1.          0.66666667  0.33333333]\n",
      " [ 0.83333333  0.66666667  0.5         0.33333333  0.16666667]]\n",
      "[[ 25.  20.  15.  10.   5.]\n",
      " [ 20.  16.  12.   8.   4.]\n",
      " [ 15.  12.   9.   6.   3.]\n",
      " [ 10.   8.   6.   4.   2.]\n",
      " [  5.   4.   3.   2.   1.]]\n"
     ]
    }
   ],
   "source": [
    "T_5 = linalg.toeplitz(np.asarray([2,-1,0,0,0]))\n",
    "T_5[0,0]=1\n",
    "T_5_inv = linalg.inv(T_5)\n",
    "K_5  = linalg.toeplitz([2, -1, 0, 0, 0])\n",
    "K_5_inv = linalg.inv(K_5)\n",
    "print(T_5_inv)\n",
    "print(K_5_inv)\n",
    "print(T_5_inv - K_5_inv)\n",
    "print(6*(T_5_inv - K_5_inv))"
   ]
  },
  {
   "cell_type": "markdown",
   "metadata": {},
   "source": [
    "また$T_5^{-1}　- K_5^{-1}$について定数倍として6をかけると、"
   ]
  },
  {
   "cell_type": "markdown",
   "metadata": {},
   "source": [
    "よって、$(T_n^{-1}　- K_n^{-1})_{ij} = \\frac{1}{n+1}(n-(i-1))(n-(j-1)j)^2$\n",
    "が導かれた。また、これを問題1の$(T_5^{-1})_{ij}$から差し引くと、$(K_n^{-1})_{ij}$は\n",
    "$(K_n^{-1})_{ij}=n-(i-1)-\\frac{1}{n+1}(n-(i-1))(n-(j-1))^2$"
   ]
  },
  {
   "cell_type": "markdown",
   "metadata": {},
   "source": [
    "### 1.1.9\n",
    "例題1.1AにおいてBをCで置き換えて$e=\\begin{pmatrix} 1 \\\\ 1 \\\\ 1 \\\\ 1 \\end{pmatrix}$が$C_4$の全ての列ベクトルと直行することを示せ。\n",
    "また、擬逆行列を用いて$u=pinv(C)*f$とすることで特異な行列Cを係数とした連立一次方程式$Cu=f=$\\begin{pmatrix} 1 \\\\ -1 \\\\ 1 \\\\ -1 \\end{pmatrix}$を解け。第五の方程式0=0を付け加える前と後で、それぞれ$u=C/e$とC/fを実行してみよ。\n",
    "#### 解答\n",
    "まず、Cと$e=\\begin{pmatrix} 1 \\\\ 1 \\\\ 1 \\\\ 1 \\end{pmatrix}$が直行することを示す。"
   ]
  },
  {
   "cell_type": "code",
   "execution_count": 91,
   "metadata": {},
   "outputs": [
    {
     "name": "stdout",
     "output_type": "stream",
     "text": [
      "[[ 1.]\n",
      " [ 1.]\n",
      " [ 1.]\n",
      " [ 1.]]\n",
      "[[ 2 -1  0 -1]\n",
      " [-1  2 -1  0]\n",
      " [ 0 -1  2 -1]\n",
      " [-1  0 -1  2]]\n",
      "[[ 0.  0.  0.  0.]]\n"
     ]
    }
   ],
   "source": [
    "e_4=np.ones((4,1))\n",
    "C_4 = linalg.toeplitz([2, -1, 0, -1])\n",
    "print(e_4)\n",
    "print(C_4)\n",
    "print(np.transpose(e_4).dot(C_4))"
   ]
  },
  {
   "cell_type": "markdown",
   "metadata": {},
   "source": []
  },
  {
   "cell_type": "code",
   "execution_count": 130,
   "metadata": {},
   "outputs": [
    {
     "name": "stdout",
     "output_type": "stream",
     "text": [
      "[[ 1.]\n",
      " [-1.]\n",
      " [ 1.]\n",
      " [-1.]\n",
      " [ 0.]]\n",
      "[[ 2 -1  0 -1]\n",
      " [-1  2 -1  0]\n",
      " [ 0 -1  2 -1]\n",
      " [-1  0 -1  2]\n",
      " [ 0  0  0  0]]\n",
      "[[ 1.]\n",
      " [-1.]\n",
      " [ 1.]\n",
      " [-1.]]\n",
      "1.7763568394002505e-15\n",
      "[[ 0.5]\n",
      " [-0.5]\n",
      " [ 0. ]\n",
      " [-0.5]]\n",
      "[[ 0.5]\n",
      " [ 0. ]\n",
      " [ 0.5]\n",
      " [ 0. ]]\n",
      "[[ 0.25]\n",
      " [-0.25]\n",
      " [ 0.25]\n",
      " [-0.25]]\n",
      "[[ 0.25]\n",
      " [-0.25]\n",
      " [ 0.25]\n",
      " [-0.25]]\n"
     ]
    },
    {
     "name": "stderr",
     "output_type": "stream",
     "text": [
      "/opt/conda/lib/python3.6/site-packages/scipy/linalg/basic.py:223: RuntimeWarning: scipy.linalg.solve\n",
      "Ill-conditioned matrix detected. Result is not guaranteed to be accurate.\n",
      "Reciprocal condition number: 2.7755575615628914e-17\n",
      "  ' condition number: {}'.format(rcond), RuntimeWarning)\n"
     ]
    }
   ],
   "source": [
    "f_4 = np.empty((0,4))\n",
    "f_4  = np.transpose(np.append(f_4, np.array([[1, -1, 1,-1]]), axis=0))\n",
    "\n",
    "f_5 =np.empty((0,5))\n",
    "f_5 = np.transpose(np.append(f_5, np.array([[1, -1, 1,-1, 0]]), axis=0))\n",
    "print(f_5)\n",
    "\n",
    "C_4_append0 = C_4\n",
    "C_4_append0 = (np.append(C_4_append0, [[0, 0, 0, 0]], axis=0))\n",
    "print(C_4_append0)\n",
    "\n",
    "print(f_4)\n",
    "print(linalg.det(C_4))\n",
    "print(linalg.inv(C_4).dot(f_4))\n",
    "print(linalg.solve(C_4, f_4))\n",
    "print(linalg.pinv(C_4_append0).dot(f_5))\n",
    "print(linalg.pinv(C_4).dot(f_4))\n",
    "\n"
   ]
  },
  {
   "cell_type": "markdown",
   "metadata": {},
   "source": [
    "### 1.1.10\n",
    "追加問題1.1Bのぶら下がり行列Hでは、$K_3$の最後の要素が1に変わっている。$H^{-1}=JT^{-1}J$を用いて逆行列を求めよ。また、$H=UU^{T}$と$H^{-1}=(U^{-1})^{T}U^{-1}$からも逆行列を求めてみよ。\n",
    "\n",
    "\n",
    "#### 解答\n"
   ]
  },
  {
   "cell_type": "code",
   "execution_count": 72,
   "metadata": {},
   "outputs": [
    {
     "name": "stdout",
     "output_type": "stream",
     "text": [
      "[[ 1. -1.  0.]\n",
      " [-0.  1. -1.]\n",
      " [ 0. -0.  1.]]\n",
      "[[ 1. -0.  0.]\n",
      " [-1.  1. -0.]\n",
      " [ 0. -1.  1.]]\n",
      "\n",
      " J*T_inv*J :\n",
      " [[ 1.  1.  1.]\n",
      " [ 1.  2.  2.]\n",
      " [ 1.  2.  3.]]\n",
      "\n",
      " U_inv*U :\n",
      " [[ 1.  1.  1.]\n",
      " [ 1.  2.  2.]\n",
      " [ 1.  2.  3.]]\n",
      "[[ 1.  1.  1.]\n",
      " [ 1.  2.  2.]\n",
      " [ 1.  2.  3.]]\n",
      "[[ 1.  1.  1.]\n",
      " [ 1.  2.  2.]\n",
      " [ 1.  2.  3.]]\n"
     ]
    }
   ],
   "source": [
    "# 10 of 1.1\n",
    "J_3 = np.fliplr(np.eye(3))\n",
    "T_3 = (linalg.toeplitz(np.asarray([2,-1,0])))\n",
    "T_3[0,0]=1\n",
    "T_3_inv = np.linalg.inv(T_3)\n",
    "H_inv = (J_3.dot(T_3_inv)).dot(J_3)\n",
    "U_3 = linalg.toeplitz(np.asarray([1,-1,0]))*np.transpose(np.tri(3))\n",
    "U_3_t = np.transpose(U_3)\n",
    "U_3_inv = np.transpose(np.tri(3))\n",
    "print(U_3)\n",
    "print(U_3_t)\n",
    "print('\\n J*T_inv*J :\\n', H_inv)\n",
    "# Jを左からかけると上下反転、右からかけると左右反転になる\n",
    "\n",
    "print('\\n U_inv*U :\\n', np.transpose(U_3_inv).dot(U_3_inv))\n",
    "print(linalg.inv(U_3.dot(U_3_t)))\n",
    "print((np.transpose(U_3_inv)).dot(U_3_inv))"
   ]
  },
  {
   "cell_type": "markdown",
   "metadata": {},
   "source": [
    "### 1.1.11\n",
    "\n",
    "\n",
    "#### 解答\n"
   ]
  },
  {
   "cell_type": "code",
   "execution_count": 74,
   "metadata": {},
   "outputs": [
    {
     "name": "stdout",
     "output_type": "stream",
     "text": [
      "\n",
      "U\n",
      " [[ 1.  1.  1.]\n",
      " [ 0.  1.  1.]\n",
      " [ 0.  0.  1.]]\n",
      "\n",
      "J*U\n",
      " [[ 0.  0.  1.]\n",
      " [ 0.  1.  1.]\n",
      " [ 1.  1.  1.]]\n",
      "\n",
      "J*U\n",
      " [[ 1.  1.  1.]\n",
      " [ 1.  1.  0.]\n",
      " [ 1.  0.  0.]]\n",
      "\n",
      "J*U*J\n",
      " [[ 1.  0.  0.]\n",
      " [ 1.  1.  0.]\n",
      " [ 1.  1.  1.]]\n"
     ]
    }
   ],
   "source": [
    "\n",
    "# 11 of 1.1\n",
    "U_3_arb = np.transpose(np.tri(3))\n",
    "print('\\nU\\n', U_3_arb)\n",
    "print('\\nJ*U\\n', J_3.dot(U_3_arb))\n",
    "print('\\nU*J\\n', U_3_arb.dot(J_3))\n",
    "print('\\nJ*U*J\\n', (J_3.dot(U_3_arb)).dot(J_3))"
   ]
  },
  {
   "cell_type": "markdown",
   "metadata": {},
   "source": [
    "よって$UJ$は北西　$JUJ$は南西"
   ]
  },
  {
   "cell_type": "markdown",
   "metadata": {},
   "source": [
    "### 1.1.12\n",
    "\n",
    "\n",
    "#### 解答\n"
   ]
  },
  {
   "cell_type": "code",
   "execution_count": 75,
   "metadata": {},
   "outputs": [
    {
     "name": "stdout",
     "output_type": "stream",
     "text": [
      "\n",
      "C\n",
      " [[ 2. -1.  0. -1.]\n",
      " [-1.  2. -1.  0.]\n",
      " [ 0. -1.  2. -1.]\n",
      " [-1.  0. -1.  2.]]\n",
      "\n",
      "L\n",
      " [[ 1.          0.          0.          0.        ]\n",
      " [-0.5         1.          0.          0.        ]\n",
      " [ 0.         -0.66666667  1.          0.        ]\n",
      " [-0.5        -0.33333333 -1.          1.        ]]\n",
      "\n",
      "U\n",
      " [[  2.00000000e+00  -1.00000000e+00   0.00000000e+00  -1.00000000e+00]\n",
      " [ -0.00000000e+00   1.50000000e+00  -1.00000000e+00  -5.00000000e-01]\n",
      " [  0.00000000e+00  -0.00000000e+00   1.33333333e+00  -1.33333333e+00]\n",
      " [ -0.00000000e+00  -0.00000000e+00  -0.00000000e+00   4.44089210e-16]]\n"
     ]
    }
   ],
   "source": [
    "# 12 of 1.1\n",
    "C_4 = (linalg.toeplitz(np.asarray([2,-1,0,0])))*(np.ones(4) - np.fliplr(np.eye(4))) + np.fliplr((-1)*np.eye(4))\n",
    "print('\\nC\\n',C_4)\n",
    "LU = linalg.lu_factor(C_4)\n",
    "L = (np.tri(4,4,-1)*(LU[0])) + np.eye(4)\n",
    "U = np.transpose(np.tri(4))*(LU[0])\n",
    "print('\\nL\\n',L)\n",
    "print('\\nU\\n',U)\n",
    "\n",
    "# 有限の桁数で計算しているからでは？"
   ]
  },
  {
   "cell_type": "markdown",
   "metadata": {},
   "source": [
    "### 1.1.13\n",
    "手計算により$C_4$をLU分解できるか。\n",
    "\n",
    "#### 解答\n",
    "手計算参照"
   ]
  },
  {
   "cell_type": "markdown",
   "metadata": {},
   "source": [
    "### 1.1.14\n",
    "$K_3$の対角要素2,2,2を　$\\sqrt{2},\\sqrt{2},\\sqrt{2}$に変更せよ。この新しい行列Mの行列式を計算し、$Mu=0$を満たす非ゼロベクトルを求めよ。$Ku=(2-\\sqrt{2})u$であり、$u$は$K$の固有値$2-\\sqrt{2}$に属する固有ベクトルとなる。これはなぜかを説明せよ。\n",
    "\n",
    "#### 解答\n"
   ]
  },
  {
   "cell_type": "code",
   "execution_count": 132,
   "metadata": {},
   "outputs": [
    {
     "name": "stdout",
     "output_type": "stream",
     "text": [
      "[[ 1.41421356 -1.          0.        ]\n",
      " [-1.          1.41421356 -1.        ]\n",
      " [ 0.         -1.          1.41421356]]\n",
      "3.1401849173675503e-16\n"
     ]
    }
   ],
   "source": [
    "# 14 of 1.1\n",
    "K_3_sq2  = linalg.toeplitz([math.sqrt(2), -1, 0])\n",
    "print(K_3_sq2)\n",
    "print(linalg.det(K_3_sq2))\n",
    "# 0になる"
   ]
  },
  {
   "cell_type": "markdown",
   "metadata": {},
   "source": [
    "行列式は0になる。すなわち、$K$において固有値が$2-\\sqrt{2}$であった場合の固有方程式の係数行列がMということである。"
   ]
  },
  {
   "cell_type": "markdown",
   "metadata": {},
   "source": [
    "### 1.1.15\n",
    "$Az, A^2, AB$を計算するには、それぞれ何回の実数の乗算が必要か。\n",
    "\n",
    "#### 解答\n",
    "$n^2, n^3, npm$"
   ]
  },
  {
   "cell_type": "markdown",
   "metadata": {},
   "source": [
    "### 1.1.16\n",
    "積$Ax$は行単位で計算することもできるし、列単位に計算することもできる。2つの方法で計算してみよ\n",
    "\n",
    "\n",
    "#### 解答\n",
    "$\\begin{pmatrix} 2 & 3  \\\\ 4 & 5 \\end{pmatrix}\\begin{pmatrix}  1  \\\\ 2 \\end{pmatrix}=\n",
    "\\begin{pmatrix} 2*1 + 3*2  \\\\ 4*1 + 5*2 \\end{pmatrix}$\n",
    "\n",
    "$\\begin{pmatrix} 2 & 3  \\\\ 4 & 5 \\end{pmatrix}\\begin{pmatrix}  1  \\\\ 2 \\end{pmatrix}=\n",
    "1\\begin{pmatrix} 2  \\\\ 4 \\end{pmatrix} + 2\\begin{pmatrix} 3 \\\\ 5 \\end{pmatrix} \\end{pmatrix}$"
   ]
  },
  {
   "cell_type": "markdown",
   "metadata": {},
   "source": [
    "### 1.1.17\n",
    "$Ax=b$において、$A$の列ベクトルが張る空間に$b$が含まれない例を与えよ。\n",
    "\n",
    "\n",
    "#### 解答\n",
    "$\\begin{pmatrix} 1 & 2  \\\\ 2 & 4 \\end{pmatrix}x=\\begin{pmatrix} 1  \\\\ 1 \\end{pmatrix}$\n"
   ]
  },
  {
   "cell_type": "markdown",
   "metadata": {},
   "source": [
    "### 1.1.18\n",
    "$\\begin{pmatrix} 2 & 3  \\\\ 4 & 5 \\end{pmatrix}\\begin{pmatrix} 1 & 2  \\\\ 2 & 4 \\end{pmatrix}=\n",
    "\\begin{pmatrix} 8 & *  \\\\ 14 & * \\end{pmatrix}$\n",
    "\n",
    "#### 解答\n",
    "$\\begin{pmatrix} 2 & 3  \\\\ 4 & 5 \\end{pmatrix}\\begin{pmatrix} 1 & 2  \\\\ 2 & 4 \\end{pmatrix}=\n",
    "\\begin{pmatrix} 2  \\\\ 4 \\end{pmatrix} \\begin{pmatrix}1  & 2 \\end{pmatrix}  + 2\\begin{pmatrix} 3 \\\\ 5 \\end{pmatrix}&2\\begin{pmatrix} 2  \\\\ 4 \\end{pmatrix} + 4\\begin{pmatrix} 3 \\\\ 5 \\end{pmatrix}=\n",
    "\\begin{pmatrix} 8 & 16  \\\\ 14 & 28 \\end{pmatrix}$"
   ]
  },
  {
   "cell_type": "markdown",
   "metadata": {},
   "source": [
    "### 1.1.19\n",
    "行でも計算できる\n",
    "$Bx=0$の解は$(AB)x=0$の解でもある、なぜか。\n",
    "\n",
    "#### 解答\n",
    "行列の積において可換則が成り立つから、$Bx=0$を満たす解は、$(AB)x=A(Bx)=A0=0$となる"
   ]
  },
  {
   "cell_type": "markdown",
   "metadata": {},
   "source": [
    "### 1.1.20\n",
    "\n",
    "\n",
    "#### 解答\n",
    "$\\begin{pmatrix} 2 & 3  \\\\ 4 & 5 \\end{pmatrix}\\begin{pmatrix} 1 & 2  \\\\ 2 & 4 \\end{pmatrix}=\n",
    "1\\begin{pmatrix}2  \\\\ 4 \\end{pmatrix} + 2\\begin{pmatrix} 3 \\\\ 5 \\end{pmatrix}+2\\begin{pmatrix} 2  \\\\ 4 \\end{pmatrix} + 4\\begin{pmatrix} 3 \\\\ 5 \\end{pmatrix}=\n",
    "\\begin{pmatrix} 8 & 16  \\\\ 14 & 28 \\end{pmatrix}$"
   ]
  },
  {
   "cell_type": "markdown",
   "metadata": {},
   "source": [
    "### 1.1.21\n",
    "任意のn*n行列A,Bについて成り立つ等式（ただひとつ）はどれか。\n",
    "$AB=BA, (AB)A=A(BA), (AB)B=B(BA), (AB)^2=A^2B^2$\n",
    "\n",
    "#### 解答\n",
    "$(AB)A=A(BA)$"
   ]
  },
  {
   "cell_type": "markdown",
   "metadata": {},
   "source": [
    "### 1.1.22\n",
    "疎行列形式で$K_1000$を入力した時、$Ku=e$となるような解を計算し、解をプロットせよ。\n",
    "\n",
    "#### 解答\n",
    "以下の通り。"
   ]
  },
  {
   "cell_type": "code",
   "execution_count": 133,
   "metadata": {},
   "outputs": [
    {
     "name": "stderr",
     "output_type": "stream",
     "text": [
      "/opt/conda/lib/python3.6/site-packages/scipy/sparse/linalg/dsolve/linsolve.py:102: SparseEfficiencyWarning: spsolve requires A be CSC or CSR matrix format\n",
      "  SparseEfficiencyWarning)\n"
     ]
    },
    {
     "data": {
      "image/png": "[encoded data removed]",
      "text/plain": [
       "<matplotlib.figure.Figure at 0x7f97d17f6a90>"
      ]
     },
     "metadata": {},
     "output_type": "display_data"
    }
   ],
   "source": [
    "# 22 of 1.1\n",
    "n=1000;\n",
    "e=np.ones([1,n])\n",
    "A = sp.spdiags(np.r_[-e, 2*e, -e], [-1,0,1],n,n).toarray()\n",
    "x = spla.spsolve(A, np.transpose(e))\n",
    "\n",
    "pyplot.plot(x)\n",
    "pyplot.show()\n"
   ]
  },
  {
   "cell_type": "markdown",
   "metadata": {},
   "source": [
    "二階微分を表す$K$によって演算した時、定数になるような解なので、解が二次曲線になっているのは妥当な感じがする。"
   ]
  },
  {
   "cell_type": "markdown",
   "metadata": {},
   "source": [
    "### 1.1.23\n",
    "長さ4のベクトル$u,v,w$を作り、$A=spdiags([u,v,w],-1,1,n,n)$と入力せよ。u,vの要素のうち、Aの-1,1番の対角線から省略されるものはどれか。\n",
    "\n",
    "#### 解答\n",
    "MATLABでないので少し違うが、\n",
    "\n"
   ]
  },
  {
   "cell_type": "code",
   "execution_count": 147,
   "metadata": {},
   "outputs": [
    {
     "name": "stdout",
     "output_type": "stream",
     "text": [
      "  (0, 0)\t1\n",
      "  (1, 1)\t2\n",
      "  (2, 2)\t3\n",
      "  (3, 3)\t4\n",
      "  (1, 0)\t5\n",
      "  (2, 1)\t6\n",
      "  (3, 2)\t7\n",
      "  (0, 1)\t10\n",
      "  (1, 2)\t11\n",
      "  (2, 3)\t12\n"
     ]
    }
   ],
   "source": [
    "u_4 = np.transpose(np.array([1,2,3,4]))\n",
    "v_4 = np.array([5,6,7,8])\n",
    "w_4 = np.array([9,10,11,12])\n",
    "diag = np.array([0, -1, 1])\n",
    "print(sp.spdiags([u_4,v_4,w_4], diag, 4, 4))\n",
    "\n"
   ]
  },
  {
   "cell_type": "markdown",
   "metadata": {},
   "source": [
    "### 1.1.24\n",
    "\n",
    "#### 解答\n"
   ]
  },
  {
   "cell_type": "code",
   "execution_count": 154,
   "metadata": {},
   "outputs": [
    {
     "name": "stdout",
     "output_type": "stream",
     "text": [
      "  (0, 0)\t-1.0\n",
      "  (0, 1)\t1.0\n",
      "  (0, 2)\t1.0\n",
      "  (0, 3)\t1.0\n",
      "  (0, 4)\t1.0\n",
      "  (0, 5)\t1.0\n",
      "  (0, 6)\t1.0\n",
      "  (0, 7)\t1.0\n",
      "  (0, 8)\t1.0\n",
      "  (0, 9)\t1.0\n",
      "  (0, 10)\t1.0\n",
      "  (0, 11)\t1.0\n",
      "  (0, 12)\t1.0\n",
      "  (0, 13)\t1.0\n",
      "  (0, 14)\t1.0\n",
      "  (0, 15)\t1.0\n",
      "  (0, 16)\t1.0\n",
      "  (0, 17)\t1.0\n",
      "  (0, 18)\t1.0\n",
      "  (0, 19)\t1.0\n",
      "  (0, 20)\t1.0\n",
      "  (0, 21)\t1.0\n",
      "  (0, 22)\t1.0\n",
      "  (0, 23)\t1.0\n",
      "  (0, 24)\t1.0\n",
      "  (0, 25)\t1.0\n",
      "  (0, 26)\t1.0\n",
      "  (0, 27)\t1.0\n",
      "  (0, 28)\t1.0\n",
      "  (0, 29)\t1.0\n",
      "  (0, 30)\t1.0\n",
      "  (0, 31)\t1.0\n",
      "  (0, 32)\t1.0\n",
      "  (0, 33)\t1.0\n",
      "  (0, 34)\t1.0\n",
      "  (0, 35)\t1.0\n",
      "  (0, 36)\t1.0\n",
      "  (0, 37)\t1.0\n",
      "  (0, 38)\t1.0\n",
      "  (0, 39)\t1.0\n",
      "  (0, 40)\t1.0\n",
      "  (0, 41)\t1.0\n",
      "  (0, 42)\t1.0\n",
      "  (0, 43)\t1.0\n",
      "  (0, 44)\t1.0\n",
      "  (0, 45)\t1.0\n",
      "  (0, 46)\t1.0\n",
      "  (0, 47)\t1.0\n",
      "  (0, 48)\t1.0\n",
      "  (0, 49)\t1.0\n",
      "  (0, 50)\t1.0\n",
      "  (0, 51)\t1.0\n",
      "  (0, 52)\t1.0\n",
      "  (0, 53)\t1.0\n",
      "  (0, 54)\t1.0\n",
      "  (0, 55)\t1.0\n",
      "  (0, 56)\t1.0\n",
      "  (0, 57)\t1.0\n",
      "  (0, 58)\t1.0\n",
      "  (0, 59)\t1.0\n",
      "  (0, 60)\t1.0\n",
      "  (0, 61)\t1.0\n",
      "  (0, 62)\t1.0\n",
      "  (0, 63)\t1.0\n",
      "  (0, 64)\t1.0\n",
      "  (0, 65)\t1.0\n",
      "  (0, 66)\t1.0\n",
      "  (0, 67)\t1.0\n",
      "  (0, 68)\t1.0\n",
      "  (0, 69)\t1.0\n",
      "  (0, 70)\t1.0\n",
      "  (0, 71)\t1.0\n",
      "  (0, 72)\t1.0\n",
      "  (0, 73)\t1.0\n",
      "  (0, 74)\t1.0\n",
      "  (0, 75)\t1.0\n",
      "  (0, 76)\t1.0\n",
      "  (0, 77)\t1.0\n",
      "  (0, 78)\t1.0\n",
      "  (0, 79)\t1.0\n",
      "  (0, 80)\t1.0\n",
      "  (0, 81)\t1.0\n",
      "  (0, 82)\t1.0\n",
      "  (0, 83)\t1.0\n",
      "  (0, 84)\t1.0\n",
      "  (0, 85)\t1.0\n",
      "  (0, 86)\t1.0\n",
      "  (0, 87)\t1.0\n",
      "  (0, 88)\t1.0\n",
      "  (0, 89)\t1.0\n",
      "  (0, 90)\t1.0\n",
      "  (0, 91)\t1.0\n",
      "  (0, 92)\t1.0\n",
      "  (0, 93)\t1.0\n",
      "  (0, 94)\t1.0\n",
      "  (0, 95)\t1.0\n",
      "  (0, 96)\t1.0\n",
      "  (0, 97)\t1.0\n",
      "  (0, 98)\t1.0\n",
      "  (0, 99)\t1.0\n",
      "  (1, 1)\t-1.0\n",
      "  (1, 100)\t1.0\n",
      "  (1, 101)\t1.0\n",
      "  (1, 102)\t1.0\n",
      "  (1, 103)\t1.0\n",
      "  (1, 104)\t1.0\n",
      "  (1, 105)\t1.0\n",
      "  (1, 106)\t1.0\n",
      "  (1, 107)\t1.0\n",
      "  (1, 108)\t1.0\n",
      "  (1, 109)\t1.0\n",
      "  (1, 110)\t1.0\n",
      "  (1, 111)\t1.0\n",
      "  (1, 112)\t1.0\n",
      "  (1, 113)\t1.0\n",
      "  (1, 114)\t1.0\n",
      "  (1, 115)\t1.0\n",
      "  (1, 116)\t1.0\n",
      "  (1, 117)\t1.0\n",
      "  (1, 118)\t1.0\n",
      "  (1, 119)\t1.0\n",
      "  (1, 120)\t1.0\n",
      "  (1, 121)\t1.0\n",
      "  (1, 122)\t1.0\n",
      "  (1, 123)\t1.0\n",
      "  (1, 124)\t1.0\n",
      "  (1, 125)\t1.0\n",
      "  (1, 126)\t1.0\n",
      "  (1, 127)\t1.0\n",
      "  (1, 128)\t1.0\n",
      "  (1, 129)\t1.0\n",
      "  (1, 130)\t1.0\n",
      "  (1, 131)\t1.0\n",
      "  (1, 132)\t1.0\n",
      "  (1, 133)\t1.0\n",
      "  (1, 134)\t1.0\n",
      "  (1, 135)\t1.0\n",
      "  (1, 136)\t1.0\n",
      "  (1, 137)\t1.0\n",
      "  (1, 138)\t1.0\n",
      "  (1, 139)\t1.0\n",
      "  (1, 140)\t1.0\n",
      "  (1, 141)\t1.0\n",
      "  (1, 142)\t1.0\n",
      "  (1, 143)\t1.0\n",
      "  (1, 144)\t1.0\n",
      "  (1, 145)\t1.0\n",
      "  (1, 146)\t1.0\n",
      "  (1, 147)\t1.0\n",
      "  (1, 148)\t1.0\n",
      "  (1, 149)\t1.0\n",
      "  (1, 150)\t1.0\n",
      "  (1, 151)\t1.0\n",
      "  (1, 152)\t1.0\n",
      "  (1, 153)\t1.0\n",
      "  (1, 154)\t1.0\n",
      "  (1, 155)\t1.0\n",
      "  (1, 156)\t1.0\n",
      "  (1, 157)\t1.0\n",
      "  (1, 158)\t1.0\n",
      "  (1, 159)\t1.0\n",
      "  (1, 160)\t1.0\n",
      "  (1, 161)\t1.0\n",
      "  (1, 162)\t1.0\n",
      "  (1, 163)\t1.0\n",
      "  (1, 164)\t1.0\n",
      "  (1, 165)\t1.0\n",
      "  (1, 166)\t1.0\n",
      "  (1, 167)\t1.0\n",
      "  (1, 168)\t1.0\n",
      "  (1, 169)\t1.0\n",
      "  (1, 170)\t1.0\n",
      "  (1, 171)\t1.0\n",
      "  (1, 172)\t1.0\n",
      "  (1, 173)\t1.0\n",
      "  (1, 174)\t1.0\n",
      "  (1, 175)\t1.0\n",
      "  (1, 176)\t1.0\n",
      "  (1, 177)\t1.0\n",
      "  (1, 178)\t1.0\n",
      "  (1, 179)\t1.0\n",
      "  (1, 180)\t1.0\n",
      "  (1, 181)\t1.0\n",
      "  (1, 182)\t1.0\n",
      "  (1, 183)\t1.0\n",
      "  (1, 184)\t1.0\n",
      "  (1, 185)\t1.0\n",
      "  (1, 186)\t1.0\n",
      "  (1, 187)\t1.0\n",
      "  (1, 188)\t1.0\n",
      "  (1, 189)\t1.0\n",
      "  (1, 190)\t1.0\n",
      "  (1, 191)\t1.0\n",
      "  (1, 192)\t1.0\n",
      "  (1, 193)\t1.0\n",
      "  (1, 194)\t1.0\n",
      "  (1, 195)\t1.0\n",
      "  (1, 196)\t1.0\n",
      "  (1, 197)\t1.0\n",
      "  (1, 198)\t1.0\n",
      "  (1, 199)\t1.0\n",
      "  (2, 2)\t-1.0\n",
      "  (3, 3)\t-1.0\n",
      "  (4, 4)\t-1.0\n",
      "  (5, 5)\t-1.0\n",
      "  (6, 6)\t-1.0\n",
      "  (7, 7)\t-1.0\n",
      "  (8, 8)\t-1.0\n",
      "  (9, 9)\t-1.0\n",
      "  (10, 10)\t-1.0\n",
      "  (11, 11)\t-1.0\n",
      "  (12, 12)\t-1.0\n",
      "  (13, 13)\t-1.0\n",
      "  (14, 14)\t-1.0\n",
      "  (15, 15)\t-1.0\n",
      "  (16, 16)\t-1.0\n",
      "  (17, 17)\t-1.0\n",
      "  (18, 18)\t-1.0\n",
      "  (19, 19)\t-1.0\n",
      "  (20, 20)\t-1.0\n",
      "  (21, 21)\t-1.0\n",
      "  (22, 22)\t-1.0\n",
      "  (23, 23)\t-1.0\n",
      "  (24, 24)\t-1.0\n",
      "  (25, 25)\t-1.0\n",
      "  (26, 26)\t-1.0\n",
      "  (27, 27)\t-1.0\n",
      "  (28, 28)\t-1.0\n",
      "  (29, 29)\t-1.0\n",
      "  (30, 30)\t-1.0\n",
      "  (31, 31)\t-1.0\n",
      "  (32, 32)\t-1.0\n",
      "  (33, 33)\t-1.0\n",
      "  (34, 34)\t-1.0\n",
      "  (35, 35)\t-1.0\n",
      "  (36, 36)\t-1.0\n",
      "  (37, 37)\t-1.0\n",
      "  (38, 38)\t-1.0\n",
      "  (39, 39)\t-1.0\n",
      "  (40, 40)\t-1.0\n",
      "  (41, 41)\t-1.0\n",
      "  (42, 42)\t-1.0\n",
      "  (43, 43)\t-1.0\n",
      "  (44, 44)\t-1.0\n",
      "  (45, 45)\t-1.0\n",
      "  (46, 46)\t-1.0\n",
      "  (47, 47)\t-1.0\n",
      "  (48, 48)\t-1.0\n",
      "  (49, 49)\t-1.0\n",
      "  (50, 50)\t-1.0\n",
      "  (51, 51)\t-1.0\n",
      "  (52, 52)\t-1.0\n",
      "  (53, 53)\t-1.0\n",
      "  (54, 54)\t-1.0\n",
      "  (55, 55)\t-1.0\n",
      "  (56, 56)\t-1.0\n",
      "  (57, 57)\t-1.0\n",
      "  (58, 58)\t-1.0\n",
      "  (59, 59)\t-1.0\n",
      "  (60, 60)\t-1.0\n",
      "  (61, 61)\t-1.0\n",
      "  (62, 62)\t-1.0\n",
      "  (63, 63)\t-1.0\n",
      "  (64, 64)\t-1.0\n",
      "  (65, 65)\t-1.0\n",
      "  (66, 66)\t-1.0\n",
      "  (67, 67)\t-1.0\n",
      "  (68, 68)\t-1.0\n",
      "  (69, 69)\t-1.0\n",
      "  (70, 70)\t-1.0\n",
      "  (71, 71)\t-1.0\n",
      "  (72, 72)\t-1.0\n",
      "  (73, 73)\t-1.0\n",
      "  (74, 74)\t-1.0\n",
      "  (75, 75)\t-1.0\n",
      "  (76, 76)\t-1.0\n",
      "  (77, 77)\t-1.0\n",
      "  (78, 78)\t-1.0\n",
      "  (79, 79)\t-1.0\n",
      "  (80, 80)\t-1.0\n",
      "  (81, 81)\t-1.0\n",
      "  (82, 82)\t-1.0\n",
      "  (83, 83)\t-1.0\n",
      "  (84, 84)\t-1.0\n",
      "  (85, 85)\t-1.0\n",
      "  (86, 86)\t-1.0\n",
      "  (87, 87)\t-1.0\n",
      "  (88, 88)\t-1.0\n",
      "  (89, 89)\t-1.0\n",
      "  (90, 90)\t-1.0\n",
      "  (91, 91)\t-1.0\n",
      "  (92, 92)\t-1.0\n",
      "  (93, 93)\t-1.0\n",
      "  (94, 94)\t-1.0\n",
      "  (95, 95)\t-1.0\n",
      "  (96, 96)\t-1.0\n",
      "  (97, 97)\t-1.0\n",
      "  (98, 98)\t-1.0\n",
      "  (99, 99)\t-1.0\n",
      "  (100, 100)\t-1.0\n",
      "  (101, 101)\t-1.0\n",
      "  (102, 102)\t-1.0\n",
      "  (103, 103)\t-1.0\n",
      "  (104, 104)\t-1.0\n",
      "  (105, 105)\t-1.0\n",
      "  (106, 106)\t-1.0\n",
      "  (107, 107)\t-1.0\n",
      "  (108, 108)\t-1.0\n",
      "  (109, 109)\t-1.0\n",
      "  (110, 110)\t-1.0\n",
      "  (111, 111)\t-1.0\n",
      "  (112, 112)\t-1.0\n",
      "  (113, 113)\t-1.0\n",
      "  (114, 114)\t-1.0\n",
      "  (115, 115)\t-1.0\n",
      "  (116, 116)\t-1.0\n",
      "  (117, 117)\t-1.0\n",
      "  (118, 118)\t-1.0\n",
      "  (119, 119)\t-1.0\n",
      "  (120, 120)\t-1.0\n",
      "  (121, 121)\t-1.0\n",
      "  (122, 122)\t-1.0\n",
      "  (123, 123)\t-1.0\n",
      "  (124, 124)\t-1.0\n",
      "  (125, 125)\t-1.0\n",
      "  (126, 126)\t-1.0\n",
      "  (127, 127)\t-1.0\n",
      "  (128, 128)\t-1.0\n",
      "  (129, 129)\t-1.0\n",
      "  (130, 130)\t-1.0\n",
      "  (131, 131)\t-1.0\n",
      "  (132, 132)\t-1.0\n",
      "  (133, 133)\t-1.0\n",
      "  (134, 134)\t-1.0\n",
      "  (135, 135)\t-1.0\n",
      "  (136, 136)\t-1.0\n",
      "  (137, 137)\t-1.0\n",
      "  (138, 138)\t-1.0\n",
      "  (139, 139)\t-1.0\n",
      "  (140, 140)\t-1.0\n",
      "  (141, 141)\t-1.0\n",
      "  (142, 142)\t-1.0\n",
      "  (143, 143)\t-1.0\n",
      "  (144, 144)\t-1.0\n",
      "  (145, 145)\t-1.0\n",
      "  (146, 146)\t-1.0\n",
      "  (147, 147)\t-1.0\n",
      "  (148, 148)\t-1.0\n",
      "  (149, 149)\t-1.0\n",
      "  (150, 150)\t-1.0\n",
      "  (151, 151)\t-1.0\n",
      "  (152, 152)\t-1.0\n",
      "  (153, 153)\t-1.0\n",
      "  (154, 154)\t-1.0\n",
      "  (155, 155)\t-1.0\n",
      "  (156, 156)\t-1.0\n",
      "  (157, 157)\t-1.0\n",
      "  (158, 158)\t-1.0\n",
      "  (159, 159)\t-1.0\n",
      "  (160, 160)\t-1.0\n",
      "  (161, 161)\t-1.0\n",
      "  (162, 162)\t-1.0\n",
      "  (163, 163)\t-1.0\n",
      "  (164, 164)\t-1.0\n",
      "  (165, 165)\t-1.0\n",
      "  (166, 166)\t-1.0\n",
      "  (167, 167)\t-1.0\n",
      "  (168, 168)\t-1.0\n",
      "  (169, 169)\t-1.0\n",
      "  (170, 170)\t-1.0\n",
      "  (171, 171)\t-1.0\n",
      "  (172, 172)\t-1.0\n",
      "  (173, 173)\t-1.0\n",
      "  (174, 174)\t-1.0\n",
      "  (175, 175)\t-1.0\n",
      "  (176, 176)\t-1.0\n",
      "  (177, 177)\t-1.0\n",
      "  (178, 178)\t-1.0\n",
      "  (179, 179)\t-1.0\n",
      "  (180, 180)\t-1.0\n",
      "  (181, 181)\t-1.0\n",
      "  (182, 182)\t-1.0\n",
      "  (183, 183)\t-1.0\n",
      "  (184, 184)\t-1.0\n",
      "  (185, 185)\t-1.0\n",
      "  (186, 186)\t-1.0\n",
      "  (187, 187)\t-1.0\n",
      "  (188, 188)\t-1.0\n",
      "  (189, 189)\t-1.0\n",
      "  (190, 190)\t-1.0\n",
      "  (191, 191)\t-1.0\n",
      "  (192, 192)\t-1.0\n",
      "  (193, 193)\t-1.0\n",
      "  (194, 194)\t-1.0\n",
      "  (195, 195)\t-1.0\n",
      "  (196, 196)\t-1.0\n",
      "  (197, 197)\t-1.0\n",
      "  (198, 198)\t-1.0\n",
      "  (199, 199)\t-1.0\n",
      "  (200, 200)\t-1.0\n",
      "  (201, 201)\t-1.0\n",
      "  (202, 202)\t-1.0\n",
      "  (203, 203)\t-1.0\n",
      "  (204, 204)\t-1.0\n",
      "  (205, 205)\t-1.0\n",
      "  (206, 206)\t-1.0\n",
      "  (207, 207)\t-1.0\n",
      "  (208, 208)\t-1.0\n",
      "  (209, 209)\t-1.0\n",
      "  (210, 210)\t-1.0\n",
      "  (211, 211)\t-1.0\n",
      "  (212, 212)\t-1.0\n",
      "  (213, 213)\t-1.0\n",
      "  (214, 214)\t-1.0\n",
      "  (215, 215)\t-1.0\n",
      "  (216, 216)\t-1.0\n",
      "  (217, 217)\t-1.0\n",
      "  (218, 218)\t-1.0\n",
      "  (219, 219)\t-1.0\n",
      "  (220, 220)\t-1.0\n",
      "  (221, 221)\t-1.0\n",
      "  (222, 222)\t-1.0\n",
      "  (223, 223)\t-1.0\n",
      "  (224, 224)\t-1.0\n",
      "  (225, 225)\t-1.0\n",
      "  (226, 226)\t-1.0\n",
      "  (227, 227)\t-1.0\n",
      "  (228, 228)\t-1.0\n",
      "  (229, 229)\t-1.0\n",
      "  (230, 230)\t-1.0\n",
      "  (231, 231)\t-1.0\n",
      "  (232, 232)\t-1.0\n",
      "  (233, 233)\t-1.0\n",
      "  (234, 234)\t-1.0\n",
      "  (235, 235)\t-1.0\n",
      "  (236, 236)\t-1.0\n",
      "  (237, 237)\t-1.0\n",
      "  (238, 238)\t-1.0\n",
      "  (239, 239)\t-1.0\n",
      "  (240, 240)\t-1.0\n",
      "  (241, 241)\t-1.0\n",
      "  (242, 242)\t-1.0\n",
      "  (243, 243)\t-1.0\n",
      "  (244, 244)\t-1.0\n",
      "  (245, 245)\t-1.0\n",
      "  (246, 246)\t-1.0\n",
      "  (247, 247)\t-1.0\n",
      "  (248, 248)\t-1.0\n",
      "  (249, 249)\t-1.0\n",
      "  (250, 250)\t-1.0\n",
      "  (251, 251)\t-1.0\n",
      "  (252, 252)\t-1.0\n",
      "  (253, 253)\t-1.0\n",
      "  (254, 254)\t-1.0\n",
      "  (255, 255)\t-1.0\n",
      "  (256, 256)\t-1.0\n",
      "  (257, 257)\t-1.0\n",
      "  (258, 258)\t-1.0\n",
      "  (259, 259)\t-1.0\n",
      "  (260, 260)\t-1.0\n",
      "  (261, 261)\t-1.0\n",
      "  (262, 262)\t-1.0\n",
      "  (263, 263)\t-1.0\n",
      "  (264, 264)\t-1.0\n",
      "  (265, 265)\t-1.0\n",
      "  (266, 266)\t-1.0\n",
      "  (267, 267)\t-1.0\n",
      "  (268, 268)\t-1.0\n",
      "  (269, 269)\t-1.0\n",
      "  (270, 270)\t-1.0\n",
      "  (271, 271)\t-1.0\n",
      "  (272, 272)\t-1.0\n",
      "  (273, 273)\t-1.0\n",
      "  (274, 274)\t-1.0\n",
      "  (275, 275)\t-1.0\n",
      "  (276, 276)\t-1.0\n",
      "  (277, 277)\t-1.0\n",
      "  (278, 278)\t-1.0\n",
      "  (279, 279)\t-1.0\n",
      "  (280, 280)\t-1.0\n",
      "  (281, 281)\t-1.0\n",
      "  (282, 282)\t-1.0\n",
      "  (283, 283)\t-1.0\n",
      "  (284, 284)\t-1.0\n",
      "  (285, 285)\t-1.0\n",
      "  (286, 286)\t-1.0\n",
      "  (287, 287)\t-1.0\n",
      "  (288, 288)\t-1.0\n",
      "  (289, 289)\t-1.0\n",
      "  (290, 290)\t-1.0\n",
      "  (291, 291)\t-1.0\n",
      "  (292, 292)\t-1.0\n",
      "  (293, 293)\t-1.0\n",
      "  (294, 294)\t-1.0\n",
      "  (295, 295)\t-1.0\n",
      "  (296, 296)\t-1.0\n",
      "  (297, 297)\t-1.0\n",
      "  (298, 298)\t-1.0\n",
      "  (299, 299)\t-1.0\n",
      "  (300, 300)\t-1.0\n",
      "  (301, 301)\t-1.0\n",
      "  (302, 302)\t-1.0\n",
      "  (303, 303)\t-1.0\n",
      "  (304, 304)\t-1.0\n",
      "  (305, 305)\t-1.0\n",
      "  (306, 306)\t-1.0\n",
      "  (307, 307)\t-1.0\n",
      "  (308, 308)\t-1.0\n",
      "  (309, 309)\t-1.0\n",
      "  (310, 310)\t-1.0\n",
      "  (311, 311)\t-1.0\n",
      "  (312, 312)\t-1.0\n",
      "  (313, 313)\t-1.0\n",
      "  (314, 314)\t-1.0\n",
      "  (315, 315)\t-1.0\n",
      "  (316, 316)\t-1.0\n",
      "  (317, 317)\t-1.0\n",
      "  (318, 318)\t-1.0\n",
      "  (319, 319)\t-1.0\n",
      "  (320, 320)\t-1.0\n",
      "  (321, 321)\t-1.0\n",
      "  (322, 322)\t-1.0\n",
      "  (323, 323)\t-1.0\n",
      "  (324, 324)\t-1.0\n",
      "  (325, 325)\t-1.0\n",
      "  (326, 326)\t-1.0\n",
      "  (327, 327)\t-1.0\n",
      "  (328, 328)\t-1.0\n",
      "  (329, 329)\t-1.0\n",
      "  (330, 330)\t-1.0\n",
      "  (331, 331)\t-1.0\n",
      "  (332, 332)\t-1.0\n",
      "  (333, 333)\t-1.0\n",
      "  (334, 334)\t-1.0\n",
      "  (335, 335)\t-1.0\n",
      "  (336, 336)\t-1.0\n",
      "  (337, 337)\t-1.0\n",
      "  (338, 338)\t-1.0\n",
      "  (339, 339)\t-1.0\n",
      "  (340, 340)\t-1.0\n",
      "  (341, 341)\t-1.0\n",
      "  (342, 342)\t-1.0\n",
      "  (343, 343)\t-1.0\n",
      "  (344, 344)\t-1.0\n",
      "  (345, 345)\t-1.0\n",
      "  (346, 346)\t-1.0\n",
      "  (347, 347)\t-1.0\n",
      "  (348, 348)\t-1.0\n",
      "  (349, 349)\t-1.0\n",
      "  (350, 350)\t-1.0\n",
      "  (351, 351)\t-1.0\n",
      "  (352, 352)\t-1.0\n",
      "  (353, 353)\t-1.0\n",
      "  (354, 354)\t-1.0\n",
      "  (355, 355)\t-1.0\n",
      "  (356, 356)\t-1.0\n",
      "  (357, 357)\t-1.0\n",
      "  (358, 358)\t-1.0\n",
      "  (359, 359)\t-1.0\n",
      "  (360, 360)\t-1.0\n",
      "  (361, 361)\t-1.0\n",
      "  (362, 362)\t-1.0\n",
      "  (363, 363)\t-1.0\n",
      "  (364, 364)\t-1.0\n",
      "  (365, 365)\t-1.0\n",
      "  (366, 366)\t-1.0\n",
      "  (367, 367)\t-1.0\n",
      "  (368, 368)\t-1.0\n",
      "  (369, 369)\t-1.0\n",
      "  (370, 370)\t-1.0\n",
      "  (371, 371)\t-1.0\n",
      "  (372, 372)\t-1.0\n",
      "  (373, 373)\t-1.0\n",
      "  (374, 374)\t-1.0\n",
      "  (375, 375)\t-1.0\n",
      "  (376, 376)\t-1.0\n",
      "  (377, 377)\t-1.0\n",
      "  (378, 378)\t-1.0\n",
      "  (379, 379)\t-1.0\n",
      "  (380, 380)\t-1.0\n",
      "  (381, 381)\t-1.0\n",
      "  (382, 382)\t-1.0\n",
      "  (383, 383)\t-1.0\n",
      "  (384, 384)\t-1.0\n",
      "  (385, 385)\t-1.0\n",
      "  (386, 386)\t-1.0\n",
      "  (387, 387)\t-1.0\n",
      "  (388, 388)\t-1.0\n",
      "  (389, 389)\t-1.0\n",
      "  (390, 390)\t-1.0\n",
      "  (391, 391)\t-1.0\n",
      "  (392, 392)\t-1.0\n",
      "  (393, 393)\t-1.0\n",
      "  (394, 394)\t-1.0\n",
      "  (395, 395)\t-1.0\n",
      "  (396, 396)\t-1.0\n",
      "  (397, 397)\t-1.0\n",
      "  (398, 398)\t-1.0\n",
      "  (399, 399)\t-1.0\n",
      "  (400, 400)\t-1.0\n",
      "  (401, 401)\t-1.0\n",
      "  (402, 402)\t-1.0\n",
      "  (403, 403)\t-1.0\n",
      "  (404, 404)\t-1.0\n",
      "  (405, 405)\t-1.0\n",
      "  (406, 406)\t-1.0\n",
      "  (407, 407)\t-1.0\n",
      "  (408, 408)\t-1.0\n",
      "  (409, 409)\t-1.0\n",
      "  (410, 410)\t-1.0\n",
      "  (411, 411)\t-1.0\n",
      "  (412, 412)\t-1.0\n",
      "  (413, 413)\t-1.0\n",
      "  (414, 414)\t-1.0\n",
      "  (415, 415)\t-1.0\n",
      "  (416, 416)\t-1.0\n",
      "  (417, 417)\t-1.0\n",
      "  (418, 418)\t-1.0\n",
      "  (419, 419)\t-1.0\n",
      "  (420, 420)\t-1.0\n",
      "  (421, 421)\t-1.0\n",
      "  (422, 422)\t-1.0\n",
      "  (423, 423)\t-1.0\n",
      "  (424, 424)\t-1.0\n",
      "  (425, 425)\t-1.0\n",
      "  (426, 426)\t-1.0\n",
      "  (427, 427)\t-1.0\n",
      "  (428, 428)\t-1.0\n",
      "  (429, 429)\t-1.0\n",
      "  (430, 430)\t-1.0\n",
      "  (431, 431)\t-1.0\n",
      "  (432, 432)\t-1.0\n",
      "  (433, 433)\t-1.0\n",
      "  (434, 434)\t-1.0\n",
      "  (435, 435)\t-1.0\n",
      "  (436, 436)\t-1.0\n",
      "  (437, 437)\t-1.0\n",
      "  (438, 438)\t-1.0\n",
      "  (439, 439)\t-1.0\n",
      "  (440, 440)\t-1.0\n",
      "  (441, 441)\t-1.0\n",
      "  (442, 442)\t-1.0\n",
      "  (443, 443)\t-1.0\n",
      "  (444, 444)\t-1.0\n",
      "  (445, 445)\t-1.0\n",
      "  (446, 446)\t-1.0\n",
      "  (447, 447)\t-1.0\n",
      "  (448, 448)\t-1.0\n",
      "  (449, 449)\t-1.0\n",
      "  (450, 450)\t-1.0\n",
      "  (451, 451)\t-1.0\n",
      "  (452, 452)\t-1.0\n",
      "  (453, 453)\t-1.0\n",
      "  (454, 454)\t-1.0\n",
      "  (455, 455)\t-1.0\n",
      "  (456, 456)\t-1.0\n",
      "  (457, 457)\t-1.0\n",
      "  (458, 458)\t-1.0\n",
      "  (459, 459)\t-1.0\n",
      "  (460, 460)\t-1.0\n",
      "  (461, 461)\t-1.0\n",
      "  (462, 462)\t-1.0\n",
      "  (463, 463)\t-1.0\n",
      "  (464, 464)\t-1.0\n",
      "  (465, 465)\t-1.0\n",
      "  (466, 466)\t-1.0\n",
      "  (467, 467)\t-1.0\n",
      "  (468, 468)\t-1.0\n",
      "  (469, 469)\t-1.0\n",
      "  (470, 470)\t-1.0\n",
      "  (471, 471)\t-1.0\n",
      "  (472, 472)\t-1.0\n",
      "  (473, 473)\t-1.0\n",
      "  (474, 474)\t-1.0\n",
      "  (475, 475)\t-1.0\n",
      "  (476, 476)\t-1.0\n",
      "  (477, 477)\t-1.0\n",
      "  (478, 478)\t-1.0\n",
      "  (479, 479)\t-1.0\n",
      "  (480, 480)\t-1.0\n",
      "  (481, 481)\t-1.0\n",
      "  (482, 482)\t-1.0\n",
      "  (483, 483)\t-1.0\n",
      "  (484, 484)\t-1.0\n",
      "  (485, 485)\t-1.0\n",
      "  (486, 486)\t-1.0\n",
      "  (487, 487)\t-1.0\n",
      "  (488, 488)\t-1.0\n",
      "  (489, 489)\t-1.0\n",
      "  (490, 490)\t-1.0\n",
      "  (491, 491)\t-1.0\n",
      "  (492, 492)\t-1.0\n",
      "  (493, 493)\t-1.0\n",
      "  (494, 494)\t-1.0\n",
      "  (495, 495)\t-1.0\n",
      "  (496, 496)\t-1.0\n",
      "  (497, 497)\t-1.0\n",
      "  (498, 498)\t-1.0\n",
      "  (499, 499)\t-1.0\n",
      "  (500, 500)\t-1.0\n",
      "  (501, 501)\t-1.0\n",
      "  (502, 502)\t-1.0\n",
      "  (503, 503)\t-1.0\n",
      "  (504, 504)\t-1.0\n",
      "  (505, 505)\t-1.0\n",
      "  (506, 506)\t-1.0\n",
      "  (507, 507)\t-1.0\n",
      "  (508, 508)\t-1.0\n",
      "  (509, 509)\t-1.0\n",
      "  (510, 510)\t-1.0\n",
      "  (511, 511)\t-1.0\n",
      "  (512, 512)\t-1.0\n",
      "  (513, 513)\t-1.0\n",
      "  (514, 514)\t-1.0\n",
      "  (515, 515)\t-1.0\n",
      "  (516, 516)\t-1.0\n",
      "  (517, 517)\t-1.0\n",
      "  (518, 518)\t-1.0\n",
      "  (519, 519)\t-1.0\n",
      "  (520, 520)\t-1.0\n",
      "  (521, 521)\t-1.0\n",
      "  (522, 522)\t-1.0\n",
      "  (523, 523)\t-1.0\n",
      "  (524, 524)\t-1.0\n",
      "  (525, 525)\t-1.0\n",
      "  (526, 526)\t-1.0\n",
      "  (527, 527)\t-1.0\n",
      "  (528, 528)\t-1.0\n",
      "  (529, 529)\t-1.0\n",
      "  (530, 530)\t-1.0\n",
      "  (531, 531)\t-1.0\n",
      "  (532, 532)\t-1.0\n",
      "  (533, 533)\t-1.0\n",
      "  (534, 534)\t-1.0\n",
      "  (535, 535)\t-1.0\n",
      "  (536, 536)\t-1.0\n",
      "  (537, 537)\t-1.0\n",
      "  (538, 538)\t-1.0\n",
      "  (539, 539)\t-1.0\n",
      "  (540, 540)\t-1.0\n",
      "  (541, 541)\t-1.0\n",
      "  (542, 542)\t-1.0\n",
      "  (543, 543)\t-1.0\n",
      "  (544, 544)\t-1.0\n",
      "  (545, 545)\t-1.0\n",
      "  (546, 546)\t-1.0\n",
      "  (547, 547)\t-1.0\n",
      "  (548, 548)\t-1.0\n",
      "  (549, 549)\t-1.0\n",
      "  (550, 550)\t-1.0\n",
      "  (551, 551)\t-1.0\n",
      "  (552, 552)\t-1.0\n",
      "  (553, 553)\t-1.0\n",
      "  (554, 554)\t-1.0\n",
      "  (555, 555)\t-1.0\n",
      "  (556, 556)\t-1.0\n",
      "  (557, 557)\t-1.0\n",
      "  (558, 558)\t-1.0\n",
      "  (559, 559)\t-1.0\n",
      "  (560, 560)\t-1.0\n",
      "  (561, 561)\t-1.0\n",
      "  (562, 562)\t-1.0\n",
      "  (563, 563)\t-1.0\n",
      "  (564, 564)\t-1.0\n",
      "  (565, 565)\t-1.0\n",
      "  (566, 566)\t-1.0\n",
      "  (567, 567)\t-1.0\n",
      "  (568, 568)\t-1.0\n",
      "  (569, 569)\t-1.0\n",
      "  (570, 570)\t-1.0\n",
      "  (571, 571)\t-1.0\n",
      "  (572, 572)\t-1.0\n",
      "  (573, 573)\t-1.0\n",
      "  (574, 574)\t-1.0\n",
      "  (575, 575)\t-1.0\n",
      "  (576, 576)\t-1.0\n",
      "  (577, 577)\t-1.0\n",
      "  (578, 578)\t-1.0\n",
      "  (579, 579)\t-1.0\n",
      "  (580, 580)\t-1.0\n",
      "  (581, 581)\t-1.0\n",
      "  (582, 582)\t-1.0\n",
      "  (583, 583)\t-1.0\n",
      "  (584, 584)\t-1.0\n",
      "  (585, 585)\t-1.0\n",
      "  (586, 586)\t-1.0\n",
      "  (587, 587)\t-1.0\n",
      "  (588, 588)\t-1.0\n",
      "  (589, 589)\t-1.0\n",
      "  (590, 590)\t-1.0\n",
      "  (591, 591)\t-1.0\n",
      "  (592, 592)\t-1.0\n",
      "  (593, 593)\t-1.0\n",
      "  (594, 594)\t-1.0\n",
      "  (595, 595)\t-1.0\n",
      "  (596, 596)\t-1.0\n",
      "  (597, 597)\t-1.0\n",
      "  (598, 598)\t-1.0\n",
      "  (599, 599)\t-1.0\n",
      "  (600, 600)\t-1.0\n",
      "  (601, 601)\t-1.0\n",
      "  (602, 602)\t-1.0\n",
      "  (603, 603)\t-1.0\n",
      "  (604, 604)\t-1.0\n",
      "  (605, 605)\t-1.0\n",
      "  (606, 606)\t-1.0\n",
      "  (607, 607)\t-1.0\n",
      "  (608, 608)\t-1.0\n",
      "  (609, 609)\t-1.0\n",
      "  (610, 610)\t-1.0\n",
      "  (611, 611)\t-1.0\n",
      "  (612, 612)\t-1.0\n",
      "  (613, 613)\t-1.0\n",
      "  (614, 614)\t-1.0\n",
      "  (615, 615)\t-1.0\n",
      "  (616, 616)\t-1.0\n",
      "  (617, 617)\t-1.0\n",
      "  (618, 618)\t-1.0\n",
      "  (619, 619)\t-1.0\n",
      "  (620, 620)\t-1.0\n",
      "  (621, 621)\t-1.0\n",
      "  (622, 622)\t-1.0\n",
      "  (623, 623)\t-1.0\n",
      "  (624, 624)\t-1.0\n",
      "  (625, 625)\t-1.0\n",
      "  (626, 626)\t-1.0\n",
      "  (627, 627)\t-1.0\n",
      "  (628, 628)\t-1.0\n",
      "  (629, 629)\t-1.0\n",
      "  (630, 630)\t-1.0\n",
      "  (631, 631)\t-1.0\n",
      "  (632, 632)\t-1.0\n",
      "  (633, 633)\t-1.0\n",
      "  (634, 634)\t-1.0\n",
      "  (635, 635)\t-1.0\n",
      "  (636, 636)\t-1.0\n",
      "  (637, 637)\t-1.0\n",
      "  (638, 638)\t-1.0\n",
      "  (639, 639)\t-1.0\n",
      "  (640, 640)\t-1.0\n",
      "  (641, 641)\t-1.0\n",
      "  (642, 642)\t-1.0\n",
      "  (643, 643)\t-1.0\n",
      "  (644, 644)\t-1.0\n",
      "  (645, 645)\t-1.0\n",
      "  (646, 646)\t-1.0\n",
      "  (647, 647)\t-1.0\n",
      "  (648, 648)\t-1.0\n",
      "  (649, 649)\t-1.0\n",
      "  (650, 650)\t-1.0\n",
      "  (651, 651)\t-1.0\n",
      "  (652, 652)\t-1.0\n",
      "  (653, 653)\t-1.0\n",
      "  (654, 654)\t-1.0\n",
      "  (655, 655)\t-1.0\n",
      "  (656, 656)\t-1.0\n",
      "  (657, 657)\t-1.0\n",
      "  (658, 658)\t-1.0\n",
      "  (659, 659)\t-1.0\n",
      "  (660, 660)\t-1.0\n",
      "  (661, 661)\t-1.0\n",
      "  (662, 662)\t-1.0\n",
      "  (663, 663)\t-1.0\n",
      "  (664, 664)\t-1.0\n",
      "  (665, 665)\t-1.0\n",
      "  (666, 666)\t-1.0\n",
      "  (667, 667)\t-1.0\n",
      "  (668, 668)\t-1.0\n",
      "  (669, 669)\t-1.0\n",
      "  (670, 670)\t-1.0\n",
      "  (671, 671)\t-1.0\n",
      "  (672, 672)\t-1.0\n",
      "  (673, 673)\t-1.0\n",
      "  (674, 674)\t-1.0\n",
      "  (675, 675)\t-1.0\n",
      "  (676, 676)\t-1.0\n",
      "  (677, 677)\t-1.0\n",
      "  (678, 678)\t-1.0\n",
      "  (679, 679)\t-1.0\n",
      "  (680, 680)\t-1.0\n",
      "  (681, 681)\t-1.0\n",
      "  (682, 682)\t-1.0\n",
      "  (683, 683)\t-1.0\n",
      "  (684, 684)\t-1.0\n",
      "  (685, 685)\t-1.0\n",
      "  (686, 686)\t-1.0\n",
      "  (687, 687)\t-1.0\n",
      "  (688, 688)\t-1.0\n",
      "  (689, 689)\t-1.0\n",
      "  (690, 690)\t-1.0\n",
      "  (691, 691)\t-1.0\n",
      "  (692, 692)\t-1.0\n",
      "  (693, 693)\t-1.0\n",
      "  (694, 694)\t-1.0\n",
      "  (695, 695)\t-1.0\n",
      "  (696, 696)\t-1.0\n",
      "  (697, 697)\t-1.0\n",
      "  (698, 698)\t-1.0\n",
      "  (699, 699)\t-1.0\n",
      "  (700, 700)\t-1.0\n",
      "  (701, 701)\t-1.0\n",
      "  (702, 702)\t-1.0\n",
      "  (703, 703)\t-1.0\n",
      "  (704, 704)\t-1.0\n",
      "  (705, 705)\t-1.0\n",
      "  (706, 706)\t-1.0\n",
      "  (707, 707)\t-1.0\n",
      "  (708, 708)\t-1.0\n",
      "  (709, 709)\t-1.0\n",
      "  (710, 710)\t-1.0\n",
      "  (711, 711)\t-1.0\n",
      "  (712, 712)\t-1.0\n",
      "  (713, 713)\t-1.0\n",
      "  (714, 714)\t-1.0\n",
      "  (715, 715)\t-1.0\n",
      "  (716, 716)\t-1.0\n",
      "  (717, 717)\t-1.0\n",
      "  (718, 718)\t-1.0\n",
      "  (719, 719)\t-1.0\n",
      "  (720, 720)\t-1.0\n",
      "  (721, 721)\t-1.0\n",
      "  (722, 722)\t-1.0\n",
      "  (723, 723)\t-1.0\n",
      "  (724, 724)\t-1.0\n",
      "  (725, 725)\t-1.0\n",
      "  (726, 726)\t-1.0\n",
      "  (727, 727)\t-1.0\n",
      "  (728, 728)\t-1.0\n",
      "  (729, 729)\t-1.0\n",
      "  (730, 730)\t-1.0\n",
      "  (731, 731)\t-1.0\n",
      "  (732, 732)\t-1.0\n",
      "  (733, 733)\t-1.0\n",
      "  (734, 734)\t-1.0\n",
      "  (735, 735)\t-1.0\n",
      "  (736, 736)\t-1.0\n",
      "  (737, 737)\t-1.0\n",
      "  (738, 738)\t-1.0\n",
      "  (739, 739)\t-1.0\n",
      "  (740, 740)\t-1.0\n",
      "  (741, 741)\t-1.0\n",
      "  (742, 742)\t-1.0\n",
      "  (743, 743)\t-1.0\n",
      "  (744, 744)\t-1.0\n",
      "  (745, 745)\t-1.0\n",
      "  (746, 746)\t-1.0\n",
      "  (747, 747)\t-1.0\n",
      "  (748, 748)\t-1.0\n",
      "  (749, 749)\t-1.0\n",
      "  (750, 750)\t-1.0\n",
      "  (751, 751)\t-1.0\n",
      "  (752, 752)\t-1.0\n",
      "  (753, 753)\t-1.0\n",
      "  (754, 754)\t-1.0\n",
      "  (755, 755)\t-1.0\n",
      "  (756, 756)\t-1.0\n",
      "  (757, 757)\t-1.0\n",
      "  (758, 758)\t-1.0\n",
      "  (759, 759)\t-1.0\n",
      "  (760, 760)\t-1.0\n",
      "  (761, 761)\t-1.0\n",
      "  (762, 762)\t-1.0\n",
      "  (763, 763)\t-1.0\n",
      "  (764, 764)\t-1.0\n",
      "  (765, 765)\t-1.0\n",
      "  (766, 766)\t-1.0\n",
      "  (767, 767)\t-1.0\n",
      "  (768, 768)\t-1.0\n",
      "  (769, 769)\t-1.0\n",
      "  (770, 770)\t-1.0\n",
      "  (771, 771)\t-1.0\n",
      "  (772, 772)\t-1.0\n",
      "  (773, 773)\t-1.0\n",
      "  (774, 774)\t-1.0\n",
      "  (775, 775)\t-1.0\n",
      "  (776, 776)\t-1.0\n",
      "  (777, 777)\t-1.0\n",
      "  (778, 778)\t-1.0\n",
      "  (779, 779)\t-1.0\n",
      "  (780, 780)\t-1.0\n",
      "  (781, 781)\t-1.0\n",
      "  (782, 782)\t-1.0\n",
      "  (783, 783)\t-1.0\n",
      "  (784, 784)\t-1.0\n",
      "  (785, 785)\t-1.0\n",
      "  (786, 786)\t-1.0\n",
      "  (787, 787)\t-1.0\n",
      "  (788, 788)\t-1.0\n",
      "  (789, 789)\t-1.0\n",
      "  (790, 790)\t-1.0\n",
      "  (791, 791)\t-1.0\n",
      "  (792, 792)\t-1.0\n",
      "  (793, 793)\t-1.0\n",
      "  (794, 794)\t-1.0\n",
      "  (795, 795)\t-1.0\n",
      "  (796, 796)\t-1.0\n",
      "  (797, 797)\t-1.0\n",
      "  (798, 798)\t-1.0\n",
      "  (799, 799)\t-1.0\n",
      "  (800, 800)\t-1.0\n",
      "  (801, 801)\t-1.0\n",
      "  (802, 802)\t-1.0\n",
      "  (803, 803)\t-1.0\n",
      "  (804, 804)\t-1.0\n",
      "  (805, 805)\t-1.0\n",
      "  (806, 806)\t-1.0\n",
      "  (807, 807)\t-1.0\n",
      "  (808, 808)\t-1.0\n",
      "  (809, 809)\t-1.0\n",
      "  (810, 810)\t-1.0\n",
      "  (811, 811)\t-1.0\n",
      "  (812, 812)\t-1.0\n",
      "  (813, 813)\t-1.0\n",
      "  (814, 814)\t-1.0\n",
      "  (815, 815)\t-1.0\n",
      "  (816, 816)\t-1.0\n",
      "  (817, 817)\t-1.0\n",
      "  (818, 818)\t-1.0\n",
      "  (819, 819)\t-1.0\n",
      "  (820, 820)\t-1.0\n",
      "  (821, 821)\t-1.0\n",
      "  (822, 822)\t-1.0\n",
      "  (823, 823)\t-1.0\n",
      "  (824, 824)\t-1.0\n",
      "  (825, 825)\t-1.0\n",
      "  (826, 826)\t-1.0\n",
      "  (827, 827)\t-1.0\n",
      "  (828, 828)\t-1.0\n",
      "  (829, 829)\t-1.0\n",
      "  (830, 830)\t-1.0\n",
      "  (831, 831)\t-1.0\n",
      "  (832, 832)\t-1.0\n",
      "  (833, 833)\t-1.0\n",
      "  (834, 834)\t-1.0\n",
      "  (835, 835)\t-1.0\n",
      "  (836, 836)\t-1.0\n",
      "  (837, 837)\t-1.0\n",
      "  (838, 838)\t-1.0\n",
      "  (839, 839)\t-1.0\n",
      "  (840, 840)\t-1.0\n",
      "  (841, 841)\t-1.0\n",
      "  (842, 842)\t-1.0\n",
      "  (843, 843)\t-1.0\n",
      "  (844, 844)\t-1.0\n",
      "  (845, 845)\t-1.0\n",
      "  (846, 846)\t-1.0\n",
      "  (847, 847)\t-1.0\n",
      "  (848, 848)\t-1.0\n",
      "  (849, 849)\t-1.0\n",
      "  (850, 850)\t-1.0\n",
      "  (851, 851)\t-1.0\n",
      "  (852, 852)\t-1.0\n",
      "  (853, 853)\t-1.0\n",
      "  (854, 854)\t-1.0\n",
      "  (855, 855)\t-1.0\n",
      "  (856, 856)\t-1.0\n",
      "  (857, 857)\t-1.0\n",
      "  (858, 858)\t-1.0\n",
      "  (859, 859)\t-1.0\n",
      "  (860, 860)\t-1.0\n",
      "  (861, 861)\t-1.0\n",
      "  (862, 862)\t-1.0\n",
      "  (863, 863)\t-1.0\n",
      "  (864, 864)\t-1.0\n",
      "  (865, 865)\t-1.0\n",
      "  (866, 866)\t-1.0\n",
      "  (867, 867)\t-1.0\n",
      "  (868, 868)\t-1.0\n",
      "  (869, 869)\t-1.0\n",
      "  (870, 870)\t-1.0\n",
      "  (871, 871)\t-1.0\n",
      "  (872, 872)\t-1.0\n",
      "  (873, 873)\t-1.0\n",
      "  (874, 874)\t-1.0\n",
      "  (875, 875)\t-1.0\n",
      "  (876, 876)\t-1.0\n",
      "  (877, 877)\t-1.0\n",
      "  (878, 878)\t-1.0\n",
      "  (879, 879)\t-1.0\n",
      "  (880, 880)\t-1.0\n",
      "  (881, 881)\t-1.0\n",
      "  (882, 882)\t-1.0\n",
      "  (883, 883)\t-1.0\n",
      "  (884, 884)\t-1.0\n",
      "  (885, 885)\t-1.0\n",
      "  (886, 886)\t-1.0\n",
      "  (887, 887)\t-1.0\n",
      "  (888, 888)\t-1.0\n",
      "  (889, 889)\t-1.0\n",
      "  (890, 890)\t-1.0\n",
      "  (891, 891)\t-1.0\n",
      "  (892, 892)\t-1.0\n",
      "  (893, 893)\t-1.0\n",
      "  (894, 894)\t-1.0\n",
      "  (895, 895)\t-1.0\n",
      "  (896, 896)\t-1.0\n",
      "  (897, 897)\t-1.0\n",
      "  (898, 898)\t-1.0\n",
      "  (899, 899)\t-1.0\n",
      "  (900, 900)\t-1.0\n",
      "  (901, 901)\t-1.0\n",
      "  (902, 902)\t-1.0\n",
      "  (903, 903)\t-1.0\n",
      "  (904, 904)\t-1.0\n",
      "  (905, 905)\t-1.0\n",
      "  (906, 906)\t-1.0\n",
      "  (907, 907)\t-1.0\n",
      "  (908, 908)\t-1.0\n",
      "  (909, 909)\t-1.0\n",
      "  (910, 910)\t-1.0\n",
      "  (911, 911)\t-1.0\n",
      "  (912, 912)\t-1.0\n",
      "  (913, 913)\t-1.0\n",
      "  (914, 914)\t-1.0\n",
      "  (915, 915)\t-1.0\n",
      "  (916, 916)\t-1.0\n",
      "  (917, 917)\t-1.0\n",
      "  (918, 918)\t-1.0\n",
      "  (919, 919)\t-1.0\n",
      "  (920, 920)\t-1.0\n",
      "  (921, 921)\t-1.0\n",
      "  (922, 922)\t-1.0\n",
      "  (923, 923)\t-1.0\n",
      "  (924, 924)\t-1.0\n",
      "  (925, 925)\t-1.0\n",
      "  (926, 926)\t-1.0\n",
      "  (927, 927)\t-1.0\n",
      "  (928, 928)\t-1.0\n",
      "  (929, 929)\t-1.0\n",
      "  (930, 930)\t-1.0\n",
      "  (931, 931)\t-1.0\n",
      "  (932, 932)\t-1.0\n",
      "  (933, 933)\t-1.0\n",
      "  (934, 934)\t-1.0\n",
      "  (935, 935)\t-1.0\n",
      "  (936, 936)\t-1.0\n",
      "  (937, 937)\t-1.0\n",
      "  (938, 938)\t-1.0\n",
      "  (939, 939)\t-1.0\n",
      "  (940, 940)\t-1.0\n",
      "  (941, 941)\t-1.0\n",
      "  (942, 942)\t-1.0\n",
      "  (943, 943)\t-1.0\n",
      "  (944, 944)\t-1.0\n",
      "  (945, 945)\t-1.0\n",
      "  (946, 946)\t-1.0\n",
      "  (947, 947)\t-1.0\n",
      "  (948, 948)\t-1.0\n",
      "  (949, 949)\t-1.0\n",
      "  (950, 950)\t-1.0\n",
      "  (951, 951)\t-1.0\n",
      "  (952, 952)\t-1.0\n",
      "  (953, 953)\t-1.0\n",
      "  (954, 954)\t-1.0\n",
      "  (955, 955)\t-1.0\n",
      "  (956, 956)\t-1.0\n",
      "  (957, 957)\t-1.0\n",
      "  (958, 958)\t-1.0\n",
      "  (959, 959)\t-1.0\n",
      "  (960, 960)\t-1.0\n",
      "  (961, 961)\t-1.0\n",
      "  (962, 962)\t-1.0\n",
      "  (963, 963)\t-1.0\n",
      "  (964, 964)\t-1.0\n",
      "  (965, 965)\t-1.0\n",
      "  (966, 966)\t-1.0\n",
      "  (967, 967)\t-1.0\n",
      "  (968, 968)\t-1.0\n",
      "  (969, 969)\t-1.0\n",
      "  (970, 970)\t-1.0\n",
      "  (971, 971)\t-1.0\n",
      "  (972, 972)\t-1.0\n",
      "  (973, 973)\t-1.0\n",
      "  (974, 974)\t-1.0\n",
      "  (975, 975)\t-1.0\n",
      "  (976, 976)\t-1.0\n",
      "  (977, 977)\t-1.0\n",
      "  (978, 978)\t-1.0\n",
      "  (979, 979)\t-1.0\n",
      "  (980, 980)\t-1.0\n",
      "  (981, 981)\t-1.0\n",
      "  (982, 982)\t-1.0\n",
      "  (983, 983)\t-1.0\n",
      "  (984, 984)\t-1.0\n",
      "  (985, 985)\t-1.0\n",
      "  (986, 986)\t-1.0\n",
      "  (987, 987)\t-1.0\n",
      "  (988, 988)\t-1.0\n",
      "  (989, 989)\t-1.0\n",
      "  (990, 990)\t-1.0\n",
      "  (991, 991)\t-1.0\n",
      "  (992, 992)\t-1.0\n",
      "  (993, 993)\t-1.0\n",
      "  (994, 994)\t-1.0\n",
      "  (995, 995)\t-1.0\n",
      "  (996, 996)\t-1.0\n",
      "  (997, 997)\t-1.0\n",
      "  (998, 998)\t-1.0\n",
      "  (999, 999)\t-1.0\n"
     ]
    }
   ],
   "source": [
    "A = sp.lil_matrix((1000, 1000))\n",
    "A[0, :100] = 1\n",
    "A[1, 100:200] = A[0, :100]\n",
    "A.setdiag(-1)\n",
    "print(A)"
   ]
  },
  {
   "cell_type": "markdown",
   "metadata": {},
   "source": [
    "### 1.1.25\n",
    "\n",
    "\n",
    "#### 解答\n",
    "N＊N行列であるとして、detB, detCは０になる。従ってその行列のランクはN-1以下である。よって、対角優位論法では最後の行で0となるため、解が複数存在し、u=0のみにはならない。"
   ]
  },
  {
   "cell_type": "markdown",
   "metadata": {},
   "source": [
    "### 1.1.26\n",
    "toeplitz(v)が巡回行列となるようなvは？\n",
    "\n",
    "\n",
    "#### 解答\n",
    "vの第一要素から3要素目までと、N番目の要素が非0であるようなベクトル\n",
    "\n"
   ]
  },
  {
   "cell_type": "code",
   "execution_count": 159,
   "metadata": {},
   "outputs": [
    {
     "data": {
      "text/plain": [
       "array([[1, 2, 0, 0, 3],\n",
       "       [2, 1, 2, 0, 0],\n",
       "       [0, 2, 1, 2, 0],\n",
       "       [0, 0, 2, 1, 2],\n",
       "       [3, 0, 0, 2, 1]])"
      ]
     },
     "execution_count": 159,
     "metadata": {},
     "output_type": "execute_result"
    }
   ],
   "source": [
    "linalg.toeplitz([1,2,0,0,3])"
   ]
  },
  {
   "cell_type": "markdown",
   "metadata": {},
   "source": [
    "### 1.1.27\n",
    "\n",
    "\n",
    "#### 解答\n"
   ]
  },
  {
   "cell_type": "code",
   "execution_count": 209,
   "metadata": {},
   "outputs": [
    {
     "name": "stdout",
     "output_type": "stream",
     "text": [
      "[[-1  1  0  0]\n",
      " [ 0 -1  1  0]\n",
      " [ 0  0 -1  1]]\n",
      "[[ 1 -1  0  0]\n",
      " [-1  2 -1  0]\n",
      " [ 0 -1  2 -1]\n",
      " [ 0  0 -1  1]]\n",
      "[[-1  1  0]\n",
      " [ 0 -1  1]\n",
      " [ 0  0 -1]]\n",
      "[[ 1 -1  0]\n",
      " [-1  2 -1]\n",
      " [ 0 -1  2]]\n",
      "[[ 1  0]\n",
      " [-1  1]\n",
      " [ 0 -1]]\n",
      "[[ 2 -1]\n",
      " [-1  2]]\n"
     ]
    }
   ],
   "source": [
    "a = (np.array([[-1,-1,-1,-1]]))\n",
    "b=(np.array([[1,1,1,1]]))\n",
    "A = sp.spdiags(np.r_[a, b], [0,1],3,4).toarray()\n",
    "\n",
    "#B\n",
    "print(A)\n",
    "print(np.transpose(A).dot(A))\n",
    "\n",
    "#T\n",
    "A_1 = A[0:4, 0:3]\n",
    "print(A_1)\n",
    "print(np.transpose(A_1).dot(A_1))\n",
    "\n",
    "#K\n",
    "A_2 =  A_1[0:3, 1:3]\n",
    "print(A_2)\n",
    "print(np.transpose(A_2).dot(A_2))"
   ]
  },
  {
   "cell_type": "code",
   "execution_count": 4,
   "metadata": {},
   "outputs": [
    {
     "name": "stdout",
     "output_type": "stream",
     "text": [
      "\n",
      " U_t*U :\n",
      " [[ 1. -1.  0.]\n",
      " [-1.  2. -1.]\n",
      " [ 0. -1.  2.]]\n",
      "\n",
      " U_inv*U :\n",
      " [[ 1.  0.  0.]\n",
      " [ 0.  1.  0.]\n",
      " [ 0.  0.  1.]]\n",
      "\n",
      " J*T_inv*J :\n",
      " [[ 1.  1.  1.]\n",
      " [ 1.  2.  2.]\n",
      " [ 1.  2.  3.]]\n",
      "\n",
      " U_inv*U :\n",
      " [[ 1.  1.  1.]\n",
      " [ 1.  2.  2.]\n",
      " [ 1.  2.  3.]]\n",
      "\n",
      "U\n",
      " [[ 1.  1.  1.]\n",
      " [ 0.  1.  1.]\n",
      " [ 0.  0.  1.]]\n",
      "\n",
      "J*U\n",
      " [[ 0.  0.  1.]\n",
      " [ 0.  1.  1.]\n",
      " [ 1.  1.  1.]]\n",
      "\n",
      "J*U*J\n",
      " [[ 1.  0.  0.]\n",
      " [ 1.  1.  0.]\n",
      " [ 1.  1.  1.]]\n",
      "\n",
      "C\n",
      " [[ 2. -1.  0. -1.]\n",
      " [-1.  2. -1.  0.]\n",
      " [ 0. -1.  2. -1.]\n",
      " [-1.  0. -1.  2.]]\n",
      "\n",
      "L\n",
      " [[ 1.          0.          0.          0.        ]\n",
      " [-0.5         1.          0.          0.        ]\n",
      " [ 0.         -0.66666667  1.          0.        ]\n",
      " [-0.5        -0.33333333 -1.          1.        ]]\n",
      "\n",
      "U\n",
      " [[  2.00000000e+00  -1.00000000e+00   0.00000000e+00  -1.00000000e+00]\n",
      " [ -0.00000000e+00   1.50000000e+00  -1.00000000e+00  -5.00000000e-01]\n",
      " [  0.00000000e+00  -0.00000000e+00   1.33333333e+00  -1.33333333e+00]\n",
      " [ -0.00000000e+00  -0.00000000e+00  -0.00000000e+00   4.44089210e-16]]\n",
      "3.1401849173675503e-16\n"
     ]
    },
    {
     "name": "stderr",
     "output_type": "stream",
     "text": [
      "/opt/conda/lib/python3.6/site-packages/scipy/sparse/linalg/dsolve/linsolve.py:102: SparseEfficiencyWarning: spsolve requires A be CSC or CSR matrix format\n",
      "  SparseEfficiencyWarning)\n"
     ]
    },
    {
     "data": {
      "image/png": "[encoded data removed]",
      "text/plain": [
       "<matplotlib.figure.Figure at 0x7f98024eff98>"
      ]
     },
     "metadata": {},
     "output_type": "display_data"
    }
   ],
   "source": [
    "\n",
    "\n",
    "\n",
    "\n",
    "\n",
    "\n"
   ]
  },
  {
   "cell_type": "code",
   "execution_count": null,
   "metadata": {},
   "outputs": [],
   "source": []
  },
  {
   "cell_type": "code",
   "execution_count": null,
   "metadata": {},
   "outputs": [],
   "source": []
  }
 ],
 "metadata": {
  "kernelspec": {
   "display_name": "Python 3",
   "language": "python",
   "name": "python3"
  },
  "language_info": {
   "codemirror_mode": {
    "name": "ipython",
    "version": 3
   },
   "file_extension": ".py",
   "mimetype": "text/x-python",
   "name": "python",
   "nbconvert_exporter": "python",
   "pygments_lexer": "ipython3",
   "version": "3.6.2"
  }
 },
 "nbformat": 4,
 "nbformat_minor": 2
}
