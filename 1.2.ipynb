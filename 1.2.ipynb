{
 "cells": [
  {
   "cell_type": "code",
   "execution_count": null,
   "metadata": {},
   "outputs": [],
   "source": [
    "\n",
    "\n",
    "\n",
    "\n",
    "import numpy as np\n",
    "import scipy.linalg as linalg\n",
    "from matplotlib import pyplot\n",
    "import scipy.sparse as sp\n",
    "import scipy.sparse.linalg as spla\n",
    "import math\n",
    "\n",
    "\n",
    "# 2 of 1.2\n",
    "K_4  = linalg.toeplitz([2, -1, 0, 0])\n",
    "x = np.linalg.solve(K_4, np.transpose(np.asarray([0,1,0,0])))\n",
    "print(x)\n",
    "\n",
    "\n",
    "# 4 of 1.2\n",
    "D_10_bdif = np.tri(10,10)-2*np.tri(10,10,-1)+np.tri(10,10, -2)\n",
    "print(D_10_bdif)\n",
    "print(np.linalg.inv(D_10_bdif))\n",
    "# 和分行列（積分）になった\n",
    "\n",
    "\n",
    "# 13 of 1.2\n",
    "h=1/10\n",
    "T_7  = linalg.toeplitz([2, -1, 0, 0,0,0,0])\n",
    "T_7[0,0] =1\n",
    "x = np.linalg.solve(T_7, np.transpose(np.asarray([1,1,1,1,1,1,1])))\n",
    "# print(x)\n",
    "pyplot.plot(x/h/h)\n",
    "pyplot.show()\n",
    "pyplot.hold(True);\n",
    "trueD = (1-(1/h/h)*(np.asarray([0,1,2,3,4,5,6]))*(np.asarray([0,1,2,3,4,5,6])))/2\n",
    "pyplot.plot(trueD)\n",
    "pyplot.show()\n",
    "\n"
   ]
  }
 ],
 "metadata": {
  "kernelspec": {
   "display_name": "Python 3",
   "language": "python",
   "name": "python3"
  },
  "language_info": {
   "codemirror_mode": {
    "name": "ipython",
    "version": 3
   },
   "file_extension": ".py",
   "mimetype": "text/x-python",
   "name": "python",
   "nbconvert_exporter": "python",
   "pygments_lexer": "ipython3",
   "version": "3.6.2"
  }
 },
 "nbformat": 4,
 "nbformat_minor": 2
}
