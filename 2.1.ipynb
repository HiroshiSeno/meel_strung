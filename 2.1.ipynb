{
 "cells": [
  {
   "cell_type": "code",
   "execution_count": 2,
   "metadata": {},
   "outputs": [],
   "source": [
    "import numpy as np\n",
    "import scipy.linalg as linalg\n",
    "from matplotlib import pyplot\n",
    "import scipy.sparse as sp\n",
    "import scipy.sparse.linalg as spla\n",
    "import math"
   ]
  },
  {
   "cell_type": "markdown",
   "metadata": {},
   "source": [
    "## 2.1.1\n",
    "$K^{-1}$に対する公式は、$K$の行列による乗算を含んでいる。両固定の場合の$K$は、\n",
    "\n",
    "$K=\\begin{bmatrix}c_1+c_2&-c_2&0\\\\ -c_2&c_2+c_3&-c_3\\\\ 0&-c_3&c_3+c_4\\end{bmatrix}$\n",
    "\n",
    "と与えられ(式7)、この行列式は\n",
    "\n",
    "$\\begin{align}det K &= (c_1+c_2)(c_2+c_3)(c_3+c_4)-c_2^2(c_1+c_2)-c_3^2(c_1+c_2)\\\\&= c_1c_2c_3+c_1c_3c_4+c_1c_2c_4+c_2c_3c_4\\end{align}$\n",
    "\n",
    "と計算される。半固定(式8)と無固定(式11)のときの行列式はどうなるか？\n",
    "\n",
    "### 解答\n",
    "・半固定：問題文にもある通り、4つ目のばねがないので$c_4=0$とおけばよく、$det\\:K =  c_1c_2c_3$  \n",
    "・無固定：1つ目のばねもないので、上記半固定にさらに$c_1=0$となり、$det\\:K = 0$"
   ]
  },
  {
   "cell_type": "markdown",
   "metadata": {},
   "source": [
    "## 2.1.2\n",
    "$K^{-1}$の各成分の分子($\\frac{1}{det\\:K}$以外の部分)は、その2×2小行列式から計算することができる（これらの小行列は$K$の余因子と呼ばれる）。例えば$K^{-1}$の第1行を作るには、まず第1列を取り除く。\n",
    "\n",
    "$K=\\begin{bmatrix}c_1+c_2&-c_2&0\\\\ -c_2&c_2+c_3&-c_3\\\\ 0&-c_3&c_3+c_4\\end{bmatrix}\\:\\longrightarrow\\:\n",
    "\\begin{bmatrix}-c_2&0\\\\c_2+c_3&-c_3\\\\-c_3&c_3+c_4\\end{bmatrix}$  \n",
    "\n",
    "そしてこの3×2行列から各列を1つずつ消し、符号${(-1)}^{i+j}$を加えることで、余因子が \n",
    "\n",
    "$\\begin{bmatrix}c_2+c_3&-c_3\\\\-c_3&c_3+c_4\\end{bmatrix},\\:\n",
    "-\\begin{bmatrix}-c_2&0\\\\-c_3&c_3+c_4\\end{bmatrix},\\:\n",
    "\\begin{bmatrix}-c_2&0\\\\c_2+c_3&-c_3\\end{bmatrix}$  \n",
    "\n",
    "と得られる。これらの行列式を計算することで、$K^{-1}$の第1行の成分の分子は\n",
    "\n",
    "$\\begin{bmatrix}c_2c_3+c_2c_4+c_3c_4&c_2c_3+c_2c_4&c_2c_3\\end{bmatrix}$\n",
    "\n",
    "と求められる。同様の処理を第2・3行に対しても行い、$K^{-1}$を求めよ。\n",
    "\n",
    "### 解答\n",
    "基本的には上記の通り手計算で頑張るだけ。\n",
    "\n",
    "・第2行  \n",
    "$\\begin{bmatrix}c_1+c_2&-c_2&0\\\\ -c_2&c_2+c_3&-c_3\\\\ 0&-c_3&c_3+c_4\\end{bmatrix}\\:\\longrightarrow\\:\n",
    "\\begin{bmatrix}c_1+c_2&0\\\\ -c_2&-c_3\\\\ 0&c_3+c_4\\end{bmatrix}\\\\ \\:\\longrightarrow\\:\n",
    "\\begin{bmatrix}-c_2&-c_3\\\\ 0&c_3+c_4\\end{bmatrix},\\:\n",
    "-\\begin{bmatrix}c_1+c_2&0\\\\ 0&c_3+c_4\\end{bmatrix},\\:\n",
    "\\begin{bmatrix}c_1+c_2&0\\\\-c_2&-c_3\\end{bmatrix}\\\\\n",
    "\\:\\longrightarrow\\:\n",
    "\\begin{bmatrix}c_2c_3+c_2c_4&c_1c_3+c_1c_4+c_2c_3+c_2c_4&c_1c_3+c_2c_3\\end{bmatrix}$ \n",
    "\n",
    "・第3行  \n",
    "$\\begin{bmatrix}c_1+c_2&-c_2&0\\\\ -c_2&c_2+c_3&-c_3\\\\ 0&-c_3&c_3+c_4\\end{bmatrix}\\:\\longrightarrow\\:\n",
    "\\begin{bmatrix}c_1+c_2&-c_2\\\\ -c_2&c_2+c_3\\\\ 0&-c_3\\end{bmatrix}\\\\ \\:\\longrightarrow\\:\n",
    "\\begin{bmatrix}-c_2&c_2+c_3\\\\ 0&-c_3\\end{bmatrix},\\:\n",
    "-\\begin{bmatrix}c_1+c_2&-c_2\\\\ 0&-c_3\\end{bmatrix},\\:\n",
    "\\begin{bmatrix}c_1+c_2&-c_2\\\\ -c_2&c_2+c_3\\end{bmatrix}\\\\\n",
    "\\:\\longrightarrow\\:\n",
    "\\begin{bmatrix}c_2c_3&c_1c_3+c_2c_3&c_1c_2+c_1c_3+c_2c_3\\end{bmatrix}$ \n",
    "\n",
    "以上をまとめると、\n",
    "\n",
    "$K^{-1}=\\frac{1}{det\\:K}\\begin{bmatrix}c_2c_3+c_2c_4+c_3c_4&c_2c_3+c_2c_4&c_2c_3\\\\\n",
    "c_2c_3+c_2c_4&c_1c_3+c_1c_4+c_2c_3+c_2c_4&c_1c_3+c_2c_3\\\\\n",
    "c_2c_3&c_1c_3+c_2c_3&c_1c_2+c_1c_3+c_2c_3\\end{bmatrix}$\n",
    "\n",
    "となり、特に $c_i=1$ $(for\\:\\forall\\:i)$ の場合は、\n",
    "\n",
    "$K^{-1}=\\frac{1}{4}\\begin{bmatrix}\n",
    "3&2&1\\\\2&4&2\\\\1&2&3\\end{bmatrix}$"
   ]
  },
  {
   "cell_type": "markdown",
   "metadata": {},
   "source": [
    "## 2.1.3\n",
    "半固定の式で$A^{-1}C^{-1}(A^T)^{-1}$を作ることで$(A^TCA)^{-1}$を求めよ。  \n",
    "特に $c_i=1$ $(for\\:\\forall\\:i)\\leftrightarrow C=I$ で結果を確認せよ。\n",
    "\n",
    "### 解答\n",
    "半固定ではどれも正方行列のため、各行列の逆行列を作ることができる。  \n",
    "\n",
    "$A^TCA=\\begin{bmatrix}1&-1&0\\\\0&1&-1\\\\0&0&1\\end{bmatrix}\n",
    "\\begin{bmatrix}c_1&&\\\\&c_2&\\\\&&c_3\\end{bmatrix}\n",
    "\\begin{bmatrix}1&0&0\\\\-1&1&0\\\\0&-1&1\\end{bmatrix}$  \n",
    "\n",
    "これらの行列の逆行列を計算すると  \n",
    "\n",
    "$(A^T)^{-1}=\\begin{bmatrix}1&1&0\\\\0&1&1\\\\0&0&1\\end{bmatrix}$, \n",
    "$A^{-1}=\\begin{bmatrix}1&0&0\\\\1&1&0\\\\1&1&0\\end{bmatrix}$, \n",
    "$C^{-1}=\\frac{1}{c_1c_2c_3}\\begin{bmatrix}c_2c_3&&\\\\&c_1c_3&\\\\&&c_1c_2\\end{bmatrix}$  \n",
    "\n",
    "以上を用いて計算すると  \n",
    "\n",
    "$(A^TCA)^{-1}=\\frac{1}{c_1c_2c_3} \\begin{bmatrix}c_2c_3&c_2c_3&c_2c_3\\\\\n",
    "c_2c_3&c_2c_3&c_2c_3+c_1c_3\\\\\n",
    "c_2c_3&c_2c_3+c_1c_3&c_2c_3+c_1c_3+c_1c_2\\end{bmatrix}$  \n",
    "\n",
    "特に $c_i=1$ $(for\\:\\forall\\:i)$ のときは、  \n",
    "\n",
    "$(A^TCA)^{-1}=\\begin{bmatrix}1&1&1\\\\1&2&2\\\\1&2&3\\end{bmatrix}$……P105と一致"
   ]
  },
  {
   "cell_type": "markdown",
   "metadata": {},
   "source": [
    "## 2.1.4\n",
    "両端とも固定しない（無固定）と式(11)のように $A^TCA$ は非正則となるが、このとき $A^TCAu=f$ から得られる3つの方程式を加えることで、$f_1+f_2+f_3=0$ が必要になることを示せ。  \n",
    "さらに、力が $f=(-1,\\:0,\\:1)$ と自身で釣り合っているときの上式の解と、すべての解を求めよ。\n",
    "\n",
    "### 解答\n",
    "無固定の剛体行列は、$K=\\begin{bmatrix}c_2&-c_2&0\\\\-c_2&c_2+c_3&-c_3\\\\0&-c_3&c_3\\end{bmatrix}$ という形。  \n",
    "\n",
    "さらに前提として $u=(u_1,\\:u_2,\\:u_3)^T,\\quad f=(f_1,\\:f_2,\\:f_3)^T$ とおいて $A^TCAu=f$ を解くと\n",
    "\n",
    "$\\left\\{ \\begin{array}{lll}\n",
    "f_1=&c_2u_1&-c_2u_2&\\\\f_2=&-c_2u_1&+(c_2+c_3)u_2&-c_3u_3\\\\f_3=&&-c_3u_2&+c_3u_3\\end{array}\\right.$  \n",
    "\n",
    "これらの式を足し合わせると、明らかに $f_1+f_2+f_3=0$ となっている。\n",
    "\n",
    "特に $f=(f_1,\\:f_2,\\:f_3)^T=(-1,\\:0,\\:1)^T$ のときを計算すると、\n",
    "\n",
    "$u_2=u_1+\\frac{1}{c_2},\\quad u_3=u_1+\\frac{1}{c_2}+\\frac{1}{c_3} \\quad \\longrightarrow \\quad\n",
    "u=u_1(1,\\:1+\\frac{1}{c_2u_1},\\:1+\\frac{1}{c_2u_1}+\\frac{1}{c_3u_1})^T$\n",
    "\n",
    "一般の $f$ のときは、例えば $f_1$ と $f_3$ を決めて $f_2$ を消去すると\n",
    "\n",
    "$u_2=u_1-\\frac{f_1}{c_2},\\quad u_3=u_1-\\frac{f_1}{c_2}-\\frac{f_3}{c_3} \\quad \\longrightarrow \\quad\n",
    "u=u_1(1,\\:1-\\frac{f_1}{c_2u_1},\\:1-\\frac{f_1}{c_2u_1}-\\frac{f_3}{c_3u_1})^T$"
   ]
  },
  {
   "cell_type": "markdown",
   "metadata": {},
   "source": [
    "## 2.1.5\n",
    "両固定の場合、上端のばね1と下端のばね4の（壁からの外部）反力は何か？  \n",
    "(この力は、3つの質点を引き下ろそうとする重力の $3mg$ と釣り合うはずである)\n",
    "\n",
    "### 解答\n",
    "P104のように伸長が $\\frac{mg}{c}(1.5,\\:0.5,\\:-0.5,\\:-1.5)^T$ なので、ばね1とばね4の内力は $w_1=\\frac{3}{2}mg,\\:w_4=-\\frac{3}{2}mg$ となる。  \n",
    "※この $w$ の正負は、（伸長の正負を考慮すると）<u>ばねが縮むときに正</u>であって、\n",
    "    $u$ のように<u>下向き正ではない</u>。\n",
    "\n",
    "・ばね1を上の壁が支える外力は、( $w_1>0$ なので縮むのとは逆向きの) <u>上向き</u>に $\\frac{3}{2}mg$  \n",
    "・ばね4を下の壁が支える外力は、( $w_1<0$ なので伸びるのとは逆向きの) <u>上向き</u>に $\\frac{3}{2}mg$  \n",
    "……以上を合わせると全体で上向きに $3mg$ の力がかかっている。"
   ]
  },
  {
   "cell_type": "markdown",
   "metadata": {},
   "source": [
    "## 2.1.6\n",
    "半固定かつ $c_1=c_3=1$ のもとで、ばね2を強くした状況を考える。 $c_2=10,\\:100$ に対して $K=A^TCA$ を求めよ。さらに等しい質点 $f=(1,\\:1,\\:1)^T$ のときの $u=K^{-1}f$ を計算せよ。\n",
    "\n",
    "### 解答\n",
    "半固定の剛体行列は、$K=\\begin{bmatrix}c_1+c_2&-c_2&0\\\\-c_2&c_2+c_3&-c_3\\\\0&-c_3&c_3\\end{bmatrix}$ という形。上記 $c$ の具体値などを入れて解くと、\n",
    "\n",
    "$\\left\\{ \\begin{array}{lll}\n",
    "c_2=1&\\cdots&K=\\begin{bmatrix}2&-1&0\\\\-1&2&-1\\\\0&-1&1\\end{bmatrix},\n",
    "&K^{-1}=\\begin{bmatrix}1&1&1\\\\1&2&2\\\\1&2&3\\end{bmatrix},\n",
    "&u=\\begin{bmatrix}3\\\\5\\\\6\\end{bmatrix}\\\\\n",
    "c_2=10&\\cdots&K=\\begin{bmatrix}11&-10&0\\\\-10&11&-1\\\\0&-1&1\\end{bmatrix},\n",
    "&K^{-1}=\\frac{1}{10}\\begin{bmatrix}10&10&10\\\\10&11&11\\\\10&11&21\\end{bmatrix},\n",
    "=\\begin{bmatrix}1&1&1\\\\1&1.1&1.1\\\\1&1.1&2.1\\end{bmatrix}\n",
    "&u=\\begin{bmatrix}3\\\\3.2\\\\4.2\\end{bmatrix}\\\\\n",
    "c_2=100&\\cdots&K=\\begin{bmatrix}101&-100&0\\\\-100&101&-1\\\\0&-1&1\\end{bmatrix},\n",
    "&K^{-1}=\\frac{1}{100}\\begin{bmatrix}100&100&100\\\\100&101&101\\\\100&101&201\\end{bmatrix},\n",
    "=\\begin{bmatrix}1&1&1\\\\1&1.01&1.01\\\\1&1.01&2.01\\end{bmatrix}\n",
    "&u=\\begin{bmatrix}3\\\\3.02\\\\4.02\\end{bmatrix}\\\\\n",
    "\\end{array}\\right.$  "
   ]
  },
  {
   "cell_type": "code",
   "execution_count": 27,
   "metadata": {},
   "outputs": [
    {
     "name": "stdout",
     "output_type": "stream",
     "text": [
      "K = \n",
      "[[ 11 -10   0]\n",
      " [-10  11  -1]\n",
      " [  0  -1   1]]\n",
      "invK = \n",
      "[[ 1.   1.   1. ]\n",
      " [ 1.   1.1  1.1]\n",
      " [ 1.   1.1  2.1]]\n",
      "u = \n",
      "[ 3.   3.2  4.2]\n"
     ]
    }
   ],
   "source": [
    "#2.1.6の計算:c2を変数にして\n",
    "c2=10\n",
    "f=np.array([1,1,1])\n",
    "K=np.array([[1+c2,-c2,0],[-c2,c2+1,-1],[0,-1,1]])\n",
    "print('K = ')\n",
    "print(K)\n",
    "invK=np.linalg.inv(K)\n",
    "print('invK = ')\n",
    "print(invK)\n",
    "u=np.dot(invK,f)\n",
    "print('u = ')\n",
    "print(u)"
   ]
  },
  {
   "cell_type": "markdown",
   "metadata": {},
   "source": [
    "### 2.1.6　解答続き：上記結果の解釈\n",
    "2つ目のばねの強さに関わらず、1つ目/3つ目のばねは（下にある3つ/1つの質点を支えるために）同じように伸びている。  \n",
    "2つ目のばねが強くなるとほとんど伸びないため、1つ目と2つ目の質点の変位の差（＝2つ目のばねの伸び）はかなり小さくなる。  \n",
    "\n",
    "もしも $c_2\\rightarrow\\infty$ となると、<u>1つ目の質点・2つ目のばね・2つ目の質点がまとめて1つの質点（重さ2）と近似</u>できる。  \n",
    "この近似した状態を、質点2つの半固定から計算すると、\n",
    "\n",
    "$K=\\begin{bmatrix}c_1+c_2&-c_2\\\\-c_2&c_2\\end{bmatrix}\n",
    "=\\begin{bmatrix}2&-1\\\\-1&1\\end{bmatrix}\\quad \\longrightarrow \\quad\n",
    "K^{-1}=\\begin{bmatrix}1&1\\\\1&2\\end{bmatrix}\\quad \\longrightarrow \\quad\n",
    "u=K^{-1}f=\\begin{bmatrix}1&1\\\\1&2\\end{bmatrix}\\begin{bmatrix}2\\\\1\\end{bmatrix}\n",
    "=\\begin{bmatrix}3\\\\4\\end{bmatrix}$\n",
    "\n",
    "これは、上記プログラムの $c_2\\rightarrow\\infty$ 極限で得られた値の $[u_1(\\simeq u_2),\\:u_3]^T$ に対応する。"
   ]
  },
  {
   "cell_type": "markdown",
   "metadata": {},
   "source": [
    "## 2.1.7\n",
    "両固定かつ $c_1=c_3=c_4=1$ のもとで、$c_2\\rightarrow0$ とばね2を弱くしたと考える。このとき、$K=A^TCA$ は可逆なままであり続けるだろうか？  \n",
    "さらに、$Ku=f=(1,\\:1,\\:1)$ を解き、その解を物理的に説明せよ。"
   ]
  },
  {
   "cell_type": "code",
   "execution_count": 36,
   "metadata": {},
   "outputs": [
    {
     "name": "stdout",
     "output_type": "stream",
     "text": [
      "c2 = \n",
      "1\n",
      "K = \n",
      "[[ 2 -1  0]\n",
      " [-1  2 -1]\n",
      " [ 0 -1  2]]\n",
      "invK = \n",
      "[[ 0.75  0.5   0.25]\n",
      " [ 0.5   1.    0.5 ]\n",
      " [ 0.25  0.5   0.75]]\n",
      "u = \n",
      "[ 1.5  2.   1.5]\n"
     ]
    }
   ],
   "source": [
    "#2.1.7の計算:c2を変数にして\n",
    "c2=1\n",
    "print('c2 = ')\n",
    "print(c2)\n",
    "f=np.array([1,1,1])\n",
    "K=np.array([[1+c2,-c2,0],[-c2,c2+1,-1],[0,-1,2]])\n",
    "print('K = ')\n",
    "print(K)\n",
    "invK=np.linalg.inv(K)\n",
    "print('invK = ')\n",
    "print(invK)\n",
    "u=np.dot(invK,f)\n",
    "print('u = ')\n",
    "print(u)"
   ]
  },
  {
   "cell_type": "markdown",
   "metadata": {},
   "source": [
    "### 2.1.7 解答\n",
    "可逆性について：2.1.1において、両固定の行列式は$c_1c_2c_3+c_1c_3c_4+c_1c_2c_4+c_2c_3c_4$ なので、$c_2=0$ になっただけでは $det\\:K=c_1c_3c_4$ となり0にはならないので可逆性は保たれる。\n",
    "\n",
    "上記プログラムのように、$c_2\\rightarrow0$ の極限では $u=[1,\\:3,\\:2]^T$ となる。  \n",
    "この極限では2つ目のばねは機能しておらず、繋がっていないも同然であることを考えると、この極限の状態は<u>1つのばねの（上）半固定 + 2つのばねの（下）半固定</u>と近似できるはずである。\n",
    "\n",
    "1つのばねの上半固定（天井から釣り下がった1つのばねと1つの質点）の変位が1なのは自明。  \n",
    "2つのばねの下半固定（地面から伸びた2つのばねと2つの質点）について、このときの剛体行列から変位を求めると\n",
    "\n",
    "$K=\\begin{bmatrix}c_3&-c_3\\\\-c_3&c_3+c_4\\end{bmatrix}\n",
    "=\\begin{bmatrix}1&-1\\\\-1&2\\end{bmatrix}\\quad \\longrightarrow \\quad\n",
    "K^{-1}=\\begin{bmatrix}2&1\\\\1&1\\end{bmatrix}\\quad \\longrightarrow \\quad\n",
    "u=K^{-1}f=\\begin{bmatrix}2&1\\\\1&1\\end{bmatrix}\\begin{bmatrix}1\\\\1\\end{bmatrix}\n",
    "=\\begin{bmatrix}3\\\\2\\end{bmatrix}$\n",
    "\n",
    "これは確かに上記極限の $u=[u_2,\\:u_3]^T$ と対応しており、上記近似が正しいことが確かめられた。"
   ]
  },
  {
   "cell_type": "markdown",
   "metadata": {},
   "source": [
    "## 2.1.8"
   ]
  }
 ],
 "metadata": {
  "kernelspec": {
   "display_name": "Python 3",
   "language": "python",
   "name": "python3"
  },
  "language_info": {
   "codemirror_mode": {
    "name": "ipython",
    "version": 3
   },
   "file_extension": ".py",
   "mimetype": "text/x-python",
   "name": "python",
   "nbconvert_exporter": "python",
   "pygments_lexer": "ipython3",
   "version": "3.6.2"
  }
 },
 "nbformat": 4,
 "nbformat_minor": 2
}
