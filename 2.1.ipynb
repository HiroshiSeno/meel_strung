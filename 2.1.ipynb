{
 "cells": [
  {
   "cell_type": "code",
   "execution_count": null,
   "metadata": {},
   "outputs": [],
   "source": [
    "import numpy as np\n",
    "import scipy.linalg as linalg\n",
    "from matplotlib import pyplot\n",
    "import scipy.sparse as sp\n",
    "import scipy.sparse.linalg as spla\n",
    "import math"
   ]
  },
  {
   "cell_type": "markdown",
   "metadata": {},
   "source": [
    "## 本日使用する行列\n",
    "両固定：$\\begin{bmatrix}c_1+c_2&-c_2&0\\\\ -c_2&c_2+c_3&-c_3\\\\ 0&-c_3&c_3+c_4\\end{bmatrix}$"
   ]
  },
  {
   "cell_type": "markdown",
   "metadata": {},
   "source": [
    "## 2.1.1\n",
    "$K^{-1}$に対する公式は、$K$の行列による乗算を含んでいる。両固定の場合の$K$は、\n",
    "\n",
    "$K=\\begin{bmatrix}c_1+c_2&-c_2&0\\\\ -c_2&c_2+c_3&-c_3\\\\ 0&-c_3&c_3+c_4\\end{bmatrix}$\n",
    "\n",
    "と与えられ(式7)、この行列式は\n",
    "\n",
    "$\\begin{align}det K &= (c_1+c_2)(c_2+c_3)(c_3+c_4)-c_2^2(c_1+c_2)-c_3^2(c_1+c_2)\\\\&= c_1c_2c_3+c_1c_3c_4+c_1c_2c_4+c_2c_3c_4\\end{align}$\n",
    "\n",
    "と計算される。半固定(式8)と無固定(式11)のときの行列式はどうなるか？\n",
    "\n",
    "### 解答\n",
    "・半固定：問題文にもある通り、4つ目のばねがないので$c_4=0$とおけばよく、$det\\:K =  c_1c_2c_3$  \n",
    "・無固定：1つ目のばねもないので、上記半固定にさらに$c_1=0$となり、$det\\:K = 0$"
   ]
  },
  {
   "cell_type": "markdown",
   "metadata": {},
   "source": [
    "## 2.1.2\n",
    "$K^{-1}$の各成分の分子($\\frac{1}{det\\:K}$以外の部分)は、その2×2小行列式から計算することができる（これらの小行列は$K$の余因子と呼ばれる）。例えば$K^{-1}$の第1行を作るには、まず第1列を取り除く。\n",
    "\n",
    "$K=\\begin{bmatrix}c_1+c_2&-c_2&0\\\\ -c_2&c_2+c_3&-c_3\\\\ 0&-c_3&c_3+c_4\\end{bmatrix}\\:\\longrightarrow\\:\n",
    "\\begin{bmatrix}-c_2&0\\\\c_2+c_3&-c_3\\\\-c_3&c_3+c_4\\end{bmatrix}$  \n",
    "\n",
    "そしてこの3×2行列から各列を1つずつ消し、符号${(-1)}^{i+j}$を加えることで、余因子が \n",
    "\n",
    "$\\begin{bmatrix}c_2+c_3&-c_3\\\\-c_3&c_3+c_4\\end{bmatrix},\\:\n",
    "-\\begin{bmatrix}-c_2&0\\\\-c_3&c_3+c_4\\end{bmatrix},\\:\n",
    "\\begin{bmatrix}-c_2&0\\\\c_2+c_3&-c_3\\end{bmatrix}$  \n",
    "\n",
    "と得られる。これらの行列式を計算することで、$K^{-1}$の第1行の成分の分子は\n",
    "\n",
    "$\\begin{bmatrix}c_2c_3+c_2c_4+c_3c_4&c_2c_3+c_2c_4&c_2c_3\\end{bmatrix}$\n",
    "\n",
    "と求められる。同様の処理を第2・3行に対しても行い、$K^{-1}$を求めよ。\n",
    "\n",
    "### 解答\n",
    "基本的には上記の通り手計算で頑張るだけ。\n",
    "\n",
    "・第2行  \n",
    "$\\begin{bmatrix}c_1+c_2&-c_2&0\\\\ -c_2&c_2+c_3&-c_3\\\\ 0&-c_3&c_3+c_4\\end{bmatrix}\\:\\longrightarrow\\:\n",
    "\\begin{bmatrix}c_1+c_2&0\\\\ -c_2&-c_3\\\\ 0&c_3+c_4\\end{bmatrix}\\\\ \\:\\longrightarrow\\:\n",
    "\\begin{bmatrix}-c_2&-c_3\\\\ 0&c_3+c_4\\end{bmatrix},\\:\n",
    "-\\begin{bmatrix}c_1+c_2&0\\\\ 0&c_3+c_4\\end{bmatrix},\\:\n",
    "\\begin{bmatrix}c_1+c_2&0\\\\-c_2&-c_3\\end{bmatrix}\\\\\n",
    "\\:\\longrightarrow\\:\n",
    "\\begin{bmatrix}c_2c_3+c_2c_4&c_1c_3+c_1c_4+c_2c_3+c_2c_4&c_1c_3+c_2c_3\\end{bmatrix}$ \n",
    "\n",
    "・第3行  \n",
    "$\\begin{bmatrix}c_1+c_2&-c_2&0\\\\ -c_2&c_2+c_3&-c_3\\\\ 0&-c_3&c_3+c_4\\end{bmatrix}\\:\\longrightarrow\\:\n",
    "\\begin{bmatrix}c_1+c_2&-c_2\\\\ -c_2&c_2+c_3\\\\ 0&-c_3\\end{bmatrix}\\\\ \\:\\longrightarrow\\:\n",
    "\\begin{bmatrix}-c_2&c_2+c_3\\\\ 0&-c_3\\end{bmatrix},\\:\n",
    "-\\begin{bmatrix}c_1+c_2&-c_2\\\\ 0&-c_3\\end{bmatrix},\\:\n",
    "\\begin{bmatrix}c_1+c_2&-c_2\\\\ -c_2&c_2+c_3\\end{bmatrix}\\\\\n",
    "\\:\\longrightarrow\\:\n",
    "\\begin{bmatrix}c_2c_3&c_1c_3+c_2c_3&c_1c_2+c_1c_3+c_2c_3\\end{bmatrix}$ \n",
    "\n",
    "以上をまとめると、\n",
    "\n",
    "$K^{-1}=\\frac{1}{det\\:K}\\begin{bmatrix}c_2c_3+c_2c_4+c_3c_4&c_2c_3+c_2c_4&c_2c_3\\\\\n",
    "c_2c_3+c_2c_4&c_1c_3+c_1c_4+c_2c_3+c_2c_4&c_1c_3+c_2c_3\\\\\n",
    "c_2c_3&c_1c_3+c_2c_3&c_1c_2+c_1c_3+c_2c_3\\end{bmatrix}$\n",
    "\n",
    "となり、特に $c_i=1$ $(for\\:\\forall\\:i)$ の場合は、\n",
    "\n",
    "$K^{-1}=\\frac{1}{4}\\begin{bmatrix}\n",
    "3&2&1\\\\2&4&2\\\\1&2&3\\end{bmatrix}$"
   ]
  },
  {
   "cell_type": "markdown",
   "metadata": {},
   "source": [
    "## 2.1.3\n",
    "半固定の式で$A^{-1}C^{-1}(A^T)^{-1}$を作ることで$(A^TCA)^{-1}$を求めよ。  \n",
    "特に $c_i=1$ $(for\\:\\forall\\:i)\\leftrightarrow C=I$ で結果を確認せよ。\n",
    "\n",
    "### 解答\n",
    "半固定ではどれも正方行列のため、各行列の逆行列を作ることができる。  \n",
    "\n",
    "$A^TCA=\\begin{bmatrix}1&-1&0\\\\0&1&-1\\\\0&0&1\\end{bmatrix}\n",
    "\\begin{bmatrix}c_1&&\\\\&c_2&\\\\&&c_3\\end{bmatrix}\n",
    "\\begin{bmatrix}1&0&0\\\\-1&1&0\\\\0&-1&1\\end{bmatrix}$  \n",
    "\n",
    "これらの行列の逆行列を計算すると  \n",
    "\n",
    "$(A^T)^{-1}=\\begin{bmatrix}1&1&0\\\\0&1&1\\\\0&0&1\\end{bmatrix}$, \n",
    "$A^{-1}=\\begin{bmatrix}1&0&0\\\\1&1&0\\\\1&1&0\\end{bmatrix}$, \n",
    "$C^{-1}=\\frac{1}{c_1c_2c_3}\\begin{bmatrix}c_2c_3&&\\\\&c_1c_3&\\\\&&c_1c_2\\end{bmatrix}$  \n",
    "\n",
    "以上を用いて計算すると  \n",
    "\n",
    "$(A^TCA)^{-1}=\\frac{1}{c_1c_2c_3} \\begin{bmatrix}c_2c_3&c_2c_3&c_2c_3\\\\\n",
    "c_2c_3&c_2c_3&c_2c_3+c_1c_3\\\\\n",
    "c_2c_3&c_2c_3+c_1c_3&c_2c_3+c_1c_3+c_1c_2\\end{bmatrix}$  \n",
    "\n",
    "特に $c_i=1$ $(for\\:\\forall\\:i)$ のときは、  \n",
    "\n",
    "$(A^TCA)^{-1}=\\begin{pmatrix}1&1&1\\\\1&2&2\\\\1&2&3\\end{pmatrix}$……P105と一致"
   ]
  },
  {
   "cell_type": "code",
   "execution_count": null,
   "metadata": {},
   "outputs": [],
   "source": []
  }
 ],
 "metadata": {
  "kernelspec": {
   "display_name": "Python 3",
   "language": "python",
   "name": "python3"
  },
  "language_info": {
   "codemirror_mode": {
    "name": "ipython",
    "version": 3
   },
   "file_extension": ".py",
   "mimetype": "text/x-python",
   "name": "python",
   "nbconvert_exporter": "python",
   "pygments_lexer": "ipython3",
   "version": "3.6.2"
  }
 },
 "nbformat": 4,
 "nbformat_minor": 2
}
