{
 "cells": [
  {
   "cell_type": "code",
   "execution_count": 4,
   "metadata": {},
   "outputs": [],
   "source": [
    "import numpy as np\n",
    "import scipy.linalg as linalg\n",
    "from matplotlib import pyplot\n",
    "import scipy.sparse as sp\n",
    "import scipy.sparse.linalg as spla\n",
    "import math"
   ]
  },
  {
   "cell_type": "markdown",
   "metadata": {},
   "source": [
    "<hr>\n",
    "## 2.4.1\n",
    "各グラフの接続行列 $A_{triangle},\\, A_{square}$ とグラフラプラシアン行列 $A^{T}A$ を求めよ  \n",
    "※誤植？：1→4を第3辺とする\n",
    "\n",
    "### 解答\n",
    "※各行列の作り方  \n",
    "・接続行列：第 $x$ 辺がノード $a$ からノード $b$ へつながるとき、接続行列の第 $x$ 行の第 $a$ 列に $-1$ が、第 $b$ 列に $1$ が入る。  \n",
    "・グラフラプラシアン行列：対角線上はそのノードに結ばれている変数、それ以外の $jk$要素は、ノード $j$ と $k$ の間が結ばれている場合に $-1$（結ばれないなら $0$）\n",
    "\n",
    "$A_{tri}=\\begin{bmatrix}-1&1&\\\\ &-1&1\\\\ -1&&1\\end{bmatrix},\\quad\n",
    "A_{tri}^{T}A_{tri}=\\begin{bmatrix} 2&-1&-1\\\\-1&2&-1\\\\-1&-1&2\\end{bmatrix}$\n",
    "\n",
    "$A_{squ}=\\begin{bmatrix}-1&1&&\\\\ -1&&1&\\\\ -1&&&1\\\\ &-1&&1\\\\ &&-1&1\\end{bmatrix},\\quad\n",
    "A_{squ}^{T}A_{squ}=\\begin{bmatrix} 3&-1&-1&-1\\\\ -1&2&&-1\\\\-1&&2&-1\\\\ -1&-1&-1&3\\end{bmatrix}$\n",
    "<hr>"
   ]
  },
  {
   "cell_type": "markdown",
   "metadata": {},
   "source": [
    "<hr>\n",
    "## 2.4.2\n",
    "$A_{tri},\\,A_{tri}^{T}$ の零空間のすべてのベクトルを求めよ\n",
    "\n",
    "### 解答\n",
    "・$A_{tri}$  \n",
    "$A_{tri}(u_1,\\,u_2,\\,u_3)^{T}=0$ より $u_1=u_2=u_3 \\:\\rightarrow\\:u=c(1,1,1)^T$\n",
    "\n",
    "・$A_{tri}^{T}$  \n",
    "$A_{tri}^{T}\\omega=0$ はKCL（キルヒホッフの電流則）なので式(7)に基づいて求める。  \n",
    "$A_{tri}$ でのループフローは1種類（1→2→3→1）のため、解は1つで $\\omega=c(1,1,-1)^T$\n",
    "\n",
    "<hr>"
   ]
  },
  {
   "cell_type": "markdown",
   "metadata": {},
   "source": [
    "<hr>\n",
    "## 2.4.3\n",
    "$A_{squ}u=0$ の解を1つ、$A_{squ}^T\\omega=0$の解を2つ求めよ\n",
    "\n",
    "### 解答\n",
    "・$A_{squ}u=0$ …… 2.4.2と同様に解くことで、$u=c(1,1,1,1)^T$\n",
    "\n",
    "・$A_{squ}^{T}\\omega=0$  \n",
    "今回の $A_{squ}$ のKCLで、ループフローは3種類ありそれぞれ求まる。  \n",
    "1→3→4→1： $\\omega=c(0,1,-1,0,1)^T$  \n",
    "1→2→4→1： $\\omega=c(1,0,-1,1,0)^T$  \n",
    "1→2→4→3→1： $\\omega=c(1,-1,0,1,-1)^T$\n",
    "\n",
    "<hr>"
   ]
  },
  {
   "cell_type": "markdown",
   "metadata": {},
   "source": [
    "<hr>\n",
    "## 2.4.4\n",
    "$n=100$ ノードの9×9の正方格子において、  \n",
    "(a)辺の本数 $m$ 及び比率 $m/n$\n",
    "(b)正方格子のそれぞれで、傾き1の対角線全てを辺に加えた時の $m$ と $m/n$\n",
    "\n",
    "### 解答\n",
    "(a) $m=9×10×2＝180$で、一般に1ノード4辺とつながるので $m/n=1.8\\approx 2$  \n",
    "(b) $1+2+\\cdots+9+\\cdots+1=81$ だけ辺が増えるので $m=261$であり、一般に1ノード6辺とつながるので $m/n=2.61\\approx 3$\n",
    "\n",
    "<hr>"
   ]
  },
  {
   "cell_type": "markdown",
   "metadata": {},
   "source": [
    "<hr>\n",
    "## 2.4.5\n",
    "すべての連結グラフに対して、$Au=0$ の唯一の解が $u=c(1,\\cdots,1)$ である理由を説明せよ\n",
    "\n",
    "### 解答\n",
    "一般に接続行列 $A$ は差分行列であり、各行には-1と1が1つずつ入る（各辺の接続の情報のため）。  \n",
    "そのため、$A$ の各行と $u$ の積からは $-u_j+u_k＝0$ といった式が得られる。  \n",
    "全ての行を連立することでどのノードについても上の関係式が成り立つため、すべての $u$ の要素は同じ値となる。\n",
    "\n",
    "<hr>"
   ]
  },
  {
   "cell_type": "markdown",
   "metadata": {},
   "source": [
    "<hr>\n",
    "## 2.4.6\n",
    "4ノードの完全グラフと木の $A^TA$ のトレースは12,6だが、このように $m$ 辺の任意のグラフに対してこの値が $2m$ となるのはなぜか？\n",
    "\n",
    "### 解答\n",
    "グラフラプラシアン行列の対角要素は、各ノードに結ばれている辺の数。  \n",
    "$m$ 辺のとき、各辺が入力/出力で2回ずつ数えられるので、トレースが $2m$ になるのは当然。\n",
    "<hr>"
   ]
  },
  {
   "cell_type": "markdown",
   "metadata": {},
   "source": [
    "<hr>\n",
    "## 2.4.7\n",
    "4ノードの木で、その3個の辺がノード4に入っているとき、$K=A^{T}CA$ はどうなるか？  \n",
    "ノードをアースして可逆になった $K$ と $det\\,K$ を求めよ\n",
    "\n",
    "### 解答\n",
    "辺 $k$ がノード $k$ とノード4をつないでいると考える（$k=1,2,3$）。  \n",
    "式(14)周辺を参考にすると、アースする前は\n",
    "$K=\\begin{bmatrix}c_1&&&-c_1\\\\&c_2&&-c_2\\\\&&c_3&-c_3\\\\-c_1&-c_2&-c_3&c_1+c_2+c_3\\end{bmatrix}$  \n",
    "ノード4をアースすることで第4列/行を削除して\n",
    "$K=\\begin{bmatrix}c_1&&\\\\&c_2&\\\\&&c_3\\end{bmatrix},\n",
    "\\quad det\\,K=c_1c_2c_3$  \n",
    "\n",
    "<hr>"
   ]
  },
  {
   "cell_type": "markdown",
   "metadata": {},
   "source": [
    "<hr>\n",
    "## 2.4.8\n",
    "完全グラフに対する6つの要素行列がどのように $K$ を組み立てるのか？  \n",
    "※ノード $j$ と $k$ を結ぶ辺 $i$ に対する要素行列：\n",
    "$K_i=\\begin{bmatrix}c_i&-c_i\\\\-c_i&c_i\\end{bmatrix}\\begin{array}{}行j\\\\行k\\end{array}$\n",
    "\n",
    "### 解答\n",
    "かなり自明だが、図2.19と対応させてかくならば、  \n",
    "$K=\\begin{bmatrix}c_1&-c_1&&\\\\-c_1&c_1&&\\\\&&&\\\\&&&\\end{bmatrix}\n",
    "+\\begin{bmatrix}c_2&&-c_2&\\\\&&&\\\\-c_2&&c_2&\\\\&&&\\end{bmatrix}\n",
    "+\\begin{bmatrix}&&&\\\\&-c_3&c_3&\\\\&c_3&-c_3&\\\\&&&\\end{bmatrix}$\n",
    "$\\qquad+\\begin{bmatrix}c_4&&&-c_4\\\\&&&\\\\&&&\\\\-c_4&&&c_4\\end{bmatrix}\n",
    "+\\begin{bmatrix}&&&\\\\&c_5&&-c_5\\\\&&&\\\\&-c_5&&c_5\\end{bmatrix}\n",
    "+\\begin{bmatrix}&&&\\\\&&&\\\\&&c_6&-c_6\\\\&&-c_6&c_6\\end{bmatrix}$\n",
    "$\\quad=\\begin{bmatrix}c_1+c_2+c_4&-c_1&-c_2&-c_4\\\\-c_1&c_1+c_3+c_5&-c_3&-c_5\n",
    "\\\\-c_2&-c_3&c_2+c_3+c_6&-c_6\\\\-c_4&-c_5&-c_6&c_4+c_5+c_6\\end{bmatrix}$  \n",
    "\n",
    "<hr>"
   ]
  },
  {
   "cell_type": "markdown",
   "metadata": {},
   "source": [
    "<hr>\n",
    "## 2.4.9\n",
    "5ノードが1列となった4辺の木において、追加演習2.5 Aを解いてみよ  \n",
    "(1) $A^{T}A$　(2) アース済みの$K$　(3) $K^{-1}$　(4) $K$ の固有値　(5) $det\\,K$\n",
    "\n",
    "### 解答\n",
    "辺 $k$ がノード $k$ と $k+1$ をつないでいるとする（$k=1\\sim 4$）。  \n",
    "(1) $A^{T}A=\\begin{bmatrix}1&-1&&&\\\\-1&2&-1&&\\\\&-1&2&-1&\\\\&&-1&2&-1\\\\&&&-1&1\\end{bmatrix}$　\n",
    "(2) $K=\\begin{bmatrix}1&-1&&\\\\-1&2&-1&\\\\&-1&2&-1\\\\&&-1&2\\end{bmatrix}=T_4$  \n",
    "(3) 1.1.1より $K^{-1}=T_4^{-1}=\n",
    "\\begin{bmatrix}4&3&2&1\\\\3&3&2&1\\\\2&2&2&1\\\\1&1&1&1\\end{bmatrix}$\n"
   ]
  },
  {
   "cell_type": "code",
   "execution_count": 11,
   "metadata": {},
   "outputs": [
    {
     "name": "stdout",
     "output_type": "stream",
     "text": [
      "f = \n",
      "[[ 1 -1  0  0]\n",
      " [-1  2 -1  0]\n",
      " [ 0 -1  2 -1]\n",
      " [ 0  0 -1  2]]\n",
      "固有値 = \n",
      "[ 0.12061476  3.53208889  2.34729636  1.        ]\n",
      "det f =\n",
      "1.0\n"
     ]
    }
   ],
   "source": [
    "#2.4.9の続き\n",
    "f=np.array([[1,-1,0,0],[-1,2,-1,0],[0,-1,2,-1],[0,0,-1,2]])\n",
    "invf=np.linalg.inv(f)\n",
    "la,v=np.linalg.eig(f)\n",
    "print('f = ')\n",
    "print(f)\n",
    "print('固有値 = ')\n",
    "print(la)\n",
    "print('det f =')\n",
    "print(np.linalg.det(f))"
   ]
  },
  {
   "cell_type": "markdown",
   "metadata": {},
   "source": [
    "<hr>"
   ]
  },
  {
   "cell_type": "markdown",
   "metadata": {},
   "source": [
    "<hr>\n",
    "## 2.4.10\n",
    "1列\n",
    "\n",
    "### 解答\n",
    "\n",
    "<hr>"
   ]
  },
  {
   "cell_type": "markdown",
   "metadata": {},
   "source": [
    "<hr>\n",
    "## 2.4.9\n",
    "両固定かつ $c_1=c_3=c_4=1$ のもとで、$c_2\\rightarrow0$ とばね2を弱くしたと考える。このとき、$K=A^TCA$ は可逆なままであり続けるだろうか？  \n",
    "さらに、$Ku=f=(1,\\:1,\\:1)$ を解き、その解を物理的に説明せよ。\n",
    "\n",
    "### 解答\n",
    "\n",
    "<hr>"
   ]
  },
  {
   "cell_type": "code",
   "execution_count": 10,
   "metadata": {},
   "outputs": [
    {
     "name": "stdout",
     "output_type": "stream",
     "text": [
      "[[ 1 -1  0  0]\n",
      " [-1  2 -1  0]\n",
      " [ 0 -1  2 -1]\n",
      " [ 0  0 -1  2]]\n",
      "[ 0.12061476  3.53208889  2.34729636  1.        ]\n",
      "1.0\n",
      "c2 = \n",
      "0\n",
      "K = \n",
      "[[ 1  0  0]\n",
      " [ 0  1 -1]\n",
      " [ 0 -1  2]]\n",
      "invK = \n",
      "[[ 1.  0.  0.]\n",
      " [ 0.  2.  1.]\n",
      " [ 0.  1.  1.]]\n",
      "u = \n",
      "[ 1.  3.  2.]\n"
     ]
    }
   ],
   "source": [
    "#ここでお遊び\n",
    "f=np.array([[1,-1,0,0],[-1,2,-1,0],[0,-1,2,-1],[0,0,-1,2]])\n",
    "invf=np.linalg.inv(f)\n",
    "la,v=np.linalg.eig(f)\n",
    "print(f)\n",
    "print(la)\n",
    "print(np.linalg.det(f))\n",
    "#2.1.7の計算:c2を変数にして\n",
    "c2=0\n",
    "print('c2 = ')\n",
    "print(c2)\n",
    "f=np.array([1,1,1])\n",
    "K=np.array([[1+c2,-c2,0],[-c2,c2+1,-1],[0,-1,2]])\n",
    "print('K = ')\n",
    "print(K)\n",
    "invK=np.linalg.inv(K)\n",
    "print('invK = ')\n",
    "print(invK)\n",
    "u=np.dot(invK,f)\n",
    "print('u = ')\n",
    "print(u)"
   ]
  },
  {
   "cell_type": "markdown",
   "metadata": {},
   "source": [
    "### 2.1.7 解答\n",
    "可逆性について：2.1.1において、両固定の行列式は$c_1c_2c_3+c_1c_3c_4+c_1c_2c_4+c_2c_3c_4$ なので、$c_2=0$ になっただけでは $det\\:K=c_1c_3c_4$ となり0にはならないので可逆性は保たれる。\n",
    "\n",
    "上記プログラムのように、$c_2\\rightarrow0$ の極限では $u=[1,\\:3,\\:2]^T$ となる。  \n",
    "この極限では2つ目のばねは機能しておらず、繋がっていないも同然であることを考えると、この極限の状態は<u>1つのばねの（上）半固定 + 2つのばねの（下）半固定</u>と近似できるはずである。\n",
    "\n",
    "1つのばねの上半固定（天井から釣り下がった1つのばねと1つの質点）の変位が1なのは自明。  \n",
    "2つのばねの下半固定（地面から伸びた2つのばねと2つの質点）について、このときの剛体行列から変位を求めると\n",
    "\n",
    "$K=\\begin{bmatrix}c_3&-c_3\\\\-c_3&c_3+c_4\\end{bmatrix}\n",
    "=\\begin{bmatrix}1&-1\\\\-1&2\\end{bmatrix}\\quad \\longrightarrow \\quad\n",
    "K^{-1}=\\begin{bmatrix}2&1\\\\1&1\\end{bmatrix}\\quad \\longrightarrow \\quad\n",
    "u=K^{-1}f=\\begin{bmatrix}2&1\\\\1&1\\end{bmatrix}\\begin{bmatrix}1\\\\1\\end{bmatrix}\n",
    "=\\begin{bmatrix}3\\\\2\\end{bmatrix}$\n",
    "\n",
    "これは確かに上記極限の $u=[u_2,\\:u_3]^T$ と対応しており、上記近似が正しいことが確かめられた。\n",
    "<hr>"
   ]
  },
  {
   "cell_type": "markdown",
   "metadata": {},
   "source": [
    "<hr>\n",
    "## 2.1.8\n",
    "無固定の1つのばねに対して、$K$ を求めよ（これは区分行列の要素と考えると”要素行列”と呼べなくもない）。  \n",
    "以下、3×3行列となる $K$ について、  \n",
    "(a)ばね2と3に対する上記 $K$ を式(11)にあてはめ、無固定の $K_{free-free}$ を作れ。  \n",
    "(b)次に、上端のばね1に対する $K$ を取り入れることで、半固定の $K_{fixed-free}$ を作れ。  \n",
    "(c)さらに、下端のばね4に対する $K$ を取り入れることで、両固定の $K_{fixed-fixed}$ を作れ。\n",
    "\n",
    "### 解答\n",
    "無固定1ばね2質点： $e=Au,\\quad w=Ce,\\quad f=a^Tw$ の3方程式から求める\n",
    "\n",
    "$e=(u_2-u_1)=(-1,\\:1)\\begin{pmatrix}u_1\\\\u_2\\end{pmatrix},\\quad\n",
    "C=c,\\quad f=\\begin{pmatrix}-w\\\\w\\end{pmatrix}=\\begin{pmatrix}-1\\\\1\\end{pmatrix}w\\\\\n",
    "\\quad \\longrightarrow \\quad\n",
    "K=\\begin{pmatrix}-1\\\\1\\end{pmatrix}c\\:(-1,\\:1)=c\\begin{pmatrix}1&-1\\\\-1&1\\end{pmatrix}$\n",
    "\n",
    "(a)　\n",
    "$K_{free-free}=\\begin{pmatrix}K_{c_2}&\\begin{array}{ll}0\\\\0 \\end{array}\\\\\n",
    "\\begin{array}{ll}0&0\\end{array}&0\\end{pmatrix}\n",
    "+\\begin{pmatrix}0&\\begin{array}{ll}0&0\\end{array}\\\\\n",
    "\\begin{array}{ll}0\\\\0 \\end{array}&K_{c_3}\\end{pmatrix}\n",
    "=\\begin{pmatrix}c_2&-c_2&\\\\-c_2&c_2+c_3&-c_3\\\\&-c_3&c_3\\end{pmatrix}$\n",
    "\n",
    "(b)上端は上半固定1ばね1質点なので、上記 $K$ において $u_1=f_1=0$ とおけばよく、\n",
    "$K_{c_1}=\\begin{pmatrix}0\\\\1\\end{pmatrix}c_1\\:(0,\\:1)=\\begin{pmatrix}0&0\\\\0&c_1\\end{pmatrix}$  \n",
    "配置場所に注意すると　\n",
    "$K_{fixed-free}=\\begin{pmatrix}c_1&\\begin{array}{ll}0&0\\end{array}\\\\\\begin{array}{ll}0\\\\0\\end{array}&0\\end{pmatrix}+K_{free-free}=\\begin{pmatrix}c_1+c_2&-c_2&\\\\-c_2&c_2+c_3&-c_3\\\\&-c_3&c_3\\end{pmatrix}$\n",
    "\n",
    "(c)下端は下半固定1ばね1質点なので、上記 $K$ において $u_2=f_2=0$ とおけばよく、\n",
    "$K_{c_4}=\\begin{pmatrix}1\\\\0\\end{pmatrix}c_4\\:(1,\\:0)=\\begin{pmatrix}c_4&0\\\\0&0\\end{pmatrix}$  \n",
    "配置場所に注意すると　\n",
    "$K_{fixed-fixed}=\\begin{pmatrix}0&\\begin{array}{ll}0\\\\0\\end{array}\\\\\\begin{array}{ll}0&0\\end{array}&c_4\\end{pmatrix}+K_{fixed-free}=\\begin{pmatrix}c_1+c_2&-c_2&\\\\-c_2&c_2+c_3&-c_3\\\\&-c_3&c_3+c_4\\end{pmatrix}$\n",
    "<hr>"
   ]
  },
  {
   "cell_type": "markdown",
   "metadata": {},
   "source": [
    "<hr>\n",
    "## 2.1.9\n",
    "倒立振り子に対して $P'(\\theta^{*})=0$ であるとき、$P''(\\theta^{*})>0$ であって $\\theta^{*}$ は安定であることを示せ。\n",
    "\n",
    "### 解答\n",
    "微分を手計算で頑張って解いていく（$0\\leq\\theta\\leq\\frac{\\pi}{2}$）。\n",
    "\n",
    "$P'(\\theta^{*})=c\\theta^{*}-mgLsin\\theta^{*}=0\\quad\\longleftrightarrow\\quad\n",
    "mgL=\\frac{c\\theta^{*}}{sin\\theta^{*}}$　より　\n",
    "$P''(\\theta^{*})=c-mgLcos\\theta^{*}=c-\\frac{c\\theta^{*}cos\\theta^{*}}{sin\\theta^{*}}\n",
    "=c(1-\\frac{\\theta^{*}}{tan\\theta^{*}})$\n",
    "\n",
    "ここで $g(\\theta)=\\frac{\\theta cos\\theta}{sin\\theta}$ とおくと \n",
    "$g'(\\theta)=\\frac{sin2\\theta-2\\theta}{2sin^2\\theta}$ であり、\n",
    "さらに $h(\\theta)=sin2\\theta-2\\theta$ とおくと \n",
    "$h'(\\theta)=2cos2\\theta-2\\leq0$\n",
    "\n",
    "よって $h(0)=0$ から $h(\\theta)\\leq0$ であるために $g'(\\theta)\\leq0$ が導かれ、\n",
    "さらに $g(0)\\rightarrow1-0$ であることから $g(\\theta)\\leq1$\n",
    "\n",
    "これらから $P''(\\theta)\\geq0$ が示され、$\\theta^{*}\\neq0$ を合わせると $P''(\\theta^{*})>0$\n",
    "\n",
    "※この結果は、<u>直立以外で止まった状態なら必ず安定（微小外力がかかっても元に戻る）</u>ということを示している。  \n",
    "逆に直立のときは必ず $P'(\\theta)=0$ である一方で、微小外力によって $\\theta\\neq0$ となった場合は $c>mgL$ だとそのまま倒れてしまう。このことを図解したのが図2.3/4である。\n",
    "<hr>"
   ]
  },
  {
   "cell_type": "markdown",
   "metadata": {},
   "source": [
    "<hr>\n",
    "## 2.1.10\n",
    "剛性行列を $K=A^TCA=D-W$ のように、対角行列 $D$ と非対角行列 $W$ の差で表す（剛性行列の行和は0以上かつ $W\\geq0$）。下の等式を証明することによって $K^{-1}$ の成分が正であることを示せ。\n",
    "\n",
    "$KK^{-1}=(D-W)(D^{-1}+D^{-1}WD^{-1}+D^{-1}WD^{-1}WD^{-1}+\\cdots)=I$\n",
    "\n",
    "### 解答\n",
    "初項 $D^{-1}$ 公比 $WD^{-1}$ の無限等比級数の和は、<u>収束するならば</u>  \n",
    "$D^{-1}(I-WD^{-1})^{-1}=((I-WD^{-1})D)^{-1}=(D-W)^{-1}=K^{-1}$  \n",
    "となる。展開した時の各項がすべて正であるので、$K^{-1}$ の成分は正になる。\n",
    "\n",
    "※収束性について：公比が $\\|WD^{-1}\\|<1$ を満たせばよい。  \n",
    "$D=\\begin{pmatrix}c_1&&0\\\\&\\ddots&\\\\0&&c_n\\end{pmatrix}$ とおくと、\n",
    "$D^{-1}=\\begin{pmatrix}\\frac{1}{c_1}&&0\\\\&\\ddots&\\\\0&&\\frac{1}{c_n}\\end{pmatrix}$\n",
    "<hr>"
   ]
  },
  {
   "cell_type": "markdown",
   "metadata": {},
   "source": [
    "<hr>\n",
    "## 2.1.11\n",
    "3個の質点が3つのばねにつながって上端が固定されている（上半固定3ばね3質点）。この状態でばね2を弱くして $c_2\\rightarrow0$ となったとする。  \n",
    "(a) $c_2=0$ のとき、$K$ はどのような特徴を持つか？　さらに $Ku=0$ の任意の解とすべての解を求め、これらの解を物理的に説明せよ。  \n",
    "(b) $c_2=0$ のもとで、$Ku=f$ はどんな場合に解をもつか（これはなぜ物理的に合理的か）？  \n",
    "(c) $c_2=0$ かつ $c_1=1,\\:c_3=3$ のとき、$K$ の固有ベクトルは何か？\n",
    "\n",
    "### 解答\n",
    "上半固定なので $K=\\begin{bmatrix}c_1+c_2&-c_2&0\\\\-c_2&c_2+c_3&-c_3\\\\0&-c_3&c_3\\end{bmatrix}$ であり、この $c_2$ を0にすると $K=\\begin{bmatrix}c_1&0&0\\\\0&c_3&-c_3\\\\0&-c_3&c_3\\end{bmatrix}$\n",
    "\n",
    "(a)このときの $K$ は一目でわかる通り特異な行列である。  \n",
    "$u=(u_1,\\:u_2,\\:u_3)^T$ とおくと $Ku=0$ の方程式は $c_1u_1=c_3(u_2-u_3)=0$  \n",
    "これを解くと $u_1=0,\\:u_2=u_3$ となり $u=u_2(0,\\:1,\\:1)^T$\n",
    "\n",
    "※解釈  \n",
    "f=0なので外力は（重り含めて）かかっていない。  \n",
    "重さがないので1つ目と3つ目のばねは当然伸びない（$e_1=u_1=0,\\:e_3=u_3-u_2=0$）。  \n",
    "しかし2つ目のばねはいくらでも伸びる（ある意味”空気”）ため $m_1$ ～ $m_2$ 間の距離（$=e_2$）は任意の値を取れる。  \n",
    "この状態は（”空気”と考えれば）、<u>上半固定1ばね1質点と無固定1ばね2質点に分かれている</u>と言うこともできる。\n",
    "\n",
    "(b) $Ku=f=(f_1,\\:f_2,\\:f_3)^T$ の方程式を書き下すと、 \n",
    "$c_1u_1=f_1,\\:c_3(u_2-u_3)=f_2,\\:c_3(-u_2+u_3)=f_3$  \n",
    "この式が成り立つためには、$f_2+f_3=0$ が必要となる。  \n",
    "これは、無固定1ばね2質点の系で力のつり合いが保たれていることに対応する。\n",
    "\n",
    "(c) $K=\\begin{bmatrix}1&0&0\\\\0&3&-3\\\\0&-3&3\\end{bmatrix}$ を解くと、　\n",
    "$\\lambda=0,\\:1,\\:6 \\quad x=(0,\\:-1,\\:-1),\\:(1,\\:0,\\:0),\\:(0,\\:-1,\\:1)$\n",
    "\n",
    "※解釈は？：図2.4右はうまく使えるかもしれない\n",
    "\n",
    "<hr>"
   ]
  },
  {
   "cell_type": "markdown",
   "metadata": {},
   "source": [
    "<hr>\n",
    "## ※1.6.32の類題について\n",
    "ぶらさがりばねを表す行列Hが半正定値を保つ(3,3)要素の条件の意味は？\n",
    "\n",
    "$H=\\begin{bmatrix}2&-1&0\\\\-1&2&-1\\\\0&-1&\\frac{2}{3}\\end{bmatrix}$\n",
    "\n",
    "### 本節の内容からの解釈\n",
    "上半固定なので $K=\\begin{bmatrix}c_1+c_2&-c_2&0\\\\-c_2&c_2+c_3&-c_3\\\\0&-c_3&c_3\\end{bmatrix}$ であるが、このとき $c_n$ は求まらない。  \n",
    "両固定の $K=\\begin{bmatrix}c_1+c_2&-c_2&0\\\\-c_2&c_2+c_3&-c_3\\\\0&-c_3&c_3+c_4\\end{bmatrix}$ を考えると、$c_1=c_2=c_3=1,\\:c_4=-\\frac{1}{3}$ となる。  \n",
    "……この4つ目のばねのふるまいはどう解釈すればよいか？\n",
    "<hr>"
   ]
  }
 ],
 "metadata": {
  "kernelspec": {
   "display_name": "Python 3",
   "language": "python",
   "name": "python3"
  },
  "language_info": {
   "codemirror_mode": {
    "name": "ipython",
    "version": 3
   },
   "file_extension": ".py",
   "mimetype": "text/x-python",
   "name": "python",
   "nbconvert_exporter": "python",
   "pygments_lexer": "ipython3",
   "version": "3.6.2"
  }
 },
 "nbformat": 4,
 "nbformat_minor": 2
}
